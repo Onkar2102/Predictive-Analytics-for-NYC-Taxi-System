{
 "cells": [
  {
   "cell_type": "markdown",
   "id": "2412780e",
   "metadata": {},
   "source": [
    "# importing required packages"
   ]
  },
  {
   "cell_type": "code",
   "execution_count": null,
   "id": "0adf710f",
   "metadata": {},
   "outputs": [],
   "source": []
  },
  {
   "cell_type": "markdown",
   "id": "835dcbc5",
   "metadata": {},
   "source": [
    "- import numpy for linear algebra\n",
    "- import pandas for loading the dataset, data processing\n",
    "- import matplotlib and seaborn for visualization"
   ]
  },
  {
   "cell_type": "code",
   "execution_count": 1,
   "id": "57e63c68",
   "metadata": {},
   "outputs": [],
   "source": [
    "import numpy as np # linear algebra\n",
    "import pandas as pd # data processing, CSV file I/O (e.g. pd.read_csv)\n",
    "import seaborn as sns\n",
    "import matplotlib.pyplot as plt\n",
    "%matplotlib inline\n",
    "# import matplotlib\n",
    "# import scipy as sp\n",
    "# from subprocess import check_output # #print(check_output([\"ls\", \"../input\"]).decode(\"utf8\"))"
   ]
  },
  {
   "cell_type": "code",
   "execution_count": 2,
   "id": "7feb13fa",
   "metadata": {},
   "outputs": [],
   "source": [
    "import boto3\n",
    "import s3fs"
   ]
  },
  {
   "cell_type": "code",
   "execution_count": 3,
   "id": "dc6796ca",
   "metadata": {},
   "outputs": [],
   "source": [
    "import os"
   ]
  },
  {
   "cell_type": "code",
   "execution_count": null,
   "id": "7c37c6dc",
   "metadata": {},
   "outputs": [],
   "source": []
  },
  {
   "cell_type": "code",
   "execution_count": null,
   "id": "4b32df94",
   "metadata": {},
   "outputs": [],
   "source": []
  },
  {
   "cell_type": "markdown",
   "id": "7c840838",
   "metadata": {},
   "source": [
    "# Load the datasets"
   ]
  },
  {
   "cell_type": "code",
   "execution_count": null,
   "id": "2258e644",
   "metadata": {},
   "outputs": [],
   "source": []
  },
  {
   "cell_type": "markdown",
   "id": "57bec0aa",
   "metadata": {},
   "source": [
    "- to read the file from AWS"
   ]
  },
  {
   "cell_type": "code",
   "execution_count": 4,
   "id": "2f6e44a1",
   "metadata": {},
   "outputs": [],
   "source": [
    "client = boto3.client('s3')"
   ]
  },
  {
   "cell_type": "code",
   "execution_count": 5,
   "id": "a4b4dbf5",
   "metadata": {},
   "outputs": [],
   "source": [
    "path = 's3://nyc-taxi-system/Final_dataset.csv'"
   ]
  },
  {
   "cell_type": "code",
   "execution_count": 6,
   "id": "29be53d5",
   "metadata": {},
   "outputs": [
    {
     "data": {
      "text/html": [
       "<div>\n",
       "<style scoped>\n",
       "    .dataframe tbody tr th:only-of-type {\n",
       "        vertical-align: middle;\n",
       "    }\n",
       "\n",
       "    .dataframe tbody tr th {\n",
       "        vertical-align: top;\n",
       "    }\n",
       "\n",
       "    .dataframe thead th {\n",
       "        text-align: right;\n",
       "    }\n",
       "</style>\n",
       "<table border=\"1\" class=\"dataframe\">\n",
       "  <thead>\n",
       "    <tr style=\"text-align: right;\">\n",
       "      <th></th>\n",
       "      <th>Unnamed: 0</th>\n",
       "      <th>VendorID</th>\n",
       "      <th>tpep_pickup_datetime</th>\n",
       "      <th>tpep_dropoff_datetime</th>\n",
       "      <th>passenger_count</th>\n",
       "      <th>trip_distance</th>\n",
       "      <th>RatecodeID</th>\n",
       "      <th>store_and_fwd_flag</th>\n",
       "      <th>PULocationID</th>\n",
       "      <th>DOLocationID</th>\n",
       "      <th>...</th>\n",
       "      <th>total_amount</th>\n",
       "      <th>congestion_surcharge</th>\n",
       "      <th>PU_zone</th>\n",
       "      <th>PU_borough</th>\n",
       "      <th>PU_latitude</th>\n",
       "      <th>PU_longitude</th>\n",
       "      <th>DO_zone</th>\n",
       "      <th>DO_borough</th>\n",
       "      <th>DO_latitude</th>\n",
       "      <th>DO_longitude</th>\n",
       "    </tr>\n",
       "  </thead>\n",
       "  <tbody>\n",
       "    <tr>\n",
       "      <th>0</th>\n",
       "      <td>0</td>\n",
       "      <td>1.0</td>\n",
       "      <td>2020-01-07 21:38:40</td>\n",
       "      <td>2020-01-07 21:45:13</td>\n",
       "      <td>2.0</td>\n",
       "      <td>1.00</td>\n",
       "      <td>1.0</td>\n",
       "      <td>N</td>\n",
       "      <td>249</td>\n",
       "      <td>113</td>\n",
       "      <td>...</td>\n",
       "      <td>12.85</td>\n",
       "      <td>2.5</td>\n",
       "      <td>West Village</td>\n",
       "      <td>Manhattan</td>\n",
       "      <td>40.734186</td>\n",
       "      <td>-74.005580</td>\n",
       "      <td>Greenwich Village North</td>\n",
       "      <td>Manhattan</td>\n",
       "      <td>40.734299</td>\n",
       "      <td>-74.000573</td>\n",
       "    </tr>\n",
       "    <tr>\n",
       "      <th>1</th>\n",
       "      <td>1</td>\n",
       "      <td>2.0</td>\n",
       "      <td>2020-01-24 20:09:35</td>\n",
       "      <td>2020-01-24 20:52:36</td>\n",
       "      <td>1.0</td>\n",
       "      <td>3.99</td>\n",
       "      <td>1.0</td>\n",
       "      <td>N</td>\n",
       "      <td>144</td>\n",
       "      <td>142</td>\n",
       "      <td>...</td>\n",
       "      <td>35.76</td>\n",
       "      <td>2.5</td>\n",
       "      <td>Little Italy/NoLiTa</td>\n",
       "      <td>Manhattan</td>\n",
       "      <td>40.721006</td>\n",
       "      <td>-73.994702</td>\n",
       "      <td>Lincoln Square East</td>\n",
       "      <td>Manhattan</td>\n",
       "      <td>40.775707</td>\n",
       "      <td>-73.991420</td>\n",
       "    </tr>\n",
       "    <tr>\n",
       "      <th>2</th>\n",
       "      <td>2</td>\n",
       "      <td>2.0</td>\n",
       "      <td>2020-01-15 13:37:54</td>\n",
       "      <td>2020-01-15 13:40:47</td>\n",
       "      <td>1.0</td>\n",
       "      <td>0.43</td>\n",
       "      <td>1.0</td>\n",
       "      <td>N</td>\n",
       "      <td>238</td>\n",
       "      <td>238</td>\n",
       "      <td>...</td>\n",
       "      <td>9.49</td>\n",
       "      <td>2.5</td>\n",
       "      <td>Upper West Side North</td>\n",
       "      <td>Manhattan</td>\n",
       "      <td>40.781960</td>\n",
       "      <td>-73.981243</td>\n",
       "      <td>Upper West Side North</td>\n",
       "      <td>Manhattan</td>\n",
       "      <td>40.781960</td>\n",
       "      <td>-73.981243</td>\n",
       "    </tr>\n",
       "    <tr>\n",
       "      <th>3</th>\n",
       "      <td>3</td>\n",
       "      <td>2.0</td>\n",
       "      <td>2020-01-16 16:22:45</td>\n",
       "      <td>2020-01-16 16:28:19</td>\n",
       "      <td>1.0</td>\n",
       "      <td>0.60</td>\n",
       "      <td>1.0</td>\n",
       "      <td>N</td>\n",
       "      <td>164</td>\n",
       "      <td>137</td>\n",
       "      <td>...</td>\n",
       "      <td>10.80</td>\n",
       "      <td>2.5</td>\n",
       "      <td>Midtown South</td>\n",
       "      <td>Manhattan</td>\n",
       "      <td>40.749842</td>\n",
       "      <td>-73.984251</td>\n",
       "      <td>Kips Bay</td>\n",
       "      <td>Manhattan</td>\n",
       "      <td>40.739546</td>\n",
       "      <td>-73.977083</td>\n",
       "    </tr>\n",
       "    <tr>\n",
       "      <th>4</th>\n",
       "      <td>4</td>\n",
       "      <td>1.0</td>\n",
       "      <td>2020-01-01 14:11:40</td>\n",
       "      <td>2020-01-01 14:12:28</td>\n",
       "      <td>4.0</td>\n",
       "      <td>0.00</td>\n",
       "      <td>1.0</td>\n",
       "      <td>N</td>\n",
       "      <td>132</td>\n",
       "      <td>132</td>\n",
       "      <td>...</td>\n",
       "      <td>3.30</td>\n",
       "      <td>0.0</td>\n",
       "      <td>JFK Airport</td>\n",
       "      <td>Queens</td>\n",
       "      <td>40.642948</td>\n",
       "      <td>-73.779373</td>\n",
       "      <td>JFK Airport</td>\n",
       "      <td>Queens</td>\n",
       "      <td>40.642948</td>\n",
       "      <td>-73.779373</td>\n",
       "    </tr>\n",
       "    <tr>\n",
       "      <th>5</th>\n",
       "      <td>5</td>\n",
       "      <td>2.0</td>\n",
       "      <td>2020-01-22 23:33:47</td>\n",
       "      <td>2020-01-22 23:39:45</td>\n",
       "      <td>2.0</td>\n",
       "      <td>1.45</td>\n",
       "      <td>1.0</td>\n",
       "      <td>N</td>\n",
       "      <td>142</td>\n",
       "      <td>237</td>\n",
       "      <td>...</td>\n",
       "      <td>12.42</td>\n",
       "      <td>2.5</td>\n",
       "      <td>Lincoln Square East</td>\n",
       "      <td>Manhattan</td>\n",
       "      <td>40.775707</td>\n",
       "      <td>-73.991420</td>\n",
       "      <td>Upper East Side South</td>\n",
       "      <td>Manhattan</td>\n",
       "      <td>40.779468</td>\n",
       "      <td>-73.958265</td>\n",
       "    </tr>\n",
       "    <tr>\n",
       "      <th>6</th>\n",
       "      <td>6</td>\n",
       "      <td>1.0</td>\n",
       "      <td>2020-01-04 16:12:29</td>\n",
       "      <td>2020-01-04 16:31:23</td>\n",
       "      <td>2.0</td>\n",
       "      <td>3.90</td>\n",
       "      <td>1.0</td>\n",
       "      <td>N</td>\n",
       "      <td>90</td>\n",
       "      <td>239</td>\n",
       "      <td>...</td>\n",
       "      <td>23.30</td>\n",
       "      <td>2.5</td>\n",
       "      <td>Flatiron</td>\n",
       "      <td>Manhattan</td>\n",
       "      <td>40.741059</td>\n",
       "      <td>-73.989642</td>\n",
       "      <td>Upper West Side South</td>\n",
       "      <td>Manhattan</td>\n",
       "      <td>40.769244</td>\n",
       "      <td>-73.990767</td>\n",
       "    </tr>\n",
       "    <tr>\n",
       "      <th>7</th>\n",
       "      <td>7</td>\n",
       "      <td>1.0</td>\n",
       "      <td>2020-01-31 18:49:37</td>\n",
       "      <td>2020-01-31 19:03:00</td>\n",
       "      <td>1.0</td>\n",
       "      <td>2.90</td>\n",
       "      <td>1.0</td>\n",
       "      <td>N</td>\n",
       "      <td>230</td>\n",
       "      <td>236</td>\n",
       "      <td>...</td>\n",
       "      <td>15.80</td>\n",
       "      <td>2.5</td>\n",
       "      <td>Times Sq/Theatre District</td>\n",
       "      <td>Manhattan</td>\n",
       "      <td>40.758168</td>\n",
       "      <td>-73.985525</td>\n",
       "      <td>Upper East Side North</td>\n",
       "      <td>Manhattan</td>\n",
       "      <td>40.764873</td>\n",
       "      <td>-73.961511</td>\n",
       "    </tr>\n",
       "    <tr>\n",
       "      <th>8</th>\n",
       "      <td>8</td>\n",
       "      <td>2.0</td>\n",
       "      <td>2020-01-12 07:09:42</td>\n",
       "      <td>2020-01-12 07:14:05</td>\n",
       "      <td>2.0</td>\n",
       "      <td>1.19</td>\n",
       "      <td>1.0</td>\n",
       "      <td>N</td>\n",
       "      <td>263</td>\n",
       "      <td>140</td>\n",
       "      <td>...</td>\n",
       "      <td>11.16</td>\n",
       "      <td>2.5</td>\n",
       "      <td>Yorkville West</td>\n",
       "      <td>Manhattan</td>\n",
       "      <td>43.670470</td>\n",
       "      <td>-79.387252</td>\n",
       "      <td>Lenox Hill East</td>\n",
       "      <td>Manhattan</td>\n",
       "      <td>40.765177</td>\n",
       "      <td>-73.961595</td>\n",
       "    </tr>\n",
       "    <tr>\n",
       "      <th>9</th>\n",
       "      <td>9</td>\n",
       "      <td>2.0</td>\n",
       "      <td>2020-01-01 10:49:09</td>\n",
       "      <td>2020-01-01 10:52:21</td>\n",
       "      <td>1.0</td>\n",
       "      <td>0.77</td>\n",
       "      <td>1.0</td>\n",
       "      <td>N</td>\n",
       "      <td>42</td>\n",
       "      <td>42</td>\n",
       "      <td>...</td>\n",
       "      <td>5.30</td>\n",
       "      <td>0.0</td>\n",
       "      <td>Central Harlem North</td>\n",
       "      <td>Manhattan</td>\n",
       "      <td>40.799218</td>\n",
       "      <td>-73.954900</td>\n",
       "      <td>Central Harlem North</td>\n",
       "      <td>Manhattan</td>\n",
       "      <td>40.799218</td>\n",
       "      <td>-73.954900</td>\n",
       "    </tr>\n",
       "  </tbody>\n",
       "</table>\n",
       "<p>10 rows × 27 columns</p>\n",
       "</div>"
      ],
      "text/plain": [
       "   Unnamed: 0  VendorID tpep_pickup_datetime tpep_dropoff_datetime  \\\n",
       "0           0       1.0  2020-01-07 21:38:40   2020-01-07 21:45:13   \n",
       "1           1       2.0  2020-01-24 20:09:35   2020-01-24 20:52:36   \n",
       "2           2       2.0  2020-01-15 13:37:54   2020-01-15 13:40:47   \n",
       "3           3       2.0  2020-01-16 16:22:45   2020-01-16 16:28:19   \n",
       "4           4       1.0  2020-01-01 14:11:40   2020-01-01 14:12:28   \n",
       "5           5       2.0  2020-01-22 23:33:47   2020-01-22 23:39:45   \n",
       "6           6       1.0  2020-01-04 16:12:29   2020-01-04 16:31:23   \n",
       "7           7       1.0  2020-01-31 18:49:37   2020-01-31 19:03:00   \n",
       "8           8       2.0  2020-01-12 07:09:42   2020-01-12 07:14:05   \n",
       "9           9       2.0  2020-01-01 10:49:09   2020-01-01 10:52:21   \n",
       "\n",
       "   passenger_count  trip_distance  RatecodeID store_and_fwd_flag  \\\n",
       "0              2.0           1.00         1.0                  N   \n",
       "1              1.0           3.99         1.0                  N   \n",
       "2              1.0           0.43         1.0                  N   \n",
       "3              1.0           0.60         1.0                  N   \n",
       "4              4.0           0.00         1.0                  N   \n",
       "5              2.0           1.45         1.0                  N   \n",
       "6              2.0           3.90         1.0                  N   \n",
       "7              1.0           2.90         1.0                  N   \n",
       "8              2.0           1.19         1.0                  N   \n",
       "9              1.0           0.77         1.0                  N   \n",
       "\n",
       "   PULocationID  DOLocationID  ...  total_amount  congestion_surcharge  \\\n",
       "0           249           113  ...         12.85                   2.5   \n",
       "1           144           142  ...         35.76                   2.5   \n",
       "2           238           238  ...          9.49                   2.5   \n",
       "3           164           137  ...         10.80                   2.5   \n",
       "4           132           132  ...          3.30                   0.0   \n",
       "5           142           237  ...         12.42                   2.5   \n",
       "6            90           239  ...         23.30                   2.5   \n",
       "7           230           236  ...         15.80                   2.5   \n",
       "8           263           140  ...         11.16                   2.5   \n",
       "9            42            42  ...          5.30                   0.0   \n",
       "\n",
       "                     PU_zone  PU_borough  PU_latitude  PU_longitude  \\\n",
       "0               West Village   Manhattan    40.734186    -74.005580   \n",
       "1        Little Italy/NoLiTa   Manhattan    40.721006    -73.994702   \n",
       "2      Upper West Side North   Manhattan    40.781960    -73.981243   \n",
       "3              Midtown South   Manhattan    40.749842    -73.984251   \n",
       "4                JFK Airport      Queens    40.642948    -73.779373   \n",
       "5        Lincoln Square East   Manhattan    40.775707    -73.991420   \n",
       "6                   Flatiron   Manhattan    40.741059    -73.989642   \n",
       "7  Times Sq/Theatre District   Manhattan    40.758168    -73.985525   \n",
       "8             Yorkville West   Manhattan    43.670470    -79.387252   \n",
       "9       Central Harlem North   Manhattan    40.799218    -73.954900   \n",
       "\n",
       "                   DO_zone  DO_borough  DO_latitude DO_longitude  \n",
       "0  Greenwich Village North   Manhattan    40.734299   -74.000573  \n",
       "1      Lincoln Square East   Manhattan    40.775707   -73.991420  \n",
       "2    Upper West Side North   Manhattan    40.781960   -73.981243  \n",
       "3                 Kips Bay   Manhattan    40.739546   -73.977083  \n",
       "4              JFK Airport      Queens    40.642948   -73.779373  \n",
       "5    Upper East Side South   Manhattan    40.779468   -73.958265  \n",
       "6    Upper West Side South   Manhattan    40.769244   -73.990767  \n",
       "7    Upper East Side North   Manhattan    40.764873   -73.961511  \n",
       "8          Lenox Hill East   Manhattan    40.765177   -73.961595  \n",
       "9     Central Harlem North   Manhattan    40.799218   -73.954900  \n",
       "\n",
       "[10 rows x 27 columns]"
      ]
     },
     "execution_count": 6,
     "metadata": {},
     "output_type": "execute_result"
    }
   ],
   "source": [
    "bulk_df = pd.read_csv(path)\n",
    "bulk_df.head(10)"
   ]
  },
  {
   "cell_type": "markdown",
   "id": "b8da2fc0",
   "metadata": {},
   "source": [
    "- remove the first column which is index column saved in dataset from prior sampling process"
   ]
  },
  {
   "cell_type": "code",
   "execution_count": 7,
   "id": "970cc7fa",
   "metadata": {},
   "outputs": [
    {
     "data": {
      "text/plain": [
       "(1200911, 27)"
      ]
     },
     "execution_count": 7,
     "metadata": {},
     "output_type": "execute_result"
    }
   ],
   "source": [
    "bulk_df.shape"
   ]
  },
  {
   "cell_type": "code",
   "execution_count": 8,
   "id": "53320f04",
   "metadata": {},
   "outputs": [],
   "source": [
    "bulk_df.drop(['Unnamed: 0'],axis=1,inplace=True)"
   ]
  },
  {
   "cell_type": "markdown",
   "id": "557c76b4",
   "metadata": {},
   "source": [
    "### to take 10% of total dataset as a sample"
   ]
  },
  {
   "cell_type": "code",
   "execution_count": 9,
   "id": "9f2ea5d3",
   "metadata": {},
   "outputs": [],
   "source": [
    "df = bulk_df.sample(frac=0.20)"
   ]
  },
  {
   "cell_type": "code",
   "execution_count": 10,
   "id": "83529130",
   "metadata": {},
   "outputs": [],
   "source": [
    "# df = bulk_df"
   ]
  },
  {
   "cell_type": "code",
   "execution_count": 11,
   "id": "bcaf886e",
   "metadata": {},
   "outputs": [
    {
     "data": {
      "text/plain": [
       "(240182, 26)"
      ]
     },
     "execution_count": 11,
     "metadata": {},
     "output_type": "execute_result"
    }
   ],
   "source": [
    "df.shape"
   ]
  },
  {
   "cell_type": "code",
   "execution_count": null,
   "id": "929e868f",
   "metadata": {},
   "outputs": [],
   "source": []
  },
  {
   "cell_type": "code",
   "execution_count": null,
   "id": "2fe0fc76",
   "metadata": {},
   "outputs": [],
   "source": []
  },
  {
   "cell_type": "markdown",
   "id": "3b527fcb",
   "metadata": {},
   "source": [
    "# Exploratory Data Analysis ( EDA )"
   ]
  },
  {
   "cell_type": "code",
   "execution_count": null,
   "id": "b330d8f0",
   "metadata": {},
   "outputs": [],
   "source": []
  },
  {
   "cell_type": "markdown",
   "id": "3462945b",
   "metadata": {},
   "source": [
    "### shape\n",
    "\n",
    "- returns number of rows and columns"
   ]
  },
  {
   "cell_type": "code",
   "execution_count": 12,
   "id": "60434447",
   "metadata": {},
   "outputs": [
    {
     "data": {
      "text/plain": [
       "(240182, 26)"
      ]
     },
     "execution_count": 12,
     "metadata": {},
     "output_type": "execute_result"
    }
   ],
   "source": [
    "df.shape"
   ]
  },
  {
   "cell_type": "markdown",
   "id": "13f1afa8",
   "metadata": {},
   "source": [
    "- 95074 rows and 26 columns"
   ]
  },
  {
   "cell_type": "code",
   "execution_count": null,
   "id": "cfba8556",
   "metadata": {},
   "outputs": [],
   "source": []
  },
  {
   "cell_type": "markdown",
   "id": "c12bdb9e",
   "metadata": {},
   "source": [
    "### columns in dataset\n",
    "\n",
    "- print the columns names"
   ]
  },
  {
   "cell_type": "code",
   "execution_count": 13,
   "id": "c46dae58",
   "metadata": {},
   "outputs": [
    {
     "data": {
      "text/plain": [
       "Index(['VendorID', 'tpep_pickup_datetime', 'tpep_dropoff_datetime',\n",
       "       'passenger_count', 'trip_distance', 'RatecodeID', 'store_and_fwd_flag',\n",
       "       'PULocationID', 'DOLocationID', 'payment_type', 'fare_amount', 'extra',\n",
       "       'mta_tax', 'tip_amount', 'tolls_amount', 'improvement_surcharge',\n",
       "       'total_amount', 'congestion_surcharge', 'PU_zone', 'PU_borough',\n",
       "       'PU_latitude', 'PU_longitude', 'DO_zone', 'DO_borough', 'DO_latitude',\n",
       "       'DO_longitude'],\n",
       "      dtype='object')"
      ]
     },
     "execution_count": 13,
     "metadata": {},
     "output_type": "execute_result"
    }
   ],
   "source": [
    "df.columns"
   ]
  },
  {
   "cell_type": "code",
   "execution_count": null,
   "id": "4ba19f54",
   "metadata": {},
   "outputs": [],
   "source": []
  },
  {
   "cell_type": "markdown",
   "id": "9dbfec7c",
   "metadata": {},
   "source": [
    "- printing first 5 records"
   ]
  },
  {
   "cell_type": "code",
   "execution_count": 14,
   "id": "721b09a7",
   "metadata": {},
   "outputs": [
    {
     "data": {
      "text/html": [
       "<div>\n",
       "<style scoped>\n",
       "    .dataframe tbody tr th:only-of-type {\n",
       "        vertical-align: middle;\n",
       "    }\n",
       "\n",
       "    .dataframe tbody tr th {\n",
       "        vertical-align: top;\n",
       "    }\n",
       "\n",
       "    .dataframe thead th {\n",
       "        text-align: right;\n",
       "    }\n",
       "</style>\n",
       "<table border=\"1\" class=\"dataframe\">\n",
       "  <thead>\n",
       "    <tr style=\"text-align: right;\">\n",
       "      <th></th>\n",
       "      <th>VendorID</th>\n",
       "      <th>tpep_pickup_datetime</th>\n",
       "      <th>tpep_dropoff_datetime</th>\n",
       "      <th>passenger_count</th>\n",
       "      <th>trip_distance</th>\n",
       "      <th>RatecodeID</th>\n",
       "      <th>store_and_fwd_flag</th>\n",
       "      <th>PULocationID</th>\n",
       "      <th>DOLocationID</th>\n",
       "      <th>payment_type</th>\n",
       "      <th>...</th>\n",
       "      <th>total_amount</th>\n",
       "      <th>congestion_surcharge</th>\n",
       "      <th>PU_zone</th>\n",
       "      <th>PU_borough</th>\n",
       "      <th>PU_latitude</th>\n",
       "      <th>PU_longitude</th>\n",
       "      <th>DO_zone</th>\n",
       "      <th>DO_borough</th>\n",
       "      <th>DO_latitude</th>\n",
       "      <th>DO_longitude</th>\n",
       "    </tr>\n",
       "  </thead>\n",
       "  <tbody>\n",
       "    <tr>\n",
       "      <th>49247</th>\n",
       "      <td>2.0</td>\n",
       "      <td>2020-01-25 11:48:29</td>\n",
       "      <td>2020-01-25 12:08:17</td>\n",
       "      <td>1.0</td>\n",
       "      <td>2.43</td>\n",
       "      <td>1.0</td>\n",
       "      <td>N</td>\n",
       "      <td>164</td>\n",
       "      <td>158</td>\n",
       "      <td>1.0</td>\n",
       "      <td>...</td>\n",
       "      <td>20.16</td>\n",
       "      <td>2.5</td>\n",
       "      <td>Midtown South</td>\n",
       "      <td>Manhattan</td>\n",
       "      <td>40.749842</td>\n",
       "      <td>-73.984251</td>\n",
       "      <td>Meatpacking/West Village West</td>\n",
       "      <td>Manhattan</td>\n",
       "      <td>40.739713</td>\n",
       "      <td>-74.009671</td>\n",
       "    </tr>\n",
       "    <tr>\n",
       "      <th>944176</th>\n",
       "      <td>2.0</td>\n",
       "      <td>2021-07-30 01:16:24</td>\n",
       "      <td>2021-07-30 01:24:19</td>\n",
       "      <td>3.0</td>\n",
       "      <td>2.58</td>\n",
       "      <td>1.0</td>\n",
       "      <td>N</td>\n",
       "      <td>114</td>\n",
       "      <td>233</td>\n",
       "      <td>2.0</td>\n",
       "      <td>...</td>\n",
       "      <td>12.80</td>\n",
       "      <td>2.5</td>\n",
       "      <td>Greenwich Village South</td>\n",
       "      <td>Manhattan</td>\n",
       "      <td>40.733584</td>\n",
       "      <td>-74.002817</td>\n",
       "      <td>UN/Turtle Bay South</td>\n",
       "      <td>Manhattan</td>\n",
       "      <td>40.760680</td>\n",
       "      <td>-73.966561</td>\n",
       "    </tr>\n",
       "    <tr>\n",
       "      <th>882776</th>\n",
       "      <td>2.0</td>\n",
       "      <td>2021-06-07 12:07:06</td>\n",
       "      <td>2021-06-07 12:19:25</td>\n",
       "      <td>1.0</td>\n",
       "      <td>2.05</td>\n",
       "      <td>1.0</td>\n",
       "      <td>N</td>\n",
       "      <td>236</td>\n",
       "      <td>163</td>\n",
       "      <td>1.0</td>\n",
       "      <td>...</td>\n",
       "      <td>16.56</td>\n",
       "      <td>2.5</td>\n",
       "      <td>Upper East Side North</td>\n",
       "      <td>Manhattan</td>\n",
       "      <td>40.764873</td>\n",
       "      <td>-73.961511</td>\n",
       "      <td>Midtown North</td>\n",
       "      <td>Manhattan</td>\n",
       "      <td>40.765203</td>\n",
       "      <td>-73.985104</td>\n",
       "    </tr>\n",
       "    <tr>\n",
       "      <th>573707</th>\n",
       "      <td>NaN</td>\n",
       "      <td>2020-12-20 11:13:00</td>\n",
       "      <td>2020-12-20 11:37:00</td>\n",
       "      <td>NaN</td>\n",
       "      <td>11.17</td>\n",
       "      <td>NaN</td>\n",
       "      <td>NaN</td>\n",
       "      <td>49</td>\n",
       "      <td>28</td>\n",
       "      <td>NaN</td>\n",
       "      <td>...</td>\n",
       "      <td>60.00</td>\n",
       "      <td>0.0</td>\n",
       "      <td>Clinton Hill</td>\n",
       "      <td>Brooklyn</td>\n",
       "      <td>40.689722</td>\n",
       "      <td>-73.965278</td>\n",
       "      <td>Briarwood/Jamaica Hills</td>\n",
       "      <td>Queens</td>\n",
       "      <td>40.710995</td>\n",
       "      <td>-73.812740</td>\n",
       "    </tr>\n",
       "    <tr>\n",
       "      <th>175638</th>\n",
       "      <td>2.0</td>\n",
       "      <td>2020-04-20 15:41:12</td>\n",
       "      <td>2020-04-20 15:48:33</td>\n",
       "      <td>1.0</td>\n",
       "      <td>1.95</td>\n",
       "      <td>1.0</td>\n",
       "      <td>N</td>\n",
       "      <td>229</td>\n",
       "      <td>107</td>\n",
       "      <td>1.0</td>\n",
       "      <td>...</td>\n",
       "      <td>13.56</td>\n",
       "      <td>2.5</td>\n",
       "      <td>Sutton Place/Turtle Bay North</td>\n",
       "      <td>Manhattan</td>\n",
       "      <td>40.757651</td>\n",
       "      <td>-73.961670</td>\n",
       "      <td>Gramercy</td>\n",
       "      <td>Manhattan</td>\n",
       "      <td>40.735519</td>\n",
       "      <td>-73.984079</td>\n",
       "    </tr>\n",
       "  </tbody>\n",
       "</table>\n",
       "<p>5 rows × 26 columns</p>\n",
       "</div>"
      ],
      "text/plain": [
       "        VendorID tpep_pickup_datetime tpep_dropoff_datetime  passenger_count  \\\n",
       "49247        2.0  2020-01-25 11:48:29   2020-01-25 12:08:17              1.0   \n",
       "944176       2.0  2021-07-30 01:16:24   2021-07-30 01:24:19              3.0   \n",
       "882776       2.0  2021-06-07 12:07:06   2021-06-07 12:19:25              1.0   \n",
       "573707       NaN  2020-12-20 11:13:00   2020-12-20 11:37:00              NaN   \n",
       "175638       2.0  2020-04-20 15:41:12   2020-04-20 15:48:33              1.0   \n",
       "\n",
       "        trip_distance  RatecodeID store_and_fwd_flag  PULocationID  \\\n",
       "49247            2.43         1.0                  N           164   \n",
       "944176           2.58         1.0                  N           114   \n",
       "882776           2.05         1.0                  N           236   \n",
       "573707          11.17         NaN                NaN            49   \n",
       "175638           1.95         1.0                  N           229   \n",
       "\n",
       "        DOLocationID  payment_type  ...  total_amount  congestion_surcharge  \\\n",
       "49247            158           1.0  ...         20.16                   2.5   \n",
       "944176           233           2.0  ...         12.80                   2.5   \n",
       "882776           163           1.0  ...         16.56                   2.5   \n",
       "573707            28           NaN  ...         60.00                   0.0   \n",
       "175638           107           1.0  ...         13.56                   2.5   \n",
       "\n",
       "                              PU_zone  PU_borough  PU_latitude  PU_longitude  \\\n",
       "49247                   Midtown South   Manhattan    40.749842    -73.984251   \n",
       "944176        Greenwich Village South   Manhattan    40.733584    -74.002817   \n",
       "882776          Upper East Side North   Manhattan    40.764873    -73.961511   \n",
       "573707                   Clinton Hill    Brooklyn    40.689722    -73.965278   \n",
       "175638  Sutton Place/Turtle Bay North   Manhattan    40.757651    -73.961670   \n",
       "\n",
       "                              DO_zone  DO_borough DO_latitude DO_longitude  \n",
       "49247   Meatpacking/West Village West   Manhattan   40.739713   -74.009671  \n",
       "944176            UN/Turtle Bay South   Manhattan   40.760680   -73.966561  \n",
       "882776                  Midtown North   Manhattan   40.765203   -73.985104  \n",
       "573707        Briarwood/Jamaica Hills      Queens   40.710995   -73.812740  \n",
       "175638                       Gramercy   Manhattan   40.735519   -73.984079  \n",
       "\n",
       "[5 rows x 26 columns]"
      ]
     },
     "execution_count": 14,
     "metadata": {},
     "output_type": "execute_result"
    }
   ],
   "source": [
    "df.head()"
   ]
  },
  {
   "cell_type": "code",
   "execution_count": null,
   "id": "6cbe2937",
   "metadata": {},
   "outputs": [],
   "source": []
  },
  {
   "cell_type": "markdown",
   "id": "ab9ae7ce",
   "metadata": {},
   "source": [
    "### Demographic information of Customer & Vendor\n",
    "\n",
    "    1. 'VendorID' – code indicating the TPER ( Taxicab and Livery Passenger ENchancement Programs (TPEP ) provider that provided the record\t\n",
    "\t2. 'tpep_pickup_datetime' – pick up date and time \n",
    "\t3. 'tpep_dropoff_datetime' – drop off date and time\n",
    "    4. 'passenger_count' – passenger count \n",
    "\t5. 'trip_distance' – elapsed trip distance in miles reported by the taximeter \n",
    "\t6. 'RatecodeID' – final rate code effect at the end of the trip\n",
    "\t\t1 – Standard Rate\n",
    "\t\t2 – JFK\n",
    "\t\t3 – Newark\n",
    "\t\t4 – Nassau\n",
    "\t\t5 – Negotiated fare\n",
    "\t\t6 – group ride\n",
    "\t7. 'store_and_fwd_flag' – flag indicated whether the trip record was held in vehicle\n",
    "\t\tY – store and forward trip\n",
    "\t\tN – not a store and forward trip\n",
    "    8. 'PULocationID' – TLC Taxi zone in which taximeter was engaged \n",
    "\t9. 'DOLocationID' – TLC Taxi zone in whoch taximeter was disengaged \n",
    "\t10. 'payment_type' – numeric code signifying the payment mode\n",
    "\t\t1 – credit card\n",
    "\t\t2 – cash\n",
    "\t\t3 – no charge\n",
    "\t\t4 – dispute\n",
    "\t\t5 – unknown\n",
    "\t\t6 – voided trip\n",
    " \t11. 'fare_amount' – time and distance fare calculated by the meter \n",
    "\t12. 'extra' – miscellaneous extras and surcharges.\n",
    "\t\t1. Rush charge – 0.5 USD\n",
    "\t\t2. Overnight charge – 1 USD\n",
    "    13. 'mta_tax' – 0.50 MTA tax, automatically added \n",
    "\t14. 'tip_amount' – tip amount. field is automatically populated for credit card tips., cash tips are not included. \n",
    "\t15. 'tolls_amount' – total amount of all tolls paid in trip \n",
    "\t16. 'improvement_surcharge' – 0.30 imporvement surcharge assessed trips at the flag drop.\n",
    "        17. 'total_amount' – total amount charged to passengers. Does not include cash tips. \n",
    "\t18. 'congestion_surcharge' – additional charge added to base charge during unusal events like strikes, bad winter, major port fires.\n",
    "    19. zone_x - pick up zone\n",
    "    20. borough_x - pick up borough\n",
    "    21. PUlatitude - pick up latitude\n",
    "    22. PUlongitude - pick up longitude\n",
    "    23. zone_y - drop off zone\n",
    "    24. borough_y - drop off borough\n",
    "    25. DOlatitude - drop off latitude\n",
    "    26. DOlongitude - drop off longitude"
   ]
  },
  {
   "cell_type": "code",
   "execution_count": null,
   "id": "f127b652",
   "metadata": {},
   "outputs": [],
   "source": []
  },
  {
   "cell_type": "markdown",
   "id": "0241bb1e",
   "metadata": {},
   "source": [
    "### info()\n",
    "\n",
    "- it will tell you how many entries you have, the names of each column, the data type of each column, and how many non-null values you have in each column"
   ]
  },
  {
   "cell_type": "code",
   "execution_count": 15,
   "id": "f62cc910",
   "metadata": {},
   "outputs": [
    {
     "name": "stdout",
     "output_type": "stream",
     "text": [
      "<class 'pandas.core.frame.DataFrame'>\n",
      "Int64Index: 240182 entries, 49247 to 574051\n",
      "Data columns (total 26 columns):\n",
      " #   Column                 Non-Null Count   Dtype  \n",
      "---  ------                 --------------   -----  \n",
      " 0   VendorID               227708 non-null  float64\n",
      " 1   tpep_pickup_datetime   240182 non-null  object \n",
      " 2   tpep_dropoff_datetime  240182 non-null  object \n",
      " 3   passenger_count        227708 non-null  float64\n",
      " 4   trip_distance          240182 non-null  float64\n",
      " 5   RatecodeID             227708 non-null  float64\n",
      " 6   store_and_fwd_flag     227708 non-null  object \n",
      " 7   PULocationID           240182 non-null  int64  \n",
      " 8   DOLocationID           240182 non-null  int64  \n",
      " 9   payment_type           227708 non-null  float64\n",
      " 10  fare_amount            240182 non-null  float64\n",
      " 11  extra                  240182 non-null  float64\n",
      " 12  mta_tax                240182 non-null  float64\n",
      " 13  tip_amount             240182 non-null  float64\n",
      " 14  tolls_amount           240182 non-null  float64\n",
      " 15  improvement_surcharge  240182 non-null  float64\n",
      " 16  total_amount           240182 non-null  float64\n",
      " 17  congestion_surcharge   240182 non-null  float64\n",
      " 18  PU_zone                237553 non-null  object \n",
      " 19  PU_borough             237553 non-null  object \n",
      " 20  PU_latitude            237553 non-null  float64\n",
      " 21  PU_longitude           237553 non-null  float64\n",
      " 22  DO_zone                237859 non-null  object \n",
      " 23  DO_borough             237859 non-null  object \n",
      " 24  DO_latitude            237859 non-null  float64\n",
      " 25  DO_longitude           237859 non-null  float64\n",
      "dtypes: float64(17), int64(2), object(7)\n",
      "memory usage: 49.5+ MB\n"
     ]
    }
   ],
   "source": [
    "df.info()"
   ]
  },
  {
   "cell_type": "code",
   "execution_count": null,
   "id": "16c511ab",
   "metadata": {},
   "outputs": [],
   "source": []
  },
  {
   "cell_type": "markdown",
   "id": "7dd1a937",
   "metadata": {},
   "source": [
    "### Descriptive Statistics\n",
    "\n",
    "- Descriptive statistics is a helpful way to understand characteristics of your data and to get a quick summary of it. \n",
    "- The describe function applies basic statistical computations on the dataset like extreme values, count of data points standard deviation etc. \n",
    "- Any missing value or NaN value is automatically skipped. "
   ]
  },
  {
   "cell_type": "code",
   "execution_count": 16,
   "id": "e1e7165f",
   "metadata": {},
   "outputs": [
    {
     "data": {
      "text/html": [
       "<div>\n",
       "<style scoped>\n",
       "    .dataframe tbody tr th:only-of-type {\n",
       "        vertical-align: middle;\n",
       "    }\n",
       "\n",
       "    .dataframe tbody tr th {\n",
       "        vertical-align: top;\n",
       "    }\n",
       "\n",
       "    .dataframe thead th {\n",
       "        text-align: right;\n",
       "    }\n",
       "</style>\n",
       "<table border=\"1\" class=\"dataframe\">\n",
       "  <thead>\n",
       "    <tr style=\"text-align: right;\">\n",
       "      <th></th>\n",
       "      <th>VendorID</th>\n",
       "      <th>passenger_count</th>\n",
       "      <th>trip_distance</th>\n",
       "      <th>RatecodeID</th>\n",
       "      <th>PULocationID</th>\n",
       "      <th>DOLocationID</th>\n",
       "      <th>payment_type</th>\n",
       "      <th>fare_amount</th>\n",
       "      <th>extra</th>\n",
       "      <th>mta_tax</th>\n",
       "      <th>tip_amount</th>\n",
       "      <th>tolls_amount</th>\n",
       "      <th>improvement_surcharge</th>\n",
       "      <th>total_amount</th>\n",
       "      <th>congestion_surcharge</th>\n",
       "      <th>PU_latitude</th>\n",
       "      <th>PU_longitude</th>\n",
       "      <th>DO_latitude</th>\n",
       "      <th>DO_longitude</th>\n",
       "    </tr>\n",
       "  </thead>\n",
       "  <tbody>\n",
       "    <tr>\n",
       "      <th>count</th>\n",
       "      <td>227708.000000</td>\n",
       "      <td>227708.000000</td>\n",
       "      <td>240182.000000</td>\n",
       "      <td>227708.000000</td>\n",
       "      <td>240182.000000</td>\n",
       "      <td>240182.000000</td>\n",
       "      <td>227708.000000</td>\n",
       "      <td>240182.000000</td>\n",
       "      <td>240182.000000</td>\n",
       "      <td>240182.000000</td>\n",
       "      <td>240182.000000</td>\n",
       "      <td>240182.000000</td>\n",
       "      <td>240182.000000</td>\n",
       "      <td>240182.000000</td>\n",
       "      <td>240182.000000</td>\n",
       "      <td>237553.000000</td>\n",
       "      <td>237553.000000</td>\n",
       "      <td>237859.000000</td>\n",
       "      <td>237859.000000</td>\n",
       "    </tr>\n",
       "    <tr>\n",
       "      <th>mean</th>\n",
       "      <td>1.660210</td>\n",
       "      <td>1.447964</td>\n",
       "      <td>4.233482</td>\n",
       "      <td>1.047513</td>\n",
       "      <td>163.141842</td>\n",
       "      <td>160.037318</td>\n",
       "      <td>1.297131</td>\n",
       "      <td>12.872596</td>\n",
       "      <td>1.041284</td>\n",
       "      <td>0.492218</td>\n",
       "      <td>2.030332</td>\n",
       "      <td>0.321488</td>\n",
       "      <td>0.297273</td>\n",
       "      <td>18.507405</td>\n",
       "      <td>2.159976</td>\n",
       "      <td>40.832614</td>\n",
       "      <td>-74.109371</td>\n",
       "      <td>40.832767</td>\n",
       "      <td>-74.097881</td>\n",
       "    </tr>\n",
       "    <tr>\n",
       "      <th>std</th>\n",
       "      <td>0.473667</td>\n",
       "      <td>1.094511</td>\n",
       "      <td>405.360034</td>\n",
       "      <td>0.833995</td>\n",
       "      <td>67.577783</td>\n",
       "      <td>71.800957</td>\n",
       "      <td>0.498076</td>\n",
       "      <td>11.938666</td>\n",
       "      <td>1.255397</td>\n",
       "      <td>0.076836</td>\n",
       "      <td>2.560653</td>\n",
       "      <td>1.592241</td>\n",
       "      <td>0.039544</td>\n",
       "      <td>14.028351</td>\n",
       "      <td>0.880414</td>\n",
       "      <td>0.472021</td>\n",
       "      <td>0.868372</td>\n",
       "      <td>0.467956</td>\n",
       "      <td>0.851996</td>\n",
       "    </tr>\n",
       "    <tr>\n",
       "      <th>min</th>\n",
       "      <td>1.000000</td>\n",
       "      <td>0.000000</td>\n",
       "      <td>-21.360000</td>\n",
       "      <td>1.000000</td>\n",
       "      <td>1.000000</td>\n",
       "      <td>1.000000</td>\n",
       "      <td>1.000000</td>\n",
       "      <td>-145.000000</td>\n",
       "      <td>-4.500000</td>\n",
       "      <td>-0.500000</td>\n",
       "      <td>-3.580000</td>\n",
       "      <td>-11.120000</td>\n",
       "      <td>-0.300000</td>\n",
       "      <td>-145.300000</td>\n",
       "      <td>-2.500000</td>\n",
       "      <td>40.508475</td>\n",
       "      <td>-79.439392</td>\n",
       "      <td>40.508475</td>\n",
       "      <td>-79.439392</td>\n",
       "    </tr>\n",
       "    <tr>\n",
       "      <th>25%</th>\n",
       "      <td>1.000000</td>\n",
       "      <td>1.000000</td>\n",
       "      <td>1.000000</td>\n",
       "      <td>1.000000</td>\n",
       "      <td>114.000000</td>\n",
       "      <td>107.000000</td>\n",
       "      <td>1.000000</td>\n",
       "      <td>6.500000</td>\n",
       "      <td>0.000000</td>\n",
       "      <td>0.500000</td>\n",
       "      <td>0.000000</td>\n",
       "      <td>0.000000</td>\n",
       "      <td>0.300000</td>\n",
       "      <td>11.150000</td>\n",
       "      <td>2.500000</td>\n",
       "      <td>40.739713</td>\n",
       "      <td>-73.991420</td>\n",
       "      <td>40.739546</td>\n",
       "      <td>-73.991420</td>\n",
       "    </tr>\n",
       "    <tr>\n",
       "      <th>50%</th>\n",
       "      <td>2.000000</td>\n",
       "      <td>1.000000</td>\n",
       "      <td>1.700000</td>\n",
       "      <td>1.000000</td>\n",
       "      <td>162.000000</td>\n",
       "      <td>161.000000</td>\n",
       "      <td>1.000000</td>\n",
       "      <td>9.000000</td>\n",
       "      <td>0.500000</td>\n",
       "      <td>0.500000</td>\n",
       "      <td>1.860000</td>\n",
       "      <td>0.000000</td>\n",
       "      <td>0.300000</td>\n",
       "      <td>14.300000</td>\n",
       "      <td>2.500000</td>\n",
       "      <td>40.759822</td>\n",
       "      <td>-73.984079</td>\n",
       "      <td>40.759822</td>\n",
       "      <td>-73.981243</td>\n",
       "    </tr>\n",
       "    <tr>\n",
       "      <th>75%</th>\n",
       "      <td>2.000000</td>\n",
       "      <td>1.000000</td>\n",
       "      <td>3.190000</td>\n",
       "      <td>1.000000</td>\n",
       "      <td>234.000000</td>\n",
       "      <td>234.000000</td>\n",
       "      <td>2.000000</td>\n",
       "      <td>14.500000</td>\n",
       "      <td>2.500000</td>\n",
       "      <td>0.500000</td>\n",
       "      <td>2.760000</td>\n",
       "      <td>0.000000</td>\n",
       "      <td>0.300000</td>\n",
       "      <td>20.300000</td>\n",
       "      <td>2.500000</td>\n",
       "      <td>40.775707</td>\n",
       "      <td>-73.961511</td>\n",
       "      <td>40.775707</td>\n",
       "      <td>-73.961511</td>\n",
       "    </tr>\n",
       "    <tr>\n",
       "      <th>max</th>\n",
       "      <td>4.000000</td>\n",
       "      <td>8.000000</td>\n",
       "      <td>186510.670000</td>\n",
       "      <td>99.000000</td>\n",
       "      <td>265.000000</td>\n",
       "      <td>265.000000</td>\n",
       "      <td>4.000000</td>\n",
       "      <td>563.790000</td>\n",
       "      <td>87.560000</td>\n",
       "      <td>0.500000</td>\n",
       "      <td>200.060000</td>\n",
       "      <td>122.000000</td>\n",
       "      <td>0.300000</td>\n",
       "      <td>563.790000</td>\n",
       "      <td>2.500000</td>\n",
       "      <td>44.810791</td>\n",
       "      <td>-72.515328</td>\n",
       "      <td>44.810791</td>\n",
       "      <td>-72.515328</td>\n",
       "    </tr>\n",
       "  </tbody>\n",
       "</table>\n",
       "</div>"
      ],
      "text/plain": [
       "            VendorID  passenger_count  trip_distance     RatecodeID  \\\n",
       "count  227708.000000    227708.000000  240182.000000  227708.000000   \n",
       "mean        1.660210         1.447964       4.233482       1.047513   \n",
       "std         0.473667         1.094511     405.360034       0.833995   \n",
       "min         1.000000         0.000000     -21.360000       1.000000   \n",
       "25%         1.000000         1.000000       1.000000       1.000000   \n",
       "50%         2.000000         1.000000       1.700000       1.000000   \n",
       "75%         2.000000         1.000000       3.190000       1.000000   \n",
       "max         4.000000         8.000000  186510.670000      99.000000   \n",
       "\n",
       "        PULocationID   DOLocationID   payment_type    fare_amount  \\\n",
       "count  240182.000000  240182.000000  227708.000000  240182.000000   \n",
       "mean      163.141842     160.037318       1.297131      12.872596   \n",
       "std        67.577783      71.800957       0.498076      11.938666   \n",
       "min         1.000000       1.000000       1.000000    -145.000000   \n",
       "25%       114.000000     107.000000       1.000000       6.500000   \n",
       "50%       162.000000     161.000000       1.000000       9.000000   \n",
       "75%       234.000000     234.000000       2.000000      14.500000   \n",
       "max       265.000000     265.000000       4.000000     563.790000   \n",
       "\n",
       "               extra        mta_tax     tip_amount   tolls_amount  \\\n",
       "count  240182.000000  240182.000000  240182.000000  240182.000000   \n",
       "mean        1.041284       0.492218       2.030332       0.321488   \n",
       "std         1.255397       0.076836       2.560653       1.592241   \n",
       "min        -4.500000      -0.500000      -3.580000     -11.120000   \n",
       "25%         0.000000       0.500000       0.000000       0.000000   \n",
       "50%         0.500000       0.500000       1.860000       0.000000   \n",
       "75%         2.500000       0.500000       2.760000       0.000000   \n",
       "max        87.560000       0.500000     200.060000     122.000000   \n",
       "\n",
       "       improvement_surcharge   total_amount  congestion_surcharge  \\\n",
       "count          240182.000000  240182.000000         240182.000000   \n",
       "mean                0.297273      18.507405              2.159976   \n",
       "std                 0.039544      14.028351              0.880414   \n",
       "min                -0.300000    -145.300000             -2.500000   \n",
       "25%                 0.300000      11.150000              2.500000   \n",
       "50%                 0.300000      14.300000              2.500000   \n",
       "75%                 0.300000      20.300000              2.500000   \n",
       "max                 0.300000     563.790000              2.500000   \n",
       "\n",
       "         PU_latitude   PU_longitude    DO_latitude   DO_longitude  \n",
       "count  237553.000000  237553.000000  237859.000000  237859.000000  \n",
       "mean       40.832614     -74.109371      40.832767     -74.097881  \n",
       "std         0.472021       0.868372       0.467956       0.851996  \n",
       "min        40.508475     -79.439392      40.508475     -79.439392  \n",
       "25%        40.739713     -73.991420      40.739546     -73.991420  \n",
       "50%        40.759822     -73.984079      40.759822     -73.981243  \n",
       "75%        40.775707     -73.961511      40.775707     -73.961511  \n",
       "max        44.810791     -72.515328      44.810791     -72.515328  "
      ]
     },
     "execution_count": 16,
     "metadata": {},
     "output_type": "execute_result"
    }
   ],
   "source": [
    "df.describe()\n"
   ]
  },
  {
   "cell_type": "markdown",
   "id": "7fe07e1a",
   "metadata": {},
   "source": []
  },
  {
   "cell_type": "code",
   "execution_count": 17,
   "id": "f05c59e9",
   "metadata": {},
   "outputs": [
    {
     "data": {
      "text/html": [
       "<div>\n",
       "<style scoped>\n",
       "    .dataframe tbody tr th:only-of-type {\n",
       "        vertical-align: middle;\n",
       "    }\n",
       "\n",
       "    .dataframe tbody tr th {\n",
       "        vertical-align: top;\n",
       "    }\n",
       "\n",
       "    .dataframe thead th {\n",
       "        text-align: right;\n",
       "    }\n",
       "</style>\n",
       "<table border=\"1\" class=\"dataframe\">\n",
       "  <thead>\n",
       "    <tr style=\"text-align: right;\">\n",
       "      <th></th>\n",
       "      <th>count</th>\n",
       "      <th>mean</th>\n",
       "      <th>std</th>\n",
       "      <th>min</th>\n",
       "      <th>25%</th>\n",
       "      <th>50%</th>\n",
       "      <th>75%</th>\n",
       "      <th>max</th>\n",
       "    </tr>\n",
       "  </thead>\n",
       "  <tbody>\n",
       "    <tr>\n",
       "      <th>VendorID</th>\n",
       "      <td>227708.0</td>\n",
       "      <td>1.660210</td>\n",
       "      <td>0.473667</td>\n",
       "      <td>1.000000</td>\n",
       "      <td>1.000000</td>\n",
       "      <td>2.000000</td>\n",
       "      <td>2.000000</td>\n",
       "      <td>4.000000</td>\n",
       "    </tr>\n",
       "    <tr>\n",
       "      <th>passenger_count</th>\n",
       "      <td>227708.0</td>\n",
       "      <td>1.447964</td>\n",
       "      <td>1.094511</td>\n",
       "      <td>0.000000</td>\n",
       "      <td>1.000000</td>\n",
       "      <td>1.000000</td>\n",
       "      <td>1.000000</td>\n",
       "      <td>8.000000</td>\n",
       "    </tr>\n",
       "    <tr>\n",
       "      <th>trip_distance</th>\n",
       "      <td>240182.0</td>\n",
       "      <td>4.233482</td>\n",
       "      <td>405.360034</td>\n",
       "      <td>-21.360000</td>\n",
       "      <td>1.000000</td>\n",
       "      <td>1.700000</td>\n",
       "      <td>3.190000</td>\n",
       "      <td>186510.670000</td>\n",
       "    </tr>\n",
       "    <tr>\n",
       "      <th>RatecodeID</th>\n",
       "      <td>227708.0</td>\n",
       "      <td>1.047513</td>\n",
       "      <td>0.833995</td>\n",
       "      <td>1.000000</td>\n",
       "      <td>1.000000</td>\n",
       "      <td>1.000000</td>\n",
       "      <td>1.000000</td>\n",
       "      <td>99.000000</td>\n",
       "    </tr>\n",
       "    <tr>\n",
       "      <th>PULocationID</th>\n",
       "      <td>240182.0</td>\n",
       "      <td>163.141842</td>\n",
       "      <td>67.577783</td>\n",
       "      <td>1.000000</td>\n",
       "      <td>114.000000</td>\n",
       "      <td>162.000000</td>\n",
       "      <td>234.000000</td>\n",
       "      <td>265.000000</td>\n",
       "    </tr>\n",
       "    <tr>\n",
       "      <th>DOLocationID</th>\n",
       "      <td>240182.0</td>\n",
       "      <td>160.037318</td>\n",
       "      <td>71.800957</td>\n",
       "      <td>1.000000</td>\n",
       "      <td>107.000000</td>\n",
       "      <td>161.000000</td>\n",
       "      <td>234.000000</td>\n",
       "      <td>265.000000</td>\n",
       "    </tr>\n",
       "    <tr>\n",
       "      <th>payment_type</th>\n",
       "      <td>227708.0</td>\n",
       "      <td>1.297131</td>\n",
       "      <td>0.498076</td>\n",
       "      <td>1.000000</td>\n",
       "      <td>1.000000</td>\n",
       "      <td>1.000000</td>\n",
       "      <td>2.000000</td>\n",
       "      <td>4.000000</td>\n",
       "    </tr>\n",
       "    <tr>\n",
       "      <th>fare_amount</th>\n",
       "      <td>240182.0</td>\n",
       "      <td>12.872596</td>\n",
       "      <td>11.938666</td>\n",
       "      <td>-145.000000</td>\n",
       "      <td>6.500000</td>\n",
       "      <td>9.000000</td>\n",
       "      <td>14.500000</td>\n",
       "      <td>563.790000</td>\n",
       "    </tr>\n",
       "    <tr>\n",
       "      <th>extra</th>\n",
       "      <td>240182.0</td>\n",
       "      <td>1.041284</td>\n",
       "      <td>1.255397</td>\n",
       "      <td>-4.500000</td>\n",
       "      <td>0.000000</td>\n",
       "      <td>0.500000</td>\n",
       "      <td>2.500000</td>\n",
       "      <td>87.560000</td>\n",
       "    </tr>\n",
       "    <tr>\n",
       "      <th>mta_tax</th>\n",
       "      <td>240182.0</td>\n",
       "      <td>0.492218</td>\n",
       "      <td>0.076836</td>\n",
       "      <td>-0.500000</td>\n",
       "      <td>0.500000</td>\n",
       "      <td>0.500000</td>\n",
       "      <td>0.500000</td>\n",
       "      <td>0.500000</td>\n",
       "    </tr>\n",
       "    <tr>\n",
       "      <th>tip_amount</th>\n",
       "      <td>240182.0</td>\n",
       "      <td>2.030332</td>\n",
       "      <td>2.560653</td>\n",
       "      <td>-3.580000</td>\n",
       "      <td>0.000000</td>\n",
       "      <td>1.860000</td>\n",
       "      <td>2.760000</td>\n",
       "      <td>200.060000</td>\n",
       "    </tr>\n",
       "    <tr>\n",
       "      <th>tolls_amount</th>\n",
       "      <td>240182.0</td>\n",
       "      <td>0.321488</td>\n",
       "      <td>1.592241</td>\n",
       "      <td>-11.120000</td>\n",
       "      <td>0.000000</td>\n",
       "      <td>0.000000</td>\n",
       "      <td>0.000000</td>\n",
       "      <td>122.000000</td>\n",
       "    </tr>\n",
       "    <tr>\n",
       "      <th>improvement_surcharge</th>\n",
       "      <td>240182.0</td>\n",
       "      <td>0.297273</td>\n",
       "      <td>0.039544</td>\n",
       "      <td>-0.300000</td>\n",
       "      <td>0.300000</td>\n",
       "      <td>0.300000</td>\n",
       "      <td>0.300000</td>\n",
       "      <td>0.300000</td>\n",
       "    </tr>\n",
       "    <tr>\n",
       "      <th>total_amount</th>\n",
       "      <td>240182.0</td>\n",
       "      <td>18.507405</td>\n",
       "      <td>14.028351</td>\n",
       "      <td>-145.300000</td>\n",
       "      <td>11.150000</td>\n",
       "      <td>14.300000</td>\n",
       "      <td>20.300000</td>\n",
       "      <td>563.790000</td>\n",
       "    </tr>\n",
       "    <tr>\n",
       "      <th>congestion_surcharge</th>\n",
       "      <td>240182.0</td>\n",
       "      <td>2.159976</td>\n",
       "      <td>0.880414</td>\n",
       "      <td>-2.500000</td>\n",
       "      <td>2.500000</td>\n",
       "      <td>2.500000</td>\n",
       "      <td>2.500000</td>\n",
       "      <td>2.500000</td>\n",
       "    </tr>\n",
       "    <tr>\n",
       "      <th>PU_latitude</th>\n",
       "      <td>237553.0</td>\n",
       "      <td>40.832614</td>\n",
       "      <td>0.472021</td>\n",
       "      <td>40.508475</td>\n",
       "      <td>40.739713</td>\n",
       "      <td>40.759822</td>\n",
       "      <td>40.775707</td>\n",
       "      <td>44.810791</td>\n",
       "    </tr>\n",
       "    <tr>\n",
       "      <th>PU_longitude</th>\n",
       "      <td>237553.0</td>\n",
       "      <td>-74.109371</td>\n",
       "      <td>0.868372</td>\n",
       "      <td>-79.439392</td>\n",
       "      <td>-73.991420</td>\n",
       "      <td>-73.984079</td>\n",
       "      <td>-73.961511</td>\n",
       "      <td>-72.515328</td>\n",
       "    </tr>\n",
       "    <tr>\n",
       "      <th>DO_latitude</th>\n",
       "      <td>237859.0</td>\n",
       "      <td>40.832767</td>\n",
       "      <td>0.467956</td>\n",
       "      <td>40.508475</td>\n",
       "      <td>40.739546</td>\n",
       "      <td>40.759822</td>\n",
       "      <td>40.775707</td>\n",
       "      <td>44.810791</td>\n",
       "    </tr>\n",
       "    <tr>\n",
       "      <th>DO_longitude</th>\n",
       "      <td>237859.0</td>\n",
       "      <td>-74.097881</td>\n",
       "      <td>0.851996</td>\n",
       "      <td>-79.439392</td>\n",
       "      <td>-73.991420</td>\n",
       "      <td>-73.981243</td>\n",
       "      <td>-73.961511</td>\n",
       "      <td>-72.515328</td>\n",
       "    </tr>\n",
       "  </tbody>\n",
       "</table>\n",
       "</div>"
      ],
      "text/plain": [
       "                          count        mean         std         min  \\\n",
       "VendorID               227708.0    1.660210    0.473667    1.000000   \n",
       "passenger_count        227708.0    1.447964    1.094511    0.000000   \n",
       "trip_distance          240182.0    4.233482  405.360034  -21.360000   \n",
       "RatecodeID             227708.0    1.047513    0.833995    1.000000   \n",
       "PULocationID           240182.0  163.141842   67.577783    1.000000   \n",
       "DOLocationID           240182.0  160.037318   71.800957    1.000000   \n",
       "payment_type           227708.0    1.297131    0.498076    1.000000   \n",
       "fare_amount            240182.0   12.872596   11.938666 -145.000000   \n",
       "extra                  240182.0    1.041284    1.255397   -4.500000   \n",
       "mta_tax                240182.0    0.492218    0.076836   -0.500000   \n",
       "tip_amount             240182.0    2.030332    2.560653   -3.580000   \n",
       "tolls_amount           240182.0    0.321488    1.592241  -11.120000   \n",
       "improvement_surcharge  240182.0    0.297273    0.039544   -0.300000   \n",
       "total_amount           240182.0   18.507405   14.028351 -145.300000   \n",
       "congestion_surcharge   240182.0    2.159976    0.880414   -2.500000   \n",
       "PU_latitude            237553.0   40.832614    0.472021   40.508475   \n",
       "PU_longitude           237553.0  -74.109371    0.868372  -79.439392   \n",
       "DO_latitude            237859.0   40.832767    0.467956   40.508475   \n",
       "DO_longitude           237859.0  -74.097881    0.851996  -79.439392   \n",
       "\n",
       "                              25%         50%         75%            max  \n",
       "VendorID                 1.000000    2.000000    2.000000       4.000000  \n",
       "passenger_count          1.000000    1.000000    1.000000       8.000000  \n",
       "trip_distance            1.000000    1.700000    3.190000  186510.670000  \n",
       "RatecodeID               1.000000    1.000000    1.000000      99.000000  \n",
       "PULocationID           114.000000  162.000000  234.000000     265.000000  \n",
       "DOLocationID           107.000000  161.000000  234.000000     265.000000  \n",
       "payment_type             1.000000    1.000000    2.000000       4.000000  \n",
       "fare_amount              6.500000    9.000000   14.500000     563.790000  \n",
       "extra                    0.000000    0.500000    2.500000      87.560000  \n",
       "mta_tax                  0.500000    0.500000    0.500000       0.500000  \n",
       "tip_amount               0.000000    1.860000    2.760000     200.060000  \n",
       "tolls_amount             0.000000    0.000000    0.000000     122.000000  \n",
       "improvement_surcharge    0.300000    0.300000    0.300000       0.300000  \n",
       "total_amount            11.150000   14.300000   20.300000     563.790000  \n",
       "congestion_surcharge     2.500000    2.500000    2.500000       2.500000  \n",
       "PU_latitude             40.739713   40.759822   40.775707      44.810791  \n",
       "PU_longitude           -73.991420  -73.984079  -73.961511     -72.515328  \n",
       "DO_latitude             40.739546   40.759822   40.775707      44.810791  \n",
       "DO_longitude           -73.991420  -73.981243  -73.961511     -72.515328  "
      ]
     },
     "execution_count": 17,
     "metadata": {},
     "output_type": "execute_result"
    }
   ],
   "source": [
    "df.describe().transpose()"
   ]
  },
  {
   "cell_type": "raw",
   "id": "1d8e9a6d",
   "metadata": {},
   "source": [
    "### Measures of Central Tendency"
   ]
  },
  {
   "cell_type": "markdown",
   "id": "4e729554",
   "metadata": {},
   "source": [
    "- mean of values of column"
   ]
  },
  {
   "cell_type": "raw",
   "id": "e3ee8ba0",
   "metadata": {},
   "source": [
    "# df.mean()"
   ]
  },
  {
   "cell_type": "code",
   "execution_count": null,
   "id": "42fc7405",
   "metadata": {},
   "outputs": [],
   "source": []
  },
  {
   "cell_type": "markdown",
   "id": "4127cfa4",
   "metadata": {},
   "source": [
    "- median of respective columns"
   ]
  },
  {
   "cell_type": "raw",
   "id": "3ae0150d",
   "metadata": {},
   "source": [
    "df.median()"
   ]
  },
  {
   "cell_type": "code",
   "execution_count": null,
   "id": "95484ca2",
   "metadata": {},
   "outputs": [],
   "source": []
  },
  {
   "cell_type": "markdown",
   "id": "006edf1f",
   "metadata": {},
   "source": [
    "- mode of values of columns"
   ]
  },
  {
   "cell_type": "raw",
   "id": "1db53ea6",
   "metadata": {},
   "source": [
    "df.mode()"
   ]
  },
  {
   "cell_type": "code",
   "execution_count": null,
   "id": "df261824",
   "metadata": {},
   "outputs": [],
   "source": []
  },
  {
   "cell_type": "markdown",
   "id": "4eef3029",
   "metadata": {},
   "source": [
    "### to check the null values"
   ]
  },
  {
   "cell_type": "code",
   "execution_count": 18,
   "id": "8c271edc",
   "metadata": {},
   "outputs": [
    {
     "data": {
      "text/plain": [
       "VendorID                 12474\n",
       "tpep_pickup_datetime         0\n",
       "tpep_dropoff_datetime        0\n",
       "passenger_count          12474\n",
       "trip_distance                0\n",
       "RatecodeID               12474\n",
       "store_and_fwd_flag       12474\n",
       "PULocationID                 0\n",
       "DOLocationID                 0\n",
       "payment_type             12474\n",
       "fare_amount                  0\n",
       "extra                        0\n",
       "mta_tax                      0\n",
       "tip_amount                   0\n",
       "tolls_amount                 0\n",
       "improvement_surcharge        0\n",
       "total_amount                 0\n",
       "congestion_surcharge         0\n",
       "PU_zone                   2629\n",
       "PU_borough                2629\n",
       "PU_latitude               2629\n",
       "PU_longitude              2629\n",
       "DO_zone                   2323\n",
       "DO_borough                2323\n",
       "DO_latitude               2323\n",
       "DO_longitude              2323\n",
       "dtype: int64"
      ]
     },
     "execution_count": 18,
     "metadata": {},
     "output_type": "execute_result"
    }
   ],
   "source": [
    "df.isnull().sum()"
   ]
  },
  {
   "cell_type": "code",
   "execution_count": null,
   "id": "af488242",
   "metadata": {},
   "outputs": [],
   "source": []
  },
  {
   "cell_type": "markdown",
   "id": "e3f6d58c",
   "metadata": {},
   "source": [
    "### checking the missing values"
   ]
  },
  {
   "cell_type": "code",
   "execution_count": 19,
   "id": "8c329975",
   "metadata": {},
   "outputs": [
    {
     "data": {
      "text/plain": [
       "VendorID                 12474\n",
       "tpep_pickup_datetime         0\n",
       "tpep_dropoff_datetime        0\n",
       "passenger_count          12474\n",
       "trip_distance                0\n",
       "RatecodeID               12474\n",
       "store_and_fwd_flag       12474\n",
       "PULocationID                 0\n",
       "DOLocationID                 0\n",
       "payment_type             12474\n",
       "fare_amount                  0\n",
       "extra                        0\n",
       "mta_tax                      0\n",
       "tip_amount                   0\n",
       "tolls_amount                 0\n",
       "improvement_surcharge        0\n",
       "total_amount                 0\n",
       "congestion_surcharge         0\n",
       "PU_zone                   2629\n",
       "PU_borough                2629\n",
       "PU_latitude               2629\n",
       "PU_longitude              2629\n",
       "DO_zone                   2323\n",
       "DO_borough                2323\n",
       "DO_latitude               2323\n",
       "DO_longitude              2323\n",
       "dtype: int64"
      ]
     },
     "execution_count": 19,
     "metadata": {},
     "output_type": "execute_result"
    }
   ],
   "source": [
    "df.isna().sum()"
   ]
  },
  {
   "cell_type": "code",
   "execution_count": null,
   "id": "3574a360",
   "metadata": {},
   "outputs": [],
   "source": []
  },
  {
   "cell_type": "markdown",
   "id": "93794424",
   "metadata": {},
   "source": [
    "### unique elements"
   ]
  },
  {
   "cell_type": "code",
   "execution_count": 20,
   "id": "0d099de9",
   "metadata": {},
   "outputs": [
    {
     "data": {
      "text/plain": [
       "VendorID                      3\n",
       "tpep_pickup_datetime     239456\n",
       "tpep_dropoff_datetime    239435\n",
       "passenger_count               8\n",
       "trip_distance              2819\n",
       "RatecodeID                    7\n",
       "store_and_fwd_flag            2\n",
       "PULocationID                252\n",
       "DOLocationID                259\n",
       "payment_type                  4\n",
       "fare_amount                4022\n",
       "extra                        40\n",
       "mta_tax                       3\n",
       "tip_amount                 1674\n",
       "tolls_amount                194\n",
       "improvement_surcharge         3\n",
       "total_amount               5939\n",
       "congestion_surcharge          4\n",
       "PU_zone                     248\n",
       "PU_borough                    6\n",
       "PU_latitude                 249\n",
       "PU_longitude                249\n",
       "DO_zone                     255\n",
       "DO_borough                    6\n",
       "DO_latitude                 256\n",
       "DO_longitude                256\n",
       "dtype: int64"
      ]
     },
     "execution_count": 20,
     "metadata": {},
     "output_type": "execute_result"
    }
   ],
   "source": [
    "df.nunique()"
   ]
  },
  {
   "cell_type": "code",
   "execution_count": null,
   "id": "f0f5fd8e",
   "metadata": {},
   "outputs": [],
   "source": []
  },
  {
   "cell_type": "markdown",
   "id": "821608bd",
   "metadata": {},
   "source": [
    "#### Conclusion:\n",
    "\n",
    "\n",
    "- there are 3 vendors active in NYC\n",
    "- The fare_amount variable has negative value as minimum value which is unusual\n",
    "- The passenger_count variable having 0 as minimum no of passengers and maximum as 9\n",
    "- The pickup and dropoff zone's location_Id shouldn't be greter than 263"
   ]
  },
  {
   "cell_type": "code",
   "execution_count": null,
   "id": "02cac30b",
   "metadata": {},
   "outputs": [],
   "source": []
  },
  {
   "cell_type": "code",
   "execution_count": null,
   "id": "ee46eb89",
   "metadata": {},
   "outputs": [],
   "source": []
  },
  {
   "cell_type": "markdown",
   "id": "35e52307",
   "metadata": {},
   "source": [
    "# Data Cleansing"
   ]
  },
  {
   "cell_type": "code",
   "execution_count": null,
   "id": "9bd6e1bf",
   "metadata": {},
   "outputs": [],
   "source": []
  },
  {
   "cell_type": "markdown",
   "id": "34f0f7ee",
   "metadata": {},
   "source": [
    "#### analysis of records having null values\n",
    "\n",
    "- finds the null values and gives statistical analysis of the number of values ."
   ]
  },
  {
   "cell_type": "code",
   "execution_count": 21,
   "id": "f4a3f70f",
   "metadata": {},
   "outputs": [
    {
     "data": {
      "text/html": [
       "<div>\n",
       "<style scoped>\n",
       "    .dataframe tbody tr th:only-of-type {\n",
       "        vertical-align: middle;\n",
       "    }\n",
       "\n",
       "    .dataframe tbody tr th {\n",
       "        vertical-align: top;\n",
       "    }\n",
       "\n",
       "    .dataframe thead th {\n",
       "        text-align: right;\n",
       "    }\n",
       "</style>\n",
       "<table border=\"1\" class=\"dataframe\">\n",
       "  <thead>\n",
       "    <tr style=\"text-align: right;\">\n",
       "      <th></th>\n",
       "      <th>VendorID</th>\n",
       "      <th>tpep_pickup_datetime</th>\n",
       "      <th>tpep_dropoff_datetime</th>\n",
       "      <th>passenger_count</th>\n",
       "      <th>trip_distance</th>\n",
       "      <th>RatecodeID</th>\n",
       "      <th>store_and_fwd_flag</th>\n",
       "      <th>PULocationID</th>\n",
       "      <th>DOLocationID</th>\n",
       "      <th>payment_type</th>\n",
       "      <th>...</th>\n",
       "      <th>total_amount</th>\n",
       "      <th>congestion_surcharge</th>\n",
       "      <th>PU_zone</th>\n",
       "      <th>PU_borough</th>\n",
       "      <th>PU_latitude</th>\n",
       "      <th>PU_longitude</th>\n",
       "      <th>DO_zone</th>\n",
       "      <th>DO_borough</th>\n",
       "      <th>DO_latitude</th>\n",
       "      <th>DO_longitude</th>\n",
       "    </tr>\n",
       "  </thead>\n",
       "  <tbody>\n",
       "    <tr>\n",
       "      <th>count</th>\n",
       "      <td>240182</td>\n",
       "      <td>240182</td>\n",
       "      <td>240182</td>\n",
       "      <td>240182</td>\n",
       "      <td>240182</td>\n",
       "      <td>240182</td>\n",
       "      <td>240182</td>\n",
       "      <td>240182</td>\n",
       "      <td>240182</td>\n",
       "      <td>240182</td>\n",
       "      <td>...</td>\n",
       "      <td>240182</td>\n",
       "      <td>240182</td>\n",
       "      <td>240182</td>\n",
       "      <td>240182</td>\n",
       "      <td>240182</td>\n",
       "      <td>240182</td>\n",
       "      <td>240182</td>\n",
       "      <td>240182</td>\n",
       "      <td>240182</td>\n",
       "      <td>240182</td>\n",
       "    </tr>\n",
       "    <tr>\n",
       "      <th>unique</th>\n",
       "      <td>2</td>\n",
       "      <td>1</td>\n",
       "      <td>1</td>\n",
       "      <td>2</td>\n",
       "      <td>1</td>\n",
       "      <td>2</td>\n",
       "      <td>2</td>\n",
       "      <td>1</td>\n",
       "      <td>1</td>\n",
       "      <td>2</td>\n",
       "      <td>...</td>\n",
       "      <td>1</td>\n",
       "      <td>1</td>\n",
       "      <td>2</td>\n",
       "      <td>2</td>\n",
       "      <td>2</td>\n",
       "      <td>2</td>\n",
       "      <td>2</td>\n",
       "      <td>2</td>\n",
       "      <td>2</td>\n",
       "      <td>2</td>\n",
       "    </tr>\n",
       "    <tr>\n",
       "      <th>top</th>\n",
       "      <td>False</td>\n",
       "      <td>False</td>\n",
       "      <td>False</td>\n",
       "      <td>False</td>\n",
       "      <td>False</td>\n",
       "      <td>False</td>\n",
       "      <td>False</td>\n",
       "      <td>False</td>\n",
       "      <td>False</td>\n",
       "      <td>False</td>\n",
       "      <td>...</td>\n",
       "      <td>False</td>\n",
       "      <td>False</td>\n",
       "      <td>False</td>\n",
       "      <td>False</td>\n",
       "      <td>False</td>\n",
       "      <td>False</td>\n",
       "      <td>False</td>\n",
       "      <td>False</td>\n",
       "      <td>False</td>\n",
       "      <td>False</td>\n",
       "    </tr>\n",
       "    <tr>\n",
       "      <th>freq</th>\n",
       "      <td>227708</td>\n",
       "      <td>240182</td>\n",
       "      <td>240182</td>\n",
       "      <td>227708</td>\n",
       "      <td>240182</td>\n",
       "      <td>227708</td>\n",
       "      <td>227708</td>\n",
       "      <td>240182</td>\n",
       "      <td>240182</td>\n",
       "      <td>227708</td>\n",
       "      <td>...</td>\n",
       "      <td>240182</td>\n",
       "      <td>240182</td>\n",
       "      <td>237553</td>\n",
       "      <td>237553</td>\n",
       "      <td>237553</td>\n",
       "      <td>237553</td>\n",
       "      <td>237859</td>\n",
       "      <td>237859</td>\n",
       "      <td>237859</td>\n",
       "      <td>237859</td>\n",
       "    </tr>\n",
       "  </tbody>\n",
       "</table>\n",
       "<p>4 rows × 26 columns</p>\n",
       "</div>"
      ],
      "text/plain": [
       "       VendorID tpep_pickup_datetime tpep_dropoff_datetime passenger_count  \\\n",
       "count    240182               240182                240182          240182   \n",
       "unique        2                    1                     1               2   \n",
       "top       False                False                 False           False   \n",
       "freq     227708               240182                240182          227708   \n",
       "\n",
       "       trip_distance RatecodeID store_and_fwd_flag PULocationID DOLocationID  \\\n",
       "count         240182     240182             240182       240182       240182   \n",
       "unique             1          2                  2            1            1   \n",
       "top            False      False              False        False        False   \n",
       "freq          240182     227708             227708       240182       240182   \n",
       "\n",
       "       payment_type  ... total_amount congestion_surcharge PU_zone PU_borough  \\\n",
       "count        240182  ...       240182               240182  240182     240182   \n",
       "unique            2  ...            1                    1       2          2   \n",
       "top           False  ...        False                False   False      False   \n",
       "freq         227708  ...       240182               240182  237553     237553   \n",
       "\n",
       "       PU_latitude PU_longitude DO_zone DO_borough DO_latitude DO_longitude  \n",
       "count       240182       240182  240182     240182      240182       240182  \n",
       "unique           2            2       2          2           2            2  \n",
       "top          False        False   False      False       False        False  \n",
       "freq        237553       237553  237859     237859      237859       237859  \n",
       "\n",
       "[4 rows x 26 columns]"
      ]
     },
     "execution_count": 21,
     "metadata": {},
     "output_type": "execute_result"
    }
   ],
   "source": [
    "ndf=df.isnull()\n",
    "ndf.describe()"
   ]
  },
  {
   "cell_type": "code",
   "execution_count": null,
   "id": "0e6e5465",
   "metadata": {},
   "outputs": [],
   "source": []
  },
  {
   "cell_type": "markdown",
   "id": "66661466",
   "metadata": {},
   "source": [
    "### cleansing the data"
   ]
  },
  {
   "cell_type": "markdown",
   "id": "f735097b",
   "metadata": {},
   "source": [
    "- count of null values"
   ]
  },
  {
   "cell_type": "code",
   "execution_count": 22,
   "id": "3a5094ec",
   "metadata": {},
   "outputs": [
    {
     "data": {
      "text/plain": [
       "VendorID                 12474\n",
       "tpep_pickup_datetime         0\n",
       "tpep_dropoff_datetime        0\n",
       "passenger_count          12474\n",
       "trip_distance                0\n",
       "RatecodeID               12474\n",
       "store_and_fwd_flag       12474\n",
       "PULocationID                 0\n",
       "DOLocationID                 0\n",
       "payment_type             12474\n",
       "fare_amount                  0\n",
       "extra                        0\n",
       "mta_tax                      0\n",
       "tip_amount                   0\n",
       "tolls_amount                 0\n",
       "improvement_surcharge        0\n",
       "total_amount                 0\n",
       "congestion_surcharge         0\n",
       "PU_zone                   2629\n",
       "PU_borough                2629\n",
       "PU_latitude               2629\n",
       "PU_longitude              2629\n",
       "DO_zone                   2323\n",
       "DO_borough                2323\n",
       "DO_latitude               2323\n",
       "DO_longitude              2323\n",
       "dtype: int64"
      ]
     },
     "execution_count": 22,
     "metadata": {},
     "output_type": "execute_result"
    }
   ],
   "source": [
    "df.isna().sum()"
   ]
  },
  {
   "cell_type": "markdown",
   "id": "5f48fc44",
   "metadata": {},
   "source": []
  },
  {
   "cell_type": "code",
   "execution_count": 23,
   "id": "51e8f024",
   "metadata": {},
   "outputs": [],
   "source": [
    "# df = df.replace('0', np.nan)"
   ]
  },
  {
   "cell_type": "code",
   "execution_count": null,
   "id": "5eb93e74",
   "metadata": {},
   "outputs": [],
   "source": []
  },
  {
   "cell_type": "markdown",
   "id": "a3845143",
   "metadata": {},
   "source": [
    "- drop the null values"
   ]
  },
  {
   "cell_type": "code",
   "execution_count": 24,
   "id": "ee97f17b",
   "metadata": {},
   "outputs": [],
   "source": [
    "df=df.dropna()"
   ]
  },
  {
   "cell_type": "code",
   "execution_count": 25,
   "id": "02344f6c",
   "metadata": {},
   "outputs": [
    {
     "data": {
      "text/plain": [
       "VendorID                 0\n",
       "tpep_pickup_datetime     0\n",
       "tpep_dropoff_datetime    0\n",
       "passenger_count          0\n",
       "trip_distance            0\n",
       "RatecodeID               0\n",
       "store_and_fwd_flag       0\n",
       "PULocationID             0\n",
       "DOLocationID             0\n",
       "payment_type             0\n",
       "fare_amount              0\n",
       "extra                    0\n",
       "mta_tax                  0\n",
       "tip_amount               0\n",
       "tolls_amount             0\n",
       "improvement_surcharge    0\n",
       "total_amount             0\n",
       "congestion_surcharge     0\n",
       "PU_zone                  0\n",
       "PU_borough               0\n",
       "PU_latitude              0\n",
       "PU_longitude             0\n",
       "DO_zone                  0\n",
       "DO_borough               0\n",
       "DO_latitude              0\n",
       "DO_longitude             0\n",
       "dtype: int64"
      ]
     },
     "execution_count": 25,
     "metadata": {},
     "output_type": "execute_result"
    }
   ],
   "source": [
    "df.isna().sum()"
   ]
  },
  {
   "cell_type": "markdown",
   "id": "5a5f828b",
   "metadata": {},
   "source": [
    "- statistical description after removing the null values"
   ]
  },
  {
   "cell_type": "code",
   "execution_count": 26,
   "id": "73f8faea",
   "metadata": {},
   "outputs": [
    {
     "name": "stdout",
     "output_type": "stream",
     "text": [
      "<class 'pandas.core.frame.DataFrame'>\n",
      "Int64Index: 224822 entries, 49247 to 574051\n",
      "Data columns (total 26 columns):\n",
      " #   Column                 Non-Null Count   Dtype  \n",
      "---  ------                 --------------   -----  \n",
      " 0   VendorID               224822 non-null  float64\n",
      " 1   tpep_pickup_datetime   224822 non-null  object \n",
      " 2   tpep_dropoff_datetime  224822 non-null  object \n",
      " 3   passenger_count        224822 non-null  float64\n",
      " 4   trip_distance          224822 non-null  float64\n",
      " 5   RatecodeID             224822 non-null  float64\n",
      " 6   store_and_fwd_flag     224822 non-null  object \n",
      " 7   PULocationID           224822 non-null  int64  \n",
      " 8   DOLocationID           224822 non-null  int64  \n",
      " 9   payment_type           224822 non-null  float64\n",
      " 10  fare_amount            224822 non-null  float64\n",
      " 11  extra                  224822 non-null  float64\n",
      " 12  mta_tax                224822 non-null  float64\n",
      " 13  tip_amount             224822 non-null  float64\n",
      " 14  tolls_amount           224822 non-null  float64\n",
      " 15  improvement_surcharge  224822 non-null  float64\n",
      " 16  total_amount           224822 non-null  float64\n",
      " 17  congestion_surcharge   224822 non-null  float64\n",
      " 18  PU_zone                224822 non-null  object \n",
      " 19  PU_borough             224822 non-null  object \n",
      " 20  PU_latitude            224822 non-null  float64\n",
      " 21  PU_longitude           224822 non-null  float64\n",
      " 22  DO_zone                224822 non-null  object \n",
      " 23  DO_borough             224822 non-null  object \n",
      " 24  DO_latitude            224822 non-null  float64\n",
      " 25  DO_longitude           224822 non-null  float64\n",
      "dtypes: float64(17), int64(2), object(7)\n",
      "memory usage: 46.3+ MB\n"
     ]
    }
   ],
   "source": [
    "df.info()"
   ]
  },
  {
   "cell_type": "code",
   "execution_count": null,
   "id": "c09418ff",
   "metadata": {},
   "outputs": [],
   "source": []
  },
  {
   "cell_type": "code",
   "execution_count": null,
   "id": "dab45688",
   "metadata": {},
   "outputs": [],
   "source": []
  },
  {
   "cell_type": "markdown",
   "id": "ae234f7e",
   "metadata": {},
   "source": [
    "# Data Preprocessing"
   ]
  },
  {
   "cell_type": "code",
   "execution_count": null,
   "id": "bcc4478b",
   "metadata": {},
   "outputs": [],
   "source": []
  },
  {
   "cell_type": "markdown",
   "id": "712aeabb",
   "metadata": {},
   "source": [
    "#### renaming the columns names"
   ]
  },
  {
   "cell_type": "code",
   "execution_count": 27,
   "id": "92a288b7",
   "metadata": {},
   "outputs": [
    {
     "data": {
      "text/plain": [
       "Index(['VendorID', 'tpep_pickup_datetime', 'tpep_dropoff_datetime',\n",
       "       'passenger_count', 'trip_distance', 'RatecodeID', 'store_and_fwd_flag',\n",
       "       'PULocationID', 'DOLocationID', 'payment_type', 'fare_amount', 'extra',\n",
       "       'mta_tax', 'tip_amount', 'tolls_amount', 'improvement_surcharge',\n",
       "       'total_amount', 'congestion_surcharge', 'PU_zone', 'PU_borough',\n",
       "       'PU_latitude', 'PU_longitude', 'DO_zone', 'DO_borough', 'DO_latitude',\n",
       "       'DO_longitude'],\n",
       "      dtype='object')"
      ]
     },
     "execution_count": 27,
     "metadata": {},
     "output_type": "execute_result"
    }
   ],
   "source": [
    "df.columns"
   ]
  },
  {
   "cell_type": "code",
   "execution_count": 28,
   "id": "c3733512",
   "metadata": {},
   "outputs": [
    {
     "data": {
      "text/html": [
       "<div>\n",
       "<style scoped>\n",
       "    .dataframe tbody tr th:only-of-type {\n",
       "        vertical-align: middle;\n",
       "    }\n",
       "\n",
       "    .dataframe tbody tr th {\n",
       "        vertical-align: top;\n",
       "    }\n",
       "\n",
       "    .dataframe thead th {\n",
       "        text-align: right;\n",
       "    }\n",
       "</style>\n",
       "<table border=\"1\" class=\"dataframe\">\n",
       "  <thead>\n",
       "    <tr style=\"text-align: right;\">\n",
       "      <th></th>\n",
       "      <th>VendorID</th>\n",
       "      <th>pickup_datetime</th>\n",
       "      <th>dropoff_datetime</th>\n",
       "      <th>passenger_count</th>\n",
       "      <th>trip_distance</th>\n",
       "      <th>RatecodeID</th>\n",
       "      <th>store_and_fwd_flag</th>\n",
       "      <th>PULocationID</th>\n",
       "      <th>DOLocationID</th>\n",
       "      <th>payment_type</th>\n",
       "      <th>...</th>\n",
       "      <th>total_amount</th>\n",
       "      <th>congestion_surcharge</th>\n",
       "      <th>PU_zone</th>\n",
       "      <th>PU_borough</th>\n",
       "      <th>pickup_latitude</th>\n",
       "      <th>pickup_longitude</th>\n",
       "      <th>DO_zone</th>\n",
       "      <th>DO_borough</th>\n",
       "      <th>dropoff_latitude</th>\n",
       "      <th>dropoff_longitude</th>\n",
       "    </tr>\n",
       "  </thead>\n",
       "  <tbody>\n",
       "    <tr>\n",
       "      <th>49247</th>\n",
       "      <td>2.0</td>\n",
       "      <td>2020-01-25 11:48:29</td>\n",
       "      <td>2020-01-25 12:08:17</td>\n",
       "      <td>1.0</td>\n",
       "      <td>2.43</td>\n",
       "      <td>1.0</td>\n",
       "      <td>N</td>\n",
       "      <td>164</td>\n",
       "      <td>158</td>\n",
       "      <td>1.0</td>\n",
       "      <td>...</td>\n",
       "      <td>20.16</td>\n",
       "      <td>2.5</td>\n",
       "      <td>Midtown South</td>\n",
       "      <td>Manhattan</td>\n",
       "      <td>40.749842</td>\n",
       "      <td>-73.984251</td>\n",
       "      <td>Meatpacking/West Village West</td>\n",
       "      <td>Manhattan</td>\n",
       "      <td>40.739713</td>\n",
       "      <td>-74.009671</td>\n",
       "    </tr>\n",
       "    <tr>\n",
       "      <th>944176</th>\n",
       "      <td>2.0</td>\n",
       "      <td>2021-07-30 01:16:24</td>\n",
       "      <td>2021-07-30 01:24:19</td>\n",
       "      <td>3.0</td>\n",
       "      <td>2.58</td>\n",
       "      <td>1.0</td>\n",
       "      <td>N</td>\n",
       "      <td>114</td>\n",
       "      <td>233</td>\n",
       "      <td>2.0</td>\n",
       "      <td>...</td>\n",
       "      <td>12.80</td>\n",
       "      <td>2.5</td>\n",
       "      <td>Greenwich Village South</td>\n",
       "      <td>Manhattan</td>\n",
       "      <td>40.733584</td>\n",
       "      <td>-74.002817</td>\n",
       "      <td>UN/Turtle Bay South</td>\n",
       "      <td>Manhattan</td>\n",
       "      <td>40.760680</td>\n",
       "      <td>-73.966561</td>\n",
       "    </tr>\n",
       "    <tr>\n",
       "      <th>882776</th>\n",
       "      <td>2.0</td>\n",
       "      <td>2021-06-07 12:07:06</td>\n",
       "      <td>2021-06-07 12:19:25</td>\n",
       "      <td>1.0</td>\n",
       "      <td>2.05</td>\n",
       "      <td>1.0</td>\n",
       "      <td>N</td>\n",
       "      <td>236</td>\n",
       "      <td>163</td>\n",
       "      <td>1.0</td>\n",
       "      <td>...</td>\n",
       "      <td>16.56</td>\n",
       "      <td>2.5</td>\n",
       "      <td>Upper East Side North</td>\n",
       "      <td>Manhattan</td>\n",
       "      <td>40.764873</td>\n",
       "      <td>-73.961511</td>\n",
       "      <td>Midtown North</td>\n",
       "      <td>Manhattan</td>\n",
       "      <td>40.765203</td>\n",
       "      <td>-73.985104</td>\n",
       "    </tr>\n",
       "    <tr>\n",
       "      <th>175638</th>\n",
       "      <td>2.0</td>\n",
       "      <td>2020-04-20 15:41:12</td>\n",
       "      <td>2020-04-20 15:48:33</td>\n",
       "      <td>1.0</td>\n",
       "      <td>1.95</td>\n",
       "      <td>1.0</td>\n",
       "      <td>N</td>\n",
       "      <td>229</td>\n",
       "      <td>107</td>\n",
       "      <td>1.0</td>\n",
       "      <td>...</td>\n",
       "      <td>13.56</td>\n",
       "      <td>2.5</td>\n",
       "      <td>Sutton Place/Turtle Bay North</td>\n",
       "      <td>Manhattan</td>\n",
       "      <td>40.757651</td>\n",
       "      <td>-73.961670</td>\n",
       "      <td>Gramercy</td>\n",
       "      <td>Manhattan</td>\n",
       "      <td>40.735519</td>\n",
       "      <td>-73.984079</td>\n",
       "    </tr>\n",
       "    <tr>\n",
       "      <th>470222</th>\n",
       "      <td>2.0</td>\n",
       "      <td>2020-10-22 21:01:03</td>\n",
       "      <td>2020-10-23 20:17:20</td>\n",
       "      <td>1.0</td>\n",
       "      <td>3.92</td>\n",
       "      <td>1.0</td>\n",
       "      <td>N</td>\n",
       "      <td>186</td>\n",
       "      <td>238</td>\n",
       "      <td>2.0</td>\n",
       "      <td>...</td>\n",
       "      <td>17.80</td>\n",
       "      <td>2.5</td>\n",
       "      <td>Penn Station/Madison Sq West</td>\n",
       "      <td>Manhattan</td>\n",
       "      <td>40.750643</td>\n",
       "      <td>-73.993353</td>\n",
       "      <td>Upper West Side North</td>\n",
       "      <td>Manhattan</td>\n",
       "      <td>40.781960</td>\n",
       "      <td>-73.981243</td>\n",
       "    </tr>\n",
       "  </tbody>\n",
       "</table>\n",
       "<p>5 rows × 26 columns</p>\n",
       "</div>"
      ],
      "text/plain": [
       "        VendorID      pickup_datetime     dropoff_datetime  passenger_count  \\\n",
       "49247        2.0  2020-01-25 11:48:29  2020-01-25 12:08:17              1.0   \n",
       "944176       2.0  2021-07-30 01:16:24  2021-07-30 01:24:19              3.0   \n",
       "882776       2.0  2021-06-07 12:07:06  2021-06-07 12:19:25              1.0   \n",
       "175638       2.0  2020-04-20 15:41:12  2020-04-20 15:48:33              1.0   \n",
       "470222       2.0  2020-10-22 21:01:03  2020-10-23 20:17:20              1.0   \n",
       "\n",
       "        trip_distance  RatecodeID store_and_fwd_flag  PULocationID  \\\n",
       "49247            2.43         1.0                  N           164   \n",
       "944176           2.58         1.0                  N           114   \n",
       "882776           2.05         1.0                  N           236   \n",
       "175638           1.95         1.0                  N           229   \n",
       "470222           3.92         1.0                  N           186   \n",
       "\n",
       "        DOLocationID  payment_type  ...  total_amount  congestion_surcharge  \\\n",
       "49247            158           1.0  ...         20.16                   2.5   \n",
       "944176           233           2.0  ...         12.80                   2.5   \n",
       "882776           163           1.0  ...         16.56                   2.5   \n",
       "175638           107           1.0  ...         13.56                   2.5   \n",
       "470222           238           2.0  ...         17.80                   2.5   \n",
       "\n",
       "                              PU_zone  PU_borough  pickup_latitude  \\\n",
       "49247                   Midtown South   Manhattan        40.749842   \n",
       "944176        Greenwich Village South   Manhattan        40.733584   \n",
       "882776          Upper East Side North   Manhattan        40.764873   \n",
       "175638  Sutton Place/Turtle Bay North   Manhattan        40.757651   \n",
       "470222   Penn Station/Madison Sq West   Manhattan        40.750643   \n",
       "\n",
       "        pickup_longitude                        DO_zone  DO_borough  \\\n",
       "49247         -73.984251  Meatpacking/West Village West   Manhattan   \n",
       "944176        -74.002817            UN/Turtle Bay South   Manhattan   \n",
       "882776        -73.961511                  Midtown North   Manhattan   \n",
       "175638        -73.961670                       Gramercy   Manhattan   \n",
       "470222        -73.993353          Upper West Side North   Manhattan   \n",
       "\n",
       "       dropoff_latitude dropoff_longitude  \n",
       "49247         40.739713        -74.009671  \n",
       "944176        40.760680        -73.966561  \n",
       "882776        40.765203        -73.985104  \n",
       "175638        40.735519        -73.984079  \n",
       "470222        40.781960        -73.981243  \n",
       "\n",
       "[5 rows x 26 columns]"
      ]
     },
     "execution_count": 28,
     "metadata": {},
     "output_type": "execute_result"
    }
   ],
   "source": [
    "df = df.rename(columns={\"PU_latitude\":\"pickup_latitude\", \"PU_longitude\":\"pickup_longitude\", \"DO_latitude\":\"dropoff_latitude\", \"DO_longitude\":\"dropoff_longitude\", \"tpep_pickup_datetime\":\"pickup_datetime\", \"tpep_dropoff_datetime\":\"dropoff_datetime\"})\n",
    "df.head()"
   ]
  },
  {
   "cell_type": "code",
   "execution_count": null,
   "id": "1bb3db76",
   "metadata": {},
   "outputs": [],
   "source": []
  },
  {
   "cell_type": "markdown",
   "id": "f446831f",
   "metadata": {},
   "source": [
    "#### remove the locations outside the New York City"
   ]
  },
  {
   "cell_type": "markdown",
   "id": "9ad1df37",
   "metadata": {},
   "source": [
    "- minimum and maximum latitude and longitude of NYC"
   ]
  },
  {
   "cell_type": "code",
   "execution_count": 29,
   "id": "8e20a850",
   "metadata": {},
   "outputs": [
    {
     "name": "stdout",
     "output_type": "stream",
     "text": [
      "-72.515328 -79.439392\n",
      "44.8107911 40.50847483\n",
      "-72.515328 -79.439392\n",
      "44.8107911 40.50847483\n"
     ]
    }
   ],
   "source": [
    "def min_max():\n",
    "    print(df['pickup_longitude'].max(),df['pickup_longitude'].min())\n",
    "    print(df['pickup_latitude'].max(),df['pickup_latitude'].min())\n",
    "\n",
    "    print(df['dropoff_longitude'].max(),df['dropoff_longitude'].min())\n",
    "    print(df['dropoff_latitude'].max(),df['dropoff_latitude'].min())\n",
    "min_max()"
   ]
  },
  {
   "cell_type": "markdown",
   "id": "0b7d4e5c",
   "metadata": {},
   "source": [
    "- remove where pickup and drop location are same"
   ]
  },
  {
   "cell_type": "code",
   "execution_count": 30,
   "id": "970ada31",
   "metadata": {},
   "outputs": [
    {
     "name": "stdout",
     "output_type": "stream",
     "text": [
      "(13296, 26)\n"
     ]
    }
   ],
   "source": [
    "print(df[(df['pickup_longitude']==df['dropoff_longitude']) & (df['pickup_latitude']==df['dropoff_latitude'])].shape)\n",
    "df=df[~((df['pickup_longitude']==df['dropoff_longitude']) & (df['pickup_latitude']==df['dropoff_latitude']))]"
   ]
  },
  {
   "cell_type": "markdown",
   "id": "eade43b7",
   "metadata": {},
   "source": [
    "- shape of data frame "
   ]
  },
  {
   "cell_type": "code",
   "execution_count": 31,
   "id": "606d3590",
   "metadata": {},
   "outputs": [
    {
     "data": {
      "text/plain": [
       "(211526, 26)"
      ]
     },
     "execution_count": 31,
     "metadata": {},
     "output_type": "execute_result"
    }
   ],
   "source": [
    "df.shape"
   ]
  },
  {
   "cell_type": "markdown",
   "id": "a2963074",
   "metadata": {},
   "source": [
    "- boundary for new york latitude longitude..."
   ]
  },
  {
   "cell_type": "code",
   "execution_count": 32,
   "id": "b9cae149",
   "metadata": {},
   "outputs": [],
   "source": [
    "boundary={\"min_lat\":40.573143,\n",
    "         \"min_lang\":-74.252193,\n",
    "         \"max_lat\":41.709555,\n",
    "         \"max_lang\":-72.986532}"
   ]
  },
  {
   "cell_type": "markdown",
   "id": "aee40cbe",
   "metadata": {},
   "source": [
    "- count of locations outside the new york city"
   ]
  },
  {
   "cell_type": "code",
   "execution_count": 33,
   "id": "2b5a3107",
   "metadata": {},
   "outputs": [
    {
     "name": "stdout",
     "output_type": "stream",
     "text": [
      "5670\n",
      "6015\n",
      "5802\n",
      "6752\n"
     ]
    }
   ],
   "source": [
    "print(df[(df['pickup_latitude']<=boundary['min_lat']) | (df['pickup_latitude']>=boundary['max_lat'])].shape[0])\n",
    "print(df[(df['pickup_longitude']<=boundary['min_lang']) | (df['pickup_longitude']>=boundary['max_lang'])].shape[0])\n",
    "print(df[(df['dropoff_latitude']<=boundary['min_lat']) | (df['dropoff_latitude']>=boundary['max_lat'])].shape[0])\n",
    "print(df[(df['dropoff_longitude']<=boundary['min_lang']) | (df['dropoff_longitude']>=boundary['max_lang'])].shape[0])"
   ]
  },
  {
   "cell_type": "markdown",
   "id": "8845c4db",
   "metadata": {},
   "source": [
    "- removing the locations which are outside the boundaries"
   ]
  },
  {
   "cell_type": "code",
   "execution_count": 34,
   "id": "29dd7336",
   "metadata": {},
   "outputs": [
    {
     "data": {
      "text/plain": [
       "(198455, 26)"
      ]
     },
     "execution_count": 34,
     "metadata": {},
     "output_type": "execute_result"
    }
   ],
   "source": [
    "df=df[~((df['pickup_latitude']<=boundary['min_lat']) | (df['pickup_latitude']>=boundary['max_lat']))]\n",
    "df=df[~((df['pickup_longitude']<=boundary['min_lang']) | (df['pickup_longitude']>=boundary['max_lang']))]\n",
    "\n",
    "df=df[~((df['dropoff_latitude']<=boundary['min_lat']) | (df['dropoff_latitude']>=boundary['max_lat']))]\n",
    "df=df[~((df['dropoff_longitude']<=boundary['min_lang']) | (df['dropoff_longitude']>=boundary['max_lang']))]\n",
    "\n",
    "df.shape"
   ]
  },
  {
   "cell_type": "code",
   "execution_count": null,
   "id": "16c6cd12",
   "metadata": {},
   "outputs": [],
   "source": []
  },
  {
   "cell_type": "markdown",
   "id": "ac274e8e",
   "metadata": {},
   "source": [
    "### plotting the pickup latitude and pickup longitude"
   ]
  },
  {
   "cell_type": "code",
   "execution_count": 35,
   "id": "c7862435",
   "metadata": {},
   "outputs": [
    {
     "data": {
      "image/png": "[encoded data removed]",
      "text/plain": [
       "<Figure size 432x288 with 1 Axes>"
      ]
     },
     "metadata": {
      "needs_background": "light"
     },
     "output_type": "display_data"
    }
   ],
   "source": [
    "df.plot(y='pickup_latitude',x='pickup_longitude',kind=\"scatter\",alpha=0.7,s=0.02)\n",
    "\n",
    "city_long_border = (-74.03, -73.75)\n",
    "city_lat_border = (40.63, 40.85)\n",
    "plt.title(\"Pickups Data\")\n",
    "\n",
    "plt.ylim(city_lat_border)\n",
    "plt.xlim(city_long_border)\n",
    "plt.show()"
   ]
  },
  {
   "cell_type": "code",
   "execution_count": null,
   "id": "1f62d2a7",
   "metadata": {},
   "outputs": [],
   "source": []
  },
  {
   "cell_type": "markdown",
   "id": "baa6a787",
   "metadata": {},
   "source": [
    "### plot of dropoff latitude and dropoff longitude"
   ]
  },
  {
   "cell_type": "code",
   "execution_count": 36,
   "id": "a15956ac",
   "metadata": {},
   "outputs": [
    {
     "data": {
      "image/png": "[encoded data removed]",
      "text/plain": [
       "<Figure size 432x288 with 1 Axes>"
      ]
     },
     "metadata": {
      "needs_background": "light"
     },
     "output_type": "display_data"
    }
   ],
   "source": [
    "df.plot(y='dropoff_latitude',x='dropoff_longitude',kind=\"scatter\",alpha=0.5,s=0.02)\n",
    "city_long_border = (-74.03, -73.75)\n",
    "city_lat_border = (40.63, 40.85)\n",
    "plt.title(\"Dropoff Data\")\n",
    "\n",
    "plt.ylim(city_lat_border)\n",
    "plt.xlim(city_long_border)\n",
    "plt.show()"
   ]
  },
  {
   "cell_type": "code",
   "execution_count": null,
   "id": "16cebeb3",
   "metadata": {},
   "outputs": [],
   "source": []
  },
  {
   "cell_type": "markdown",
   "id": "6b974a10",
   "metadata": {},
   "source": [
    "### Passengers Count Data"
   ]
  },
  {
   "cell_type": "markdown",
   "id": "f6c4b48a",
   "metadata": {},
   "source": [
    "- max and min count of passengers"
   ]
  },
  {
   "cell_type": "code",
   "execution_count": 37,
   "id": "d4dd523d",
   "metadata": {
    "scrolled": true
   },
   "outputs": [
    {
     "name": "stdout",
     "output_type": "stream",
     "text": [
      "8\n",
      "0\n"
     ]
    }
   ],
   "source": [
    "df['passenger_count']=df['passenger_count'].astype(int)\n",
    "print(df['passenger_count'].max())\n",
    "print(df['passenger_count'].min())"
   ]
  },
  {
   "cell_type": "code",
   "execution_count": 38,
   "id": "15bacff0",
   "metadata": {},
   "outputs": [
    {
     "data": {
      "text/plain": [
       "1    146548\n",
       "2     27694\n",
       "3      7117\n",
       "5      5777\n",
       "0      4301\n",
       "6      3984\n",
       "4      3033\n",
       "8         1\n",
       "Name: passenger_count, dtype: int64"
      ]
     },
     "execution_count": 38,
     "metadata": {},
     "output_type": "execute_result"
    }
   ],
   "source": [
    "df.passenger_count.value_counts()"
   ]
  },
  {
   "cell_type": "code",
   "execution_count": 39,
   "id": "23ac38bd",
   "metadata": {},
   "outputs": [
    {
     "data": {
      "text/plain": [
       "<AxesSubplot:xlabel='count', ylabel='passenger_count'>"
      ]
     },
     "execution_count": 39,
     "metadata": {},
     "output_type": "execute_result"
    },
    {
     "data": {
      "image/png": "[encoded data removed]",
      "text/plain": [
       "<Figure size 432x288 with 1 Axes>"
      ]
     },
     "metadata": {
      "needs_background": "light"
     },
     "output_type": "display_data"
    }
   ],
   "source": [
    "sns.countplot(y='passenger_count',data=df)"
   ]
  },
  {
   "cell_type": "markdown",
   "id": "d76acc9a",
   "metadata": {},
   "source": [
    "- removing records with passengers more than 6"
   ]
  },
  {
   "cell_type": "code",
   "execution_count": 40,
   "id": "6558f7aa",
   "metadata": {},
   "outputs": [
    {
     "data": {
      "text/plain": [
       "(198454, 26)"
      ]
     },
     "execution_count": 40,
     "metadata": {},
     "output_type": "execute_result"
    }
   ],
   "source": [
    "df=df[~((df['passenger_count']>6))]\n",
    "df.shape"
   ]
  },
  {
   "cell_type": "markdown",
   "id": "bcac40a7",
   "metadata": {},
   "source": [
    "- removing passengers with negative value as a count"
   ]
  },
  {
   "cell_type": "code",
   "execution_count": 41,
   "id": "386aff66",
   "metadata": {},
   "outputs": [
    {
     "data": {
      "text/plain": [
       "(197810, 26)"
      ]
     },
     "execution_count": 41,
     "metadata": {},
     "output_type": "execute_result"
    }
   ],
   "source": [
    "df[df['fare_amount']<=0]['fare_amount'].count()\n",
    "df=df[~(df['fare_amount']<=0)]\n",
    "df.shape"
   ]
  },
  {
   "cell_type": "code",
   "execution_count": null,
   "id": "2c2190e6",
   "metadata": {},
   "outputs": [],
   "source": []
  },
  {
   "cell_type": "code",
   "execution_count": null,
   "id": "5774c638",
   "metadata": {},
   "outputs": [],
   "source": []
  },
  {
   "cell_type": "markdown",
   "id": "d6b15e49",
   "metadata": {},
   "source": [
    "# Feature Engineering"
   ]
  },
  {
   "cell_type": "code",
   "execution_count": null,
   "id": "15a7d5a6",
   "metadata": {},
   "outputs": [],
   "source": []
  },
  {
   "cell_type": "markdown",
   "id": "f9e52fa1",
   "metadata": {},
   "source": [
    "### checking the data types of the columns"
   ]
  },
  {
   "cell_type": "code",
   "execution_count": 42,
   "id": "dbf3858b",
   "metadata": {},
   "outputs": [
    {
     "name": "stdout",
     "output_type": "stream",
     "text": [
      "<class 'pandas.core.frame.DataFrame'>\n",
      "Int64Index: 197810 entries, 49247 to 574051\n",
      "Data columns (total 26 columns):\n",
      " #   Column                 Non-Null Count   Dtype  \n",
      "---  ------                 --------------   -----  \n",
      " 0   VendorID               197810 non-null  float64\n",
      " 1   pickup_datetime        197810 non-null  object \n",
      " 2   dropoff_datetime       197810 non-null  object \n",
      " 3   passenger_count        197810 non-null  int32  \n",
      " 4   trip_distance          197810 non-null  float64\n",
      " 5   RatecodeID             197810 non-null  float64\n",
      " 6   store_and_fwd_flag     197810 non-null  object \n",
      " 7   PULocationID           197810 non-null  int64  \n",
      " 8   DOLocationID           197810 non-null  int64  \n",
      " 9   payment_type           197810 non-null  float64\n",
      " 10  fare_amount            197810 non-null  float64\n",
      " 11  extra                  197810 non-null  float64\n",
      " 12  mta_tax                197810 non-null  float64\n",
      " 13  tip_amount             197810 non-null  float64\n",
      " 14  tolls_amount           197810 non-null  float64\n",
      " 15  improvement_surcharge  197810 non-null  float64\n",
      " 16  total_amount           197810 non-null  float64\n",
      " 17  congestion_surcharge   197810 non-null  float64\n",
      " 18  PU_zone                197810 non-null  object \n",
      " 19  PU_borough             197810 non-null  object \n",
      " 20  pickup_latitude        197810 non-null  float64\n",
      " 21  pickup_longitude       197810 non-null  float64\n",
      " 22  DO_zone                197810 non-null  object \n",
      " 23  DO_borough             197810 non-null  object \n",
      " 24  dropoff_latitude       197810 non-null  float64\n",
      " 25  dropoff_longitude      197810 non-null  float64\n",
      "dtypes: float64(16), int32(1), int64(2), object(7)\n",
      "memory usage: 40.0+ MB\n"
     ]
    }
   ],
   "source": [
    "df.info()"
   ]
  },
  {
   "cell_type": "code",
   "execution_count": null,
   "id": "cec13aef",
   "metadata": {},
   "outputs": [],
   "source": []
  },
  {
   "cell_type": "markdown",
   "id": "0808ae42",
   "metadata": {},
   "source": [
    "- changing the data type from string to timestamp"
   ]
  },
  {
   "cell_type": "code",
   "execution_count": 43,
   "id": "aecac3b0",
   "metadata": {},
   "outputs": [
    {
     "data": {
      "text/plain": [
       "str"
      ]
     },
     "execution_count": 43,
     "metadata": {},
     "output_type": "execute_result"
    }
   ],
   "source": [
    "type(df['pickup_datetime'].iloc[0])"
   ]
  },
  {
   "cell_type": "code",
   "execution_count": 44,
   "id": "b484a1fe",
   "metadata": {},
   "outputs": [
    {
     "data": {
      "text/plain": [
       "pandas._libs.tslibs.timestamps.Timestamp"
      ]
     },
     "execution_count": 44,
     "metadata": {},
     "output_type": "execute_result"
    }
   ],
   "source": [
    "df['pickup_datetime']=pd.to_datetime(df['pickup_datetime'])\n",
    "type(df['pickup_datetime'].iloc[0])"
   ]
  },
  {
   "cell_type": "code",
   "execution_count": 45,
   "id": "4b71702a",
   "metadata": {},
   "outputs": [
    {
     "data": {
      "text/plain": [
       "pandas._libs.tslibs.timestamps.Timestamp"
      ]
     },
     "execution_count": 45,
     "metadata": {},
     "output_type": "execute_result"
    }
   ],
   "source": [
    "df['dropoff_datetime']=pd.to_datetime(df['dropoff_datetime'])\n",
    "type(df['dropoff_datetime'].iloc[0])"
   ]
  },
  {
   "cell_type": "code",
   "execution_count": null,
   "id": "362146da",
   "metadata": {},
   "outputs": [],
   "source": []
  },
  {
   "cell_type": "markdown",
   "id": "95668cbd",
   "metadata": {},
   "source": [
    "### adding the new column for day of week, hour of day, month and year, trip duration"
   ]
  },
  {
   "cell_type": "code",
   "execution_count": 46,
   "id": "550f8f16",
   "metadata": {},
   "outputs": [],
   "source": [
    "df['pickup_day']=df['pickup_datetime'].dt.dayofweek\n",
    "df['dropoff_day']=df['dropoff_datetime'].dt.dayofweek"
   ]
  },
  {
   "cell_type": "code",
   "execution_count": 47,
   "id": "f3dabdaf",
   "metadata": {},
   "outputs": [],
   "source": [
    "df['pickup_day_no']=df['pickup_datetime'].dt.weekday\n",
    "df['dropoff_day_no']=df['dropoff_datetime'].dt.weekday"
   ]
  },
  {
   "cell_type": "code",
   "execution_count": 48,
   "id": "6968eb35",
   "metadata": {},
   "outputs": [],
   "source": [
    "df['pickup_hour']=df['pickup_datetime'].dt.hour\n",
    "df['dropoff_hour']=df['dropoff_datetime'].dt.hour"
   ]
  },
  {
   "cell_type": "code",
   "execution_count": 49,
   "id": "258aaa93",
   "metadata": {},
   "outputs": [],
   "source": [
    "df['pickup_month']=df['pickup_datetime'].dt.month\n",
    "df['dropoff_month']=df['dropoff_datetime'].dt.month"
   ]
  },
  {
   "cell_type": "code",
   "execution_count": 50,
   "id": "33a62344",
   "metadata": {},
   "outputs": [],
   "source": [
    "df['pickup_year']=df['pickup_datetime'].dt.year\n",
    "df['dropoff_year']=df['dropoff_datetime'].dt.year"
   ]
  },
  {
   "cell_type": "code",
   "execution_count": 51,
   "id": "0616d94b",
   "metadata": {},
   "outputs": [
    {
     "data": {
      "text/html": [
       "<div>\n",
       "<style scoped>\n",
       "    .dataframe tbody tr th:only-of-type {\n",
       "        vertical-align: middle;\n",
       "    }\n",
       "\n",
       "    .dataframe tbody tr th {\n",
       "        vertical-align: top;\n",
       "    }\n",
       "\n",
       "    .dataframe thead th {\n",
       "        text-align: right;\n",
       "    }\n",
       "</style>\n",
       "<table border=\"1\" class=\"dataframe\">\n",
       "  <thead>\n",
       "    <tr style=\"text-align: right;\">\n",
       "      <th></th>\n",
       "      <th>VendorID</th>\n",
       "      <th>pickup_datetime</th>\n",
       "      <th>dropoff_datetime</th>\n",
       "      <th>passenger_count</th>\n",
       "      <th>trip_distance</th>\n",
       "      <th>RatecodeID</th>\n",
       "      <th>store_and_fwd_flag</th>\n",
       "      <th>PULocationID</th>\n",
       "      <th>DOLocationID</th>\n",
       "      <th>payment_type</th>\n",
       "      <th>...</th>\n",
       "      <th>dropoff_day</th>\n",
       "      <th>pickup_day_no</th>\n",
       "      <th>dropoff_day_no</th>\n",
       "      <th>pickup_hour</th>\n",
       "      <th>dropoff_hour</th>\n",
       "      <th>pickup_month</th>\n",
       "      <th>dropoff_month</th>\n",
       "      <th>pickup_year</th>\n",
       "      <th>dropoff_year</th>\n",
       "      <th>trip_duration</th>\n",
       "    </tr>\n",
       "  </thead>\n",
       "  <tbody>\n",
       "    <tr>\n",
       "      <th>49247</th>\n",
       "      <td>2.0</td>\n",
       "      <td>2020-01-25 11:48:29</td>\n",
       "      <td>2020-01-25 12:08:17</td>\n",
       "      <td>1</td>\n",
       "      <td>2.43</td>\n",
       "      <td>1.0</td>\n",
       "      <td>N</td>\n",
       "      <td>164</td>\n",
       "      <td>158</td>\n",
       "      <td>1.0</td>\n",
       "      <td>...</td>\n",
       "      <td>5</td>\n",
       "      <td>5</td>\n",
       "      <td>5</td>\n",
       "      <td>11</td>\n",
       "      <td>12</td>\n",
       "      <td>1</td>\n",
       "      <td>1</td>\n",
       "      <td>2020</td>\n",
       "      <td>2020</td>\n",
       "      <td>0 days 00:19:48</td>\n",
       "    </tr>\n",
       "    <tr>\n",
       "      <th>944176</th>\n",
       "      <td>2.0</td>\n",
       "      <td>2021-07-30 01:16:24</td>\n",
       "      <td>2021-07-30 01:24:19</td>\n",
       "      <td>3</td>\n",
       "      <td>2.58</td>\n",
       "      <td>1.0</td>\n",
       "      <td>N</td>\n",
       "      <td>114</td>\n",
       "      <td>233</td>\n",
       "      <td>2.0</td>\n",
       "      <td>...</td>\n",
       "      <td>4</td>\n",
       "      <td>4</td>\n",
       "      <td>4</td>\n",
       "      <td>1</td>\n",
       "      <td>1</td>\n",
       "      <td>7</td>\n",
       "      <td>7</td>\n",
       "      <td>2021</td>\n",
       "      <td>2021</td>\n",
       "      <td>0 days 00:07:55</td>\n",
       "    </tr>\n",
       "    <tr>\n",
       "      <th>882776</th>\n",
       "      <td>2.0</td>\n",
       "      <td>2021-06-07 12:07:06</td>\n",
       "      <td>2021-06-07 12:19:25</td>\n",
       "      <td>1</td>\n",
       "      <td>2.05</td>\n",
       "      <td>1.0</td>\n",
       "      <td>N</td>\n",
       "      <td>236</td>\n",
       "      <td>163</td>\n",
       "      <td>1.0</td>\n",
       "      <td>...</td>\n",
       "      <td>0</td>\n",
       "      <td>0</td>\n",
       "      <td>0</td>\n",
       "      <td>12</td>\n",
       "      <td>12</td>\n",
       "      <td>6</td>\n",
       "      <td>6</td>\n",
       "      <td>2021</td>\n",
       "      <td>2021</td>\n",
       "      <td>0 days 00:12:19</td>\n",
       "    </tr>\n",
       "    <tr>\n",
       "      <th>175638</th>\n",
       "      <td>2.0</td>\n",
       "      <td>2020-04-20 15:41:12</td>\n",
       "      <td>2020-04-20 15:48:33</td>\n",
       "      <td>1</td>\n",
       "      <td>1.95</td>\n",
       "      <td>1.0</td>\n",
       "      <td>N</td>\n",
       "      <td>229</td>\n",
       "      <td>107</td>\n",
       "      <td>1.0</td>\n",
       "      <td>...</td>\n",
       "      <td>0</td>\n",
       "      <td>0</td>\n",
       "      <td>0</td>\n",
       "      <td>15</td>\n",
       "      <td>15</td>\n",
       "      <td>4</td>\n",
       "      <td>4</td>\n",
       "      <td>2020</td>\n",
       "      <td>2020</td>\n",
       "      <td>0 days 00:07:21</td>\n",
       "    </tr>\n",
       "    <tr>\n",
       "      <th>470222</th>\n",
       "      <td>2.0</td>\n",
       "      <td>2020-10-22 21:01:03</td>\n",
       "      <td>2020-10-23 20:17:20</td>\n",
       "      <td>1</td>\n",
       "      <td>3.92</td>\n",
       "      <td>1.0</td>\n",
       "      <td>N</td>\n",
       "      <td>186</td>\n",
       "      <td>238</td>\n",
       "      <td>2.0</td>\n",
       "      <td>...</td>\n",
       "      <td>4</td>\n",
       "      <td>3</td>\n",
       "      <td>4</td>\n",
       "      <td>21</td>\n",
       "      <td>20</td>\n",
       "      <td>10</td>\n",
       "      <td>10</td>\n",
       "      <td>2020</td>\n",
       "      <td>2020</td>\n",
       "      <td>0 days 23:16:17</td>\n",
       "    </tr>\n",
       "  </tbody>\n",
       "</table>\n",
       "<p>5 rows × 37 columns</p>\n",
       "</div>"
      ],
      "text/plain": [
       "        VendorID     pickup_datetime    dropoff_datetime  passenger_count  \\\n",
       "49247        2.0 2020-01-25 11:48:29 2020-01-25 12:08:17                1   \n",
       "944176       2.0 2021-07-30 01:16:24 2021-07-30 01:24:19                3   \n",
       "882776       2.0 2021-06-07 12:07:06 2021-06-07 12:19:25                1   \n",
       "175638       2.0 2020-04-20 15:41:12 2020-04-20 15:48:33                1   \n",
       "470222       2.0 2020-10-22 21:01:03 2020-10-23 20:17:20                1   \n",
       "\n",
       "        trip_distance  RatecodeID store_and_fwd_flag  PULocationID  \\\n",
       "49247            2.43         1.0                  N           164   \n",
       "944176           2.58         1.0                  N           114   \n",
       "882776           2.05         1.0                  N           236   \n",
       "175638           1.95         1.0                  N           229   \n",
       "470222           3.92         1.0                  N           186   \n",
       "\n",
       "        DOLocationID  payment_type  ...  dropoff_day  pickup_day_no  \\\n",
       "49247            158           1.0  ...            5              5   \n",
       "944176           233           2.0  ...            4              4   \n",
       "882776           163           1.0  ...            0              0   \n",
       "175638           107           1.0  ...            0              0   \n",
       "470222           238           2.0  ...            4              3   \n",
       "\n",
       "        dropoff_day_no  pickup_hour  dropoff_hour  pickup_month  \\\n",
       "49247                5           11            12             1   \n",
       "944176               4            1             1             7   \n",
       "882776               0           12            12             6   \n",
       "175638               0           15            15             4   \n",
       "470222               4           21            20            10   \n",
       "\n",
       "        dropoff_month  pickup_year dropoff_year   trip_duration  \n",
       "49247               1         2020         2020 0 days 00:19:48  \n",
       "944176              7         2021         2021 0 days 00:07:55  \n",
       "882776              6         2021         2021 0 days 00:12:19  \n",
       "175638              4         2020         2020 0 days 00:07:21  \n",
       "470222             10         2020         2020 0 days 23:16:17  \n",
       "\n",
       "[5 rows x 37 columns]"
      ]
     },
     "execution_count": 51,
     "metadata": {},
     "output_type": "execute_result"
    }
   ],
   "source": [
    "df['trip_duration'] = df.dropoff_datetime - df.pickup_datetime \n",
    "df.head()"
   ]
  },
  {
   "cell_type": "markdown",
   "id": "df0d65e9",
   "metadata": {},
   "source": [
    "- pickup_day and dropoff_day which will contain the name of the day on which the ride was taken.\n",
    "- pickup_day_no and dropoff_day_no which will contain the day number instead of characters with Monday=0 and Sunday=6.\n",
    "- pickup_hour and dropoff_hour with an hour of the day in the 24-hour format.\n",
    "- pickup_month and dropoff_month with month number with January=1 and December=12."
   ]
  },
  {
   "cell_type": "code",
   "execution_count": null,
   "id": "d3a2c9af",
   "metadata": {},
   "outputs": [],
   "source": []
  },
  {
   "cell_type": "markdown",
   "id": "d9aeecd7",
   "metadata": {},
   "source": [
    "- changing the data type of trip duration"
   ]
  },
  {
   "cell_type": "code",
   "execution_count": 52,
   "id": "46e55389",
   "metadata": {},
   "outputs": [
    {
     "data": {
      "text/plain": [
       "pandas.core.series.Series"
      ]
     },
     "execution_count": 52,
     "metadata": {},
     "output_type": "execute_result"
    }
   ],
   "source": [
    "type(df.trip_duration)"
   ]
  },
  {
   "cell_type": "code",
   "execution_count": 53,
   "id": "da9bec2d",
   "metadata": {},
   "outputs": [],
   "source": [
    "df['trip_duration']=pd.to_timedelta(df['trip_duration'])"
   ]
  },
  {
   "cell_type": "code",
   "execution_count": 54,
   "id": "d4d06b14",
   "metadata": {},
   "outputs": [
    {
     "data": {
      "text/plain": [
       "pandas._libs.tslibs.timedeltas.Timedelta"
      ]
     },
     "execution_count": 54,
     "metadata": {},
     "output_type": "execute_result"
    }
   ],
   "source": [
    "type(df.trip_duration.iloc[0])"
   ]
  },
  {
   "cell_type": "code",
   "execution_count": 55,
   "id": "1af2fce0",
   "metadata": {},
   "outputs": [
    {
     "name": "stderr",
     "output_type": "stream",
     "text": [
      "C:\\Users\\onkar\\AppData\\Local\\Programs\\Python\\Python39\\lib\\site-packages\\pandas\\core\\indexing.py:1732: SettingWithCopyWarning: \n",
      "A value is trying to be set on a copy of a slice from a DataFrame\n",
      "\n",
      "See the caveats in the documentation: https://pandas.pydata.org/pandas-docs/stable/user_guide/indexing.html#returning-a-view-versus-a-copy\n",
      "  self._setitem_single_block(indexer, value, name)\n"
     ]
    }
   ],
   "source": [
    "for i in range(len(df)):\n",
    "    \n",
    "    df.trip_duration.iloc[i] = df.trip_duration.iloc[i].seconds"
   ]
  },
  {
   "cell_type": "code",
   "execution_count": 56,
   "id": "3640b8fc",
   "metadata": {},
   "outputs": [
    {
     "data": {
      "text/html": [
       "<div>\n",
       "<style scoped>\n",
       "    .dataframe tbody tr th:only-of-type {\n",
       "        vertical-align: middle;\n",
       "    }\n",
       "\n",
       "    .dataframe tbody tr th {\n",
       "        vertical-align: top;\n",
       "    }\n",
       "\n",
       "    .dataframe thead th {\n",
       "        text-align: right;\n",
       "    }\n",
       "</style>\n",
       "<table border=\"1\" class=\"dataframe\">\n",
       "  <thead>\n",
       "    <tr style=\"text-align: right;\">\n",
       "      <th></th>\n",
       "      <th>VendorID</th>\n",
       "      <th>pickup_datetime</th>\n",
       "      <th>dropoff_datetime</th>\n",
       "      <th>passenger_count</th>\n",
       "      <th>trip_distance</th>\n",
       "      <th>RatecodeID</th>\n",
       "      <th>store_and_fwd_flag</th>\n",
       "      <th>PULocationID</th>\n",
       "      <th>DOLocationID</th>\n",
       "      <th>payment_type</th>\n",
       "      <th>...</th>\n",
       "      <th>dropoff_day</th>\n",
       "      <th>pickup_day_no</th>\n",
       "      <th>dropoff_day_no</th>\n",
       "      <th>pickup_hour</th>\n",
       "      <th>dropoff_hour</th>\n",
       "      <th>pickup_month</th>\n",
       "      <th>dropoff_month</th>\n",
       "      <th>pickup_year</th>\n",
       "      <th>dropoff_year</th>\n",
       "      <th>trip_duration</th>\n",
       "    </tr>\n",
       "  </thead>\n",
       "  <tbody>\n",
       "    <tr>\n",
       "      <th>49247</th>\n",
       "      <td>2.0</td>\n",
       "      <td>2020-01-25 11:48:29</td>\n",
       "      <td>2020-01-25 12:08:17</td>\n",
       "      <td>1</td>\n",
       "      <td>2.43</td>\n",
       "      <td>1.0</td>\n",
       "      <td>N</td>\n",
       "      <td>164</td>\n",
       "      <td>158</td>\n",
       "      <td>1.0</td>\n",
       "      <td>...</td>\n",
       "      <td>5</td>\n",
       "      <td>5</td>\n",
       "      <td>5</td>\n",
       "      <td>11</td>\n",
       "      <td>12</td>\n",
       "      <td>1</td>\n",
       "      <td>1</td>\n",
       "      <td>2020</td>\n",
       "      <td>2020</td>\n",
       "      <td>1188</td>\n",
       "    </tr>\n",
       "    <tr>\n",
       "      <th>944176</th>\n",
       "      <td>2.0</td>\n",
       "      <td>2021-07-30 01:16:24</td>\n",
       "      <td>2021-07-30 01:24:19</td>\n",
       "      <td>3</td>\n",
       "      <td>2.58</td>\n",
       "      <td>1.0</td>\n",
       "      <td>N</td>\n",
       "      <td>114</td>\n",
       "      <td>233</td>\n",
       "      <td>2.0</td>\n",
       "      <td>...</td>\n",
       "      <td>4</td>\n",
       "      <td>4</td>\n",
       "      <td>4</td>\n",
       "      <td>1</td>\n",
       "      <td>1</td>\n",
       "      <td>7</td>\n",
       "      <td>7</td>\n",
       "      <td>2021</td>\n",
       "      <td>2021</td>\n",
       "      <td>475</td>\n",
       "    </tr>\n",
       "    <tr>\n",
       "      <th>882776</th>\n",
       "      <td>2.0</td>\n",
       "      <td>2021-06-07 12:07:06</td>\n",
       "      <td>2021-06-07 12:19:25</td>\n",
       "      <td>1</td>\n",
       "      <td>2.05</td>\n",
       "      <td>1.0</td>\n",
       "      <td>N</td>\n",
       "      <td>236</td>\n",
       "      <td>163</td>\n",
       "      <td>1.0</td>\n",
       "      <td>...</td>\n",
       "      <td>0</td>\n",
       "      <td>0</td>\n",
       "      <td>0</td>\n",
       "      <td>12</td>\n",
       "      <td>12</td>\n",
       "      <td>6</td>\n",
       "      <td>6</td>\n",
       "      <td>2021</td>\n",
       "      <td>2021</td>\n",
       "      <td>739</td>\n",
       "    </tr>\n",
       "    <tr>\n",
       "      <th>175638</th>\n",
       "      <td>2.0</td>\n",
       "      <td>2020-04-20 15:41:12</td>\n",
       "      <td>2020-04-20 15:48:33</td>\n",
       "      <td>1</td>\n",
       "      <td>1.95</td>\n",
       "      <td>1.0</td>\n",
       "      <td>N</td>\n",
       "      <td>229</td>\n",
       "      <td>107</td>\n",
       "      <td>1.0</td>\n",
       "      <td>...</td>\n",
       "      <td>0</td>\n",
       "      <td>0</td>\n",
       "      <td>0</td>\n",
       "      <td>15</td>\n",
       "      <td>15</td>\n",
       "      <td>4</td>\n",
       "      <td>4</td>\n",
       "      <td>2020</td>\n",
       "      <td>2020</td>\n",
       "      <td>441</td>\n",
       "    </tr>\n",
       "    <tr>\n",
       "      <th>470222</th>\n",
       "      <td>2.0</td>\n",
       "      <td>2020-10-22 21:01:03</td>\n",
       "      <td>2020-10-23 20:17:20</td>\n",
       "      <td>1</td>\n",
       "      <td>3.92</td>\n",
       "      <td>1.0</td>\n",
       "      <td>N</td>\n",
       "      <td>186</td>\n",
       "      <td>238</td>\n",
       "      <td>2.0</td>\n",
       "      <td>...</td>\n",
       "      <td>4</td>\n",
       "      <td>3</td>\n",
       "      <td>4</td>\n",
       "      <td>21</td>\n",
       "      <td>20</td>\n",
       "      <td>10</td>\n",
       "      <td>10</td>\n",
       "      <td>2020</td>\n",
       "      <td>2020</td>\n",
       "      <td>83777</td>\n",
       "    </tr>\n",
       "  </tbody>\n",
       "</table>\n",
       "<p>5 rows × 37 columns</p>\n",
       "</div>"
      ],
      "text/plain": [
       "        VendorID     pickup_datetime    dropoff_datetime  passenger_count  \\\n",
       "49247        2.0 2020-01-25 11:48:29 2020-01-25 12:08:17                1   \n",
       "944176       2.0 2021-07-30 01:16:24 2021-07-30 01:24:19                3   \n",
       "882776       2.0 2021-06-07 12:07:06 2021-06-07 12:19:25                1   \n",
       "175638       2.0 2020-04-20 15:41:12 2020-04-20 15:48:33                1   \n",
       "470222       2.0 2020-10-22 21:01:03 2020-10-23 20:17:20                1   \n",
       "\n",
       "        trip_distance  RatecodeID store_and_fwd_flag  PULocationID  \\\n",
       "49247            2.43         1.0                  N           164   \n",
       "944176           2.58         1.0                  N           114   \n",
       "882776           2.05         1.0                  N           236   \n",
       "175638           1.95         1.0                  N           229   \n",
       "470222           3.92         1.0                  N           186   \n",
       "\n",
       "        DOLocationID  payment_type  ...  dropoff_day  pickup_day_no  \\\n",
       "49247            158           1.0  ...            5              5   \n",
       "944176           233           2.0  ...            4              4   \n",
       "882776           163           1.0  ...            0              0   \n",
       "175638           107           1.0  ...            0              0   \n",
       "470222           238           2.0  ...            4              3   \n",
       "\n",
       "        dropoff_day_no  pickup_hour  dropoff_hour  pickup_month  \\\n",
       "49247                5           11            12             1   \n",
       "944176               4            1             1             7   \n",
       "882776               0           12            12             6   \n",
       "175638               0           15            15             4   \n",
       "470222               4           21            20            10   \n",
       "\n",
       "        dropoff_month  pickup_year dropoff_year trip_duration  \n",
       "49247               1         2020         2020          1188  \n",
       "944176              7         2021         2021           475  \n",
       "882776              6         2021         2021           739  \n",
       "175638              4         2020         2020           441  \n",
       "470222             10         2020         2020         83777  \n",
       "\n",
       "[5 rows x 37 columns]"
      ]
     },
     "execution_count": 56,
     "metadata": {},
     "output_type": "execute_result"
    }
   ],
   "source": [
    "df.head()"
   ]
  },
  {
   "cell_type": "markdown",
   "id": "d765d953",
   "metadata": {},
   "source": []
  },
  {
   "cell_type": "markdown",
   "id": "b418f632",
   "metadata": {},
   "source": [
    "### function to determine at what time of day ride was taken"
   ]
  },
  {
   "cell_type": "code",
   "execution_count": 57,
   "id": "82435de2",
   "metadata": {},
   "outputs": [],
   "source": [
    "def time_of_day(x):\n",
    "    if x in range(6,12):\n",
    "        return 'Morning'\n",
    "    elif x in range(12,16):\n",
    "        return 'Afternoon'\n",
    "    elif x in range(16,22):\n",
    "        return 'Evening'\n",
    "    else:\n",
    "        return 'Late night'"
   ]
  },
  {
   "cell_type": "code",
   "execution_count": 58,
   "id": "e062550e",
   "metadata": {},
   "outputs": [],
   "source": [
    "df['pickup_timeofday']=df['pickup_hour'].apply(time_of_day)\n",
    "df['dropoff_timeofday']=df['dropoff_hour'].apply(time_of_day)"
   ]
  },
  {
   "cell_type": "code",
   "execution_count": 59,
   "id": "e16a703a",
   "metadata": {},
   "outputs": [
    {
     "data": {
      "text/html": [
       "<div>\n",
       "<style scoped>\n",
       "    .dataframe tbody tr th:only-of-type {\n",
       "        vertical-align: middle;\n",
       "    }\n",
       "\n",
       "    .dataframe tbody tr th {\n",
       "        vertical-align: top;\n",
       "    }\n",
       "\n",
       "    .dataframe thead th {\n",
       "        text-align: right;\n",
       "    }\n",
       "</style>\n",
       "<table border=\"1\" class=\"dataframe\">\n",
       "  <thead>\n",
       "    <tr style=\"text-align: right;\">\n",
       "      <th></th>\n",
       "      <th>VendorID</th>\n",
       "      <th>pickup_datetime</th>\n",
       "      <th>dropoff_datetime</th>\n",
       "      <th>passenger_count</th>\n",
       "      <th>trip_distance</th>\n",
       "      <th>RatecodeID</th>\n",
       "      <th>store_and_fwd_flag</th>\n",
       "      <th>PULocationID</th>\n",
       "      <th>DOLocationID</th>\n",
       "      <th>payment_type</th>\n",
       "      <th>...</th>\n",
       "      <th>dropoff_day_no</th>\n",
       "      <th>pickup_hour</th>\n",
       "      <th>dropoff_hour</th>\n",
       "      <th>pickup_month</th>\n",
       "      <th>dropoff_month</th>\n",
       "      <th>pickup_year</th>\n",
       "      <th>dropoff_year</th>\n",
       "      <th>trip_duration</th>\n",
       "      <th>pickup_timeofday</th>\n",
       "      <th>dropoff_timeofday</th>\n",
       "    </tr>\n",
       "  </thead>\n",
       "  <tbody>\n",
       "    <tr>\n",
       "      <th>49247</th>\n",
       "      <td>2.0</td>\n",
       "      <td>2020-01-25 11:48:29</td>\n",
       "      <td>2020-01-25 12:08:17</td>\n",
       "      <td>1</td>\n",
       "      <td>2.43</td>\n",
       "      <td>1.0</td>\n",
       "      <td>N</td>\n",
       "      <td>164</td>\n",
       "      <td>158</td>\n",
       "      <td>1.0</td>\n",
       "      <td>...</td>\n",
       "      <td>5</td>\n",
       "      <td>11</td>\n",
       "      <td>12</td>\n",
       "      <td>1</td>\n",
       "      <td>1</td>\n",
       "      <td>2020</td>\n",
       "      <td>2020</td>\n",
       "      <td>1188</td>\n",
       "      <td>Morning</td>\n",
       "      <td>Afternoon</td>\n",
       "    </tr>\n",
       "    <tr>\n",
       "      <th>944176</th>\n",
       "      <td>2.0</td>\n",
       "      <td>2021-07-30 01:16:24</td>\n",
       "      <td>2021-07-30 01:24:19</td>\n",
       "      <td>3</td>\n",
       "      <td>2.58</td>\n",
       "      <td>1.0</td>\n",
       "      <td>N</td>\n",
       "      <td>114</td>\n",
       "      <td>233</td>\n",
       "      <td>2.0</td>\n",
       "      <td>...</td>\n",
       "      <td>4</td>\n",
       "      <td>1</td>\n",
       "      <td>1</td>\n",
       "      <td>7</td>\n",
       "      <td>7</td>\n",
       "      <td>2021</td>\n",
       "      <td>2021</td>\n",
       "      <td>475</td>\n",
       "      <td>Late night</td>\n",
       "      <td>Late night</td>\n",
       "    </tr>\n",
       "    <tr>\n",
       "      <th>882776</th>\n",
       "      <td>2.0</td>\n",
       "      <td>2021-06-07 12:07:06</td>\n",
       "      <td>2021-06-07 12:19:25</td>\n",
       "      <td>1</td>\n",
       "      <td>2.05</td>\n",
       "      <td>1.0</td>\n",
       "      <td>N</td>\n",
       "      <td>236</td>\n",
       "      <td>163</td>\n",
       "      <td>1.0</td>\n",
       "      <td>...</td>\n",
       "      <td>0</td>\n",
       "      <td>12</td>\n",
       "      <td>12</td>\n",
       "      <td>6</td>\n",
       "      <td>6</td>\n",
       "      <td>2021</td>\n",
       "      <td>2021</td>\n",
       "      <td>739</td>\n",
       "      <td>Afternoon</td>\n",
       "      <td>Afternoon</td>\n",
       "    </tr>\n",
       "    <tr>\n",
       "      <th>175638</th>\n",
       "      <td>2.0</td>\n",
       "      <td>2020-04-20 15:41:12</td>\n",
       "      <td>2020-04-20 15:48:33</td>\n",
       "      <td>1</td>\n",
       "      <td>1.95</td>\n",
       "      <td>1.0</td>\n",
       "      <td>N</td>\n",
       "      <td>229</td>\n",
       "      <td>107</td>\n",
       "      <td>1.0</td>\n",
       "      <td>...</td>\n",
       "      <td>0</td>\n",
       "      <td>15</td>\n",
       "      <td>15</td>\n",
       "      <td>4</td>\n",
       "      <td>4</td>\n",
       "      <td>2020</td>\n",
       "      <td>2020</td>\n",
       "      <td>441</td>\n",
       "      <td>Afternoon</td>\n",
       "      <td>Afternoon</td>\n",
       "    </tr>\n",
       "    <tr>\n",
       "      <th>470222</th>\n",
       "      <td>2.0</td>\n",
       "      <td>2020-10-22 21:01:03</td>\n",
       "      <td>2020-10-23 20:17:20</td>\n",
       "      <td>1</td>\n",
       "      <td>3.92</td>\n",
       "      <td>1.0</td>\n",
       "      <td>N</td>\n",
       "      <td>186</td>\n",
       "      <td>238</td>\n",
       "      <td>2.0</td>\n",
       "      <td>...</td>\n",
       "      <td>4</td>\n",
       "      <td>21</td>\n",
       "      <td>20</td>\n",
       "      <td>10</td>\n",
       "      <td>10</td>\n",
       "      <td>2020</td>\n",
       "      <td>2020</td>\n",
       "      <td>83777</td>\n",
       "      <td>Evening</td>\n",
       "      <td>Evening</td>\n",
       "    </tr>\n",
       "  </tbody>\n",
       "</table>\n",
       "<p>5 rows × 39 columns</p>\n",
       "</div>"
      ],
      "text/plain": [
       "        VendorID     pickup_datetime    dropoff_datetime  passenger_count  \\\n",
       "49247        2.0 2020-01-25 11:48:29 2020-01-25 12:08:17                1   \n",
       "944176       2.0 2021-07-30 01:16:24 2021-07-30 01:24:19                3   \n",
       "882776       2.0 2021-06-07 12:07:06 2021-06-07 12:19:25                1   \n",
       "175638       2.0 2020-04-20 15:41:12 2020-04-20 15:48:33                1   \n",
       "470222       2.0 2020-10-22 21:01:03 2020-10-23 20:17:20                1   \n",
       "\n",
       "        trip_distance  RatecodeID store_and_fwd_flag  PULocationID  \\\n",
       "49247            2.43         1.0                  N           164   \n",
       "944176           2.58         1.0                  N           114   \n",
       "882776           2.05         1.0                  N           236   \n",
       "175638           1.95         1.0                  N           229   \n",
       "470222           3.92         1.0                  N           186   \n",
       "\n",
       "        DOLocationID  payment_type  ...  dropoff_day_no  pickup_hour  \\\n",
       "49247            158           1.0  ...               5           11   \n",
       "944176           233           2.0  ...               4            1   \n",
       "882776           163           1.0  ...               0           12   \n",
       "175638           107           1.0  ...               0           15   \n",
       "470222           238           2.0  ...               4           21   \n",
       "\n",
       "        dropoff_hour  pickup_month  dropoff_month  pickup_year  dropoff_year  \\\n",
       "49247             12             1              1         2020          2020   \n",
       "944176             1             7              7         2021          2021   \n",
       "882776            12             6              6         2021          2021   \n",
       "175638            15             4              4         2020          2020   \n",
       "470222            20            10             10         2020          2020   \n",
       "\n",
       "        trip_duration pickup_timeofday dropoff_timeofday  \n",
       "49247            1188          Morning         Afternoon  \n",
       "944176            475       Late night        Late night  \n",
       "882776            739        Afternoon         Afternoon  \n",
       "175638            441        Afternoon         Afternoon  \n",
       "470222          83777          Evening           Evening  \n",
       "\n",
       "[5 rows x 39 columns]"
      ]
     },
     "execution_count": 59,
     "metadata": {},
     "output_type": "execute_result"
    }
   ],
   "source": [
    "df.head()"
   ]
  },
  {
   "cell_type": "code",
   "execution_count": null,
   "id": "ee64c9bd",
   "metadata": {},
   "outputs": [],
   "source": []
  },
  {
   "cell_type": "markdown",
   "id": "9b552954",
   "metadata": {},
   "source": [
    "### mid night trip column\n",
    "\n",
    "- 1 for YES\n",
    "- 0 for NO\n",
    "- Let's add the feature called mid night trip usually fare during night hours are high compare to day time\n",
    "- The trip between night 11'o clock to morning 5'o clock are labelled mid night trip"
   ]
  },
  {
   "cell_type": "code",
   "execution_count": 60,
   "id": "073ca4b0",
   "metadata": {},
   "outputs": [
    {
     "data": {
      "text/html": [
       "<div>\n",
       "<style scoped>\n",
       "    .dataframe tbody tr th:only-of-type {\n",
       "        vertical-align: middle;\n",
       "    }\n",
       "\n",
       "    .dataframe tbody tr th {\n",
       "        vertical-align: top;\n",
       "    }\n",
       "\n",
       "    .dataframe thead th {\n",
       "        text-align: right;\n",
       "    }\n",
       "</style>\n",
       "<table border=\"1\" class=\"dataframe\">\n",
       "  <thead>\n",
       "    <tr style=\"text-align: right;\">\n",
       "      <th></th>\n",
       "      <th>VendorID</th>\n",
       "      <th>pickup_datetime</th>\n",
       "      <th>dropoff_datetime</th>\n",
       "      <th>passenger_count</th>\n",
       "      <th>trip_distance</th>\n",
       "      <th>RatecodeID</th>\n",
       "      <th>store_and_fwd_flag</th>\n",
       "      <th>PULocationID</th>\n",
       "      <th>DOLocationID</th>\n",
       "      <th>payment_type</th>\n",
       "      <th>...</th>\n",
       "      <th>pickup_hour</th>\n",
       "      <th>dropoff_hour</th>\n",
       "      <th>pickup_month</th>\n",
       "      <th>dropoff_month</th>\n",
       "      <th>pickup_year</th>\n",
       "      <th>dropoff_year</th>\n",
       "      <th>trip_duration</th>\n",
       "      <th>pickup_timeofday</th>\n",
       "      <th>dropoff_timeofday</th>\n",
       "      <th>mid_night_trip</th>\n",
       "    </tr>\n",
       "  </thead>\n",
       "  <tbody>\n",
       "    <tr>\n",
       "      <th>49247</th>\n",
       "      <td>2.0</td>\n",
       "      <td>2020-01-25 11:48:29</td>\n",
       "      <td>2020-01-25 12:08:17</td>\n",
       "      <td>1</td>\n",
       "      <td>2.43</td>\n",
       "      <td>1.0</td>\n",
       "      <td>N</td>\n",
       "      <td>164</td>\n",
       "      <td>158</td>\n",
       "      <td>1.0</td>\n",
       "      <td>...</td>\n",
       "      <td>11</td>\n",
       "      <td>12</td>\n",
       "      <td>1</td>\n",
       "      <td>1</td>\n",
       "      <td>2020</td>\n",
       "      <td>2020</td>\n",
       "      <td>1188</td>\n",
       "      <td>Morning</td>\n",
       "      <td>Afternoon</td>\n",
       "      <td>0</td>\n",
       "    </tr>\n",
       "    <tr>\n",
       "      <th>944176</th>\n",
       "      <td>2.0</td>\n",
       "      <td>2021-07-30 01:16:24</td>\n",
       "      <td>2021-07-30 01:24:19</td>\n",
       "      <td>3</td>\n",
       "      <td>2.58</td>\n",
       "      <td>1.0</td>\n",
       "      <td>N</td>\n",
       "      <td>114</td>\n",
       "      <td>233</td>\n",
       "      <td>2.0</td>\n",
       "      <td>...</td>\n",
       "      <td>1</td>\n",
       "      <td>1</td>\n",
       "      <td>7</td>\n",
       "      <td>7</td>\n",
       "      <td>2021</td>\n",
       "      <td>2021</td>\n",
       "      <td>475</td>\n",
       "      <td>Late night</td>\n",
       "      <td>Late night</td>\n",
       "      <td>1</td>\n",
       "    </tr>\n",
       "    <tr>\n",
       "      <th>882776</th>\n",
       "      <td>2.0</td>\n",
       "      <td>2021-06-07 12:07:06</td>\n",
       "      <td>2021-06-07 12:19:25</td>\n",
       "      <td>1</td>\n",
       "      <td>2.05</td>\n",
       "      <td>1.0</td>\n",
       "      <td>N</td>\n",
       "      <td>236</td>\n",
       "      <td>163</td>\n",
       "      <td>1.0</td>\n",
       "      <td>...</td>\n",
       "      <td>12</td>\n",
       "      <td>12</td>\n",
       "      <td>6</td>\n",
       "      <td>6</td>\n",
       "      <td>2021</td>\n",
       "      <td>2021</td>\n",
       "      <td>739</td>\n",
       "      <td>Afternoon</td>\n",
       "      <td>Afternoon</td>\n",
       "      <td>0</td>\n",
       "    </tr>\n",
       "    <tr>\n",
       "      <th>175638</th>\n",
       "      <td>2.0</td>\n",
       "      <td>2020-04-20 15:41:12</td>\n",
       "      <td>2020-04-20 15:48:33</td>\n",
       "      <td>1</td>\n",
       "      <td>1.95</td>\n",
       "      <td>1.0</td>\n",
       "      <td>N</td>\n",
       "      <td>229</td>\n",
       "      <td>107</td>\n",
       "      <td>1.0</td>\n",
       "      <td>...</td>\n",
       "      <td>15</td>\n",
       "      <td>15</td>\n",
       "      <td>4</td>\n",
       "      <td>4</td>\n",
       "      <td>2020</td>\n",
       "      <td>2020</td>\n",
       "      <td>441</td>\n",
       "      <td>Afternoon</td>\n",
       "      <td>Afternoon</td>\n",
       "      <td>0</td>\n",
       "    </tr>\n",
       "    <tr>\n",
       "      <th>470222</th>\n",
       "      <td>2.0</td>\n",
       "      <td>2020-10-22 21:01:03</td>\n",
       "      <td>2020-10-23 20:17:20</td>\n",
       "      <td>1</td>\n",
       "      <td>3.92</td>\n",
       "      <td>1.0</td>\n",
       "      <td>N</td>\n",
       "      <td>186</td>\n",
       "      <td>238</td>\n",
       "      <td>2.0</td>\n",
       "      <td>...</td>\n",
       "      <td>21</td>\n",
       "      <td>20</td>\n",
       "      <td>10</td>\n",
       "      <td>10</td>\n",
       "      <td>2020</td>\n",
       "      <td>2020</td>\n",
       "      <td>83777</td>\n",
       "      <td>Evening</td>\n",
       "      <td>Evening</td>\n",
       "      <td>0</td>\n",
       "    </tr>\n",
       "  </tbody>\n",
       "</table>\n",
       "<p>5 rows × 40 columns</p>\n",
       "</div>"
      ],
      "text/plain": [
       "        VendorID     pickup_datetime    dropoff_datetime  passenger_count  \\\n",
       "49247        2.0 2020-01-25 11:48:29 2020-01-25 12:08:17                1   \n",
       "944176       2.0 2021-07-30 01:16:24 2021-07-30 01:24:19                3   \n",
       "882776       2.0 2021-06-07 12:07:06 2021-06-07 12:19:25                1   \n",
       "175638       2.0 2020-04-20 15:41:12 2020-04-20 15:48:33                1   \n",
       "470222       2.0 2020-10-22 21:01:03 2020-10-23 20:17:20                1   \n",
       "\n",
       "        trip_distance  RatecodeID store_and_fwd_flag  PULocationID  \\\n",
       "49247            2.43         1.0                  N           164   \n",
       "944176           2.58         1.0                  N           114   \n",
       "882776           2.05         1.0                  N           236   \n",
       "175638           1.95         1.0                  N           229   \n",
       "470222           3.92         1.0                  N           186   \n",
       "\n",
       "        DOLocationID  payment_type  ...  pickup_hour  dropoff_hour  \\\n",
       "49247            158           1.0  ...           11            12   \n",
       "944176           233           2.0  ...            1             1   \n",
       "882776           163           1.0  ...           12            12   \n",
       "175638           107           1.0  ...           15            15   \n",
       "470222           238           2.0  ...           21            20   \n",
       "\n",
       "        pickup_month  dropoff_month  pickup_year  dropoff_year  trip_duration  \\\n",
       "49247              1              1         2020          2020           1188   \n",
       "944176             7              7         2021          2021            475   \n",
       "882776             6              6         2021          2021            739   \n",
       "175638             4              4         2020          2020            441   \n",
       "470222            10             10         2020          2020          83777   \n",
       "\n",
       "        pickup_timeofday dropoff_timeofday mid_night_trip  \n",
       "49247            Morning         Afternoon              0  \n",
       "944176        Late night        Late night              1  \n",
       "882776         Afternoon         Afternoon              0  \n",
       "175638         Afternoon         Afternoon              0  \n",
       "470222           Evening           Evening              0  \n",
       "\n",
       "[5 rows x 40 columns]"
      ]
     },
     "execution_count": 60,
     "metadata": {},
     "output_type": "execute_result"
    }
   ],
   "source": [
    "df['mid_night_trip']=((df['pickup_timeofday']=='Late night')).astype(int)\n",
    "df.head()"
   ]
  },
  {
   "cell_type": "code",
   "execution_count": null,
   "id": "75f64f45",
   "metadata": {},
   "outputs": [],
   "source": []
  },
  {
   "cell_type": "markdown",
   "id": "a0ae2537",
   "metadata": {},
   "source": [
    "### 'Rush hour trip' column\n",
    "\n",
    "- New York City has rush hour means heavy traffic from 4 PM to 8 PM\n",
    "- So fare rates may differ from other %time"
   ]
  },
  {
   "cell_type": "code",
   "execution_count": 61,
   "id": "b50cdf95",
   "metadata": {},
   "outputs": [
    {
     "data": {
      "text/html": [
       "<div>\n",
       "<style scoped>\n",
       "    .dataframe tbody tr th:only-of-type {\n",
       "        vertical-align: middle;\n",
       "    }\n",
       "\n",
       "    .dataframe tbody tr th {\n",
       "        vertical-align: top;\n",
       "    }\n",
       "\n",
       "    .dataframe thead th {\n",
       "        text-align: right;\n",
       "    }\n",
       "</style>\n",
       "<table border=\"1\" class=\"dataframe\">\n",
       "  <thead>\n",
       "    <tr style=\"text-align: right;\">\n",
       "      <th></th>\n",
       "      <th>VendorID</th>\n",
       "      <th>pickup_datetime</th>\n",
       "      <th>dropoff_datetime</th>\n",
       "      <th>passenger_count</th>\n",
       "      <th>trip_distance</th>\n",
       "      <th>RatecodeID</th>\n",
       "      <th>store_and_fwd_flag</th>\n",
       "      <th>PULocationID</th>\n",
       "      <th>DOLocationID</th>\n",
       "      <th>payment_type</th>\n",
       "      <th>...</th>\n",
       "      <th>dropoff_hour</th>\n",
       "      <th>pickup_month</th>\n",
       "      <th>dropoff_month</th>\n",
       "      <th>pickup_year</th>\n",
       "      <th>dropoff_year</th>\n",
       "      <th>trip_duration</th>\n",
       "      <th>pickup_timeofday</th>\n",
       "      <th>dropoff_timeofday</th>\n",
       "      <th>mid_night_trip</th>\n",
       "      <th>rush_hour_trip</th>\n",
       "    </tr>\n",
       "  </thead>\n",
       "  <tbody>\n",
       "    <tr>\n",
       "      <th>49247</th>\n",
       "      <td>2.0</td>\n",
       "      <td>2020-01-25 11:48:29</td>\n",
       "      <td>2020-01-25 12:08:17</td>\n",
       "      <td>1</td>\n",
       "      <td>2.43</td>\n",
       "      <td>1.0</td>\n",
       "      <td>N</td>\n",
       "      <td>164</td>\n",
       "      <td>158</td>\n",
       "      <td>1.0</td>\n",
       "      <td>...</td>\n",
       "      <td>12</td>\n",
       "      <td>1</td>\n",
       "      <td>1</td>\n",
       "      <td>2020</td>\n",
       "      <td>2020</td>\n",
       "      <td>1188</td>\n",
       "      <td>Morning</td>\n",
       "      <td>Afternoon</td>\n",
       "      <td>0</td>\n",
       "      <td>0</td>\n",
       "    </tr>\n",
       "    <tr>\n",
       "      <th>944176</th>\n",
       "      <td>2.0</td>\n",
       "      <td>2021-07-30 01:16:24</td>\n",
       "      <td>2021-07-30 01:24:19</td>\n",
       "      <td>3</td>\n",
       "      <td>2.58</td>\n",
       "      <td>1.0</td>\n",
       "      <td>N</td>\n",
       "      <td>114</td>\n",
       "      <td>233</td>\n",
       "      <td>2.0</td>\n",
       "      <td>...</td>\n",
       "      <td>1</td>\n",
       "      <td>7</td>\n",
       "      <td>7</td>\n",
       "      <td>2021</td>\n",
       "      <td>2021</td>\n",
       "      <td>475</td>\n",
       "      <td>Late night</td>\n",
       "      <td>Late night</td>\n",
       "      <td>1</td>\n",
       "      <td>0</td>\n",
       "    </tr>\n",
       "    <tr>\n",
       "      <th>882776</th>\n",
       "      <td>2.0</td>\n",
       "      <td>2021-06-07 12:07:06</td>\n",
       "      <td>2021-06-07 12:19:25</td>\n",
       "      <td>1</td>\n",
       "      <td>2.05</td>\n",
       "      <td>1.0</td>\n",
       "      <td>N</td>\n",
       "      <td>236</td>\n",
       "      <td>163</td>\n",
       "      <td>1.0</td>\n",
       "      <td>...</td>\n",
       "      <td>12</td>\n",
       "      <td>6</td>\n",
       "      <td>6</td>\n",
       "      <td>2021</td>\n",
       "      <td>2021</td>\n",
       "      <td>739</td>\n",
       "      <td>Afternoon</td>\n",
       "      <td>Afternoon</td>\n",
       "      <td>0</td>\n",
       "      <td>0</td>\n",
       "    </tr>\n",
       "    <tr>\n",
       "      <th>175638</th>\n",
       "      <td>2.0</td>\n",
       "      <td>2020-04-20 15:41:12</td>\n",
       "      <td>2020-04-20 15:48:33</td>\n",
       "      <td>1</td>\n",
       "      <td>1.95</td>\n",
       "      <td>1.0</td>\n",
       "      <td>N</td>\n",
       "      <td>229</td>\n",
       "      <td>107</td>\n",
       "      <td>1.0</td>\n",
       "      <td>...</td>\n",
       "      <td>15</td>\n",
       "      <td>4</td>\n",
       "      <td>4</td>\n",
       "      <td>2020</td>\n",
       "      <td>2020</td>\n",
       "      <td>441</td>\n",
       "      <td>Afternoon</td>\n",
       "      <td>Afternoon</td>\n",
       "      <td>0</td>\n",
       "      <td>0</td>\n",
       "    </tr>\n",
       "    <tr>\n",
       "      <th>470222</th>\n",
       "      <td>2.0</td>\n",
       "      <td>2020-10-22 21:01:03</td>\n",
       "      <td>2020-10-23 20:17:20</td>\n",
       "      <td>1</td>\n",
       "      <td>3.92</td>\n",
       "      <td>1.0</td>\n",
       "      <td>N</td>\n",
       "      <td>186</td>\n",
       "      <td>238</td>\n",
       "      <td>2.0</td>\n",
       "      <td>...</td>\n",
       "      <td>20</td>\n",
       "      <td>10</td>\n",
       "      <td>10</td>\n",
       "      <td>2020</td>\n",
       "      <td>2020</td>\n",
       "      <td>83777</td>\n",
       "      <td>Evening</td>\n",
       "      <td>Evening</td>\n",
       "      <td>0</td>\n",
       "      <td>1</td>\n",
       "    </tr>\n",
       "  </tbody>\n",
       "</table>\n",
       "<p>5 rows × 41 columns</p>\n",
       "</div>"
      ],
      "text/plain": [
       "        VendorID     pickup_datetime    dropoff_datetime  passenger_count  \\\n",
       "49247        2.0 2020-01-25 11:48:29 2020-01-25 12:08:17                1   \n",
       "944176       2.0 2021-07-30 01:16:24 2021-07-30 01:24:19                3   \n",
       "882776       2.0 2021-06-07 12:07:06 2021-06-07 12:19:25                1   \n",
       "175638       2.0 2020-04-20 15:41:12 2020-04-20 15:48:33                1   \n",
       "470222       2.0 2020-10-22 21:01:03 2020-10-23 20:17:20                1   \n",
       "\n",
       "        trip_distance  RatecodeID store_and_fwd_flag  PULocationID  \\\n",
       "49247            2.43         1.0                  N           164   \n",
       "944176           2.58         1.0                  N           114   \n",
       "882776           2.05         1.0                  N           236   \n",
       "175638           1.95         1.0                  N           229   \n",
       "470222           3.92         1.0                  N           186   \n",
       "\n",
       "        DOLocationID  payment_type  ...  dropoff_hour  pickup_month  \\\n",
       "49247            158           1.0  ...            12             1   \n",
       "944176           233           2.0  ...             1             7   \n",
       "882776           163           1.0  ...            12             6   \n",
       "175638           107           1.0  ...            15             4   \n",
       "470222           238           2.0  ...            20            10   \n",
       "\n",
       "        dropoff_month  pickup_year  dropoff_year  trip_duration  \\\n",
       "49247               1         2020          2020           1188   \n",
       "944176              7         2021          2021            475   \n",
       "882776              6         2021          2021            739   \n",
       "175638              4         2020          2020            441   \n",
       "470222             10         2020          2020          83777   \n",
       "\n",
       "        pickup_timeofday  dropoff_timeofday mid_night_trip rush_hour_trip  \n",
       "49247            Morning          Afternoon              0              0  \n",
       "944176        Late night         Late night              1              0  \n",
       "882776         Afternoon          Afternoon              0              0  \n",
       "175638         Afternoon          Afternoon              0              0  \n",
       "470222           Evening            Evening              0              1  \n",
       "\n",
       "[5 rows x 41 columns]"
      ]
     },
     "execution_count": 61,
     "metadata": {},
     "output_type": "execute_result"
    }
   ],
   "source": [
    "df['rush_hour_trip']=((df['pickup_timeofday']=='Evening')).astype(int)\n",
    "df.head()"
   ]
  },
  {
   "cell_type": "code",
   "execution_count": null,
   "id": "67fd9cb9",
   "metadata": {},
   "outputs": [],
   "source": []
  },
  {
   "cell_type": "markdown",
   "id": "e2f1f79c",
   "metadata": {},
   "source": [
    "### Trips in snow season"
   ]
  },
  {
   "cell_type": "markdown",
   "id": "4f97d2e9",
   "metadata": {},
   "source": [
    "- During snow season the taxi is very less available compare to other months i.e. taxi fare during snow season is high.\n",
    "- NYC has the snow season from December to March but December and March has less snow compare to Jan and Feb\n",
    "- So we will check if trip was in month of Jan and Feb it is during snow season"
   ]
  },
  {
   "cell_type": "code",
   "execution_count": 62,
   "id": "f5ef7881",
   "metadata": {},
   "outputs": [
    {
     "data": {
      "text/html": [
       "<div>\n",
       "<style scoped>\n",
       "    .dataframe tbody tr th:only-of-type {\n",
       "        vertical-align: middle;\n",
       "    }\n",
       "\n",
       "    .dataframe tbody tr th {\n",
       "        vertical-align: top;\n",
       "    }\n",
       "\n",
       "    .dataframe thead th {\n",
       "        text-align: right;\n",
       "    }\n",
       "</style>\n",
       "<table border=\"1\" class=\"dataframe\">\n",
       "  <thead>\n",
       "    <tr style=\"text-align: right;\">\n",
       "      <th></th>\n",
       "      <th>VendorID</th>\n",
       "      <th>pickup_datetime</th>\n",
       "      <th>dropoff_datetime</th>\n",
       "      <th>passenger_count</th>\n",
       "      <th>trip_distance</th>\n",
       "      <th>RatecodeID</th>\n",
       "      <th>store_and_fwd_flag</th>\n",
       "      <th>PULocationID</th>\n",
       "      <th>DOLocationID</th>\n",
       "      <th>payment_type</th>\n",
       "      <th>...</th>\n",
       "      <th>pickup_month</th>\n",
       "      <th>dropoff_month</th>\n",
       "      <th>pickup_year</th>\n",
       "      <th>dropoff_year</th>\n",
       "      <th>trip_duration</th>\n",
       "      <th>pickup_timeofday</th>\n",
       "      <th>dropoff_timeofday</th>\n",
       "      <th>mid_night_trip</th>\n",
       "      <th>rush_hour_trip</th>\n",
       "      <th>snow_season</th>\n",
       "    </tr>\n",
       "  </thead>\n",
       "  <tbody>\n",
       "    <tr>\n",
       "      <th>49247</th>\n",
       "      <td>2.0</td>\n",
       "      <td>2020-01-25 11:48:29</td>\n",
       "      <td>2020-01-25 12:08:17</td>\n",
       "      <td>1</td>\n",
       "      <td>2.43</td>\n",
       "      <td>1.0</td>\n",
       "      <td>N</td>\n",
       "      <td>164</td>\n",
       "      <td>158</td>\n",
       "      <td>1.0</td>\n",
       "      <td>...</td>\n",
       "      <td>1</td>\n",
       "      <td>1</td>\n",
       "      <td>2020</td>\n",
       "      <td>2020</td>\n",
       "      <td>1188</td>\n",
       "      <td>Morning</td>\n",
       "      <td>Afternoon</td>\n",
       "      <td>0</td>\n",
       "      <td>0</td>\n",
       "      <td>1</td>\n",
       "    </tr>\n",
       "    <tr>\n",
       "      <th>944176</th>\n",
       "      <td>2.0</td>\n",
       "      <td>2021-07-30 01:16:24</td>\n",
       "      <td>2021-07-30 01:24:19</td>\n",
       "      <td>3</td>\n",
       "      <td>2.58</td>\n",
       "      <td>1.0</td>\n",
       "      <td>N</td>\n",
       "      <td>114</td>\n",
       "      <td>233</td>\n",
       "      <td>2.0</td>\n",
       "      <td>...</td>\n",
       "      <td>7</td>\n",
       "      <td>7</td>\n",
       "      <td>2021</td>\n",
       "      <td>2021</td>\n",
       "      <td>475</td>\n",
       "      <td>Late night</td>\n",
       "      <td>Late night</td>\n",
       "      <td>1</td>\n",
       "      <td>0</td>\n",
       "      <td>0</td>\n",
       "    </tr>\n",
       "    <tr>\n",
       "      <th>882776</th>\n",
       "      <td>2.0</td>\n",
       "      <td>2021-06-07 12:07:06</td>\n",
       "      <td>2021-06-07 12:19:25</td>\n",
       "      <td>1</td>\n",
       "      <td>2.05</td>\n",
       "      <td>1.0</td>\n",
       "      <td>N</td>\n",
       "      <td>236</td>\n",
       "      <td>163</td>\n",
       "      <td>1.0</td>\n",
       "      <td>...</td>\n",
       "      <td>6</td>\n",
       "      <td>6</td>\n",
       "      <td>2021</td>\n",
       "      <td>2021</td>\n",
       "      <td>739</td>\n",
       "      <td>Afternoon</td>\n",
       "      <td>Afternoon</td>\n",
       "      <td>0</td>\n",
       "      <td>0</td>\n",
       "      <td>0</td>\n",
       "    </tr>\n",
       "    <tr>\n",
       "      <th>175638</th>\n",
       "      <td>2.0</td>\n",
       "      <td>2020-04-20 15:41:12</td>\n",
       "      <td>2020-04-20 15:48:33</td>\n",
       "      <td>1</td>\n",
       "      <td>1.95</td>\n",
       "      <td>1.0</td>\n",
       "      <td>N</td>\n",
       "      <td>229</td>\n",
       "      <td>107</td>\n",
       "      <td>1.0</td>\n",
       "      <td>...</td>\n",
       "      <td>4</td>\n",
       "      <td>4</td>\n",
       "      <td>2020</td>\n",
       "      <td>2020</td>\n",
       "      <td>441</td>\n",
       "      <td>Afternoon</td>\n",
       "      <td>Afternoon</td>\n",
       "      <td>0</td>\n",
       "      <td>0</td>\n",
       "      <td>0</td>\n",
       "    </tr>\n",
       "    <tr>\n",
       "      <th>470222</th>\n",
       "      <td>2.0</td>\n",
       "      <td>2020-10-22 21:01:03</td>\n",
       "      <td>2020-10-23 20:17:20</td>\n",
       "      <td>1</td>\n",
       "      <td>3.92</td>\n",
       "      <td>1.0</td>\n",
       "      <td>N</td>\n",
       "      <td>186</td>\n",
       "      <td>238</td>\n",
       "      <td>2.0</td>\n",
       "      <td>...</td>\n",
       "      <td>10</td>\n",
       "      <td>10</td>\n",
       "      <td>2020</td>\n",
       "      <td>2020</td>\n",
       "      <td>83777</td>\n",
       "      <td>Evening</td>\n",
       "      <td>Evening</td>\n",
       "      <td>0</td>\n",
       "      <td>1</td>\n",
       "      <td>0</td>\n",
       "    </tr>\n",
       "  </tbody>\n",
       "</table>\n",
       "<p>5 rows × 42 columns</p>\n",
       "</div>"
      ],
      "text/plain": [
       "        VendorID     pickup_datetime    dropoff_datetime  passenger_count  \\\n",
       "49247        2.0 2020-01-25 11:48:29 2020-01-25 12:08:17                1   \n",
       "944176       2.0 2021-07-30 01:16:24 2021-07-30 01:24:19                3   \n",
       "882776       2.0 2021-06-07 12:07:06 2021-06-07 12:19:25                1   \n",
       "175638       2.0 2020-04-20 15:41:12 2020-04-20 15:48:33                1   \n",
       "470222       2.0 2020-10-22 21:01:03 2020-10-23 20:17:20                1   \n",
       "\n",
       "        trip_distance  RatecodeID store_and_fwd_flag  PULocationID  \\\n",
       "49247            2.43         1.0                  N           164   \n",
       "944176           2.58         1.0                  N           114   \n",
       "882776           2.05         1.0                  N           236   \n",
       "175638           1.95         1.0                  N           229   \n",
       "470222           3.92         1.0                  N           186   \n",
       "\n",
       "        DOLocationID  payment_type  ...  pickup_month  dropoff_month  \\\n",
       "49247            158           1.0  ...             1              1   \n",
       "944176           233           2.0  ...             7              7   \n",
       "882776           163           1.0  ...             6              6   \n",
       "175638           107           1.0  ...             4              4   \n",
       "470222           238           2.0  ...            10             10   \n",
       "\n",
       "        pickup_year  dropoff_year  trip_duration  pickup_timeofday  \\\n",
       "49247          2020          2020           1188           Morning   \n",
       "944176         2021          2021            475        Late night   \n",
       "882776         2021          2021            739         Afternoon   \n",
       "175638         2020          2020            441         Afternoon   \n",
       "470222         2020          2020          83777           Evening   \n",
       "\n",
       "        dropoff_timeofday  mid_night_trip rush_hour_trip snow_season  \n",
       "49247           Afternoon               0              0           1  \n",
       "944176         Late night               1              0           0  \n",
       "882776          Afternoon               0              0           0  \n",
       "175638          Afternoon               0              0           0  \n",
       "470222            Evening               0              1           0  \n",
       "\n",
       "[5 rows x 42 columns]"
      ]
     },
     "execution_count": 62,
     "metadata": {},
     "output_type": "execute_result"
    }
   ],
   "source": [
    "df['snow_season']=((df['pickup_month']==1) | (df['pickup_month']==2)).astype(int)\n",
    "df.head()"
   ]
  },
  {
   "cell_type": "code",
   "execution_count": null,
   "id": "2dc16f03",
   "metadata": {},
   "outputs": [],
   "source": []
  },
  {
   "cell_type": "markdown",
   "id": "641c6c63",
   "metadata": {},
   "source": [
    "### Distance calculator between pickup and drop coordinates"
   ]
  },
  {
   "cell_type": "markdown",
   "id": "84b1fc06",
   "metadata": {},
   "source": [
    "- Distance and the fare amount has the direct correlation if distance increase fare will be increase\n",
    "- We will use python's geopy library to add column trip_distance which will have distance between two coordinates"
   ]
  },
  {
   "cell_type": "markdown",
   "id": "ffcbf0c6",
   "metadata": {},
   "source": [
    "###### using geopy library"
   ]
  },
  {
   "cell_type": "code",
   "execution_count": 63,
   "id": "9603908d",
   "metadata": {},
   "outputs": [],
   "source": [
    "from geopy.distance import geodesic\n",
    "\n",
    "def distance_calculate(lat,long,drop_lat,drop_long):    \n",
    "    newport_ri = (lat,long)\n",
    "    cleveland_oh = (drop_lat,drop_long)\n",
    "    dist=geodesic(newport_ri, cleveland_oh).miles\n",
    "    return dist"
   ]
  },
  {
   "cell_type": "code",
   "execution_count": 64,
   "id": "2dc7a048",
   "metadata": {},
   "outputs": [
    {
     "data": {
      "text/html": [
       "<div>\n",
       "<style scoped>\n",
       "    .dataframe tbody tr th:only-of-type {\n",
       "        vertical-align: middle;\n",
       "    }\n",
       "\n",
       "    .dataframe tbody tr th {\n",
       "        vertical-align: top;\n",
       "    }\n",
       "\n",
       "    .dataframe thead th {\n",
       "        text-align: right;\n",
       "    }\n",
       "</style>\n",
       "<table border=\"1\" class=\"dataframe\">\n",
       "  <thead>\n",
       "    <tr style=\"text-align: right;\">\n",
       "      <th></th>\n",
       "      <th>VendorID</th>\n",
       "      <th>pickup_datetime</th>\n",
       "      <th>dropoff_datetime</th>\n",
       "      <th>passenger_count</th>\n",
       "      <th>trip_distance</th>\n",
       "      <th>RatecodeID</th>\n",
       "      <th>store_and_fwd_flag</th>\n",
       "      <th>PULocationID</th>\n",
       "      <th>DOLocationID</th>\n",
       "      <th>payment_type</th>\n",
       "      <th>...</th>\n",
       "      <th>dropoff_month</th>\n",
       "      <th>pickup_year</th>\n",
       "      <th>dropoff_year</th>\n",
       "      <th>trip_duration</th>\n",
       "      <th>pickup_timeofday</th>\n",
       "      <th>dropoff_timeofday</th>\n",
       "      <th>mid_night_trip</th>\n",
       "      <th>rush_hour_trip</th>\n",
       "      <th>snow_season</th>\n",
       "      <th>distance_lib</th>\n",
       "    </tr>\n",
       "  </thead>\n",
       "  <tbody>\n",
       "    <tr>\n",
       "      <th>49247</th>\n",
       "      <td>2.0</td>\n",
       "      <td>2020-01-25 11:48:29</td>\n",
       "      <td>2020-01-25 12:08:17</td>\n",
       "      <td>1</td>\n",
       "      <td>2.43</td>\n",
       "      <td>1.0</td>\n",
       "      <td>N</td>\n",
       "      <td>164</td>\n",
       "      <td>158</td>\n",
       "      <td>1.0</td>\n",
       "      <td>...</td>\n",
       "      <td>1</td>\n",
       "      <td>2020</td>\n",
       "      <td>2020</td>\n",
       "      <td>1188</td>\n",
       "      <td>Morning</td>\n",
       "      <td>Afternoon</td>\n",
       "      <td>0</td>\n",
       "      <td>0</td>\n",
       "      <td>1</td>\n",
       "      <td>1.506024</td>\n",
       "    </tr>\n",
       "    <tr>\n",
       "      <th>944176</th>\n",
       "      <td>2.0</td>\n",
       "      <td>2021-07-30 01:16:24</td>\n",
       "      <td>2021-07-30 01:24:19</td>\n",
       "      <td>3</td>\n",
       "      <td>2.58</td>\n",
       "      <td>1.0</td>\n",
       "      <td>N</td>\n",
       "      <td>114</td>\n",
       "      <td>233</td>\n",
       "      <td>2.0</td>\n",
       "      <td>...</td>\n",
       "      <td>7</td>\n",
       "      <td>2021</td>\n",
       "      <td>2021</td>\n",
       "      <td>475</td>\n",
       "      <td>Late night</td>\n",
       "      <td>Late night</td>\n",
       "      <td>1</td>\n",
       "      <td>0</td>\n",
       "      <td>0</td>\n",
       "      <td>2.667542</td>\n",
       "    </tr>\n",
       "    <tr>\n",
       "      <th>882776</th>\n",
       "      <td>2.0</td>\n",
       "      <td>2021-06-07 12:07:06</td>\n",
       "      <td>2021-06-07 12:19:25</td>\n",
       "      <td>1</td>\n",
       "      <td>2.05</td>\n",
       "      <td>1.0</td>\n",
       "      <td>N</td>\n",
       "      <td>236</td>\n",
       "      <td>163</td>\n",
       "      <td>1.0</td>\n",
       "      <td>...</td>\n",
       "      <td>6</td>\n",
       "      <td>2021</td>\n",
       "      <td>2021</td>\n",
       "      <td>739</td>\n",
       "      <td>Afternoon</td>\n",
       "      <td>Afternoon</td>\n",
       "      <td>0</td>\n",
       "      <td>0</td>\n",
       "      <td>0</td>\n",
       "      <td>1.238014</td>\n",
       "    </tr>\n",
       "    <tr>\n",
       "      <th>175638</th>\n",
       "      <td>2.0</td>\n",
       "      <td>2020-04-20 15:41:12</td>\n",
       "      <td>2020-04-20 15:48:33</td>\n",
       "      <td>1</td>\n",
       "      <td>1.95</td>\n",
       "      <td>1.0</td>\n",
       "      <td>N</td>\n",
       "      <td>229</td>\n",
       "      <td>107</td>\n",
       "      <td>1.0</td>\n",
       "      <td>...</td>\n",
       "      <td>4</td>\n",
       "      <td>2020</td>\n",
       "      <td>2020</td>\n",
       "      <td>441</td>\n",
       "      <td>Afternoon</td>\n",
       "      <td>Afternoon</td>\n",
       "      <td>0</td>\n",
       "      <td>0</td>\n",
       "      <td>0</td>\n",
       "      <td>1.927535</td>\n",
       "    </tr>\n",
       "    <tr>\n",
       "      <th>470222</th>\n",
       "      <td>2.0</td>\n",
       "      <td>2020-10-22 21:01:03</td>\n",
       "      <td>2020-10-23 20:17:20</td>\n",
       "      <td>1</td>\n",
       "      <td>3.92</td>\n",
       "      <td>1.0</td>\n",
       "      <td>N</td>\n",
       "      <td>186</td>\n",
       "      <td>238</td>\n",
       "      <td>2.0</td>\n",
       "      <td>...</td>\n",
       "      <td>10</td>\n",
       "      <td>2020</td>\n",
       "      <td>2020</td>\n",
       "      <td>83777</td>\n",
       "      <td>Evening</td>\n",
       "      <td>Evening</td>\n",
       "      <td>0</td>\n",
       "      <td>1</td>\n",
       "      <td>0</td>\n",
       "      <td>2.252456</td>\n",
       "    </tr>\n",
       "  </tbody>\n",
       "</table>\n",
       "<p>5 rows × 43 columns</p>\n",
       "</div>"
      ],
      "text/plain": [
       "        VendorID     pickup_datetime    dropoff_datetime  passenger_count  \\\n",
       "49247        2.0 2020-01-25 11:48:29 2020-01-25 12:08:17                1   \n",
       "944176       2.0 2021-07-30 01:16:24 2021-07-30 01:24:19                3   \n",
       "882776       2.0 2021-06-07 12:07:06 2021-06-07 12:19:25                1   \n",
       "175638       2.0 2020-04-20 15:41:12 2020-04-20 15:48:33                1   \n",
       "470222       2.0 2020-10-22 21:01:03 2020-10-23 20:17:20                1   \n",
       "\n",
       "        trip_distance  RatecodeID store_and_fwd_flag  PULocationID  \\\n",
       "49247            2.43         1.0                  N           164   \n",
       "944176           2.58         1.0                  N           114   \n",
       "882776           2.05         1.0                  N           236   \n",
       "175638           1.95         1.0                  N           229   \n",
       "470222           3.92         1.0                  N           186   \n",
       "\n",
       "        DOLocationID  payment_type  ...  dropoff_month  pickup_year  \\\n",
       "49247            158           1.0  ...              1         2020   \n",
       "944176           233           2.0  ...              7         2021   \n",
       "882776           163           1.0  ...              6         2021   \n",
       "175638           107           1.0  ...              4         2020   \n",
       "470222           238           2.0  ...             10         2020   \n",
       "\n",
       "        dropoff_year  trip_duration  pickup_timeofday  dropoff_timeofday  \\\n",
       "49247           2020           1188           Morning          Afternoon   \n",
       "944176          2021            475        Late night         Late night   \n",
       "882776          2021            739         Afternoon          Afternoon   \n",
       "175638          2020            441         Afternoon          Afternoon   \n",
       "470222          2020          83777           Evening            Evening   \n",
       "\n",
       "        mid_night_trip  rush_hour_trip snow_season distance_lib  \n",
       "49247                0               0           1     1.506024  \n",
       "944176               1               0           0     2.667542  \n",
       "882776               0               0           0     1.238014  \n",
       "175638               0               0           0     1.927535  \n",
       "470222               0               1           0     2.252456  \n",
       "\n",
       "[5 rows x 43 columns]"
      ]
     },
     "execution_count": 64,
     "metadata": {},
     "output_type": "execute_result"
    }
   ],
   "source": [
    "df['distance_lib']=list(map(distance_calculate,df['pickup_latitude'],df['pickup_longitude'],df['dropoff_latitude'],df['dropoff_longitude']))\n",
    "df.head()"
   ]
  },
  {
   "cell_type": "markdown",
   "id": "74d89ae4",
   "metadata": {},
   "source": [
    "###### using haverstine dsitance formula"
   ]
  },
  {
   "cell_type": "code",
   "execution_count": 65,
   "id": "781ae3d9",
   "metadata": {},
   "outputs": [],
   "source": [
    "from math import radians, cos, sin, asin, sqrt\n",
    "\n",
    "def haversine_distance(row):\n",
    "#     lon1, lat1, lon2, lat2):\n",
    "    \"\"\"\n",
    "    Calculate the circle distance between two points in lat and lon\n",
    "    on the earth (specified in decimal degrees)\n",
    "    returning distance in miles\n",
    "    \"\"\"\n",
    "    # need to convert decimal degrees to radians \n",
    "    # a unit of angle, equal to an angle at the center of a circle whose arc is equal in length to the radius.\n",
    "    lon1, lat1, lon2, lat2 = row['pickup_longitude'], row['pickup_latitude'], row['dropoff_longitude'], row['dropoff_latitude']\n",
    "    lon1, lat1, lon2, lat2 = map(radians, [lon1, lat1, lon2, lat2])\n",
    "\n",
    "    # haversine formula \n",
    "    dlon = lon2 - lon1 \n",
    "    dlat = lat2 - lat1 \n",
    "    a = sin(dlat/2)**2 + cos(lat1) * cos(lat2) * sin(dlon/2)**2\n",
    "    c = 2 * asin(sqrt(a)) \n",
    "    r = 3965 # Radius of earth in kilometers (6371 for kms). Use 3956 for miles\n",
    "    return c * r\n",
    "#applying to the dataset\n",
    "df['haversine_distance'] = df.apply(haversine_distance, axis=1)"
   ]
  },
  {
   "cell_type": "code",
   "execution_count": 66,
   "id": "c08aee78",
   "metadata": {},
   "outputs": [
    {
     "data": {
      "text/html": [
       "<div>\n",
       "<style scoped>\n",
       "    .dataframe tbody tr th:only-of-type {\n",
       "        vertical-align: middle;\n",
       "    }\n",
       "\n",
       "    .dataframe tbody tr th {\n",
       "        vertical-align: top;\n",
       "    }\n",
       "\n",
       "    .dataframe thead th {\n",
       "        text-align: right;\n",
       "    }\n",
       "</style>\n",
       "<table border=\"1\" class=\"dataframe\">\n",
       "  <thead>\n",
       "    <tr style=\"text-align: right;\">\n",
       "      <th></th>\n",
       "      <th>VendorID</th>\n",
       "      <th>pickup_datetime</th>\n",
       "      <th>dropoff_datetime</th>\n",
       "      <th>passenger_count</th>\n",
       "      <th>trip_distance</th>\n",
       "      <th>RatecodeID</th>\n",
       "      <th>store_and_fwd_flag</th>\n",
       "      <th>PULocationID</th>\n",
       "      <th>DOLocationID</th>\n",
       "      <th>payment_type</th>\n",
       "      <th>...</th>\n",
       "      <th>pickup_year</th>\n",
       "      <th>dropoff_year</th>\n",
       "      <th>trip_duration</th>\n",
       "      <th>pickup_timeofday</th>\n",
       "      <th>dropoff_timeofday</th>\n",
       "      <th>mid_night_trip</th>\n",
       "      <th>rush_hour_trip</th>\n",
       "      <th>snow_season</th>\n",
       "      <th>distance_lib</th>\n",
       "      <th>haversine_distance</th>\n",
       "    </tr>\n",
       "  </thead>\n",
       "  <tbody>\n",
       "    <tr>\n",
       "      <th>49247</th>\n",
       "      <td>2.0</td>\n",
       "      <td>2020-01-25 11:48:29</td>\n",
       "      <td>2020-01-25 12:08:17</td>\n",
       "      <td>1</td>\n",
       "      <td>2.43</td>\n",
       "      <td>1.0</td>\n",
       "      <td>N</td>\n",
       "      <td>164</td>\n",
       "      <td>158</td>\n",
       "      <td>1.0</td>\n",
       "      <td>...</td>\n",
       "      <td>2020</td>\n",
       "      <td>2020</td>\n",
       "      <td>1188</td>\n",
       "      <td>Morning</td>\n",
       "      <td>Afternoon</td>\n",
       "      <td>0</td>\n",
       "      <td>0</td>\n",
       "      <td>1</td>\n",
       "      <td>1.506024</td>\n",
       "      <td>1.505816</td>\n",
       "    </tr>\n",
       "    <tr>\n",
       "      <th>944176</th>\n",
       "      <td>2.0</td>\n",
       "      <td>2021-07-30 01:16:24</td>\n",
       "      <td>2021-07-30 01:24:19</td>\n",
       "      <td>3</td>\n",
       "      <td>2.58</td>\n",
       "      <td>1.0</td>\n",
       "      <td>N</td>\n",
       "      <td>114</td>\n",
       "      <td>233</td>\n",
       "      <td>2.0</td>\n",
       "      <td>...</td>\n",
       "      <td>2021</td>\n",
       "      <td>2021</td>\n",
       "      <td>475</td>\n",
       "      <td>Late night</td>\n",
       "      <td>Late night</td>\n",
       "      <td>1</td>\n",
       "      <td>0</td>\n",
       "      <td>0</td>\n",
       "      <td>2.667542</td>\n",
       "      <td>2.670020</td>\n",
       "    </tr>\n",
       "    <tr>\n",
       "      <th>882776</th>\n",
       "      <td>2.0</td>\n",
       "      <td>2021-06-07 12:07:06</td>\n",
       "      <td>2021-06-07 12:19:25</td>\n",
       "      <td>1</td>\n",
       "      <td>2.05</td>\n",
       "      <td>1.0</td>\n",
       "      <td>N</td>\n",
       "      <td>236</td>\n",
       "      <td>163</td>\n",
       "      <td>1.0</td>\n",
       "      <td>...</td>\n",
       "      <td>2021</td>\n",
       "      <td>2021</td>\n",
       "      <td>739</td>\n",
       "      <td>Afternoon</td>\n",
       "      <td>Afternoon</td>\n",
       "      <td>0</td>\n",
       "      <td>0</td>\n",
       "      <td>0</td>\n",
       "      <td>1.238014</td>\n",
       "      <td>1.236812</td>\n",
       "    </tr>\n",
       "    <tr>\n",
       "      <th>175638</th>\n",
       "      <td>2.0</td>\n",
       "      <td>2020-04-20 15:41:12</td>\n",
       "      <td>2020-04-20 15:48:33</td>\n",
       "      <td>1</td>\n",
       "      <td>1.95</td>\n",
       "      <td>1.0</td>\n",
       "      <td>N</td>\n",
       "      <td>229</td>\n",
       "      <td>107</td>\n",
       "      <td>1.0</td>\n",
       "      <td>...</td>\n",
       "      <td>2020</td>\n",
       "      <td>2020</td>\n",
       "      <td>441</td>\n",
       "      <td>Afternoon</td>\n",
       "      <td>Afternoon</td>\n",
       "      <td>0</td>\n",
       "      <td>0</td>\n",
       "      <td>0</td>\n",
       "      <td>1.927535</td>\n",
       "      <td>1.930342</td>\n",
       "    </tr>\n",
       "    <tr>\n",
       "      <th>470222</th>\n",
       "      <td>2.0</td>\n",
       "      <td>2020-10-22 21:01:03</td>\n",
       "      <td>2020-10-23 20:17:20</td>\n",
       "      <td>1</td>\n",
       "      <td>3.92</td>\n",
       "      <td>1.0</td>\n",
       "      <td>N</td>\n",
       "      <td>186</td>\n",
       "      <td>238</td>\n",
       "      <td>2.0</td>\n",
       "      <td>...</td>\n",
       "      <td>2020</td>\n",
       "      <td>2020</td>\n",
       "      <td>83777</td>\n",
       "      <td>Evening</td>\n",
       "      <td>Evening</td>\n",
       "      <td>0</td>\n",
       "      <td>1</td>\n",
       "      <td>0</td>\n",
       "      <td>2.252456</td>\n",
       "      <td>2.258275</td>\n",
       "    </tr>\n",
       "  </tbody>\n",
       "</table>\n",
       "<p>5 rows × 44 columns</p>\n",
       "</div>"
      ],
      "text/plain": [
       "        VendorID     pickup_datetime    dropoff_datetime  passenger_count  \\\n",
       "49247        2.0 2020-01-25 11:48:29 2020-01-25 12:08:17                1   \n",
       "944176       2.0 2021-07-30 01:16:24 2021-07-30 01:24:19                3   \n",
       "882776       2.0 2021-06-07 12:07:06 2021-06-07 12:19:25                1   \n",
       "175638       2.0 2020-04-20 15:41:12 2020-04-20 15:48:33                1   \n",
       "470222       2.0 2020-10-22 21:01:03 2020-10-23 20:17:20                1   \n",
       "\n",
       "        trip_distance  RatecodeID store_and_fwd_flag  PULocationID  \\\n",
       "49247            2.43         1.0                  N           164   \n",
       "944176           2.58         1.0                  N           114   \n",
       "882776           2.05         1.0                  N           236   \n",
       "175638           1.95         1.0                  N           229   \n",
       "470222           3.92         1.0                  N           186   \n",
       "\n",
       "        DOLocationID  payment_type  ...  pickup_year  dropoff_year  \\\n",
       "49247            158           1.0  ...         2020          2020   \n",
       "944176           233           2.0  ...         2021          2021   \n",
       "882776           163           1.0  ...         2021          2021   \n",
       "175638           107           1.0  ...         2020          2020   \n",
       "470222           238           2.0  ...         2020          2020   \n",
       "\n",
       "        trip_duration  pickup_timeofday  dropoff_timeofday  mid_night_trip  \\\n",
       "49247            1188           Morning          Afternoon               0   \n",
       "944176            475        Late night         Late night               1   \n",
       "882776            739         Afternoon          Afternoon               0   \n",
       "175638            441         Afternoon          Afternoon               0   \n",
       "470222          83777           Evening            Evening               0   \n",
       "\n",
       "        rush_hour_trip  snow_season distance_lib haversine_distance  \n",
       "49247                0            1     1.506024           1.505816  \n",
       "944176               0            0     2.667542           2.670020  \n",
       "882776               0            0     1.238014           1.236812  \n",
       "175638               0            0     1.927535           1.930342  \n",
       "470222               1            0     2.252456           2.258275  \n",
       "\n",
       "[5 rows x 44 columns]"
      ]
     },
     "execution_count": 66,
     "metadata": {},
     "output_type": "execute_result"
    }
   ],
   "source": [
    "df.head()"
   ]
  },
  {
   "cell_type": "markdown",
   "id": "e03f6b69",
   "metadata": {},
   "source": [
    "###### comparing both the calculated distances and getting it's mean as a value"
   ]
  },
  {
   "cell_type": "code",
   "execution_count": 67,
   "id": "0dcd80c8",
   "metadata": {},
   "outputs": [
    {
     "data": {
      "text/html": [
       "<div>\n",
       "<style scoped>\n",
       "    .dataframe tbody tr th:only-of-type {\n",
       "        vertical-align: middle;\n",
       "    }\n",
       "\n",
       "    .dataframe tbody tr th {\n",
       "        vertical-align: top;\n",
       "    }\n",
       "\n",
       "    .dataframe thead th {\n",
       "        text-align: right;\n",
       "    }\n",
       "</style>\n",
       "<table border=\"1\" class=\"dataframe\">\n",
       "  <thead>\n",
       "    <tr style=\"text-align: right;\">\n",
       "      <th></th>\n",
       "      <th>distance_lib</th>\n",
       "      <th>haversine_distance</th>\n",
       "    </tr>\n",
       "  </thead>\n",
       "  <tbody>\n",
       "    <tr>\n",
       "      <th>49247</th>\n",
       "      <td>1.506024</td>\n",
       "      <td>1.505816</td>\n",
       "    </tr>\n",
       "    <tr>\n",
       "      <th>944176</th>\n",
       "      <td>2.667542</td>\n",
       "      <td>2.670020</td>\n",
       "    </tr>\n",
       "    <tr>\n",
       "      <th>882776</th>\n",
       "      <td>1.238014</td>\n",
       "      <td>1.236812</td>\n",
       "    </tr>\n",
       "    <tr>\n",
       "      <th>175638</th>\n",
       "      <td>1.927535</td>\n",
       "      <td>1.930342</td>\n",
       "    </tr>\n",
       "    <tr>\n",
       "      <th>470222</th>\n",
       "      <td>2.252456</td>\n",
       "      <td>2.258275</td>\n",
       "    </tr>\n",
       "  </tbody>\n",
       "</table>\n",
       "</div>"
      ],
      "text/plain": [
       "        distance_lib  haversine_distance\n",
       "49247       1.506024            1.505816\n",
       "944176      2.667542            2.670020\n",
       "882776      1.238014            1.236812\n",
       "175638      1.927535            1.930342\n",
       "470222      2.252456            2.258275"
      ]
     },
     "execution_count": 67,
     "metadata": {},
     "output_type": "execute_result"
    }
   ],
   "source": [
    "df1 = df[['distance_lib', 'haversine_distance']]\n",
    "df1.head()"
   ]
  },
  {
   "cell_type": "code",
   "execution_count": 68,
   "id": "3cc711bb",
   "metadata": {},
   "outputs": [
    {
     "data": {
      "text/plain": [
       "49247     1.505920\n",
       "944176    2.668781\n",
       "882776    1.237413\n",
       "175638    1.928938\n",
       "470222    2.255365\n",
       "Name: trip_distance, dtype: float64"
      ]
     },
     "execution_count": 68,
     "metadata": {},
     "output_type": "execute_result"
    }
   ],
   "source": [
    "df['trip_distance'] = (df['distance_lib']+df['haversine_distance'])/2\n",
    "df['trip_distance'].head()"
   ]
  },
  {
   "cell_type": "code",
   "execution_count": 69,
   "id": "dd356d8f",
   "metadata": {},
   "outputs": [
    {
     "data": {
      "text/plain": [
       "Index(['VendorID', 'pickup_datetime', 'dropoff_datetime', 'passenger_count',\n",
       "       'trip_distance', 'RatecodeID', 'store_and_fwd_flag', 'PULocationID',\n",
       "       'DOLocationID', 'payment_type', 'fare_amount', 'extra', 'mta_tax',\n",
       "       'tip_amount', 'tolls_amount', 'improvement_surcharge', 'total_amount',\n",
       "       'congestion_surcharge', 'PU_zone', 'PU_borough', 'pickup_latitude',\n",
       "       'pickup_longitude', 'DO_zone', 'DO_borough', 'dropoff_latitude',\n",
       "       'dropoff_longitude', 'pickup_day', 'dropoff_day', 'pickup_day_no',\n",
       "       'dropoff_day_no', 'pickup_hour', 'dropoff_hour', 'pickup_month',\n",
       "       'dropoff_month', 'pickup_year', 'dropoff_year', 'trip_duration',\n",
       "       'pickup_timeofday', 'dropoff_timeofday', 'mid_night_trip',\n",
       "       'rush_hour_trip', 'snow_season', 'distance_lib', 'haversine_distance'],\n",
       "      dtype='object')"
      ]
     },
     "execution_count": 69,
     "metadata": {},
     "output_type": "execute_result"
    }
   ],
   "source": [
    "df.columns"
   ]
  },
  {
   "cell_type": "code",
   "execution_count": null,
   "id": "e02da4e4",
   "metadata": {},
   "outputs": [],
   "source": []
  },
  {
   "cell_type": "code",
   "execution_count": null,
   "id": "7df6e934",
   "metadata": {},
   "outputs": [],
   "source": []
  },
  {
   "cell_type": "markdown",
   "id": "f0512597",
   "metadata": {},
   "source": [
    "### Mapping"
   ]
  },
  {
   "cell_type": "markdown",
   "id": "2b877ccd",
   "metadata": {},
   "source": [
    "###### Convert specific pickup and drop Coordinates into location\n",
    "\n",
    "- We have set the boundary for the JFK Airport, Manhattan, Brooklyn, LaGuardia, Bronx"
   ]
  },
  {
   "cell_type": "code",
   "execution_count": 70,
   "id": "43360dd2",
   "metadata": {},
   "outputs": [],
   "source": [
    "#JFK Airport \n",
    "JFK={\"min_long\":-73.81,\n",
    "    \"min_lat\":40.63,\n",
    "    \"max_long\":-73.77,\n",
    "    \"max_lat\":40.67}\n",
    "\n",
    "#Manhattan \n",
    "Manhattan={\n",
    "    \"min_long\":-74.02,\n",
    "    \"min_lat\":40.70,\n",
    "    \"max_long\":-73.93,\n",
    "    \"max_lat\":40.85}\n",
    "\n",
    "#Brooklyn\n",
    "Brooklyn={\n",
    "    \"min_long\":-74.01,\n",
    "    \"min_lat\":40.62,\n",
    "    \"max_long\":-73.96,\n",
    "    \"max_lat\":40.70 }\n",
    "\n",
    "#LaGuardia\n",
    "LaGuardia={\n",
    "    \"min_long\":-73.89,\n",
    "    \"min_lat\":40.76,\n",
    "    \"max_long\":-73.85,\n",
    "    \"max_lat\":40.79}\n",
    "\n",
    "#Bronx\n",
    "Bronx={\n",
    "    \"min_long\":-73.935,\n",
    "    \"min_lat\":40.79,\n",
    "    \"max_long\":-73.88,\n",
    "    \"max_lat\":40.89}"
   ]
  },
  {
   "cell_type": "markdown",
   "id": "cfbe34bf",
   "metadata": {},
   "source": [
    "###### number of pickup from the lcoation"
   ]
  },
  {
   "cell_type": "code",
   "execution_count": 71,
   "id": "a7a1876f",
   "metadata": {},
   "outputs": [
    {
     "name": "stdout",
     "output_type": "stream",
     "text": [
      "JFK Pickup Total  (5208, 44)\n",
      "Manhattan Pickup Total  (180034, 44)\n",
      "Brroklyn Pickup Total  (1005, 44)\n",
      "Bronx Pickup Total  (3227, 44)\n",
      "LaGuardia Pickup Total  (4008, 44)\n"
     ]
    }
   ],
   "source": [
    "def pickup_place(place,train):\n",
    "    data=train[((train['pickup_latitude']>= place['min_lat']) & (train['pickup_latitude']<= place['max_lat']) & (train['pickup_longitude']>= place['min_long']) & (train['pickup_longitude']<= place['max_long']))]    \n",
    "    return data\n",
    "\n",
    "print(\"JFK Pickup Total \" , pickup_place(JFK,df).shape)\n",
    "print(\"Manhattan Pickup Total \" , pickup_place(Manhattan,df).shape)\n",
    "print(\"Brroklyn Pickup Total \" , pickup_place(Brooklyn,df).shape)\n",
    "print(\"Bronx Pickup Total \" , pickup_place(Bronx,df).shape)\n",
    "print(\"LaGuardia Pickup Total \" , pickup_place(LaGuardia,df).shape)"
   ]
  },
  {
   "cell_type": "markdown",
   "id": "6ced31f2",
   "metadata": {},
   "source": [
    "###### number of dropoff from the location"
   ]
  },
  {
   "cell_type": "code",
   "execution_count": 72,
   "id": "8faf8754",
   "metadata": {},
   "outputs": [
    {
     "name": "stdout",
     "output_type": "stream",
     "text": [
      "JFK Dropoff Total  (972, 44)\n",
      "Manhattan Dropoff Total  (174998, 44)\n",
      "Brroklyn Dropoff Total  (3484, 44)\n",
      "Bronx Dropoff Total  (5790, 44)\n",
      "LaGuardia Dropoff Total  (1369, 44)\n"
     ]
    }
   ],
   "source": [
    "def drop_place(place,train):\n",
    "    data=train[((train['dropoff_latitude']>= place['min_lat']) & (train['dropoff_latitude']<= place['max_lat']) & (train['dropoff_longitude']>= place['min_long']) & (train['dropoff_longitude']<= place['max_long']))]    \n",
    "    return data\n",
    "\n",
    "print(\"JFK Dropoff Total \" , drop_place(JFK,df).shape)\n",
    "print(\"Manhattan Dropoff Total \" , drop_place(Manhattan,df).shape)\n",
    "print(\"Brroklyn Dropoff Total \" , drop_place(Brooklyn,df).shape)\n",
    "print(\"Bronx Dropoff Total \" , drop_place(Bronx,df).shape)\n",
    "print(\"LaGuardia Dropoff Total \" , drop_place(LaGuardia,df).shape)"
   ]
  },
  {
   "cell_type": "markdown",
   "id": "55bf88e9",
   "metadata": {},
   "source": [
    "###### function for pickup"
   ]
  },
  {
   "cell_type": "code",
   "execution_count": 73,
   "id": "1503188b",
   "metadata": {},
   "outputs": [],
   "source": [
    "def plotPickupAreaEachPlace(Area,data,ax):\n",
    "    d=pickup_place(Area,data)\n",
    "    d.plot(y='pickup_latitude',x='pickup_longitude',kind=\"scatter\",alpha=0.7,s=0.02,ax=ax,figsize=(14,6))\n",
    "    city_long_border = (-74.03, -73.75)\n",
    "    city_lat_border = (40.63, 40.85)\n",
    "    plt.title(\"Pickups\")\n",
    "\n",
    "    plt.ylim(city_lat_border)\n",
    "    plt.xlim(city_long_border)\n",
    "    plt.show()"
   ]
  },
  {
   "cell_type": "code",
   "execution_count": 74,
   "id": "58af5c7b",
   "metadata": {},
   "outputs": [
    {
     "data": {
      "image/png": "[encoded data removed]",
      "text/plain": [
       "<Figure size 1008x432 with 1 Axes>"
      ]
     },
     "metadata": {
      "needs_background": "light"
     },
     "output_type": "display_data"
    },
    {
     "data": {
      "image/png": "[encoded data removed]",
      "text/plain": [
       "<Figure size 1008x432 with 1 Axes>"
      ]
     },
     "metadata": {
      "needs_background": "light"
     },
     "output_type": "display_data"
    },
    {
     "data": {
      "image/png": "[encoded data removed]",
      "text/plain": [
       "<Figure size 1008x432 with 1 Axes>"
      ]
     },
     "metadata": {
      "needs_background": "light"
     },
     "output_type": "display_data"
    },
    {
     "data": {
      "image/png": "[encoded data removed]",
      "text/plain": [
       "<Figure size 1008x432 with 1 Axes>"
      ]
     },
     "metadata": {
      "needs_background": "light"
     },
     "output_type": "display_data"
    },
    {
     "data": {
      "image/png": "[encoded data removed]",
      "text/plain": [
       "<Figure size 1008x432 with 1 Axes>"
      ]
     },
     "metadata": {
      "needs_background": "light"
     },
     "output_type": "display_data"
    }
   ],
   "source": [
    "ax=plt.subplot(2,3,1)\n",
    "plotPickupAreaEachPlace(JFK,df,ax)\n",
    "ax=plt.subplot(2,3,2)\n",
    "plotPickupAreaEachPlace(Manhattan,df,ax)\n",
    "ax=plt.subplot(2,3,3)\n",
    "plotPickupAreaEachPlace(Brooklyn,df,ax)\n",
    "ax=plt.subplot(2,3,4)\n",
    "plotPickupAreaEachPlace(Bronx,df,ax)\n",
    "ax=plt.subplot(2,3,5)\n",
    "plotPickupAreaEachPlace(LaGuardia,df,ax)"
   ]
  },
  {
   "cell_type": "markdown",
   "id": "407c3a9b",
   "metadata": {},
   "source": [
    "###### function for drop off from the boroughs"
   ]
  },
  {
   "cell_type": "code",
   "execution_count": 75,
   "id": "afd55f8b",
   "metadata": {},
   "outputs": [],
   "source": [
    "def plotDropAreaEachPlace(Area,data,ax):\n",
    "    d=drop_place(Area,data)\n",
    "    d.plot(y='dropoff_latitude',x='dropoff_longitude',kind=\"scatter\",alpha=0.7,s=0.02,ax=ax,figsize=(14,6))\n",
    "    city_long_border = (-74.03, -73.75)\n",
    "    city_lat_border = (40.63, 40.85)\n",
    "    plt.title(\"Pickups\")\n",
    "\n",
    "    plt.ylim(city_lat_border)\n",
    "    plt.xlim(city_long_border)\n",
    "    plt.show()"
   ]
  },
  {
   "cell_type": "code",
   "execution_count": 76,
   "id": "492fa0af",
   "metadata": {},
   "outputs": [
    {
     "data": {
      "image/png": "[encoded data removed]",
      "text/plain": [
       "<Figure size 1008x432 with 1 Axes>"
      ]
     },
     "metadata": {
      "needs_background": "light"
     },
     "output_type": "display_data"
    },
    {
     "data": {
      "image/png": "[encoded data removed]",
      "text/plain": [
       "<Figure size 1008x432 with 1 Axes>"
      ]
     },
     "metadata": {
      "needs_background": "light"
     },
     "output_type": "display_data"
    },
    {
     "data": {
      "image/png": "[encoded data removed]",
      "text/plain": [
       "<Figure size 1008x432 with 1 Axes>"
      ]
     },
     "metadata": {
      "needs_background": "light"
     },
     "output_type": "display_data"
    },
    {
     "data": {
      "image/png": "[encoded data removed]",
      "text/plain": [
       "<Figure size 1008x432 with 1 Axes>"
      ]
     },
     "metadata": {
      "needs_background": "light"
     },
     "output_type": "display_data"
    },
    {
     "data": {
      "image/png": "[encoded data removed]",
      "text/plain": [
       "<Figure size 1008x432 with 1 Axes>"
      ]
     },
     "metadata": {
      "needs_background": "light"
     },
     "output_type": "display_data"
    }
   ],
   "source": [
    "ax=plt.subplot(2,3,1)\n",
    "plotDropAreaEachPlace(JFK,df,ax)\n",
    "ax=plt.subplot(2,3,2)\n",
    "plotDropAreaEachPlace(Manhattan,df,ax)\n",
    "ax=plt.subplot(2,3,3)\n",
    "plotDropAreaEachPlace(Brooklyn,df,ax)\n",
    "ax=plt.subplot(2,3,4)\n",
    "plotDropAreaEachPlace(Bronx,df,ax)\n",
    "ax=plt.subplot(2,3,5)\n",
    "plotDropAreaEachPlace(LaGuardia,df,ax)"
   ]
  },
  {
   "cell_type": "markdown",
   "id": "bff2e60e",
   "metadata": {},
   "source": [
    "place_mapping function which will take lat,lang and bounday area varibale it will map to particular area\n",
    "\n",
    "It will return 1 if particular lat,lang's are within specific boundary.\n",
    "\n",
    "e.g pickup coordinates which are within boundary for JFK Airport said to be JFK pickup trip and vice versa for drop"
   ]
  },
  {
   "cell_type": "code",
   "execution_count": 77,
   "id": "6ce61b73",
   "metadata": {},
   "outputs": [],
   "source": [
    "def place_mapping(lat,lang,place_area):\n",
    "    if (lat>= place_area['min_lat']) & (lat<= place_area['max_lat']) & (lang>= place_area['min_long']) & (lang<= place_area['max_long']):\n",
    "        return 1\n",
    "    return 0"
   ]
  },
  {
   "cell_type": "code",
   "execution_count": 78,
   "id": "a61ac4ff",
   "metadata": {},
   "outputs": [],
   "source": [
    "df['pickup_manhattan']=df.apply(lambda row:place_mapping(row['pickup_latitude'],row['pickup_longitude'],Manhattan),axis=1)\n",
    "df['pickup_jfk']=df.apply(lambda row:place_mapping(row['pickup_latitude'],row['pickup_longitude'],JFK),axis=1)\n",
    "df['pickup_brooklyn']=df.apply(lambda row:place_mapping(row['pickup_latitude'],row['pickup_longitude'],Brooklyn),axis=1)\n",
    "df['pickup_bronx']=df.apply(lambda row:place_mapping(row['pickup_latitude'],row['pickup_longitude'],Bronx),axis=1)\n",
    "df['pickup_laGuardia']=df.apply(lambda row:place_mapping(row['pickup_latitude'],row['pickup_longitude'],LaGuardia),axis=1)"
   ]
  },
  {
   "cell_type": "code",
   "execution_count": 79,
   "id": "76da705c",
   "metadata": {},
   "outputs": [],
   "source": [
    "df['drop_manhattan']=df.apply(lambda row:place_mapping(row['dropoff_latitude'],row['dropoff_longitude'],Manhattan),axis=1)\n",
    "df['drop_jfk']=df.apply(lambda row:place_mapping(row['dropoff_latitude'],row['dropoff_longitude'],JFK),axis=1)\n",
    "df['drop_brooklyn']=df.apply(lambda row:place_mapping(row['dropoff_latitude'],row['dropoff_longitude'],Brooklyn),axis=1)\n",
    "df['drop_bronx']=df.apply(lambda row:place_mapping(row['dropoff_latitude'],row['dropoff_longitude'],Bronx),axis=1)\n",
    "df['drop_laGuardia']=df.apply(lambda row:place_mapping(row['dropoff_latitude'],row['dropoff_longitude'],LaGuardia),axis=1)"
   ]
  },
  {
   "cell_type": "markdown",
   "id": "70151c7c",
   "metadata": {},
   "source": [
    "Airport trip has the fixed rate so it is good to have a column which show whether trip is airport trip or not"
   ]
  },
  {
   "cell_type": "code",
   "execution_count": 80,
   "id": "adb2ef1a",
   "metadata": {},
   "outputs": [],
   "source": [
    "def isAirportTrip(pickupJFK,dropJFK,pickupLaG,dropLaG):    \n",
    "    if pickupJFK==1 or dropJFK==1 or pickupLaG==1 or dropLaG==1:\n",
    "        return 1\n",
    "    return 0"
   ]
  },
  {
   "cell_type": "code",
   "execution_count": 81,
   "id": "4f122142",
   "metadata": {},
   "outputs": [],
   "source": [
    "df['isAirportTrip']=df.apply(lambda row:isAirportTrip(row['pickup_jfk'],row['drop_jfk'],row['pickup_laGuardia'],row['drop_laGuardia']),axis=1)"
   ]
  },
  {
   "cell_type": "markdown",
   "id": "b1b2978c",
   "metadata": {},
   "source": [
    "Till here we have pre-processed our data and feature engineering done"
   ]
  },
  {
   "cell_type": "code",
   "execution_count": null,
   "id": "23d8598c",
   "metadata": {},
   "outputs": [],
   "source": []
  },
  {
   "cell_type": "code",
   "execution_count": null,
   "id": "53ec533a",
   "metadata": {},
   "outputs": [],
   "source": []
  },
  {
   "cell_type": "markdown",
   "id": "d26016ac",
   "metadata": {},
   "source": [
    "# Save the pre-processed and feature_eng data in CSV file"
   ]
  },
  {
   "cell_type": "code",
   "execution_count": 82,
   "id": "a950c541",
   "metadata": {},
   "outputs": [],
   "source": [
    "from secrets import access_key, secret_access_key"
   ]
  },
  {
   "cell_type": "code",
   "execution_count": 83,
   "id": "fb0a1678",
   "metadata": {},
   "outputs": [],
   "source": [
    "client = boto3.client('s3',\n",
    "                        aws_access_key_id = access_key,\n",
    "                        aws_secret_access_key = secret_access_key)"
   ]
  },
  {
   "cell_type": "code",
   "execution_count": 84,
   "id": "7ad4b8c5",
   "metadata": {},
   "outputs": [],
   "source": [
    "df.to_csv(\"./feature_model.csv\",index=False)"
   ]
  },
  {
   "cell_type": "code",
   "execution_count": 85,
   "id": "ff196a7c",
   "metadata": {},
   "outputs": [
    {
     "name": "stdout",
     "output_type": "stream",
     "text": [
      "Uploaded on AWS\n"
     ]
    }
   ],
   "source": [
    "client.upload_file('./feature_model.csv', 'nyc-taxi-system', 'feature_model.csv')\n",
    "print(\"Uploaded on AWS\")\n",
    "# os.remove('./feature_model.csv')\n",
    "# print(\"File removed\")"
   ]
  },
  {
   "cell_type": "code",
   "execution_count": null,
   "id": "fa9be4c6",
   "metadata": {},
   "outputs": [],
   "source": []
  },
  {
   "cell_type": "code",
   "execution_count": null,
   "id": "7ffc4b38",
   "metadata": {},
   "outputs": [],
   "source": []
  },
  {
   "cell_type": "code",
   "execution_count": null,
   "id": "744a1396",
   "metadata": {},
   "outputs": [],
   "source": []
  },
  {
   "cell_type": "code",
   "execution_count": null,
   "id": "0c68bba5",
   "metadata": {},
   "outputs": [],
   "source": []
  },
  {
   "cell_type": "code",
   "execution_count": null,
   "id": "c8acfc99",
   "metadata": {},
   "outputs": [],
   "source": []
  }
 ],
 "metadata": {
  "kernelspec": {
   "display_name": "Python 3 (ipykernel)",
   "language": "python",
   "name": "python3"
  },
  "language_info": {
   "codemirror_mode": {
    "name": "ipython",
    "version": 3
   },
   "file_extension": ".py",
   "mimetype": "text/x-python",
   "name": "python",
   "nbconvert_exporter": "python",
   "pygments_lexer": "ipython3",
   "version": "3.9.7"
  }
 },
 "nbformat": 4,
 "nbformat_minor": 5
}

{
 "cells": [
  {
   "cell_type": "markdown",
   "id": "870aa1aa",
   "metadata": {},
   "source": [
    "## importing required packages"
   ]
  },
  {
   "cell_type": "code",
   "execution_count": null,
   "id": "316801ea",
   "metadata": {},
   "outputs": [],
   "source": []
  },
  {
   "cell_type": "markdown",
   "id": "79faf444",
   "metadata": {},
   "source": [
    "- import numpy for linear algebra\n",
    "- import pandas for loading the dataset, data processing\n",
    "- import matplotlib and seaborn for visualization"
   ]
  },
  {
   "cell_type": "code",
   "execution_count": 1,
   "id": "4ed31b29",
   "metadata": {},
   "outputs": [],
   "source": [
    "import numpy as np\n",
    "import pandas as pd\n",
    "import matplotlib.pyplot as plt\n",
    "import seaborn as sns"
   ]
  },
  {
   "cell_type": "code",
   "execution_count": null,
   "id": "d7d1863d",
   "metadata": {},
   "outputs": [],
   "source": []
  },
  {
   "cell_type": "code",
   "execution_count": null,
   "id": "c8a88409",
   "metadata": {},
   "outputs": [],
   "source": []
  },
  {
   "cell_type": "markdown",
   "id": "8b560c5b",
   "metadata": {},
   "source": [
    "## load the datasets\n",
    "\n",
    "- to take the sample :\n",
    "  - we sample() function of pandas to extract sample from pandas.dataframe, using the random sampling method"
   ]
  },
  {
   "cell_type": "code",
   "execution_count": null,
   "id": "9ca95be6",
   "metadata": {},
   "outputs": [],
   "source": []
  },
  {
   "cell_type": "markdown",
   "id": "9a89cbdc",
   "metadata": {},
   "source": [
    "###### august, 2019"
   ]
  },
  {
   "cell_type": "code",
   "execution_count": 2,
   "id": "981a4bf6",
   "metadata": {},
   "outputs": [
    {
     "name": "stderr",
     "output_type": "stream",
     "text": [
      "C:\\Users\\onkar\\AppData\\Local\\Programs\\Python\\Python39\\lib\\site-packages\\IPython\\core\\interactiveshell.py:3444: DtypeWarning: Columns (6) have mixed types.Specify dtype option on import or set low_memory=False.\n",
      "  exec(code_obj, self.user_global_ns, self.user_ns)\n"
     ]
    }
   ],
   "source": [
    "df_2019_aug = pd.read_csv('D:/Project/Datasets ( from 01-2021 to 07-2021 )/yellow_tripdata_2019-08.csv')\n",
    "df20 = df_2019_aug.sample(n = 50000)\n",
    "# df20.head()\n",
    "# df_2019_aug.shape"
   ]
  },
  {
   "cell_type": "markdown",
   "id": "db3c0196",
   "metadata": {},
   "source": [
    "#### september, 2019"
   ]
  },
  {
   "cell_type": "code",
   "execution_count": 3,
   "id": "32238089",
   "metadata": {},
   "outputs": [],
   "source": [
    "df_2019_sept = pd.read_csv('D:/Project/Datasets ( from 01-2021 to 07-2021 )/yellow_tripdata_2019-09.csv')\n",
    "df21 = df_2019_sept.sample(n = 50000)\n",
    "# df1.head()\n",
    "# df_2019_sept.shape"
   ]
  },
  {
   "cell_type": "markdown",
   "id": "8659d983",
   "metadata": {},
   "source": [
    "#### october, 2019"
   ]
  },
  {
   "cell_type": "code",
   "execution_count": 4,
   "id": "160bbb58",
   "metadata": {},
   "outputs": [],
   "source": [
    "df_2019_oct = pd.read_csv('D:/Project/Datasets ( from 01-2021 to 07-2021 )/yellow_tripdata_2019-10.csv')\n",
    "df22 = df_2019_oct.sample(n = 50000)\n",
    "# df1.head()\n",
    "# df_2019_oct.shape"
   ]
  },
  {
   "cell_type": "markdown",
   "id": "eafba90a",
   "metadata": {},
   "source": [
    "#### november, 2019"
   ]
  },
  {
   "cell_type": "code",
   "execution_count": 5,
   "id": "e1429679",
   "metadata": {},
   "outputs": [],
   "source": [
    "df_2019_nov = pd.read_csv('D:/Project/Datasets ( from 01-2021 to 07-2021 )/yellow_tripdata_2019-11.csv')\n",
    "df23 = df_2019_nov.sample(n = 50000)\n",
    "# df1.head()\n",
    "# df_2019_nov.shape"
   ]
  },
  {
   "cell_type": "markdown",
   "id": "049ea2fb",
   "metadata": {},
   "source": [
    "#### december, 2019"
   ]
  },
  {
   "cell_type": "code",
   "execution_count": 6,
   "id": "85dcd9e9",
   "metadata": {},
   "outputs": [],
   "source": [
    "df_2019_dec = pd.read_csv('D:/Project/Datasets ( from 01-2021 to 07-2021 )/yellow_tripdata_2019-12.csv')\n",
    "df24 = df_2019_dec.sample(n = 50000)\n",
    "# df1.head()\n",
    "# df_2019_dec.shape"
   ]
  },
  {
   "cell_type": "markdown",
   "id": "82345258",
   "metadata": {},
   "source": [
    "#### january. 2020"
   ]
  },
  {
   "cell_type": "code",
   "execution_count": 7,
   "id": "7004ff27",
   "metadata": {},
   "outputs": [
    {
     "data": {
      "text/plain": [
       "(6405008, 18)"
      ]
     },
     "execution_count": 7,
     "metadata": {},
     "output_type": "execute_result"
    }
   ],
   "source": [
    "df_2020_jan = pd.read_csv('D:/Project/Datasets ( from 01-2021 to 07-2021 )/yellow_tripdata_2020-01.csv')\n",
    "df1 = df_2020_jan.sample(n = 50000)\n",
    "# df1.head()\n",
    "df_2020_jan.shape"
   ]
  },
  {
   "cell_type": "markdown",
   "id": "511c042d",
   "metadata": {},
   "source": [
    "###### february, 2020"
   ]
  },
  {
   "cell_type": "code",
   "execution_count": 8,
   "id": "551298b7",
   "metadata": {},
   "outputs": [],
   "source": [
    "df_2020_feb = pd.read_csv('D:/Project/Datasets ( from 01-2021 to 07-2021 )/yellow_tripdata_2020-02.csv')\n",
    "df2 = df_2020_feb.sample(n = 50000)\n",
    "# df2.head()"
   ]
  },
  {
   "cell_type": "markdown",
   "id": "ae7aa9c1",
   "metadata": {},
   "source": [
    "###### march, 2020"
   ]
  },
  {
   "cell_type": "code",
   "execution_count": 9,
   "id": "d6597ab8",
   "metadata": {},
   "outputs": [],
   "source": [
    "df_2020_mar = pd.read_csv('D:/Project/Datasets ( from 01-2021 to 07-2021 )/yellow_tripdata_2020-03.csv')\n",
    "df3 = df_2020_mar.sample(n = 50000)\n",
    "# df3.head()"
   ]
  },
  {
   "cell_type": "markdown",
   "id": "03c9959a",
   "metadata": {},
   "source": [
    "###### aprl, 2020"
   ]
  },
  {
   "cell_type": "code",
   "execution_count": 10,
   "id": "8e622925",
   "metadata": {},
   "outputs": [],
   "source": [
    "df_2020_apr = pd.read_csv('D:/Project/Datasets ( from 01-2021 to 07-2021 )/yellow_tripdata_2020-04.csv')\n",
    "df4 = df_2020_apr.sample(n = 50000)\n",
    "# df4.head()"
   ]
  },
  {
   "cell_type": "markdown",
   "id": "b8377c31",
   "metadata": {},
   "source": [
    "###### may, 2020"
   ]
  },
  {
   "cell_type": "code",
   "execution_count": 11,
   "id": "1a7f910e",
   "metadata": {},
   "outputs": [],
   "source": [
    "df_2020_may = pd.read_csv('D:/Project/Datasets ( from 01-2021 to 07-2021 )/yellow_tripdata_2020-05.csv')\n",
    "df5 = df_2020_may.sample(n = 50000)\n",
    "# df5.head()"
   ]
  },
  {
   "cell_type": "markdown",
   "id": "7fdf607e",
   "metadata": {},
   "source": [
    "###### june,2020"
   ]
  },
  {
   "cell_type": "code",
   "execution_count": 12,
   "id": "ff55acff",
   "metadata": {},
   "outputs": [],
   "source": [
    "df_2020_jun = pd.read_csv('D:/Project/Datasets ( from 01-2021 to 07-2021 )/yellow_tripdata_2020-06.csv')\n",
    "df6 = df_2020_jun.sample(n = 50000)\n",
    "# df6.head()"
   ]
  },
  {
   "cell_type": "markdown",
   "id": "d9570009",
   "metadata": {},
   "source": [
    "###### july, 2020"
   ]
  },
  {
   "cell_type": "code",
   "execution_count": 13,
   "id": "af6844f0",
   "metadata": {},
   "outputs": [],
   "source": [
    "df_2020_jul = pd.read_csv('D:/Project/Datasets ( from 01-2021 to 07-2021 )/yellow_tripdata_2020-07.csv')\n",
    "df7 = df_2020_jul.sample(n = 50000)\n",
    "# df7.head()"
   ]
  },
  {
   "cell_type": "markdown",
   "id": "62e18c33",
   "metadata": {},
   "source": [
    "###### august, 2020"
   ]
  },
  {
   "cell_type": "code",
   "execution_count": 14,
   "id": "6f11d7ae",
   "metadata": {},
   "outputs": [],
   "source": [
    "df_2020_aug = pd.read_csv('D:/Project/Datasets ( from 01-2021 to 07-2021 )/yellow_tripdata_2020-08.csv')\n",
    "df8 = df_2020_aug.sample(n = 50000)\n",
    "# df8.head()"
   ]
  },
  {
   "cell_type": "markdown",
   "id": "66be4315",
   "metadata": {},
   "source": [
    "###### september, 2020"
   ]
  },
  {
   "cell_type": "code",
   "execution_count": 15,
   "id": "72796c2d",
   "metadata": {},
   "outputs": [],
   "source": [
    "df_2020_sept = pd.read_csv('D:/Project/Datasets ( from 01-2021 to 07-2021 )/yellow_tripdata_2020-09.csv')\n",
    "df9 = df_2020_sept.sample(n = 50000)\n",
    "# df9.head()"
   ]
  },
  {
   "cell_type": "markdown",
   "id": "2599dc07",
   "metadata": {},
   "source": [
    "###### october, 2020"
   ]
  },
  {
   "cell_type": "code",
   "execution_count": 16,
   "id": "87511110",
   "metadata": {},
   "outputs": [],
   "source": [
    "df_2020_oct = pd.read_csv('D:/Project/Datasets ( from 01-2021 to 07-2021 )/yellow_tripdata_2020-10.csv')\n",
    "df10 = df_2020_oct.sample(n = 50000)\n",
    "# df10.head()"
   ]
  },
  {
   "cell_type": "markdown",
   "id": "cc2f3dfb",
   "metadata": {},
   "source": [
    "###### november, 2020"
   ]
  },
  {
   "cell_type": "code",
   "execution_count": 17,
   "id": "c412e57d",
   "metadata": {},
   "outputs": [],
   "source": [
    "df_2020_nov = pd.read_csv('D:/Project/Datasets ( from 01-2021 to 07-2021 )/yellow_tripdata_2020-11.csv')\n",
    "df11 = df_2020_nov.sample(n = 50000)\n",
    "# df11.head()"
   ]
  },
  {
   "cell_type": "markdown",
   "id": "c7d33c98",
   "metadata": {},
   "source": [
    "###### december, 2020"
   ]
  },
  {
   "cell_type": "code",
   "execution_count": 18,
   "id": "a53e8063",
   "metadata": {},
   "outputs": [],
   "source": [
    "df_2020_dec = pd.read_csv('D:/Project/Datasets ( from 01-2021 to 07-2021 )/yellow_tripdata_2020-12.csv')\n",
    "df12 = df_2020_dec.sample(n = 50000)\n",
    "# df12.head()"
   ]
  },
  {
   "cell_type": "markdown",
   "id": "c77730e0",
   "metadata": {},
   "source": [
    "###### january, 2021"
   ]
  },
  {
   "cell_type": "code",
   "execution_count": 19,
   "id": "0db5614d",
   "metadata": {},
   "outputs": [],
   "source": [
    "df_2021_jan = pd.read_csv('D:/Project/Datasets ( from 01-2021 to 07-2021 )/yellow_tripdata_2021-01.csv')\n",
    "df13 = df_2021_jan.sample(n = 50000)\n",
    "# df13.head()"
   ]
  },
  {
   "cell_type": "markdown",
   "id": "9a5060a0",
   "metadata": {},
   "source": [
    "###### february, 2021"
   ]
  },
  {
   "cell_type": "code",
   "execution_count": 20,
   "id": "dbccaef6",
   "metadata": {},
   "outputs": [],
   "source": [
    "df_2021_feb = pd.read_csv('D:/Project/Datasets ( from 01-2021 to 07-2021 )/yellow_tripdata_2021-02.csv')\n",
    "df14 = df_2021_feb.sample(n = 50000)\n",
    "# df14.head()"
   ]
  },
  {
   "cell_type": "markdown",
   "id": "c971bc87",
   "metadata": {},
   "source": [
    "###### march, 2021"
   ]
  },
  {
   "cell_type": "code",
   "execution_count": 21,
   "id": "5823a6ec",
   "metadata": {},
   "outputs": [],
   "source": [
    "df_2021_mar = pd.read_csv('D:/Project/Datasets ( from 01-2021 to 07-2021 )/yellow_tripdata_2021-03.csv')\n",
    "df15 = df_2021_mar.sample(n = 50000)\n",
    "# df15.head()"
   ]
  },
  {
   "cell_type": "markdown",
   "id": "7d34fca9",
   "metadata": {},
   "source": [
    "###### april, 2021"
   ]
  },
  {
   "cell_type": "code",
   "execution_count": 22,
   "id": "5decd019",
   "metadata": {},
   "outputs": [],
   "source": [
    "df_2021_apr = pd.read_csv('D:/Project/Datasets ( from 01-2021 to 07-2021 )/yellow_tripdata_2021-04.csv')\n",
    "df16 = df_2021_apr.sample(n = 50000)\n",
    "# df16.head()"
   ]
  },
  {
   "cell_type": "markdown",
   "id": "b83691b0",
   "metadata": {},
   "source": [
    "###### may, 2021"
   ]
  },
  {
   "cell_type": "code",
   "execution_count": 23,
   "id": "b57beca0",
   "metadata": {},
   "outputs": [],
   "source": [
    "df_2021_may = pd.read_csv('D:/Project/Datasets ( from 01-2021 to 07-2021 )/yellow_tripdata_2021-05.csv')\n",
    "df17 = df_2021_may.sample(n = 50000)\n",
    "# df17.head()"
   ]
  },
  {
   "cell_type": "markdown",
   "id": "037db926",
   "metadata": {},
   "source": [
    "###### june, 2021"
   ]
  },
  {
   "cell_type": "code",
   "execution_count": 24,
   "id": "96d8f2b1",
   "metadata": {},
   "outputs": [],
   "source": [
    "df_2021_jun = pd.read_csv('D:/Project/Datasets ( from 01-2021 to 07-2021 )/yellow_tripdata_2021-06.csv')\n",
    "df18 = df_2021_jun.sample(n = 50000)\n",
    "# df18.head()"
   ]
  },
  {
   "cell_type": "markdown",
   "id": "c76e4cad",
   "metadata": {},
   "source": [
    "###### july, 2021"
   ]
  },
  {
   "cell_type": "code",
   "execution_count": 25,
   "id": "6445e6f1",
   "metadata": {},
   "outputs": [],
   "source": [
    "df_2021_jul = pd.read_csv('D:/Project/Datasets ( from 01-2021 to 07-2021 )/yellow_tripdata_2021-07.csv')\n",
    "df19 = df_2021_jul.sample(n = 50000)\n",
    "# df19.head()"
   ]
  },
  {
   "cell_type": "code",
   "execution_count": null,
   "id": "e2a8cca1",
   "metadata": {},
   "outputs": [],
   "source": []
  },
  {
   "cell_type": "markdown",
   "id": "17609ad4",
   "metadata": {},
   "source": [
    "###### to merge the datasets:\n",
    "\n",
    "- we use the concat() function of pandas to merge all the samples of datasets"
   ]
  },
  {
   "cell_type": "code",
   "execution_count": 26,
   "id": "2a397138",
   "metadata": {},
   "outputs": [
    {
     "data": {
      "text/html": [
       "<div>\n",
       "<style scoped>\n",
       "    .dataframe tbody tr th:only-of-type {\n",
       "        vertical-align: middle;\n",
       "    }\n",
       "\n",
       "    .dataframe tbody tr th {\n",
       "        vertical-align: top;\n",
       "    }\n",
       "\n",
       "    .dataframe thead th {\n",
       "        text-align: right;\n",
       "    }\n",
       "</style>\n",
       "<table border=\"1\" class=\"dataframe\">\n",
       "  <thead>\n",
       "    <tr style=\"text-align: right;\">\n",
       "      <th></th>\n",
       "      <th>VendorID</th>\n",
       "      <th>tpep_pickup_datetime</th>\n",
       "      <th>tpep_dropoff_datetime</th>\n",
       "      <th>passenger_count</th>\n",
       "      <th>trip_distance</th>\n",
       "      <th>RatecodeID</th>\n",
       "      <th>store_and_fwd_flag</th>\n",
       "      <th>PULocationID</th>\n",
       "      <th>DOLocationID</th>\n",
       "      <th>payment_type</th>\n",
       "      <th>fare_amount</th>\n",
       "      <th>extra</th>\n",
       "      <th>mta_tax</th>\n",
       "      <th>tip_amount</th>\n",
       "      <th>tolls_amount</th>\n",
       "      <th>improvement_surcharge</th>\n",
       "      <th>total_amount</th>\n",
       "      <th>congestion_surcharge</th>\n",
       "    </tr>\n",
       "  </thead>\n",
       "  <tbody>\n",
       "    <tr>\n",
       "      <th>1202788</th>\n",
       "      <td>1.0</td>\n",
       "      <td>2020-01-07 21:38:40</td>\n",
       "      <td>2020-01-07 21:45:13</td>\n",
       "      <td>2.0</td>\n",
       "      <td>1.00</td>\n",
       "      <td>1.0</td>\n",
       "      <td>N</td>\n",
       "      <td>249</td>\n",
       "      <td>113</td>\n",
       "      <td>1.0</td>\n",
       "      <td>6.5</td>\n",
       "      <td>3.0</td>\n",
       "      <td>0.5</td>\n",
       "      <td>2.55</td>\n",
       "      <td>0.0</td>\n",
       "      <td>0.3</td>\n",
       "      <td>12.85</td>\n",
       "      <td>2.5</td>\n",
       "    </tr>\n",
       "    <tr>\n",
       "      <th>4785197</th>\n",
       "      <td>2.0</td>\n",
       "      <td>2020-01-24 20:09:35</td>\n",
       "      <td>2020-01-24 20:52:36</td>\n",
       "      <td>1.0</td>\n",
       "      <td>3.99</td>\n",
       "      <td>1.0</td>\n",
       "      <td>N</td>\n",
       "      <td>144</td>\n",
       "      <td>142</td>\n",
       "      <td>1.0</td>\n",
       "      <td>26.0</td>\n",
       "      <td>0.5</td>\n",
       "      <td>0.5</td>\n",
       "      <td>5.96</td>\n",
       "      <td>0.0</td>\n",
       "      <td>0.3</td>\n",
       "      <td>35.76</td>\n",
       "      <td>2.5</td>\n",
       "    </tr>\n",
       "    <tr>\n",
       "      <th>2799606</th>\n",
       "      <td>2.0</td>\n",
       "      <td>2020-01-15 13:37:54</td>\n",
       "      <td>2020-01-15 13:40:47</td>\n",
       "      <td>1.0</td>\n",
       "      <td>0.43</td>\n",
       "      <td>1.0</td>\n",
       "      <td>N</td>\n",
       "      <td>238</td>\n",
       "      <td>238</td>\n",
       "      <td>1.0</td>\n",
       "      <td>4.0</td>\n",
       "      <td>0.0</td>\n",
       "      <td>0.5</td>\n",
       "      <td>2.19</td>\n",
       "      <td>0.0</td>\n",
       "      <td>0.3</td>\n",
       "      <td>9.49</td>\n",
       "      <td>2.5</td>\n",
       "    </tr>\n",
       "    <tr>\n",
       "      <th>3054718</th>\n",
       "      <td>2.0</td>\n",
       "      <td>2020-01-16 16:22:45</td>\n",
       "      <td>2020-01-16 16:28:19</td>\n",
       "      <td>1.0</td>\n",
       "      <td>0.60</td>\n",
       "      <td>1.0</td>\n",
       "      <td>N</td>\n",
       "      <td>164</td>\n",
       "      <td>137</td>\n",
       "      <td>1.0</td>\n",
       "      <td>5.5</td>\n",
       "      <td>1.0</td>\n",
       "      <td>0.5</td>\n",
       "      <td>1.00</td>\n",
       "      <td>0.0</td>\n",
       "      <td>0.3</td>\n",
       "      <td>10.80</td>\n",
       "      <td>2.5</td>\n",
       "    </tr>\n",
       "    <tr>\n",
       "      <th>99669</th>\n",
       "      <td>1.0</td>\n",
       "      <td>2020-01-01 14:11:40</td>\n",
       "      <td>2020-01-01 14:12:28</td>\n",
       "      <td>4.0</td>\n",
       "      <td>0.00</td>\n",
       "      <td>1.0</td>\n",
       "      <td>N</td>\n",
       "      <td>132</td>\n",
       "      <td>132</td>\n",
       "      <td>4.0</td>\n",
       "      <td>2.5</td>\n",
       "      <td>0.0</td>\n",
       "      <td>0.5</td>\n",
       "      <td>0.00</td>\n",
       "      <td>0.0</td>\n",
       "      <td>0.3</td>\n",
       "      <td>3.30</td>\n",
       "      <td>0.0</td>\n",
       "    </tr>\n",
       "  </tbody>\n",
       "</table>\n",
       "</div>"
      ],
      "text/plain": [
       "         VendorID tpep_pickup_datetime tpep_dropoff_datetime  passenger_count  \\\n",
       "1202788       1.0  2020-01-07 21:38:40   2020-01-07 21:45:13              2.0   \n",
       "4785197       2.0  2020-01-24 20:09:35   2020-01-24 20:52:36              1.0   \n",
       "2799606       2.0  2020-01-15 13:37:54   2020-01-15 13:40:47              1.0   \n",
       "3054718       2.0  2020-01-16 16:22:45   2020-01-16 16:28:19              1.0   \n",
       "99669         1.0  2020-01-01 14:11:40   2020-01-01 14:12:28              4.0   \n",
       "\n",
       "         trip_distance  RatecodeID store_and_fwd_flag  PULocationID  \\\n",
       "1202788           1.00         1.0                  N           249   \n",
       "4785197           3.99         1.0                  N           144   \n",
       "2799606           0.43         1.0                  N           238   \n",
       "3054718           0.60         1.0                  N           164   \n",
       "99669             0.00         1.0                  N           132   \n",
       "\n",
       "         DOLocationID  payment_type  fare_amount  extra  mta_tax  tip_amount  \\\n",
       "1202788           113           1.0          6.5    3.0      0.5        2.55   \n",
       "4785197           142           1.0         26.0    0.5      0.5        5.96   \n",
       "2799606           238           1.0          4.0    0.0      0.5        2.19   \n",
       "3054718           137           1.0          5.5    1.0      0.5        1.00   \n",
       "99669             132           4.0          2.5    0.0      0.5        0.00   \n",
       "\n",
       "         tolls_amount  improvement_surcharge  total_amount  \\\n",
       "1202788           0.0                    0.3         12.85   \n",
       "4785197           0.0                    0.3         35.76   \n",
       "2799606           0.0                    0.3          9.49   \n",
       "3054718           0.0                    0.3         10.80   \n",
       "99669             0.0                    0.3          3.30   \n",
       "\n",
       "         congestion_surcharge  \n",
       "1202788                   2.5  \n",
       "4785197                   2.5  \n",
       "2799606                   2.5  \n",
       "3054718                   2.5  \n",
       "99669                     0.0  "
      ]
     },
     "execution_count": 26,
     "metadata": {},
     "output_type": "execute_result"
    }
   ],
   "source": [
    "df_merged = pd.concat([df1, df2, df3, df4, df5, df6, df7, df8, df9, df10, df11, df12, df13, df14, df15, df16, df17, df18, df19, df20, df21, df22, df23, df24])\n",
    "df_merged.head()"
   ]
  },
  {
   "cell_type": "code",
   "execution_count": null,
   "id": "5d6c08c1",
   "metadata": {},
   "outputs": [],
   "source": []
  },
  {
   "cell_type": "markdown",
   "id": "fb1263ee",
   "metadata": {},
   "source": [
    "###### reset the index"
   ]
  },
  {
   "cell_type": "code",
   "execution_count": 27,
   "id": "c02b7c0e",
   "metadata": {},
   "outputs": [
    {
     "data": {
      "text/html": [
       "<div>\n",
       "<style scoped>\n",
       "    .dataframe tbody tr th:only-of-type {\n",
       "        vertical-align: middle;\n",
       "    }\n",
       "\n",
       "    .dataframe tbody tr th {\n",
       "        vertical-align: top;\n",
       "    }\n",
       "\n",
       "    .dataframe thead th {\n",
       "        text-align: right;\n",
       "    }\n",
       "</style>\n",
       "<table border=\"1\" class=\"dataframe\">\n",
       "  <thead>\n",
       "    <tr style=\"text-align: right;\">\n",
       "      <th></th>\n",
       "      <th>VendorID</th>\n",
       "      <th>tpep_pickup_datetime</th>\n",
       "      <th>tpep_dropoff_datetime</th>\n",
       "      <th>passenger_count</th>\n",
       "      <th>trip_distance</th>\n",
       "      <th>RatecodeID</th>\n",
       "      <th>store_and_fwd_flag</th>\n",
       "      <th>PULocationID</th>\n",
       "      <th>DOLocationID</th>\n",
       "      <th>payment_type</th>\n",
       "      <th>fare_amount</th>\n",
       "      <th>extra</th>\n",
       "      <th>mta_tax</th>\n",
       "      <th>tip_amount</th>\n",
       "      <th>tolls_amount</th>\n",
       "      <th>improvement_surcharge</th>\n",
       "      <th>total_amount</th>\n",
       "      <th>congestion_surcharge</th>\n",
       "    </tr>\n",
       "  </thead>\n",
       "  <tbody>\n",
       "    <tr>\n",
       "      <th>0</th>\n",
       "      <td>1.0</td>\n",
       "      <td>2020-01-07 21:38:40</td>\n",
       "      <td>2020-01-07 21:45:13</td>\n",
       "      <td>2.0</td>\n",
       "      <td>1.00</td>\n",
       "      <td>1.0</td>\n",
       "      <td>N</td>\n",
       "      <td>249</td>\n",
       "      <td>113</td>\n",
       "      <td>1.0</td>\n",
       "      <td>6.5</td>\n",
       "      <td>3.0</td>\n",
       "      <td>0.5</td>\n",
       "      <td>2.55</td>\n",
       "      <td>0.0</td>\n",
       "      <td>0.3</td>\n",
       "      <td>12.85</td>\n",
       "      <td>2.5</td>\n",
       "    </tr>\n",
       "    <tr>\n",
       "      <th>1</th>\n",
       "      <td>2.0</td>\n",
       "      <td>2020-01-24 20:09:35</td>\n",
       "      <td>2020-01-24 20:52:36</td>\n",
       "      <td>1.0</td>\n",
       "      <td>3.99</td>\n",
       "      <td>1.0</td>\n",
       "      <td>N</td>\n",
       "      <td>144</td>\n",
       "      <td>142</td>\n",
       "      <td>1.0</td>\n",
       "      <td>26.0</td>\n",
       "      <td>0.5</td>\n",
       "      <td>0.5</td>\n",
       "      <td>5.96</td>\n",
       "      <td>0.0</td>\n",
       "      <td>0.3</td>\n",
       "      <td>35.76</td>\n",
       "      <td>2.5</td>\n",
       "    </tr>\n",
       "    <tr>\n",
       "      <th>2</th>\n",
       "      <td>2.0</td>\n",
       "      <td>2020-01-15 13:37:54</td>\n",
       "      <td>2020-01-15 13:40:47</td>\n",
       "      <td>1.0</td>\n",
       "      <td>0.43</td>\n",
       "      <td>1.0</td>\n",
       "      <td>N</td>\n",
       "      <td>238</td>\n",
       "      <td>238</td>\n",
       "      <td>1.0</td>\n",
       "      <td>4.0</td>\n",
       "      <td>0.0</td>\n",
       "      <td>0.5</td>\n",
       "      <td>2.19</td>\n",
       "      <td>0.0</td>\n",
       "      <td>0.3</td>\n",
       "      <td>9.49</td>\n",
       "      <td>2.5</td>\n",
       "    </tr>\n",
       "    <tr>\n",
       "      <th>3</th>\n",
       "      <td>2.0</td>\n",
       "      <td>2020-01-16 16:22:45</td>\n",
       "      <td>2020-01-16 16:28:19</td>\n",
       "      <td>1.0</td>\n",
       "      <td>0.60</td>\n",
       "      <td>1.0</td>\n",
       "      <td>N</td>\n",
       "      <td>164</td>\n",
       "      <td>137</td>\n",
       "      <td>1.0</td>\n",
       "      <td>5.5</td>\n",
       "      <td>1.0</td>\n",
       "      <td>0.5</td>\n",
       "      <td>1.00</td>\n",
       "      <td>0.0</td>\n",
       "      <td>0.3</td>\n",
       "      <td>10.80</td>\n",
       "      <td>2.5</td>\n",
       "    </tr>\n",
       "    <tr>\n",
       "      <th>4</th>\n",
       "      <td>1.0</td>\n",
       "      <td>2020-01-01 14:11:40</td>\n",
       "      <td>2020-01-01 14:12:28</td>\n",
       "      <td>4.0</td>\n",
       "      <td>0.00</td>\n",
       "      <td>1.0</td>\n",
       "      <td>N</td>\n",
       "      <td>132</td>\n",
       "      <td>132</td>\n",
       "      <td>4.0</td>\n",
       "      <td>2.5</td>\n",
       "      <td>0.0</td>\n",
       "      <td>0.5</td>\n",
       "      <td>0.00</td>\n",
       "      <td>0.0</td>\n",
       "      <td>0.3</td>\n",
       "      <td>3.30</td>\n",
       "      <td>0.0</td>\n",
       "    </tr>\n",
       "  </tbody>\n",
       "</table>\n",
       "</div>"
      ],
      "text/plain": [
       "   VendorID tpep_pickup_datetime tpep_dropoff_datetime  passenger_count  \\\n",
       "0       1.0  2020-01-07 21:38:40   2020-01-07 21:45:13              2.0   \n",
       "1       2.0  2020-01-24 20:09:35   2020-01-24 20:52:36              1.0   \n",
       "2       2.0  2020-01-15 13:37:54   2020-01-15 13:40:47              1.0   \n",
       "3       2.0  2020-01-16 16:22:45   2020-01-16 16:28:19              1.0   \n",
       "4       1.0  2020-01-01 14:11:40   2020-01-01 14:12:28              4.0   \n",
       "\n",
       "   trip_distance  RatecodeID store_and_fwd_flag  PULocationID  DOLocationID  \\\n",
       "0           1.00         1.0                  N           249           113   \n",
       "1           3.99         1.0                  N           144           142   \n",
       "2           0.43         1.0                  N           238           238   \n",
       "3           0.60         1.0                  N           164           137   \n",
       "4           0.00         1.0                  N           132           132   \n",
       "\n",
       "   payment_type  fare_amount  extra  mta_tax  tip_amount  tolls_amount  \\\n",
       "0           1.0          6.5    3.0      0.5        2.55           0.0   \n",
       "1           1.0         26.0    0.5      0.5        5.96           0.0   \n",
       "2           1.0          4.0    0.0      0.5        2.19           0.0   \n",
       "3           1.0          5.5    1.0      0.5        1.00           0.0   \n",
       "4           4.0          2.5    0.0      0.5        0.00           0.0   \n",
       "\n",
       "   improvement_surcharge  total_amount  congestion_surcharge  \n",
       "0                    0.3         12.85                   2.5  \n",
       "1                    0.3         35.76                   2.5  \n",
       "2                    0.3          9.49                   2.5  \n",
       "3                    0.3         10.80                   2.5  \n",
       "4                    0.3          3.30                   0.0  "
      ]
     },
     "execution_count": 27,
     "metadata": {},
     "output_type": "execute_result"
    }
   ],
   "source": [
    "df = df_merged.reset_index(drop=True)\n",
    "df.head()"
   ]
  },
  {
   "cell_type": "code",
   "execution_count": 28,
   "id": "aada607a",
   "metadata": {},
   "outputs": [
    {
     "data": {
      "text/html": [
       "<div>\n",
       "<style scoped>\n",
       "    .dataframe tbody tr th:only-of-type {\n",
       "        vertical-align: middle;\n",
       "    }\n",
       "\n",
       "    .dataframe tbody tr th {\n",
       "        vertical-align: top;\n",
       "    }\n",
       "\n",
       "    .dataframe thead th {\n",
       "        text-align: right;\n",
       "    }\n",
       "</style>\n",
       "<table border=\"1\" class=\"dataframe\">\n",
       "  <thead>\n",
       "    <tr style=\"text-align: right;\">\n",
       "      <th></th>\n",
       "      <th>VendorID</th>\n",
       "      <th>tpep_pickup_datetime</th>\n",
       "      <th>tpep_dropoff_datetime</th>\n",
       "      <th>passenger_count</th>\n",
       "      <th>trip_distance</th>\n",
       "      <th>RatecodeID</th>\n",
       "      <th>store_and_fwd_flag</th>\n",
       "      <th>PULocationID</th>\n",
       "      <th>DOLocationID</th>\n",
       "      <th>payment_type</th>\n",
       "      <th>fare_amount</th>\n",
       "      <th>extra</th>\n",
       "      <th>mta_tax</th>\n",
       "      <th>tip_amount</th>\n",
       "      <th>tolls_amount</th>\n",
       "      <th>improvement_surcharge</th>\n",
       "      <th>total_amount</th>\n",
       "      <th>congestion_surcharge</th>\n",
       "    </tr>\n",
       "  </thead>\n",
       "  <tbody>\n",
       "    <tr>\n",
       "      <th>0</th>\n",
       "      <td>1.0</td>\n",
       "      <td>2020-01-07 21:38:40</td>\n",
       "      <td>2020-01-07 21:45:13</td>\n",
       "      <td>2.0</td>\n",
       "      <td>1.00</td>\n",
       "      <td>1.0</td>\n",
       "      <td>N</td>\n",
       "      <td>249</td>\n",
       "      <td>113</td>\n",
       "      <td>1.0</td>\n",
       "      <td>6.5</td>\n",
       "      <td>3.0</td>\n",
       "      <td>0.5</td>\n",
       "      <td>2.55</td>\n",
       "      <td>0.0</td>\n",
       "      <td>0.3</td>\n",
       "      <td>12.85</td>\n",
       "      <td>2.5</td>\n",
       "    </tr>\n",
       "    <tr>\n",
       "      <th>1</th>\n",
       "      <td>2.0</td>\n",
       "      <td>2020-01-24 20:09:35</td>\n",
       "      <td>2020-01-24 20:52:36</td>\n",
       "      <td>1.0</td>\n",
       "      <td>3.99</td>\n",
       "      <td>1.0</td>\n",
       "      <td>N</td>\n",
       "      <td>144</td>\n",
       "      <td>142</td>\n",
       "      <td>1.0</td>\n",
       "      <td>26.0</td>\n",
       "      <td>0.5</td>\n",
       "      <td>0.5</td>\n",
       "      <td>5.96</td>\n",
       "      <td>0.0</td>\n",
       "      <td>0.3</td>\n",
       "      <td>35.76</td>\n",
       "      <td>2.5</td>\n",
       "    </tr>\n",
       "    <tr>\n",
       "      <th>2</th>\n",
       "      <td>2.0</td>\n",
       "      <td>2020-01-15 13:37:54</td>\n",
       "      <td>2020-01-15 13:40:47</td>\n",
       "      <td>1.0</td>\n",
       "      <td>0.43</td>\n",
       "      <td>1.0</td>\n",
       "      <td>N</td>\n",
       "      <td>238</td>\n",
       "      <td>238</td>\n",
       "      <td>1.0</td>\n",
       "      <td>4.0</td>\n",
       "      <td>0.0</td>\n",
       "      <td>0.5</td>\n",
       "      <td>2.19</td>\n",
       "      <td>0.0</td>\n",
       "      <td>0.3</td>\n",
       "      <td>9.49</td>\n",
       "      <td>2.5</td>\n",
       "    </tr>\n",
       "    <tr>\n",
       "      <th>3</th>\n",
       "      <td>2.0</td>\n",
       "      <td>2020-01-16 16:22:45</td>\n",
       "      <td>2020-01-16 16:28:19</td>\n",
       "      <td>1.0</td>\n",
       "      <td>0.60</td>\n",
       "      <td>1.0</td>\n",
       "      <td>N</td>\n",
       "      <td>164</td>\n",
       "      <td>137</td>\n",
       "      <td>1.0</td>\n",
       "      <td>5.5</td>\n",
       "      <td>1.0</td>\n",
       "      <td>0.5</td>\n",
       "      <td>1.00</td>\n",
       "      <td>0.0</td>\n",
       "      <td>0.3</td>\n",
       "      <td>10.80</td>\n",
       "      <td>2.5</td>\n",
       "    </tr>\n",
       "    <tr>\n",
       "      <th>4</th>\n",
       "      <td>1.0</td>\n",
       "      <td>2020-01-01 14:11:40</td>\n",
       "      <td>2020-01-01 14:12:28</td>\n",
       "      <td>4.0</td>\n",
       "      <td>0.00</td>\n",
       "      <td>1.0</td>\n",
       "      <td>N</td>\n",
       "      <td>132</td>\n",
       "      <td>132</td>\n",
       "      <td>4.0</td>\n",
       "      <td>2.5</td>\n",
       "      <td>0.0</td>\n",
       "      <td>0.5</td>\n",
       "      <td>0.00</td>\n",
       "      <td>0.0</td>\n",
       "      <td>0.3</td>\n",
       "      <td>3.30</td>\n",
       "      <td>0.0</td>\n",
       "    </tr>\n",
       "  </tbody>\n",
       "</table>\n",
       "</div>"
      ],
      "text/plain": [
       "   VendorID tpep_pickup_datetime tpep_dropoff_datetime  passenger_count  \\\n",
       "0       1.0  2020-01-07 21:38:40   2020-01-07 21:45:13              2.0   \n",
       "1       2.0  2020-01-24 20:09:35   2020-01-24 20:52:36              1.0   \n",
       "2       2.0  2020-01-15 13:37:54   2020-01-15 13:40:47              1.0   \n",
       "3       2.0  2020-01-16 16:22:45   2020-01-16 16:28:19              1.0   \n",
       "4       1.0  2020-01-01 14:11:40   2020-01-01 14:12:28              4.0   \n",
       "\n",
       "   trip_distance  RatecodeID store_and_fwd_flag  PULocationID  DOLocationID  \\\n",
       "0           1.00         1.0                  N           249           113   \n",
       "1           3.99         1.0                  N           144           142   \n",
       "2           0.43         1.0                  N           238           238   \n",
       "3           0.60         1.0                  N           164           137   \n",
       "4           0.00         1.0                  N           132           132   \n",
       "\n",
       "   payment_type  fare_amount  extra  mta_tax  tip_amount  tolls_amount  \\\n",
       "0           1.0          6.5    3.0      0.5        2.55           0.0   \n",
       "1           1.0         26.0    0.5      0.5        5.96           0.0   \n",
       "2           1.0          4.0    0.0      0.5        2.19           0.0   \n",
       "3           1.0          5.5    1.0      0.5        1.00           0.0   \n",
       "4           4.0          2.5    0.0      0.5        0.00           0.0   \n",
       "\n",
       "   improvement_surcharge  total_amount  congestion_surcharge  \n",
       "0                    0.3         12.85                   2.5  \n",
       "1                    0.3         35.76                   2.5  \n",
       "2                    0.3          9.49                   2.5  \n",
       "3                    0.3         10.80                   2.5  \n",
       "4                    0.3          3.30                   0.0  "
      ]
     },
     "execution_count": 28,
     "metadata": {},
     "output_type": "execute_result"
    }
   ],
   "source": [
    "df.reset_index(inplace = True, drop = True)\n",
    "df.head()"
   ]
  },
  {
   "cell_type": "code",
   "execution_count": null,
   "id": "319de6b5",
   "metadata": {},
   "outputs": [],
   "source": []
  },
  {
   "cell_type": "markdown",
   "id": "774caf6b",
   "metadata": {},
   "source": [
    "## to upload on AWS S3"
   ]
  },
  {
   "cell_type": "code",
   "execution_count": 29,
   "id": "9e272e86",
   "metadata": {},
   "outputs": [],
   "source": [
    "import boto3\n",
    "import s3fs"
   ]
  },
  {
   "cell_type": "code",
   "execution_count": 30,
   "id": "9d508d79",
   "metadata": {},
   "outputs": [],
   "source": [
    "import os"
   ]
  },
  {
   "cell_type": "code",
   "execution_count": 31,
   "id": "7858647d",
   "metadata": {},
   "outputs": [],
   "source": [
    "from secrets import access_key, secret_access_key"
   ]
  },
  {
   "cell_type": "code",
   "execution_count": 32,
   "id": "ed2fd07e",
   "metadata": {},
   "outputs": [],
   "source": [
    "client = boto3.client('s3',\n",
    "                        aws_access_key_id = access_key,\n",
    "                        aws_secret_access_key = secret_access_key)"
   ]
  },
  {
   "cell_type": "code",
   "execution_count": 33,
   "id": "4f28077a",
   "metadata": {},
   "outputs": [
    {
     "name": "stdout",
     "output_type": "stream",
     "text": [
      "Done\n"
     ]
    }
   ],
   "source": [
    "df.to_csv('D:/Project/Main/Sample_dataset.csv')\n",
    "print(\"Done\")"
   ]
  },
  {
   "cell_type": "code",
   "execution_count": 34,
   "id": "77716b2c",
   "metadata": {},
   "outputs": [
    {
     "data": {
      "text/plain": [
       "(1200000, 18)"
      ]
     },
     "execution_count": 34,
     "metadata": {},
     "output_type": "execute_result"
    }
   ],
   "source": [
    "df.shape"
   ]
  },
  {
   "cell_type": "code",
   "execution_count": 35,
   "id": "e711327e",
   "metadata": {},
   "outputs": [
    {
     "name": "stdout",
     "output_type": "stream",
     "text": [
      "Uploaded on AWS\n",
      "File removed\n"
     ]
    }
   ],
   "source": [
    "client.upload_file('D:/Project/Main/Sample_dataset.csv', 'nyc-taxi-system', 'Sample_dataset.csv')\n",
    "print(\"Uploaded on AWS\")\n",
    "os.remove('D:/Project/Main/Sample_dataset.csv')\n",
    "print(\"File removed\")"
   ]
  },
  {
   "cell_type": "code",
   "execution_count": null,
   "id": "5d2f59ae",
   "metadata": {},
   "outputs": [],
   "source": []
  }
 ],
 "metadata": {
  "kernelspec": {
   "display_name": "Python 3 (ipykernel)",
   "language": "python",
   "name": "python3"
  },
  "language_info": {
   "codemirror_mode": {
    "name": "ipython",
    "version": 3
   },
   "file_extension": ".py",
   "mimetype": "text/x-python",
   "name": "python",
   "nbconvert_exporter": "python",
   "pygments_lexer": "ipython3",
   "version": "3.9.7"
  }
 },
 "nbformat": 4,
 "nbformat_minor": 5
}

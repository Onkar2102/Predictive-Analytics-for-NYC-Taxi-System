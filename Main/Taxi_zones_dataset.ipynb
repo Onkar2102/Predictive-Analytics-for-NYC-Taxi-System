{
 "cells": [
  {
   "cell_type": "code",
   "execution_count": 1,
   "id": "4bf68768",
   "metadata": {},
   "outputs": [],
   "source": [
    "import pandas as pd\n",
    "import yapf.yapflib.yapf_api"
   ]
  },
  {
   "cell_type": "code",
   "execution_count": 2,
   "id": "c78b4509",
   "metadata": {},
   "outputs": [],
   "source": [
    "import boto3\n",
    "import s3fs"
   ]
  },
  {
   "cell_type": "code",
   "execution_count": 3,
   "id": "42cabb6a",
   "metadata": {},
   "outputs": [],
   "source": [
    "import os"
   ]
  },
  {
   "cell_type": "markdown",
   "id": "122b23ce",
   "metadata": {},
   "source": [
    "### Load the dataset of Taxi Zones"
   ]
  },
  {
   "cell_type": "code",
   "execution_count": 4,
   "id": "58d01c6b",
   "metadata": {},
   "outputs": [],
   "source": [
    "df_location = pd.read_csv(\"D:\\\\Project\\\\Data ( zones )\\\\taxi_zones.csv\")"
   ]
  },
  {
   "cell_type": "code",
   "execution_count": 5,
   "id": "419aec8c",
   "metadata": {},
   "outputs": [
    {
     "data": {
      "text/html": [
       "<div>\n",
       "<style scoped>\n",
       "    .dataframe tbody tr th:only-of-type {\n",
       "        vertical-align: middle;\n",
       "    }\n",
       "\n",
       "    .dataframe tbody tr th {\n",
       "        vertical-align: top;\n",
       "    }\n",
       "\n",
       "    .dataframe thead th {\n",
       "        text-align: right;\n",
       "    }\n",
       "</style>\n",
       "<table border=\"1\" class=\"dataframe\">\n",
       "  <thead>\n",
       "    <tr style=\"text-align: right;\">\n",
       "      <th></th>\n",
       "      <th>X</th>\n",
       "      <th>Y</th>\n",
       "      <th>OBJECTID</th>\n",
       "      <th>Shape_Leng</th>\n",
       "      <th>Shape_Area</th>\n",
       "      <th>zone</th>\n",
       "      <th>LocationID</th>\n",
       "      <th>borough</th>\n",
       "    </tr>\n",
       "  </thead>\n",
       "  <tbody>\n",
       "    <tr>\n",
       "      <th>0</th>\n",
       "      <td>9.352230e+05</td>\n",
       "      <td>190535.0526</td>\n",
       "      <td>1</td>\n",
       "      <td>0.116357</td>\n",
       "      <td>0.000782</td>\n",
       "      <td>Newark Airport</td>\n",
       "      <td>1</td>\n",
       "      <td>EWR</td>\n",
       "    </tr>\n",
       "    <tr>\n",
       "      <th>1</th>\n",
       "      <td>1.032516e+06</td>\n",
       "      <td>167292.4932</td>\n",
       "      <td>2</td>\n",
       "      <td>0.433470</td>\n",
       "      <td>0.004866</td>\n",
       "      <td>Jamaica Bay</td>\n",
       "      <td>2</td>\n",
       "      <td>Queens</td>\n",
       "    </tr>\n",
       "    <tr>\n",
       "      <th>2</th>\n",
       "      <td>1.025883e+06</td>\n",
       "      <td>254779.6006</td>\n",
       "      <td>3</td>\n",
       "      <td>0.084341</td>\n",
       "      <td>0.000314</td>\n",
       "      <td>Allerton</td>\n",
       "      <td>3</td>\n",
       "      <td>Bronx</td>\n",
       "    </tr>\n",
       "    <tr>\n",
       "      <th>3</th>\n",
       "      <td>9.906188e+05</td>\n",
       "      <td>203105.5323</td>\n",
       "      <td>4</td>\n",
       "      <td>0.043567</td>\n",
       "      <td>0.000112</td>\n",
       "      <td>Alphabet City</td>\n",
       "      <td>4</td>\n",
       "      <td>Manhattan</td>\n",
       "    </tr>\n",
       "    <tr>\n",
       "      <th>4</th>\n",
       "      <td>9.314680e+05</td>\n",
       "      <td>139837.4784</td>\n",
       "      <td>5</td>\n",
       "      <td>0.092146</td>\n",
       "      <td>0.000498</td>\n",
       "      <td>Arden Heights</td>\n",
       "      <td>5</td>\n",
       "      <td>Staten Island</td>\n",
       "    </tr>\n",
       "    <tr>\n",
       "      <th>...</th>\n",
       "      <td>...</td>\n",
       "      <td>...</td>\n",
       "      <td>...</td>\n",
       "      <td>...</td>\n",
       "      <td>...</td>\n",
       "      <td>...</td>\n",
       "      <td>...</td>\n",
       "      <td>...</td>\n",
       "    </tr>\n",
       "    <tr>\n",
       "      <th>258</th>\n",
       "      <td>1.023962e+06</td>\n",
       "      <td>266878.0340</td>\n",
       "      <td>259</td>\n",
       "      <td>0.126750</td>\n",
       "      <td>0.000395</td>\n",
       "      <td>Woodlawn/Wakefield</td>\n",
       "      <td>259</td>\n",
       "      <td>Bronx</td>\n",
       "    </tr>\n",
       "    <tr>\n",
       "      <th>259</th>\n",
       "      <td>1.010930e+06</td>\n",
       "      <td>211369.8834</td>\n",
       "      <td>260</td>\n",
       "      <td>0.133514</td>\n",
       "      <td>0.000422</td>\n",
       "      <td>Woodside</td>\n",
       "      <td>260</td>\n",
       "      <td>Queens</td>\n",
       "    </tr>\n",
       "    <tr>\n",
       "      <th>260</th>\n",
       "      <td>9.806682e+05</td>\n",
       "      <td>197575.6899</td>\n",
       "      <td>261</td>\n",
       "      <td>0.027120</td>\n",
       "      <td>0.000034</td>\n",
       "      <td>World Trade Center</td>\n",
       "      <td>261</td>\n",
       "      <td>Manhattan</td>\n",
       "    </tr>\n",
       "    <tr>\n",
       "      <th>261</th>\n",
       "      <td>9.992531e+05</td>\n",
       "      <td>222193.8188</td>\n",
       "      <td>262</td>\n",
       "      <td>0.049064</td>\n",
       "      <td>0.000122</td>\n",
       "      <td>Yorkville East</td>\n",
       "      <td>262</td>\n",
       "      <td>Manhattan</td>\n",
       "    </tr>\n",
       "    <tr>\n",
       "      <th>262</th>\n",
       "      <td>9.977632e+05</td>\n",
       "      <td>222907.6347</td>\n",
       "      <td>263</td>\n",
       "      <td>0.037017</td>\n",
       "      <td>0.000066</td>\n",
       "      <td>Yorkville West</td>\n",
       "      <td>263</td>\n",
       "      <td>Manhattan</td>\n",
       "    </tr>\n",
       "  </tbody>\n",
       "</table>\n",
       "<p>263 rows × 8 columns</p>\n",
       "</div>"
      ],
      "text/plain": [
       "                X            Y  OBJECTID  Shape_Leng  Shape_Area  \\\n",
       "0    9.352230e+05  190535.0526         1    0.116357    0.000782   \n",
       "1    1.032516e+06  167292.4932         2    0.433470    0.004866   \n",
       "2    1.025883e+06  254779.6006         3    0.084341    0.000314   \n",
       "3    9.906188e+05  203105.5323         4    0.043567    0.000112   \n",
       "4    9.314680e+05  139837.4784         5    0.092146    0.000498   \n",
       "..            ...          ...       ...         ...         ...   \n",
       "258  1.023962e+06  266878.0340       259    0.126750    0.000395   \n",
       "259  1.010930e+06  211369.8834       260    0.133514    0.000422   \n",
       "260  9.806682e+05  197575.6899       261    0.027120    0.000034   \n",
       "261  9.992531e+05  222193.8188       262    0.049064    0.000122   \n",
       "262  9.977632e+05  222907.6347       263    0.037017    0.000066   \n",
       "\n",
       "                   zone  LocationID        borough  \n",
       "0        Newark Airport           1            EWR  \n",
       "1           Jamaica Bay           2         Queens  \n",
       "2              Allerton           3          Bronx  \n",
       "3         Alphabet City           4      Manhattan  \n",
       "4         Arden Heights           5  Staten Island  \n",
       "..                  ...         ...            ...  \n",
       "258  Woodlawn/Wakefield         259          Bronx  \n",
       "259            Woodside         260         Queens  \n",
       "260  World Trade Center         261      Manhattan  \n",
       "261      Yorkville East         262      Manhattan  \n",
       "262      Yorkville West         263      Manhattan  \n",
       "\n",
       "[263 rows x 8 columns]"
      ]
     },
     "execution_count": 5,
     "metadata": {},
     "output_type": "execute_result"
    }
   ],
   "source": [
    "df_location"
   ]
  },
  {
   "cell_type": "code",
   "execution_count": null,
   "id": "a9eccc9f",
   "metadata": {},
   "outputs": [],
   "source": []
  },
  {
   "cell_type": "markdown",
   "id": "79e89ffd",
   "metadata": {},
   "source": [
    "### import geopy module"
   ]
  },
  {
   "cell_type": "code",
   "execution_count": 6,
   "id": "4b538756",
   "metadata": {},
   "outputs": [],
   "source": [
    "from geopy.geocoders import Nominatim"
   ]
  },
  {
   "cell_type": "code",
   "execution_count": null,
   "id": "f44e44dc",
   "metadata": {},
   "outputs": [],
   "source": []
  },
  {
   "cell_type": "markdown",
   "id": "409a9e21",
   "metadata": {},
   "source": [
    "### Initialize Nominatim API to get location from the input string"
   ]
  },
  {
   "cell_type": "code",
   "execution_count": 7,
   "id": "6cc15722",
   "metadata": {},
   "outputs": [],
   "source": [
    "loc = Nominatim(user_agent=\"GetLoc\")"
   ]
  },
  {
   "cell_type": "code",
   "execution_count": null,
   "id": "99b6a741",
   "metadata": {},
   "outputs": [],
   "source": []
  },
  {
   "cell_type": "markdown",
   "id": "8393562c",
   "metadata": {},
   "source": [
    "### Finding the latitude and longitude of location"
   ]
  },
  {
   "cell_type": "code",
   "execution_count": 8,
   "id": "71d529fa",
   "metadata": {},
   "outputs": [],
   "source": [
    "count = 0\n",
    "latitude = []\n",
    "longitude = []"
   ]
  },
  {
   "cell_type": "code",
   "execution_count": 9,
   "id": "cd90fba6",
   "metadata": {},
   "outputs": [
    {
     "name": "stdout",
     "output_type": "stream",
     "text": [
      "31\n"
     ]
    }
   ],
   "source": [
    "for i in range(len(df_location)):\n",
    "    try:\n",
    "        getLoc = loc.geocode(df_location.iloc[i, 5])\n",
    "        latitude.append(getLoc.latitude)\n",
    "        longitude.append(getLoc.longitude)\n",
    "    except AttributeError as ex:\n",
    "        latitude.append(\"Latitude not found\")\n",
    "        longitude.append(\"Longitude not found\")\n",
    "        count += 1\n",
    "print(count)"
   ]
  },
  {
   "cell_type": "code",
   "execution_count": 10,
   "id": "bd0a633c",
   "metadata": {},
   "outputs": [
    {
     "data": {
      "text/html": [
       "<div>\n",
       "<style scoped>\n",
       "    .dataframe tbody tr th:only-of-type {\n",
       "        vertical-align: middle;\n",
       "    }\n",
       "\n",
       "    .dataframe tbody tr th {\n",
       "        vertical-align: top;\n",
       "    }\n",
       "\n",
       "    .dataframe thead th {\n",
       "        text-align: right;\n",
       "    }\n",
       "</style>\n",
       "<table border=\"1\" class=\"dataframe\">\n",
       "  <thead>\n",
       "    <tr style=\"text-align: right;\">\n",
       "      <th></th>\n",
       "      <th>X</th>\n",
       "      <th>Y</th>\n",
       "      <th>OBJECTID</th>\n",
       "      <th>Shape_Leng</th>\n",
       "      <th>Shape_Area</th>\n",
       "      <th>zone</th>\n",
       "      <th>LocationID</th>\n",
       "      <th>borough</th>\n",
       "      <th>latitude</th>\n",
       "      <th>longitude</th>\n",
       "    </tr>\n",
       "  </thead>\n",
       "  <tbody>\n",
       "    <tr>\n",
       "      <th>0</th>\n",
       "      <td>9.352230e+05</td>\n",
       "      <td>190535.0526</td>\n",
       "      <td>1</td>\n",
       "      <td>0.116357</td>\n",
       "      <td>0.000782</td>\n",
       "      <td>Newark Airport</td>\n",
       "      <td>1</td>\n",
       "      <td>EWR</td>\n",
       "      <td>40.689064</td>\n",
       "      <td>-74.177255</td>\n",
       "    </tr>\n",
       "    <tr>\n",
       "      <th>1</th>\n",
       "      <td>1.032516e+06</td>\n",
       "      <td>167292.4932</td>\n",
       "      <td>2</td>\n",
       "      <td>0.433470</td>\n",
       "      <td>0.004866</td>\n",
       "      <td>Jamaica Bay</td>\n",
       "      <td>2</td>\n",
       "      <td>Queens</td>\n",
       "      <td>40.603994</td>\n",
       "      <td>-73.835412</td>\n",
       "    </tr>\n",
       "    <tr>\n",
       "      <th>2</th>\n",
       "      <td>1.025883e+06</td>\n",
       "      <td>254779.6006</td>\n",
       "      <td>3</td>\n",
       "      <td>0.084341</td>\n",
       "      <td>0.000314</td>\n",
       "      <td>Allerton</td>\n",
       "      <td>3</td>\n",
       "      <td>Bronx</td>\n",
       "      <td>39.915319</td>\n",
       "      <td>-87.933215</td>\n",
       "    </tr>\n",
       "    <tr>\n",
       "      <th>3</th>\n",
       "      <td>9.906188e+05</td>\n",
       "      <td>203105.5323</td>\n",
       "      <td>4</td>\n",
       "      <td>0.043567</td>\n",
       "      <td>0.000112</td>\n",
       "      <td>Alphabet City</td>\n",
       "      <td>4</td>\n",
       "      <td>Manhattan</td>\n",
       "      <td>40.725102</td>\n",
       "      <td>-73.979583</td>\n",
       "    </tr>\n",
       "    <tr>\n",
       "      <th>4</th>\n",
       "      <td>9.314680e+05</td>\n",
       "      <td>139837.4784</td>\n",
       "      <td>5</td>\n",
       "      <td>0.092146</td>\n",
       "      <td>0.000498</td>\n",
       "      <td>Arden Heights</td>\n",
       "      <td>5</td>\n",
       "      <td>Staten Island</td>\n",
       "      <td>53.284833</td>\n",
       "      <td>-7.493904</td>\n",
       "    </tr>\n",
       "    <tr>\n",
       "      <th>...</th>\n",
       "      <td>...</td>\n",
       "      <td>...</td>\n",
       "      <td>...</td>\n",
       "      <td>...</td>\n",
       "      <td>...</td>\n",
       "      <td>...</td>\n",
       "      <td>...</td>\n",
       "      <td>...</td>\n",
       "      <td>...</td>\n",
       "      <td>...</td>\n",
       "    </tr>\n",
       "    <tr>\n",
       "      <th>258</th>\n",
       "      <td>1.023962e+06</td>\n",
       "      <td>266878.0340</td>\n",
       "      <td>259</td>\n",
       "      <td>0.126750</td>\n",
       "      <td>0.000395</td>\n",
       "      <td>Woodlawn/Wakefield</td>\n",
       "      <td>259</td>\n",
       "      <td>Bronx</td>\n",
       "      <td>37.258842</td>\n",
       "      <td>-77.413934</td>\n",
       "    </tr>\n",
       "    <tr>\n",
       "      <th>259</th>\n",
       "      <td>1.010930e+06</td>\n",
       "      <td>211369.8834</td>\n",
       "      <td>260</td>\n",
       "      <td>0.133514</td>\n",
       "      <td>0.000422</td>\n",
       "      <td>Woodside</td>\n",
       "      <td>260</td>\n",
       "      <td>Queens</td>\n",
       "      <td>37.429939</td>\n",
       "      <td>-122.253856</td>\n",
       "    </tr>\n",
       "    <tr>\n",
       "      <th>260</th>\n",
       "      <td>9.806682e+05</td>\n",
       "      <td>197575.6899</td>\n",
       "      <td>261</td>\n",
       "      <td>0.027120</td>\n",
       "      <td>0.000034</td>\n",
       "      <td>World Trade Center</td>\n",
       "      <td>261</td>\n",
       "      <td>Manhattan</td>\n",
       "      <td>40.711888</td>\n",
       "      <td>-74.012441</td>\n",
       "    </tr>\n",
       "    <tr>\n",
       "      <th>261</th>\n",
       "      <td>9.992531e+05</td>\n",
       "      <td>222193.8188</td>\n",
       "      <td>262</td>\n",
       "      <td>0.049064</td>\n",
       "      <td>0.000122</td>\n",
       "      <td>Yorkville East</td>\n",
       "      <td>262</td>\n",
       "      <td>Manhattan</td>\n",
       "      <td>40.783251</td>\n",
       "      <td>-73.94472</td>\n",
       "    </tr>\n",
       "    <tr>\n",
       "      <th>262</th>\n",
       "      <td>9.977632e+05</td>\n",
       "      <td>222907.6347</td>\n",
       "      <td>263</td>\n",
       "      <td>0.037017</td>\n",
       "      <td>0.000066</td>\n",
       "      <td>Yorkville West</td>\n",
       "      <td>263</td>\n",
       "      <td>Manhattan</td>\n",
       "      <td>43.67047</td>\n",
       "      <td>-79.387252</td>\n",
       "    </tr>\n",
       "  </tbody>\n",
       "</table>\n",
       "<p>263 rows × 10 columns</p>\n",
       "</div>"
      ],
      "text/plain": [
       "                X            Y  OBJECTID  Shape_Leng  Shape_Area  \\\n",
       "0    9.352230e+05  190535.0526         1    0.116357    0.000782   \n",
       "1    1.032516e+06  167292.4932         2    0.433470    0.004866   \n",
       "2    1.025883e+06  254779.6006         3    0.084341    0.000314   \n",
       "3    9.906188e+05  203105.5323         4    0.043567    0.000112   \n",
       "4    9.314680e+05  139837.4784         5    0.092146    0.000498   \n",
       "..            ...          ...       ...         ...         ...   \n",
       "258  1.023962e+06  266878.0340       259    0.126750    0.000395   \n",
       "259  1.010930e+06  211369.8834       260    0.133514    0.000422   \n",
       "260  9.806682e+05  197575.6899       261    0.027120    0.000034   \n",
       "261  9.992531e+05  222193.8188       262    0.049064    0.000122   \n",
       "262  9.977632e+05  222907.6347       263    0.037017    0.000066   \n",
       "\n",
       "                   zone  LocationID        borough   latitude   longitude  \n",
       "0        Newark Airport           1            EWR  40.689064  -74.177255  \n",
       "1           Jamaica Bay           2         Queens  40.603994  -73.835412  \n",
       "2              Allerton           3          Bronx  39.915319  -87.933215  \n",
       "3         Alphabet City           4      Manhattan  40.725102  -73.979583  \n",
       "4         Arden Heights           5  Staten Island  53.284833   -7.493904  \n",
       "..                  ...         ...            ...        ...         ...  \n",
       "258  Woodlawn/Wakefield         259          Bronx  37.258842  -77.413934  \n",
       "259            Woodside         260         Queens  37.429939 -122.253856  \n",
       "260  World Trade Center         261      Manhattan  40.711888  -74.012441  \n",
       "261      Yorkville East         262      Manhattan  40.783251   -73.94472  \n",
       "262      Yorkville West         263      Manhattan   43.67047  -79.387252  \n",
       "\n",
       "[263 rows x 10 columns]"
      ]
     },
     "execution_count": 10,
     "metadata": {},
     "output_type": "execute_result"
    }
   ],
   "source": [
    "df_location['latitude']=latitude\n",
    "df_location['longitude']=longitude\n",
    "df_location"
   ]
  },
  {
   "cell_type": "code",
   "execution_count": null,
   "id": "feed06ef",
   "metadata": {},
   "outputs": [],
   "source": []
  },
  {
   "cell_type": "markdown",
   "id": "a8324285",
   "metadata": {},
   "source": [
    "### saving the dataset"
   ]
  },
  {
   "cell_type": "code",
   "execution_count": 11,
   "id": "d0ad4843",
   "metadata": {},
   "outputs": [],
   "source": [
    "from secrets import access_key, secret_access_key"
   ]
  },
  {
   "cell_type": "code",
   "execution_count": 12,
   "id": "138d44d0",
   "metadata": {},
   "outputs": [],
   "source": [
    "client = boto3.client('s3',\n",
    "                      aws_access_key_id=access_key,\n",
    "                      aws_secret_access_key=secret_access_key)"
   ]
  },
  {
   "cell_type": "code",
   "execution_count": null,
   "id": "0ae76711",
   "metadata": {},
   "outputs": [],
   "source": []
  },
  {
   "cell_type": "code",
   "execution_count": 13,
   "id": "d02c08c1",
   "metadata": {},
   "outputs": [
    {
     "name": "stdout",
     "output_type": "stream",
     "text": [
      "DOne\n"
     ]
    }
   ],
   "source": [
    "df_location.to_csv('./Taxi_Zone_Lookup.csv')\n",
    "print(\"DOne\")"
   ]
  },
  {
   "cell_type": "code",
   "execution_count": 14,
   "id": "0a60ec13",
   "metadata": {},
   "outputs": [
    {
     "name": "stdout",
     "output_type": "stream",
     "text": [
      "Uploaded on AWS\n",
      "File removed\n"
     ]
    }
   ],
   "source": [
    "client.upload_file('./Taxi_Zone_Lookup.csv', 'nyc-taxi-system',\n",
    "                   'Taxi_Zone_Lookup.csv')\n",
    "print(\"Uploaded on AWS\")\n",
    "os.remove('./Taxi_Zone_Lookup.csv')\n",
    "print(\"File removed\")"
   ]
  },
  {
   "cell_type": "code",
   "execution_count": 15,
   "id": "4c75db1f",
   "metadata": {},
   "outputs": [],
   "source": [
    "# from secrets import access_key, secret_access_key"
   ]
  },
  {
   "cell_type": "code",
   "execution_count": 16,
   "id": "529022da",
   "metadata": {},
   "outputs": [],
   "source": [
    "# client = boto3.client('s3')"
   ]
  },
  {
   "cell_type": "code",
   "execution_count": 17,
   "id": "f5102f18",
   "metadata": {},
   "outputs": [],
   "source": [
    "# path = 's3://com.pythoncpp.bucket10/Business insights of post-COVID NYC taxi systems/Final_dataset.csv'"
   ]
  },
  {
   "cell_type": "code",
   "execution_count": null,
   "id": "7769828f",
   "metadata": {},
   "outputs": [],
   "source": []
  },
  {
   "cell_type": "code",
   "execution_count": null,
   "id": "c4ba7e75",
   "metadata": {},
   "outputs": [],
   "source": []
  }
 ],
 "metadata": {
  "kernelspec": {
   "display_name": "Python 3 (ipykernel)",
   "language": "python",
   "name": "python3"
  },
  "language_info": {
   "codemirror_mode": {
    "name": "ipython",
    "version": 3
   },
   "file_extension": ".py",
   "mimetype": "text/x-python",
   "name": "python",
   "nbconvert_exporter": "python",
   "pygments_lexer": "ipython3",
   "version": "3.9.7"
  }
 },
 "nbformat": 4,
 "nbformat_minor": 5
}

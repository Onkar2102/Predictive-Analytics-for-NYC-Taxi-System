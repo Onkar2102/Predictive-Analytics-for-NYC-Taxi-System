{
 "cells": [
  {
   "cell_type": "code",
   "execution_count": 1,
   "id": "13b54e97",
   "metadata": {},
   "outputs": [],
   "source": [
    "import numpy as np\n",
    "import pandas as pd\n",
    "import seaborn as sns\n",
    "import matplotlib.pyplot as plt\n",
    "import pickle"
   ]
  },
  {
   "cell_type": "markdown",
   "id": "fd8797c7",
   "metadata": {},
   "source": [
    "# Linear Model"
   ]
  },
  {
   "cell_type": "code",
   "execution_count": 2,
   "id": "5c01e867",
   "metadata": {},
   "outputs": [],
   "source": [
    "# # read the pickle file\n",
    "\n",
    "# file=open(\"./taxi_fare_linear.pkl\",\"rb\")"
   ]
  },
  {
   "cell_type": "code",
   "execution_count": 3,
   "id": "ca3335ab",
   "metadata": {},
   "outputs": [],
   "source": [
    "# # load the model from the file\n",
    "# model=pickle.load(file)"
   ]
  },
  {
   "cell_type": "code",
   "execution_count": 4,
   "id": "942b98ef",
   "metadata": {},
   "outputs": [],
   "source": [
    "# file.close()"
   ]
  },
  {
   "cell_type": "code",
   "execution_count": 5,
   "id": "40588463",
   "metadata": {},
   "outputs": [],
   "source": [
    "# val=np.array([[2, 2.10]])\n",
    "# fares= model.predict(val)\n",
    "# fares"
   ]
  },
  {
   "cell_type": "markdown",
   "id": "58a561d0",
   "metadata": {},
   "source": [
    "# XG_Boost"
   ]
  },
  {
   "cell_type": "code",
   "execution_count": 6,
   "id": "cfe76e4b",
   "metadata": {},
   "outputs": [],
   "source": [
    "# file_2=open(\"./taxi_fare_XG.pkl\",\"rb\")"
   ]
  },
  {
   "cell_type": "code",
   "execution_count": 7,
   "id": "7a5997bb",
   "metadata": {},
   "outputs": [],
   "source": [
    "# model_2=pickle.load(file_2)"
   ]
  },
  {
   "cell_type": "code",
   "execution_count": 8,
   "id": "4aef3083",
   "metadata": {},
   "outputs": [],
   "source": [
    "# file_2.close()"
   ]
  },
  {
   "cell_type": "code",
   "execution_count": 9,
   "id": "708e6607",
   "metadata": {},
   "outputs": [],
   "source": [
    "# value=np.array([2.10])"
   ]
  },
  {
   "cell_type": "code",
   "execution_count": 10,
   "id": "1352f694",
   "metadata": {},
   "outputs": [],
   "source": [
    "# fares_2=model_2.predict(2.10)"
   ]
  },
  {
   "cell_type": "code",
   "execution_count": 11,
   "id": "5d183446",
   "metadata": {},
   "outputs": [],
   "source": [
    "# fares_2"
   ]
  },
  {
   "cell_type": "markdown",
   "id": "74a2a318",
   "metadata": {},
   "source": [
    "# RANDOM FOREST"
   ]
  },
  {
   "cell_type": "code",
   "execution_count": 12,
   "id": "af5f6f47",
   "metadata": {},
   "outputs": [],
   "source": [
    "file_31=open(\"./taxi_fare_RANDOM1.pkl\",\"rb\")"
   ]
  },
  {
   "cell_type": "code",
   "execution_count": 13,
   "id": "9e7b23c9",
   "metadata": {},
   "outputs": [],
   "source": [
    "file_32=open(\"./taxi_fare_RANDOM2.pkl\",\"rb\")"
   ]
  },
  {
   "cell_type": "code",
   "execution_count": 14,
   "id": "81d0755a",
   "metadata": {},
   "outputs": [],
   "source": [
    "file_33=open(\"./taxi_fare_RANDOM3.pkl\",\"rb\")"
   ]
  },
  {
   "cell_type": "code",
   "execution_count": 15,
   "id": "1e2d2b65",
   "metadata": {},
   "outputs": [],
   "source": [
    "model_31=pickle.load(file_31)"
   ]
  },
  {
   "cell_type": "code",
   "execution_count": 16,
   "id": "51b14dcc",
   "metadata": {},
   "outputs": [],
   "source": [
    "model_32=pickle.load(file_32)"
   ]
  },
  {
   "cell_type": "code",
   "execution_count": 17,
   "id": "ff5bf704",
   "metadata": {},
   "outputs": [],
   "source": [
    "model_33=pickle.load(file_33)"
   ]
  },
  {
   "cell_type": "code",
   "execution_count": 18,
   "id": "3a765976",
   "metadata": {},
   "outputs": [],
   "source": [
    "file_31.close()"
   ]
  },
  {
   "cell_type": "code",
   "execution_count": 19,
   "id": "da15e71f",
   "metadata": {},
   "outputs": [],
   "source": [
    "file_32.close()"
   ]
  },
  {
   "cell_type": "code",
   "execution_count": 20,
   "id": "88ec47ee",
   "metadata": {},
   "outputs": [],
   "source": [
    "file_33.close()"
   ]
  },
  {
   "cell_type": "code",
   "execution_count": 21,
   "id": "f6b61a92",
   "metadata": {},
   "outputs": [
    {
     "data": {
      "text/plain": [
       "array([20.64950413])"
      ]
     },
     "execution_count": 21,
     "metadata": {},
     "output_type": "execute_result"
    }
   ],
   "source": [
    "model_31.predict([[2, 2.10]])"
   ]
  },
  {
   "cell_type": "code",
   "execution_count": 22,
   "id": "b865bbde",
   "metadata": {},
   "outputs": [
    {
     "data": {
      "text/plain": [
       "array([15.20450595])"
      ]
     },
     "execution_count": 22,
     "metadata": {},
     "output_type": "execute_result"
    }
   ],
   "source": [
    "model_32.predict([[2, 2.10]])"
   ]
  },
  {
   "cell_type": "code",
   "execution_count": 23,
   "id": "3334d716",
   "metadata": {},
   "outputs": [
    {
     "data": {
      "text/plain": [
       "array([1.7808622])"
      ]
     },
     "execution_count": 23,
     "metadata": {},
     "output_type": "execute_result"
    }
   ],
   "source": [
    "model_33.predict([[2, 2.10]])"
   ]
  },
  {
   "cell_type": "code",
   "execution_count": null,
   "id": "57fc7d94",
   "metadata": {},
   "outputs": [],
   "source": []
  },
  {
   "cell_type": "code",
   "execution_count": null,
   "id": "bc6cf536",
   "metadata": {},
   "outputs": [],
   "source": []
  },
  {
   "cell_type": "code",
   "execution_count": null,
   "id": "2848f0b6",
   "metadata": {},
   "outputs": [],
   "source": []
  }
 ],
 "metadata": {
  "kernelspec": {
   "display_name": "Python 3 (ipykernel)",
   "language": "python",
   "name": "python3"
  },
  "language_info": {
   "codemirror_mode": {
    "name": "ipython",
    "version": 3
   },
   "file_extension": ".py",
   "mimetype": "text/x-python",
   "name": "python",
   "nbconvert_exporter": "python",
   "pygments_lexer": "ipython3",
   "version": "3.9.7"
  }
 },
 "nbformat": 4,
 "nbformat_minor": 5
}

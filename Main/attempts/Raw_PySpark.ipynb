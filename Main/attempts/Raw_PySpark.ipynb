{
 "cells": [
  {
   "cell_type": "markdown",
   "id": "2412780e",
   "metadata": {},
   "source": [
    "# importing required packages"
   ]
  },
  {
   "cell_type": "code",
   "execution_count": null,
   "id": "0adf710f",
   "metadata": {},
   "outputs": [],
   "source": []
  },
  {
   "cell_type": "markdown",
   "id": "835dcbc5",
   "metadata": {},
   "source": [
    "- import numpy for linear algebra\n",
    "- import pandas for loading the dataset, data processing\n",
    "- import matplotlib and seaborn for visualization"
   ]
  },
  {
   "cell_type": "code",
   "execution_count": 1,
   "id": "57e63c68",
   "metadata": {},
   "outputs": [],
   "source": [
    "import numpy as np # linear algebra\n",
    "import pandas as pd # data processing, CSV file I/O (e.g. pd.read_csv)\n",
    "import seaborn as sns\n",
    "import matplotlib.pyplot as plt\n",
    "%matplotlib inline\n",
    "# import matplotlib\n",
    "# import scipy as sp\n",
    "# from subprocess import check_output # #print(check_output([\"ls\", \"../input\"]).decode(\"utf8\"))"
   ]
  },
  {
   "cell_type": "code",
   "execution_count": 2,
   "id": "7feb13fa",
   "metadata": {},
   "outputs": [],
   "source": [
    "import boto3\n",
    "import s3fs"
   ]
  },
  {
   "cell_type": "code",
   "execution_count": 3,
   "id": "dc6796ca",
   "metadata": {},
   "outputs": [],
   "source": [
    "import os"
   ]
  },
  {
   "cell_type": "code",
   "execution_count": null,
   "id": "7c37c6dc",
   "metadata": {},
   "outputs": [],
   "source": []
  },
  {
   "cell_type": "markdown",
   "id": "7c840838",
   "metadata": {},
   "source": [
    "# Load the datasets"
   ]
  },
  {
   "cell_type": "code",
   "execution_count": null,
   "id": "2258e644",
   "metadata": {},
   "outputs": [],
   "source": []
  },
  {
   "cell_type": "markdown",
   "id": "57bec0aa",
   "metadata": {},
   "source": [
    "- to read the file from AWS"
   ]
  },
  {
   "cell_type": "code",
   "execution_count": 4,
   "id": "2f6e44a1",
   "metadata": {},
   "outputs": [],
   "source": [
    "client = boto3.client('s3')"
   ]
  },
  {
   "cell_type": "code",
   "execution_count": 5,
   "id": "a4b4dbf5",
   "metadata": {},
   "outputs": [],
   "source": [
    "path = 's3://nyc-taxi-system/Final_dataset.csv'"
   ]
  },
  {
   "cell_type": "code",
   "execution_count": 6,
   "id": "29be53d5",
   "metadata": {},
   "outputs": [
    {
     "data": {
      "text/html": [
       "<div>\n",
       "<style scoped>\n",
       "    .dataframe tbody tr th:only-of-type {\n",
       "        vertical-align: middle;\n",
       "    }\n",
       "\n",
       "    .dataframe tbody tr th {\n",
       "        vertical-align: top;\n",
       "    }\n",
       "\n",
       "    .dataframe thead th {\n",
       "        text-align: right;\n",
       "    }\n",
       "</style>\n",
       "<table border=\"1\" class=\"dataframe\">\n",
       "  <thead>\n",
       "    <tr style=\"text-align: right;\">\n",
       "      <th></th>\n",
       "      <th>Unnamed: 0</th>\n",
       "      <th>VendorID</th>\n",
       "      <th>tpep_pickup_datetime</th>\n",
       "      <th>tpep_dropoff_datetime</th>\n",
       "      <th>passenger_count</th>\n",
       "      <th>trip_distance</th>\n",
       "      <th>RatecodeID</th>\n",
       "      <th>store_and_fwd_flag</th>\n",
       "      <th>PULocationID</th>\n",
       "      <th>DOLocationID</th>\n",
       "      <th>...</th>\n",
       "      <th>total_amount</th>\n",
       "      <th>congestion_surcharge</th>\n",
       "      <th>PU_zone</th>\n",
       "      <th>PU_borough</th>\n",
       "      <th>PU_latitude</th>\n",
       "      <th>PU_longitude</th>\n",
       "      <th>DO_zone</th>\n",
       "      <th>DO_borough</th>\n",
       "      <th>DO_latitude</th>\n",
       "      <th>DO_longitude</th>\n",
       "    </tr>\n",
       "  </thead>\n",
       "  <tbody>\n",
       "    <tr>\n",
       "      <th>0</th>\n",
       "      <td>0</td>\n",
       "      <td>1.0</td>\n",
       "      <td>2020-01-07 21:38:40</td>\n",
       "      <td>2020-01-07 21:45:13</td>\n",
       "      <td>2.0</td>\n",
       "      <td>1.00</td>\n",
       "      <td>1.0</td>\n",
       "      <td>N</td>\n",
       "      <td>249</td>\n",
       "      <td>113</td>\n",
       "      <td>...</td>\n",
       "      <td>12.85</td>\n",
       "      <td>2.5</td>\n",
       "      <td>West Village</td>\n",
       "      <td>Manhattan</td>\n",
       "      <td>40.734186</td>\n",
       "      <td>-74.005580</td>\n",
       "      <td>Greenwich Village North</td>\n",
       "      <td>Manhattan</td>\n",
       "      <td>40.734299</td>\n",
       "      <td>-74.000573</td>\n",
       "    </tr>\n",
       "    <tr>\n",
       "      <th>1</th>\n",
       "      <td>1</td>\n",
       "      <td>2.0</td>\n",
       "      <td>2020-01-24 20:09:35</td>\n",
       "      <td>2020-01-24 20:52:36</td>\n",
       "      <td>1.0</td>\n",
       "      <td>3.99</td>\n",
       "      <td>1.0</td>\n",
       "      <td>N</td>\n",
       "      <td>144</td>\n",
       "      <td>142</td>\n",
       "      <td>...</td>\n",
       "      <td>35.76</td>\n",
       "      <td>2.5</td>\n",
       "      <td>Little Italy/NoLiTa</td>\n",
       "      <td>Manhattan</td>\n",
       "      <td>40.721006</td>\n",
       "      <td>-73.994702</td>\n",
       "      <td>Lincoln Square East</td>\n",
       "      <td>Manhattan</td>\n",
       "      <td>40.775707</td>\n",
       "      <td>-73.991420</td>\n",
       "    </tr>\n",
       "    <tr>\n",
       "      <th>2</th>\n",
       "      <td>2</td>\n",
       "      <td>2.0</td>\n",
       "      <td>2020-01-15 13:37:54</td>\n",
       "      <td>2020-01-15 13:40:47</td>\n",
       "      <td>1.0</td>\n",
       "      <td>0.43</td>\n",
       "      <td>1.0</td>\n",
       "      <td>N</td>\n",
       "      <td>238</td>\n",
       "      <td>238</td>\n",
       "      <td>...</td>\n",
       "      <td>9.49</td>\n",
       "      <td>2.5</td>\n",
       "      <td>Upper West Side North</td>\n",
       "      <td>Manhattan</td>\n",
       "      <td>40.781960</td>\n",
       "      <td>-73.981243</td>\n",
       "      <td>Upper West Side North</td>\n",
       "      <td>Manhattan</td>\n",
       "      <td>40.781960</td>\n",
       "      <td>-73.981243</td>\n",
       "    </tr>\n",
       "    <tr>\n",
       "      <th>3</th>\n",
       "      <td>3</td>\n",
       "      <td>2.0</td>\n",
       "      <td>2020-01-16 16:22:45</td>\n",
       "      <td>2020-01-16 16:28:19</td>\n",
       "      <td>1.0</td>\n",
       "      <td>0.60</td>\n",
       "      <td>1.0</td>\n",
       "      <td>N</td>\n",
       "      <td>164</td>\n",
       "      <td>137</td>\n",
       "      <td>...</td>\n",
       "      <td>10.80</td>\n",
       "      <td>2.5</td>\n",
       "      <td>Midtown South</td>\n",
       "      <td>Manhattan</td>\n",
       "      <td>40.749842</td>\n",
       "      <td>-73.984251</td>\n",
       "      <td>Kips Bay</td>\n",
       "      <td>Manhattan</td>\n",
       "      <td>40.739546</td>\n",
       "      <td>-73.977083</td>\n",
       "    </tr>\n",
       "    <tr>\n",
       "      <th>4</th>\n",
       "      <td>4</td>\n",
       "      <td>1.0</td>\n",
       "      <td>2020-01-01 14:11:40</td>\n",
       "      <td>2020-01-01 14:12:28</td>\n",
       "      <td>4.0</td>\n",
       "      <td>0.00</td>\n",
       "      <td>1.0</td>\n",
       "      <td>N</td>\n",
       "      <td>132</td>\n",
       "      <td>132</td>\n",
       "      <td>...</td>\n",
       "      <td>3.30</td>\n",
       "      <td>0.0</td>\n",
       "      <td>JFK Airport</td>\n",
       "      <td>Queens</td>\n",
       "      <td>40.642948</td>\n",
       "      <td>-73.779373</td>\n",
       "      <td>JFK Airport</td>\n",
       "      <td>Queens</td>\n",
       "      <td>40.642948</td>\n",
       "      <td>-73.779373</td>\n",
       "    </tr>\n",
       "    <tr>\n",
       "      <th>5</th>\n",
       "      <td>5</td>\n",
       "      <td>2.0</td>\n",
       "      <td>2020-01-22 23:33:47</td>\n",
       "      <td>2020-01-22 23:39:45</td>\n",
       "      <td>2.0</td>\n",
       "      <td>1.45</td>\n",
       "      <td>1.0</td>\n",
       "      <td>N</td>\n",
       "      <td>142</td>\n",
       "      <td>237</td>\n",
       "      <td>...</td>\n",
       "      <td>12.42</td>\n",
       "      <td>2.5</td>\n",
       "      <td>Lincoln Square East</td>\n",
       "      <td>Manhattan</td>\n",
       "      <td>40.775707</td>\n",
       "      <td>-73.991420</td>\n",
       "      <td>Upper East Side South</td>\n",
       "      <td>Manhattan</td>\n",
       "      <td>40.779468</td>\n",
       "      <td>-73.958265</td>\n",
       "    </tr>\n",
       "    <tr>\n",
       "      <th>6</th>\n",
       "      <td>6</td>\n",
       "      <td>1.0</td>\n",
       "      <td>2020-01-04 16:12:29</td>\n",
       "      <td>2020-01-04 16:31:23</td>\n",
       "      <td>2.0</td>\n",
       "      <td>3.90</td>\n",
       "      <td>1.0</td>\n",
       "      <td>N</td>\n",
       "      <td>90</td>\n",
       "      <td>239</td>\n",
       "      <td>...</td>\n",
       "      <td>23.30</td>\n",
       "      <td>2.5</td>\n",
       "      <td>Flatiron</td>\n",
       "      <td>Manhattan</td>\n",
       "      <td>40.741059</td>\n",
       "      <td>-73.989642</td>\n",
       "      <td>Upper West Side South</td>\n",
       "      <td>Manhattan</td>\n",
       "      <td>40.769244</td>\n",
       "      <td>-73.990767</td>\n",
       "    </tr>\n",
       "    <tr>\n",
       "      <th>7</th>\n",
       "      <td>7</td>\n",
       "      <td>1.0</td>\n",
       "      <td>2020-01-31 18:49:37</td>\n",
       "      <td>2020-01-31 19:03:00</td>\n",
       "      <td>1.0</td>\n",
       "      <td>2.90</td>\n",
       "      <td>1.0</td>\n",
       "      <td>N</td>\n",
       "      <td>230</td>\n",
       "      <td>236</td>\n",
       "      <td>...</td>\n",
       "      <td>15.80</td>\n",
       "      <td>2.5</td>\n",
       "      <td>Times Sq/Theatre District</td>\n",
       "      <td>Manhattan</td>\n",
       "      <td>40.758168</td>\n",
       "      <td>-73.985525</td>\n",
       "      <td>Upper East Side North</td>\n",
       "      <td>Manhattan</td>\n",
       "      <td>40.764873</td>\n",
       "      <td>-73.961511</td>\n",
       "    </tr>\n",
       "    <tr>\n",
       "      <th>8</th>\n",
       "      <td>8</td>\n",
       "      <td>2.0</td>\n",
       "      <td>2020-01-12 07:09:42</td>\n",
       "      <td>2020-01-12 07:14:05</td>\n",
       "      <td>2.0</td>\n",
       "      <td>1.19</td>\n",
       "      <td>1.0</td>\n",
       "      <td>N</td>\n",
       "      <td>263</td>\n",
       "      <td>140</td>\n",
       "      <td>...</td>\n",
       "      <td>11.16</td>\n",
       "      <td>2.5</td>\n",
       "      <td>Yorkville West</td>\n",
       "      <td>Manhattan</td>\n",
       "      <td>43.670470</td>\n",
       "      <td>-79.387252</td>\n",
       "      <td>Lenox Hill East</td>\n",
       "      <td>Manhattan</td>\n",
       "      <td>40.765177</td>\n",
       "      <td>-73.961595</td>\n",
       "    </tr>\n",
       "    <tr>\n",
       "      <th>9</th>\n",
       "      <td>9</td>\n",
       "      <td>2.0</td>\n",
       "      <td>2020-01-01 10:49:09</td>\n",
       "      <td>2020-01-01 10:52:21</td>\n",
       "      <td>1.0</td>\n",
       "      <td>0.77</td>\n",
       "      <td>1.0</td>\n",
       "      <td>N</td>\n",
       "      <td>42</td>\n",
       "      <td>42</td>\n",
       "      <td>...</td>\n",
       "      <td>5.30</td>\n",
       "      <td>0.0</td>\n",
       "      <td>Central Harlem North</td>\n",
       "      <td>Manhattan</td>\n",
       "      <td>40.799218</td>\n",
       "      <td>-73.954900</td>\n",
       "      <td>Central Harlem North</td>\n",
       "      <td>Manhattan</td>\n",
       "      <td>40.799218</td>\n",
       "      <td>-73.954900</td>\n",
       "    </tr>\n",
       "  </tbody>\n",
       "</table>\n",
       "<p>10 rows × 27 columns</p>\n",
       "</div>"
      ],
      "text/plain": [
       "   Unnamed: 0  VendorID tpep_pickup_datetime tpep_dropoff_datetime  \\\n",
       "0           0       1.0  2020-01-07 21:38:40   2020-01-07 21:45:13   \n",
       "1           1       2.0  2020-01-24 20:09:35   2020-01-24 20:52:36   \n",
       "2           2       2.0  2020-01-15 13:37:54   2020-01-15 13:40:47   \n",
       "3           3       2.0  2020-01-16 16:22:45   2020-01-16 16:28:19   \n",
       "4           4       1.0  2020-01-01 14:11:40   2020-01-01 14:12:28   \n",
       "5           5       2.0  2020-01-22 23:33:47   2020-01-22 23:39:45   \n",
       "6           6       1.0  2020-01-04 16:12:29   2020-01-04 16:31:23   \n",
       "7           7       1.0  2020-01-31 18:49:37   2020-01-31 19:03:00   \n",
       "8           8       2.0  2020-01-12 07:09:42   2020-01-12 07:14:05   \n",
       "9           9       2.0  2020-01-01 10:49:09   2020-01-01 10:52:21   \n",
       "\n",
       "   passenger_count  trip_distance  RatecodeID store_and_fwd_flag  \\\n",
       "0              2.0           1.00         1.0                  N   \n",
       "1              1.0           3.99         1.0                  N   \n",
       "2              1.0           0.43         1.0                  N   \n",
       "3              1.0           0.60         1.0                  N   \n",
       "4              4.0           0.00         1.0                  N   \n",
       "5              2.0           1.45         1.0                  N   \n",
       "6              2.0           3.90         1.0                  N   \n",
       "7              1.0           2.90         1.0                  N   \n",
       "8              2.0           1.19         1.0                  N   \n",
       "9              1.0           0.77         1.0                  N   \n",
       "\n",
       "   PULocationID  DOLocationID  ...  total_amount  congestion_surcharge  \\\n",
       "0           249           113  ...         12.85                   2.5   \n",
       "1           144           142  ...         35.76                   2.5   \n",
       "2           238           238  ...          9.49                   2.5   \n",
       "3           164           137  ...         10.80                   2.5   \n",
       "4           132           132  ...          3.30                   0.0   \n",
       "5           142           237  ...         12.42                   2.5   \n",
       "6            90           239  ...         23.30                   2.5   \n",
       "7           230           236  ...         15.80                   2.5   \n",
       "8           263           140  ...         11.16                   2.5   \n",
       "9            42            42  ...          5.30                   0.0   \n",
       "\n",
       "                     PU_zone  PU_borough  PU_latitude  PU_longitude  \\\n",
       "0               West Village   Manhattan    40.734186    -74.005580   \n",
       "1        Little Italy/NoLiTa   Manhattan    40.721006    -73.994702   \n",
       "2      Upper West Side North   Manhattan    40.781960    -73.981243   \n",
       "3              Midtown South   Manhattan    40.749842    -73.984251   \n",
       "4                JFK Airport      Queens    40.642948    -73.779373   \n",
       "5        Lincoln Square East   Manhattan    40.775707    -73.991420   \n",
       "6                   Flatiron   Manhattan    40.741059    -73.989642   \n",
       "7  Times Sq/Theatre District   Manhattan    40.758168    -73.985525   \n",
       "8             Yorkville West   Manhattan    43.670470    -79.387252   \n",
       "9       Central Harlem North   Manhattan    40.799218    -73.954900   \n",
       "\n",
       "                   DO_zone  DO_borough  DO_latitude DO_longitude  \n",
       "0  Greenwich Village North   Manhattan    40.734299   -74.000573  \n",
       "1      Lincoln Square East   Manhattan    40.775707   -73.991420  \n",
       "2    Upper West Side North   Manhattan    40.781960   -73.981243  \n",
       "3                 Kips Bay   Manhattan    40.739546   -73.977083  \n",
       "4              JFK Airport      Queens    40.642948   -73.779373  \n",
       "5    Upper East Side South   Manhattan    40.779468   -73.958265  \n",
       "6    Upper West Side South   Manhattan    40.769244   -73.990767  \n",
       "7    Upper East Side North   Manhattan    40.764873   -73.961511  \n",
       "8          Lenox Hill East   Manhattan    40.765177   -73.961595  \n",
       "9     Central Harlem North   Manhattan    40.799218   -73.954900  \n",
       "\n",
       "[10 rows x 27 columns]"
      ]
     },
     "execution_count": 6,
     "metadata": {},
     "output_type": "execute_result"
    }
   ],
   "source": [
    "bulk_df = pd.read_csv(path)\n",
    "bulk_df.head(10)"
   ]
  },
  {
   "cell_type": "markdown",
   "id": "b8da2fc0",
   "metadata": {},
   "source": [
    "- remove the first column which is index column saved in dataset from prior sampling process"
   ]
  },
  {
   "cell_type": "code",
   "execution_count": 7,
   "id": "970cc7fa",
   "metadata": {},
   "outputs": [
    {
     "data": {
      "text/plain": [
       "(1200911, 27)"
      ]
     },
     "execution_count": 7,
     "metadata": {},
     "output_type": "execute_result"
    }
   ],
   "source": [
    "bulk_df.shape"
   ]
  },
  {
   "cell_type": "code",
   "execution_count": 8,
   "id": "53320f04",
   "metadata": {},
   "outputs": [],
   "source": [
    "bulk_df.drop(['Unnamed: 0'],axis=1,inplace=True)"
   ]
  },
  {
   "cell_type": "markdown",
   "id": "557c76b4",
   "metadata": {},
   "source": [
    "### to take 10% of total dataset as a sample"
   ]
  },
  {
   "cell_type": "code",
   "execution_count": 9,
   "id": "9f2ea5d3",
   "metadata": {},
   "outputs": [],
   "source": [
    "df = bulk_df.sample(frac=0.1)"
   ]
  },
  {
   "cell_type": "code",
   "execution_count": 10,
   "id": "bcaf886e",
   "metadata": {},
   "outputs": [
    {
     "data": {
      "text/plain": [
       "(120091, 26)"
      ]
     },
     "execution_count": 10,
     "metadata": {},
     "output_type": "execute_result"
    }
   ],
   "source": [
    "df.shape"
   ]
  },
  {
   "cell_type": "code",
   "execution_count": null,
   "id": "2fe0fc76",
   "metadata": {},
   "outputs": [],
   "source": []
  },
  {
   "cell_type": "markdown",
   "id": "3b527fcb",
   "metadata": {},
   "source": [
    "# Exploratory Data Analysis ( EDA )"
   ]
  },
  {
   "cell_type": "code",
   "execution_count": null,
   "id": "b330d8f0",
   "metadata": {},
   "outputs": [],
   "source": []
  },
  {
   "cell_type": "code",
   "execution_count": 11,
   "id": "134d81f4",
   "metadata": {},
   "outputs": [],
   "source": [
    "from pyspark.sql import SparkSession"
   ]
  },
  {
   "cell_type": "code",
   "execution_count": 12,
   "id": "28197f5a",
   "metadata": {},
   "outputs": [],
   "source": [
    "spark=SparkSession.builder.appName('Dataframe').getOrCreate()"
   ]
  },
  {
   "cell_type": "code",
   "execution_count": 13,
   "id": "a2c7073d",
   "metadata": {},
   "outputs": [
    {
     "data": {
      "text/html": [
       "\n",
       "            <div>\n",
       "                <p><b>SparkSession - in-memory</b></p>\n",
       "                \n",
       "        <div>\n",
       "            <p><b>SparkContext</b></p>\n",
       "\n",
       "            <p><a href=\"http://DESKTOP-9TQOQ7F:4040\">Spark UI</a></p>\n",
       "\n",
       "            <dl>\n",
       "              <dt>Version</dt>\n",
       "                <dd><code>v3.2.1</code></dd>\n",
       "              <dt>Master</dt>\n",
       "                <dd><code>local[*]</code></dd>\n",
       "              <dt>AppName</dt>\n",
       "                <dd><code>Dataframe</code></dd>\n",
       "            </dl>\n",
       "        </div>\n",
       "        \n",
       "            </div>\n",
       "        "
      ],
      "text/plain": [
       "<pyspark.sql.session.SparkSession at 0x1735f1987c0>"
      ]
     },
     "execution_count": 13,
     "metadata": {},
     "output_type": "execute_result"
    }
   ],
   "source": [
    "spark"
   ]
  },
  {
   "cell_type": "code",
   "execution_count": 14,
   "id": "ae11376d",
   "metadata": {},
   "outputs": [],
   "source": [
    "from pyspark.sql.types import *"
   ]
  },
  {
   "cell_type": "code",
   "execution_count": 15,
   "id": "6b5f7b7d",
   "metadata": {},
   "outputs": [],
   "source": [
    "schema=StructType([\n",
    "    StructField(\"VendorID\", FloatType(), True ),\n",
    "    StructField(\"tpep_pickup_datetime\", StringType(), True ),\n",
    "    StructField(\"tpep_dropoff_datetime\", StringType(), True ),\n",
    "    StructField(\"passenger_count\", FloatType(), True ),\n",
    "    StructField(\"trip_distance\", FloatType(), True ),\n",
    "    StructField(\"RatecodeID\", FloatType(), True ),\n",
    "    StructField(\"store_and_fwd_flag\", StringType(), True ),\n",
    "    StructField(\"PULocationID\", IntegerType(), True ),\n",
    "    StructField(\"DOLocationID\", IntegerType(), True ),\n",
    "    StructField(\"payment_type\", FloatType(), True ),\n",
    "    StructField(\"fare_amount\", FloatType(), True ),\n",
    "    StructField(\"extra\", FloatType(), True ),\n",
    "    StructField(\"mta_tax\", FloatType(), True ),\n",
    "    StructField(\"tip_amount\", FloatType(), True ),\n",
    "    StructField(\"tolls_amount\", FloatType(), True ),\n",
    "    StructField(\"improvement_surcharge\", FloatType(), True ),\n",
    "    StructField(\"total_amount\", FloatType(), True ),\n",
    "    StructField(\"congestion_surcharge\", FloatType(), True ),\n",
    "    StructField(\"PU_zone \", StringType(), True ),\n",
    "    StructField(\"PU_borough\", StringType(), True ),\n",
    "    StructField(\"PU_latitude\", FloatType(), True ),\n",
    "    StructField(\"PU_longitude\", FloatType(), True ),\n",
    "    StructField(\"DO_zone\", StringType(), True ),\n",
    "    StructField(\"DO_borough\", StringType(), True ),\n",
    "    StructField(\"DO_latitude\", FloatType(), True ),\n",
    "    StructField(\"DO_longitude\", FloatType(), True )\n",
    "])"
   ]
  },
  {
   "cell_type": "code",
   "execution_count": 16,
   "id": "cfe030ef",
   "metadata": {},
   "outputs": [],
   "source": [
    "# spark.read.format('csv').options(header='true', inferSchema='True').load('s3://nyc-taxi-system/Final_dataset.csv')"
   ]
  },
  {
   "cell_type": "code",
   "execution_count": 17,
   "id": "f4354d81",
   "metadata": {},
   "outputs": [],
   "source": [
    "df_pyspark = spark.createDataFrame(df, schema)"
   ]
  },
  {
   "cell_type": "code",
   "execution_count": 18,
   "id": "cfca35fe",
   "metadata": {},
   "outputs": [
    {
     "data": {
      "text/plain": [
       "['VendorID',\n",
       " 'tpep_pickup_datetime',\n",
       " 'tpep_dropoff_datetime',\n",
       " 'passenger_count',\n",
       " 'trip_distance',\n",
       " 'RatecodeID',\n",
       " 'store_and_fwd_flag',\n",
       " 'PULocationID',\n",
       " 'DOLocationID',\n",
       " 'payment_type',\n",
       " 'fare_amount',\n",
       " 'extra',\n",
       " 'mta_tax',\n",
       " 'tip_amount',\n",
       " 'tolls_amount',\n",
       " 'improvement_surcharge',\n",
       " 'total_amount',\n",
       " 'congestion_surcharge',\n",
       " 'PU_zone ',\n",
       " 'PU_borough',\n",
       " 'PU_latitude',\n",
       " 'PU_longitude',\n",
       " 'DO_zone',\n",
       " 'DO_borough',\n",
       " 'DO_latitude',\n",
       " 'DO_longitude']"
      ]
     },
     "execution_count": 18,
     "metadata": {},
     "output_type": "execute_result"
    }
   ],
   "source": [
    "df_pyspark.columns"
   ]
  },
  {
   "cell_type": "code",
   "execution_count": 19,
   "id": "d2edeb5e",
   "metadata": {},
   "outputs": [
    {
     "data": {
      "text/plain": [
       "pyspark.sql.dataframe.DataFrame"
      ]
     },
     "execution_count": 19,
     "metadata": {},
     "output_type": "execute_result"
    }
   ],
   "source": [
    "type(df_pyspark)"
   ]
  },
  {
   "cell_type": "code",
   "execution_count": 20,
   "id": "b737e701",
   "metadata": {},
   "outputs": [
    {
     "name": "stdout",
     "output_type": "stream",
     "text": [
      "root\n",
      " |-- VendorID: float (nullable = true)\n",
      " |-- tpep_pickup_datetime: string (nullable = true)\n",
      " |-- tpep_dropoff_datetime: string (nullable = true)\n",
      " |-- passenger_count: float (nullable = true)\n",
      " |-- trip_distance: float (nullable = true)\n",
      " |-- RatecodeID: float (nullable = true)\n",
      " |-- store_and_fwd_flag: string (nullable = true)\n",
      " |-- PULocationID: integer (nullable = true)\n",
      " |-- DOLocationID: integer (nullable = true)\n",
      " |-- payment_type: float (nullable = true)\n",
      " |-- fare_amount: float (nullable = true)\n",
      " |-- extra: float (nullable = true)\n",
      " |-- mta_tax: float (nullable = true)\n",
      " |-- tip_amount: float (nullable = true)\n",
      " |-- tolls_amount: float (nullable = true)\n",
      " |-- improvement_surcharge: float (nullable = true)\n",
      " |-- total_amount: float (nullable = true)\n",
      " |-- congestion_surcharge: float (nullable = true)\n",
      " |-- PU_zone : string (nullable = true)\n",
      " |-- PU_borough: string (nullable = true)\n",
      " |-- PU_latitude: float (nullable = true)\n",
      " |-- PU_longitude: float (nullable = true)\n",
      " |-- DO_zone: string (nullable = true)\n",
      " |-- DO_borough: string (nullable = true)\n",
      " |-- DO_latitude: float (nullable = true)\n",
      " |-- DO_longitude: float (nullable = true)\n",
      "\n"
     ]
    }
   ],
   "source": [
    "df_pyspark.printSchema()"
   ]
  },
  {
   "cell_type": "code",
   "execution_count": 21,
   "id": "236ae3d4",
   "metadata": {},
   "outputs": [
    {
     "name": "stdout",
     "output_type": "stream",
     "text": [
      "+--------+--------------------+---------------------+---------------+-------------+----------+------------------+------------+------------+------------+-----------+-----+-------+----------+------------+---------------------+------------+--------------------+--------------------+----------+-----------+------------+--------------------+----------+-----------+------------+\n",
      "|VendorID|tpep_pickup_datetime|tpep_dropoff_datetime|passenger_count|trip_distance|RatecodeID|store_and_fwd_flag|PULocationID|DOLocationID|payment_type|fare_amount|extra|mta_tax|tip_amount|tolls_amount|improvement_surcharge|total_amount|congestion_surcharge|            PU_zone |PU_borough|PU_latitude|PU_longitude|             DO_zone|DO_borough|DO_latitude|DO_longitude|\n",
      "+--------+--------------------+---------------------+---------------+-------------+----------+------------------+------------+------------+------------+-----------+-----+-------+----------+------------+---------------------+------------+--------------------+--------------------+----------+-----------+------------+--------------------+----------+-----------+------------+\n",
      "|     2.0| 2020-01-13 12:52:07|  2020-01-13 12:59:40|            5.0|         1.62|       1.0|                 N|         142|         237|         1.0|        7.5|  0.0|    0.5|      2.16|         0.0|                  0.3|       12.96|                 2.5| Lincoln Square East| Manhattan|  40.775707|   -73.99142|Upper East Side S...| Manhattan|   40.77947|   -73.95827|\n",
      "|     2.0| 2019-09-16 17:13:30|  2019-09-16 17:24:38|            5.0|         2.94|       1.0|                 N|         137|         232|         1.0|       11.0|  1.0|    0.5|       1.0|         0.0|                  0.3|        16.3|                 2.5|            Kips Bay| Manhattan|  40.739548|   -73.97708|Two Bridges/Sewar...| Manhattan|  40.714497|   -73.98854|\n",
      "|     1.0| 2019-10-21 21:23:14|  2019-10-21 21:29:37|            1.0|          1.2|       1.0|                 N|         237|         162|         1.0|        6.5|  3.0|    0.5|       1.5|         0.0|                  0.3|        11.8|                 2.5|Upper East Side S...| Manhattan|   40.77947|   -73.95827|        Midtown East| Manhattan|  40.759823|   -73.97247|\n",
      "|     2.0| 2021-03-26 15:52:31|  2021-03-26 15:55:19|            1.0|         0.38|       1.0|                 N|         107|         164|         1.0|        4.0|  0.0|    0.5|      1.82|         0.0|                  0.3|        9.12|                 2.5|            Gramercy| Manhattan|   40.73552|   -73.98408|       Midtown South| Manhattan|  40.749844|   -73.98425|\n",
      "|     1.0| 2020-09-19 00:13:48|  2020-09-19 00:17:08|            1.0|          0.6|       1.0|                 N|         114|         144|         1.0|        4.5|  3.0|    0.5|      1.65|         0.0|                  0.3|        9.95|                 2.5|Greenwich Village...| Manhattan|  40.733585|  -74.002815| Little Italy/NoLiTa| Manhattan|  40.721004|  -73.994705|\n",
      "|     1.0| 2021-06-11 04:47:48|  2021-06-11 05:03:08|            1.0|          5.5|       1.0|                 N|         249|         146|         1.0|       18.0|  3.0|    0.5|       6.5|         0.0|                  0.3|        28.3|                 2.5|        West Village| Manhattan|  40.734184|   -74.00558|Long Island City/...|    Queens|  40.750607|   -73.94026|\n",
      "|     2.0| 2021-04-18 18:27:23|  2021-04-18 18:34:33|            1.0|         2.24|       1.0|                 N|         236|          74|         1.0|        8.5|  0.0|    0.5|       0.0|         0.0|                  0.3|        11.8|                 2.5|Upper East Side N...| Manhattan|  40.764874|   -73.96151|   East Harlem North| Manhattan|  40.788055|  -73.943886|\n",
      "|     2.0| 2020-05-25 17:21:05|  2020-05-25 17:27:10|            1.0|         1.13|       1.0|                 N|         237|         229|         1.0|        6.5|  0.0|    0.5|      2.25|         0.0|                  0.3|       12.05|                 2.5|Upper East Side S...| Manhattan|   40.77947|   -73.95827|Sutton Place/Turt...| Manhattan|  40.757652|   -73.96167|\n",
      "|     2.0| 2021-04-27 20:17:56|  2021-04-27 20:22:53|            1.0|         1.03|       1.0|                 N|         107|         234|         1.0|        5.5|  0.5|    0.5|      1.86|         0.0|                  0.3|       11.16|                 2.5|            Gramercy| Manhattan|   40.73552|   -73.98408|            Union Sq| Manhattan|   40.73591|  -73.990166|\n",
      "|     NaN| 2021-02-04 10:44:00|  2021-02-04 10:59:00|            NaN|          1.6|       NaN|               NaN|          89|          89|         NaN|      13.45| 2.75|    0.5|       0.0|         0.0|                  0.3|        17.0|                 0.0|Flatbush/Ditmas Park|  Brooklyn|  40.640144|   -73.96088|Flatbush/Ditmas Park|  Brooklyn|  40.640144|   -73.96088|\n",
      "|     1.0| 2020-02-29 09:56:23|  2020-02-29 10:01:32|            1.0|          0.6|       1.0|                 Y|         262|         263|         2.0|        5.5|  2.5|    0.5|       0.0|         0.0|                  0.3|         8.8|                 2.5|      Yorkville East| Manhattan|  40.783253|   -73.94472|      Yorkville West| Manhattan|   43.67047|   -79.38725|\n",
      "|     2.0| 2020-06-18 14:27:44|  2020-06-18 14:37:26|            1.0|         1.79|       1.0|                 N|         137|          43|         2.0|        8.5|  0.0|    0.5|       0.0|         0.0|                  0.3|        11.8|                 2.5|            Kips Bay| Manhattan|  40.739548|   -73.97708|        Central Park| Manhattan|  40.782772|   -73.96536|\n",
      "|     2.0| 2019-10-08 07:55:48|  2019-10-08 08:05:06|            1.0|         1.67|       1.0|                 N|         142|         238|         1.0|        8.0|  0.0|    0.5|      3.39|         0.0|                  0.3|       14.69|                 2.5| Lincoln Square East| Manhattan|  40.775707|   -73.99142|Upper West Side N...| Manhattan|   40.78196|   -73.98124|\n",
      "|     1.0| 2020-03-01 14:21:59|  2020-03-01 14:43:53|            1.0|          7.7|       1.0|                 N|         138|         217|         1.0|       24.0|  0.0|    0.5|       1.0|         0.0|                  0.3|        25.8|                 0.0|   LaGuardia Airport|    Queens|  40.775715|   -73.87337|  South Williamsburg|  Brooklyn|  40.705128|   -73.95636|\n",
      "|     2.0| 2019-12-11 20:37:50|  2019-12-11 20:49:19|            1.0|          2.1|       1.0|                 N|          90|         231|         1.0|        9.5|  0.5|    0.5|      2.66|         0.0|                  0.3|       15.96|                 2.5|            Flatiron| Manhattan|   40.74106|   -73.98964|TriBeCa/Civic Center| Manhattan|  40.716988|   -74.09211|\n",
      "|     2.0| 2020-07-09 11:49:27|  2020-07-09 11:57:55|            1.0|         0.65|       1.0|                 N|          90|          68|         1.0|        7.0|  0.0|    0.5|      2.06|         0.0|                  0.3|       12.36|                 2.5|            Flatiron| Manhattan|   40.74106|   -73.98964|        East Chelsea| Manhattan|   40.74138|   -74.00245|\n",
      "|     1.0| 2020-12-03 15:56:52|  2020-12-03 16:07:05|            1.0|          1.5|       1.0|                 N|         237|         236|         2.0|        8.5|  3.5|    0.5|       0.0|         0.0|                  0.3|        12.8|                 2.5|Upper East Side S...| Manhattan|   40.77947|   -73.95827|Upper East Side N...| Manhattan|  40.764874|   -73.96151|\n",
      "|     2.0| 2021-04-24 18:27:37|  2021-04-24 18:49:15|            4.0|         4.38|       1.0|                 N|          48|          13|         1.0|       18.0|  0.0|    0.5|       3.0|         0.0|                  0.3|        24.3|                 2.5|        Clinton East| Manhattan|   40.76066|   -73.99022|   Battery Park City| Manhattan|  40.711018|   -74.01694|\n",
      "|     1.0| 2020-12-04 18:02:45|  2020-12-04 18:21:57|            1.0|          3.2|       1.0|                 N|         163|         125|         1.0|       14.5|  3.5|    0.5|       2.5|         0.0|                  0.3|        21.3|                 2.5|       Midtown North| Manhattan|  40.765205|   -73.98511|           Hudson Sq| Manhattan|  40.726803|   -74.00798|\n",
      "|     2.0| 2020-11-06 21:07:07|  2020-11-06 21:13:17|            5.0|         1.25|       1.0|                 N|         249|         231|         1.0|        6.5|  0.5|    0.5|       1.0|         0.0|                  0.3|        11.3|                 2.5|        West Village| Manhattan|  40.734184|   -74.00558|TriBeCa/Civic Center| Manhattan|  40.716988|   -74.09211|\n",
      "+--------+--------------------+---------------------+---------------+-------------+----------+------------------+------------+------------+------------+-----------+-----+-------+----------+------------+---------------------+------------+--------------------+--------------------+----------+-----------+------------+--------------------+----------+-----------+------------+\n",
      "only showing top 20 rows\n",
      "\n"
     ]
    }
   ],
   "source": [
    "df_pyspark.show()"
   ]
  },
  {
   "cell_type": "code",
   "execution_count": 22,
   "id": "aa874b32",
   "metadata": {},
   "outputs": [
    {
     "name": "stdout",
     "output_type": "stream",
     "text": [
      "-RECORD 0-------------------------------------\n",
      " VendorID              | 2.0                  \n",
      " tpep_pickup_datetime  | 2020-01-13 12:52:07  \n",
      " tpep_dropoff_datetime | 2020-01-13 12:59:40  \n",
      " passenger_count       | 5.0                  \n",
      " trip_distance         | 1.62                 \n",
      " RatecodeID            | 1.0                  \n",
      " store_and_fwd_flag    | N                    \n",
      " PULocationID          | 142                  \n",
      " DOLocationID          | 237                  \n",
      " payment_type          | 1.0                  \n",
      " fare_amount           | 7.5                  \n",
      " extra                 | 0.0                  \n",
      " mta_tax               | 0.5                  \n",
      " tip_amount            | 2.16                 \n",
      " tolls_amount          | 0.0                  \n",
      " improvement_surcharge | 0.3                  \n",
      " total_amount          | 12.96                \n",
      " congestion_surcharge  | 2.5                  \n",
      " PU_zone               | Lincoln Square East  \n",
      " PU_borough            | Manhattan            \n",
      " PU_latitude           | 40.775707            \n",
      " PU_longitude          | -73.99142            \n",
      " DO_zone               | Upper East Side S... \n",
      " DO_borough            | Manhattan            \n",
      " DO_latitude           | 40.77947             \n",
      " DO_longitude          | -73.95827            \n",
      "-RECORD 1-------------------------------------\n",
      " VendorID              | 2.0                  \n",
      " tpep_pickup_datetime  | 2019-09-16 17:13:30  \n",
      " tpep_dropoff_datetime | 2019-09-16 17:24:38  \n",
      " passenger_count       | 5.0                  \n",
      " trip_distance         | 2.94                 \n",
      " RatecodeID            | 1.0                  \n",
      " store_and_fwd_flag    | N                    \n",
      " PULocationID          | 137                  \n",
      " DOLocationID          | 232                  \n",
      " payment_type          | 1.0                  \n",
      " fare_amount           | 11.0                 \n",
      " extra                 | 1.0                  \n",
      " mta_tax               | 0.5                  \n",
      " tip_amount            | 1.0                  \n",
      " tolls_amount          | 0.0                  \n",
      " improvement_surcharge | 0.3                  \n",
      " total_amount          | 16.3                 \n",
      " congestion_surcharge  | 2.5                  \n",
      " PU_zone               | Kips Bay             \n",
      " PU_borough            | Manhattan            \n",
      " PU_latitude           | 40.739548            \n",
      " PU_longitude          | -73.97708            \n",
      " DO_zone               | Two Bridges/Sewar... \n",
      " DO_borough            | Manhattan            \n",
      " DO_latitude           | 40.714497            \n",
      " DO_longitude          | -73.98854            \n",
      "-RECORD 2-------------------------------------\n",
      " VendorID              | 1.0                  \n",
      " tpep_pickup_datetime  | 2019-10-21 21:23:14  \n",
      " tpep_dropoff_datetime | 2019-10-21 21:29:37  \n",
      " passenger_count       | 1.0                  \n",
      " trip_distance         | 1.2                  \n",
      " RatecodeID            | 1.0                  \n",
      " store_and_fwd_flag    | N                    \n",
      " PULocationID          | 237                  \n",
      " DOLocationID          | 162                  \n",
      " payment_type          | 1.0                  \n",
      " fare_amount           | 6.5                  \n",
      " extra                 | 3.0                  \n",
      " mta_tax               | 0.5                  \n",
      " tip_amount            | 1.5                  \n",
      " tolls_amount          | 0.0                  \n",
      " improvement_surcharge | 0.3                  \n",
      " total_amount          | 11.8                 \n",
      " congestion_surcharge  | 2.5                  \n",
      " PU_zone               | Upper East Side S... \n",
      " PU_borough            | Manhattan            \n",
      " PU_latitude           | 40.77947             \n",
      " PU_longitude          | -73.95827            \n",
      " DO_zone               | Midtown East         \n",
      " DO_borough            | Manhattan            \n",
      " DO_latitude           | 40.759823            \n",
      " DO_longitude          | -73.97247            \n",
      "-RECORD 3-------------------------------------\n",
      " VendorID              | 2.0                  \n",
      " tpep_pickup_datetime  | 2021-03-26 15:52:31  \n",
      " tpep_dropoff_datetime | 2021-03-26 15:55:19  \n",
      " passenger_count       | 1.0                  \n",
      " trip_distance         | 0.38                 \n",
      " RatecodeID            | 1.0                  \n",
      " store_and_fwd_flag    | N                    \n",
      " PULocationID          | 107                  \n",
      " DOLocationID          | 164                  \n",
      " payment_type          | 1.0                  \n",
      " fare_amount           | 4.0                  \n",
      " extra                 | 0.0                  \n",
      " mta_tax               | 0.5                  \n",
      " tip_amount            | 1.82                 \n",
      " tolls_amount          | 0.0                  \n",
      " improvement_surcharge | 0.3                  \n",
      " total_amount          | 9.12                 \n",
      " congestion_surcharge  | 2.5                  \n",
      " PU_zone               | Gramercy             \n",
      " PU_borough            | Manhattan            \n",
      " PU_latitude           | 40.73552             \n",
      " PU_longitude          | -73.98408            \n",
      " DO_zone               | Midtown South        \n",
      " DO_borough            | Manhattan            \n",
      " DO_latitude           | 40.749844            \n",
      " DO_longitude          | -73.98425            \n",
      "-RECORD 4-------------------------------------\n",
      " VendorID              | 1.0                  \n",
      " tpep_pickup_datetime  | 2020-09-19 00:13:48  \n",
      " tpep_dropoff_datetime | 2020-09-19 00:17:08  \n",
      " passenger_count       | 1.0                  \n",
      " trip_distance         | 0.6                  \n",
      " RatecodeID            | 1.0                  \n",
      " store_and_fwd_flag    | N                    \n",
      " PULocationID          | 114                  \n",
      " DOLocationID          | 144                  \n",
      " payment_type          | 1.0                  \n",
      " fare_amount           | 4.5                  \n",
      " extra                 | 3.0                  \n",
      " mta_tax               | 0.5                  \n",
      " tip_amount            | 1.65                 \n",
      " tolls_amount          | 0.0                  \n",
      " improvement_surcharge | 0.3                  \n",
      " total_amount          | 9.95                 \n",
      " congestion_surcharge  | 2.5                  \n",
      " PU_zone               | Greenwich Village... \n",
      " PU_borough            | Manhattan            \n",
      " PU_latitude           | 40.733585            \n",
      " PU_longitude          | -74.002815           \n",
      " DO_zone               | Little Italy/NoLiTa  \n",
      " DO_borough            | Manhattan            \n",
      " DO_latitude           | 40.721004            \n",
      " DO_longitude          | -73.994705           \n",
      "-RECORD 5-------------------------------------\n",
      " VendorID              | 1.0                  \n",
      " tpep_pickup_datetime  | 2021-06-11 04:47:48  \n",
      " tpep_dropoff_datetime | 2021-06-11 05:03:08  \n",
      " passenger_count       | 1.0                  \n",
      " trip_distance         | 5.5                  \n",
      " RatecodeID            | 1.0                  \n",
      " store_and_fwd_flag    | N                    \n",
      " PULocationID          | 249                  \n",
      " DOLocationID          | 146                  \n",
      " payment_type          | 1.0                  \n",
      " fare_amount           | 18.0                 \n",
      " extra                 | 3.0                  \n",
      " mta_tax               | 0.5                  \n",
      " tip_amount            | 6.5                  \n",
      " tolls_amount          | 0.0                  \n",
      " improvement_surcharge | 0.3                  \n",
      " total_amount          | 28.3                 \n",
      " congestion_surcharge  | 2.5                  \n",
      " PU_zone               | West Village         \n",
      " PU_borough            | Manhattan            \n",
      " PU_latitude           | 40.734184            \n",
      " PU_longitude          | -74.00558            \n",
      " DO_zone               | Long Island City/... \n",
      " DO_borough            | Queens               \n",
      " DO_latitude           | 40.750607            \n",
      " DO_longitude          | -73.94026            \n",
      "-RECORD 6-------------------------------------\n",
      " VendorID              | 2.0                  \n",
      " tpep_pickup_datetime  | 2021-04-18 18:27:23  \n",
      " tpep_dropoff_datetime | 2021-04-18 18:34:33  \n",
      " passenger_count       | 1.0                  \n",
      " trip_distance         | 2.24                 \n",
      " RatecodeID            | 1.0                  \n",
      " store_and_fwd_flag    | N                    \n",
      " PULocationID          | 236                  \n",
      " DOLocationID          | 74                   \n",
      " payment_type          | 1.0                  \n",
      " fare_amount           | 8.5                  \n",
      " extra                 | 0.0                  \n",
      " mta_tax               | 0.5                  \n",
      " tip_amount            | 0.0                  \n",
      " tolls_amount          | 0.0                  \n",
      " improvement_surcharge | 0.3                  \n",
      " total_amount          | 11.8                 \n",
      " congestion_surcharge  | 2.5                  \n",
      " PU_zone               | Upper East Side N... \n",
      " PU_borough            | Manhattan            \n",
      " PU_latitude           | 40.764874            \n",
      " PU_longitude          | -73.96151            \n",
      " DO_zone               | East Harlem North    \n",
      " DO_borough            | Manhattan            \n",
      " DO_latitude           | 40.788055            \n",
      " DO_longitude          | -73.943886           \n",
      "-RECORD 7-------------------------------------\n",
      " VendorID              | 2.0                  \n",
      " tpep_pickup_datetime  | 2020-05-25 17:21:05  \n",
      " tpep_dropoff_datetime | 2020-05-25 17:27:10  \n",
      " passenger_count       | 1.0                  \n",
      " trip_distance         | 1.13                 \n",
      " RatecodeID            | 1.0                  \n",
      " store_and_fwd_flag    | N                    \n",
      " PULocationID          | 237                  \n",
      " DOLocationID          | 229                  \n",
      " payment_type          | 1.0                  \n",
      " fare_amount           | 6.5                  \n",
      " extra                 | 0.0                  \n",
      " mta_tax               | 0.5                  \n",
      " tip_amount            | 2.25                 \n",
      " tolls_amount          | 0.0                  \n",
      " improvement_surcharge | 0.3                  \n",
      " total_amount          | 12.05                \n",
      " congestion_surcharge  | 2.5                  \n",
      " PU_zone               | Upper East Side S... \n",
      " PU_borough            | Manhattan            \n",
      " PU_latitude           | 40.77947             \n",
      " PU_longitude          | -73.95827            \n",
      " DO_zone               | Sutton Place/Turt... \n",
      " DO_borough            | Manhattan            \n",
      " DO_latitude           | 40.757652            \n",
      " DO_longitude          | -73.96167            \n",
      "-RECORD 8-------------------------------------\n",
      " VendorID              | 2.0                  \n",
      " tpep_pickup_datetime  | 2021-04-27 20:17:56  \n",
      " tpep_dropoff_datetime | 2021-04-27 20:22:53  \n",
      " passenger_count       | 1.0                  \n",
      " trip_distance         | 1.03                 \n",
      " RatecodeID            | 1.0                  \n",
      " store_and_fwd_flag    | N                    \n",
      " PULocationID          | 107                  \n",
      " DOLocationID          | 234                  \n",
      " payment_type          | 1.0                  \n",
      " fare_amount           | 5.5                  \n",
      " extra                 | 0.5                  \n",
      " mta_tax               | 0.5                  \n",
      " tip_amount            | 1.86                 \n",
      " tolls_amount          | 0.0                  \n",
      " improvement_surcharge | 0.3                  \n",
      " total_amount          | 11.16                \n",
      " congestion_surcharge  | 2.5                  \n",
      " PU_zone               | Gramercy             \n",
      " PU_borough            | Manhattan            \n",
      " PU_latitude           | 40.73552             \n",
      " PU_longitude          | -73.98408            \n",
      " DO_zone               | Union Sq             \n",
      " DO_borough            | Manhattan            \n",
      " DO_latitude           | 40.73591             \n",
      " DO_longitude          | -73.990166           \n",
      "-RECORD 9-------------------------------------\n",
      " VendorID              | NaN                  \n",
      " tpep_pickup_datetime  | 2021-02-04 10:44:00  \n",
      " tpep_dropoff_datetime | 2021-02-04 10:59:00  \n",
      " passenger_count       | NaN                  \n",
      " trip_distance         | 1.6                  \n",
      " RatecodeID            | NaN                  \n",
      " store_and_fwd_flag    | NaN                  \n",
      " PULocationID          | 89                   \n",
      " DOLocationID          | 89                   \n",
      " payment_type          | NaN                  \n",
      " fare_amount           | 13.45                \n",
      " extra                 | 2.75                 \n",
      " mta_tax               | 0.5                  \n",
      " tip_amount            | 0.0                  \n",
      " tolls_amount          | 0.0                  \n",
      " improvement_surcharge | 0.3                  \n",
      " total_amount          | 17.0                 \n",
      " congestion_surcharge  | 0.0                  \n",
      " PU_zone               | Flatbush/Ditmas Park \n",
      " PU_borough            | Brooklyn             \n",
      " PU_latitude           | 40.640144            \n",
      " PU_longitude          | -73.96088            \n",
      " DO_zone               | Flatbush/Ditmas Park \n",
      " DO_borough            | Brooklyn             \n",
      " DO_latitude           | 40.640144            \n",
      " DO_longitude          | -73.96088            \n",
      "-RECORD 10------------------------------------\n",
      " VendorID              | 1.0                  \n",
      " tpep_pickup_datetime  | 2020-02-29 09:56:23  \n",
      " tpep_dropoff_datetime | 2020-02-29 10:01:32  \n",
      " passenger_count       | 1.0                  \n",
      " trip_distance         | 0.6                  \n",
      " RatecodeID            | 1.0                  \n",
      " store_and_fwd_flag    | Y                    \n",
      " PULocationID          | 262                  \n",
      " DOLocationID          | 263                  \n",
      " payment_type          | 2.0                  \n",
      " fare_amount           | 5.5                  \n",
      " extra                 | 2.5                  \n",
      " mta_tax               | 0.5                  \n",
      " tip_amount            | 0.0                  \n",
      " tolls_amount          | 0.0                  \n",
      " improvement_surcharge | 0.3                  \n",
      " total_amount          | 8.8                  \n",
      " congestion_surcharge  | 2.5                  \n",
      " PU_zone               | Yorkville East       \n",
      " PU_borough            | Manhattan            \n",
      " PU_latitude           | 40.783253            \n",
      " PU_longitude          | -73.94472            \n",
      " DO_zone               | Yorkville West       \n",
      " DO_borough            | Manhattan            \n",
      " DO_latitude           | 43.67047             \n",
      " DO_longitude          | -79.38725            \n",
      "-RECORD 11------------------------------------\n",
      " VendorID              | 2.0                  \n",
      " tpep_pickup_datetime  | 2020-06-18 14:27:44  \n",
      " tpep_dropoff_datetime | 2020-06-18 14:37:26  \n",
      " passenger_count       | 1.0                  \n",
      " trip_distance         | 1.79                 \n",
      " RatecodeID            | 1.0                  \n",
      " store_and_fwd_flag    | N                    \n",
      " PULocationID          | 137                  \n",
      " DOLocationID          | 43                   \n",
      " payment_type          | 2.0                  \n",
      " fare_amount           | 8.5                  \n",
      " extra                 | 0.0                  \n",
      " mta_tax               | 0.5                  \n",
      " tip_amount            | 0.0                  \n",
      " tolls_amount          | 0.0                  \n",
      " improvement_surcharge | 0.3                  \n",
      " total_amount          | 11.8                 \n",
      " congestion_surcharge  | 2.5                  \n",
      " PU_zone               | Kips Bay             \n",
      " PU_borough            | Manhattan            \n",
      " PU_latitude           | 40.739548            \n",
      " PU_longitude          | -73.97708            \n",
      " DO_zone               | Central Park         \n",
      " DO_borough            | Manhattan            \n",
      " DO_latitude           | 40.782772            \n",
      " DO_longitude          | -73.96536            \n",
      "-RECORD 12------------------------------------\n",
      " VendorID              | 2.0                  \n",
      " tpep_pickup_datetime  | 2019-10-08 07:55:48  \n",
      " tpep_dropoff_datetime | 2019-10-08 08:05:06  \n",
      " passenger_count       | 1.0                  \n",
      " trip_distance         | 1.67                 \n",
      " RatecodeID            | 1.0                  \n",
      " store_and_fwd_flag    | N                    \n",
      " PULocationID          | 142                  \n",
      " DOLocationID          | 238                  \n",
      " payment_type          | 1.0                  \n",
      " fare_amount           | 8.0                  \n",
      " extra                 | 0.0                  \n",
      " mta_tax               | 0.5                  \n",
      " tip_amount            | 3.39                 \n",
      " tolls_amount          | 0.0                  \n",
      " improvement_surcharge | 0.3                  \n",
      " total_amount          | 14.69                \n",
      " congestion_surcharge  | 2.5                  \n",
      " PU_zone               | Lincoln Square East  \n",
      " PU_borough            | Manhattan            \n",
      " PU_latitude           | 40.775707            \n",
      " PU_longitude          | -73.99142            \n",
      " DO_zone               | Upper West Side N... \n",
      " DO_borough            | Manhattan            \n",
      " DO_latitude           | 40.78196             \n",
      " DO_longitude          | -73.98124            \n",
      "-RECORD 13------------------------------------\n",
      " VendorID              | 1.0                  \n",
      " tpep_pickup_datetime  | 2020-03-01 14:21:59  \n",
      " tpep_dropoff_datetime | 2020-03-01 14:43:53  \n",
      " passenger_count       | 1.0                  \n",
      " trip_distance         | 7.7                  \n",
      " RatecodeID            | 1.0                  \n",
      " store_and_fwd_flag    | N                    \n",
      " PULocationID          | 138                  \n",
      " DOLocationID          | 217                  \n",
      " payment_type          | 1.0                  \n",
      " fare_amount           | 24.0                 \n",
      " extra                 | 0.0                  \n",
      " mta_tax               | 0.5                  \n",
      " tip_amount            | 1.0                  \n",
      " tolls_amount          | 0.0                  \n",
      " improvement_surcharge | 0.3                  \n",
      " total_amount          | 25.8                 \n",
      " congestion_surcharge  | 0.0                  \n",
      " PU_zone               | LaGuardia Airport    \n",
      " PU_borough            | Queens               \n",
      " PU_latitude           | 40.775715            \n",
      " PU_longitude          | -73.87337            \n",
      " DO_zone               | South Williamsburg   \n",
      " DO_borough            | Brooklyn             \n",
      " DO_latitude           | 40.705128            \n",
      " DO_longitude          | -73.95636            \n",
      "-RECORD 14------------------------------------\n",
      " VendorID              | 2.0                  \n",
      " tpep_pickup_datetime  | 2019-12-11 20:37:50  \n",
      " tpep_dropoff_datetime | 2019-12-11 20:49:19  \n",
      " passenger_count       | 1.0                  \n",
      " trip_distance         | 2.1                  \n",
      " RatecodeID            | 1.0                  \n",
      " store_and_fwd_flag    | N                    \n",
      " PULocationID          | 90                   \n",
      " DOLocationID          | 231                  \n",
      " payment_type          | 1.0                  \n",
      " fare_amount           | 9.5                  \n",
      " extra                 | 0.5                  \n",
      " mta_tax               | 0.5                  \n",
      " tip_amount            | 2.66                 \n",
      " tolls_amount          | 0.0                  \n",
      " improvement_surcharge | 0.3                  \n",
      " total_amount          | 15.96                \n",
      " congestion_surcharge  | 2.5                  \n",
      " PU_zone               | Flatiron             \n",
      " PU_borough            | Manhattan            \n",
      " PU_latitude           | 40.74106             \n",
      " PU_longitude          | -73.98964            \n",
      " DO_zone               | TriBeCa/Civic Center \n",
      " DO_borough            | Manhattan            \n",
      " DO_latitude           | 40.716988            \n",
      " DO_longitude          | -74.09211            \n",
      "-RECORD 15------------------------------------\n",
      " VendorID              | 2.0                  \n",
      " tpep_pickup_datetime  | 2020-07-09 11:49:27  \n",
      " tpep_dropoff_datetime | 2020-07-09 11:57:55  \n",
      " passenger_count       | 1.0                  \n",
      " trip_distance         | 0.65                 \n",
      " RatecodeID            | 1.0                  \n",
      " store_and_fwd_flag    | N                    \n",
      " PULocationID          | 90                   \n",
      " DOLocationID          | 68                   \n",
      " payment_type          | 1.0                  \n",
      " fare_amount           | 7.0                  \n",
      " extra                 | 0.0                  \n",
      " mta_tax               | 0.5                  \n",
      " tip_amount            | 2.06                 \n",
      " tolls_amount          | 0.0                  \n",
      " improvement_surcharge | 0.3                  \n",
      " total_amount          | 12.36                \n",
      " congestion_surcharge  | 2.5                  \n",
      " PU_zone               | Flatiron             \n",
      " PU_borough            | Manhattan            \n",
      " PU_latitude           | 40.74106             \n",
      " PU_longitude          | -73.98964            \n",
      " DO_zone               | East Chelsea         \n",
      " DO_borough            | Manhattan            \n",
      " DO_latitude           | 40.74138             \n",
      " DO_longitude          | -74.00245            \n",
      "-RECORD 16------------------------------------\n",
      " VendorID              | 1.0                  \n",
      " tpep_pickup_datetime  | 2020-12-03 15:56:52  \n",
      " tpep_dropoff_datetime | 2020-12-03 16:07:05  \n",
      " passenger_count       | 1.0                  \n",
      " trip_distance         | 1.5                  \n",
      " RatecodeID            | 1.0                  \n",
      " store_and_fwd_flag    | N                    \n",
      " PULocationID          | 237                  \n",
      " DOLocationID          | 236                  \n",
      " payment_type          | 2.0                  \n",
      " fare_amount           | 8.5                  \n",
      " extra                 | 3.5                  \n",
      " mta_tax               | 0.5                  \n",
      " tip_amount            | 0.0                  \n",
      " tolls_amount          | 0.0                  \n",
      " improvement_surcharge | 0.3                  \n",
      " total_amount          | 12.8                 \n",
      " congestion_surcharge  | 2.5                  \n",
      " PU_zone               | Upper East Side S... \n",
      " PU_borough            | Manhattan            \n",
      " PU_latitude           | 40.77947             \n",
      " PU_longitude          | -73.95827            \n",
      " DO_zone               | Upper East Side N... \n",
      " DO_borough            | Manhattan            \n",
      " DO_latitude           | 40.764874            \n",
      " DO_longitude          | -73.96151            \n",
      "-RECORD 17------------------------------------\n",
      " VendorID              | 2.0                  \n",
      " tpep_pickup_datetime  | 2021-04-24 18:27:37  \n",
      " tpep_dropoff_datetime | 2021-04-24 18:49:15  \n",
      " passenger_count       | 4.0                  \n",
      " trip_distance         | 4.38                 \n",
      " RatecodeID            | 1.0                  \n",
      " store_and_fwd_flag    | N                    \n",
      " PULocationID          | 48                   \n",
      " DOLocationID          | 13                   \n",
      " payment_type          | 1.0                  \n",
      " fare_amount           | 18.0                 \n",
      " extra                 | 0.0                  \n",
      " mta_tax               | 0.5                  \n",
      " tip_amount            | 3.0                  \n",
      " tolls_amount          | 0.0                  \n",
      " improvement_surcharge | 0.3                  \n",
      " total_amount          | 24.3                 \n",
      " congestion_surcharge  | 2.5                  \n",
      " PU_zone               | Clinton East         \n",
      " PU_borough            | Manhattan            \n",
      " PU_latitude           | 40.76066             \n",
      " PU_longitude          | -73.99022            \n",
      " DO_zone               | Battery Park City    \n",
      " DO_borough            | Manhattan            \n",
      " DO_latitude           | 40.711018            \n",
      " DO_longitude          | -74.01694            \n",
      "-RECORD 18------------------------------------\n",
      " VendorID              | 1.0                  \n",
      " tpep_pickup_datetime  | 2020-12-04 18:02:45  \n",
      " tpep_dropoff_datetime | 2020-12-04 18:21:57  \n",
      " passenger_count       | 1.0                  \n",
      " trip_distance         | 3.2                  \n",
      " RatecodeID            | 1.0                  \n",
      " store_and_fwd_flag    | N                    \n",
      " PULocationID          | 163                  \n",
      " DOLocationID          | 125                  \n",
      " payment_type          | 1.0                  \n",
      " fare_amount           | 14.5                 \n",
      " extra                 | 3.5                  \n",
      " mta_tax               | 0.5                  \n",
      " tip_amount            | 2.5                  \n",
      " tolls_amount          | 0.0                  \n",
      " improvement_surcharge | 0.3                  \n",
      " total_amount          | 21.3                 \n",
      " congestion_surcharge  | 2.5                  \n",
      " PU_zone               | Midtown North        \n",
      " PU_borough            | Manhattan            \n",
      " PU_latitude           | 40.765205            \n",
      " PU_longitude          | -73.98511            \n",
      " DO_zone               | Hudson Sq            \n",
      " DO_borough            | Manhattan            \n",
      " DO_latitude           | 40.726803            \n",
      " DO_longitude          | -74.00798            \n",
      "-RECORD 19------------------------------------\n",
      " VendorID              | 2.0                  \n",
      " tpep_pickup_datetime  | 2020-11-06 21:07:07  \n",
      " tpep_dropoff_datetime | 2020-11-06 21:13:17  \n",
      " passenger_count       | 5.0                  \n",
      " trip_distance         | 1.25                 \n",
      " RatecodeID            | 1.0                  \n",
      " store_and_fwd_flag    | N                    \n",
      " PULocationID          | 249                  \n",
      " DOLocationID          | 231                  \n",
      " payment_type          | 1.0                  \n",
      " fare_amount           | 6.5                  \n",
      " extra                 | 0.5                  \n",
      " mta_tax               | 0.5                  \n",
      " tip_amount            | 1.0                  \n",
      " tolls_amount          | 0.0                  \n",
      " improvement_surcharge | 0.3                  \n",
      " total_amount          | 11.3                 \n",
      " congestion_surcharge  | 2.5                  \n",
      " PU_zone               | West Village         \n",
      " PU_borough            | Manhattan            \n",
      " PU_latitude           | 40.734184            \n",
      " PU_longitude          | -74.00558            \n",
      " DO_zone               | TriBeCa/Civic Center \n",
      " DO_borough            | Manhattan            \n",
      " DO_latitude           | 40.716988            \n",
      " DO_longitude          | -74.09211            \n",
      "only showing top 20 rows\n",
      "\n"
     ]
    }
   ],
   "source": [
    "df_pyspark.show(vertical=True)"
   ]
  },
  {
   "cell_type": "code",
   "execution_count": 23,
   "id": "c6059624",
   "metadata": {},
   "outputs": [],
   "source": [
    "## from pyspark.sql.functions import *"
   ]
  },
  {
   "cell_type": "code",
   "execution_count": 24,
   "id": "e678d4fd",
   "metadata": {},
   "outputs": [],
   "source": [
    "## column_names = [\"VendorID\",\"tpep_pickup_datetime\",\"tpep_dropoff_datetime\",\"passenger_count\",\"trip_distance\",\"RatecodeID\",\"store_and_fwd_flag\",\"PULocationID\",\"DOLocationID\",\"payment_type\",\"fare_amount\",\"extra\",\"mta_tax\",\"tip_amount\",\"tolls_amount\",\"improvement_surcharge\",\"total_amount\",\"congestion_surcharge\",\"PU_zone\",\"PU_borough\",\"PU_latitude\",\"PU_longitude\",\"DO_zone\",\"DO_borough\",\"DO_latitude\",\"DO_longitude\"]"
   ]
  },
  {
   "cell_type": "code",
   "execution_count": 25,
   "id": "5ff95706",
   "metadata": {},
   "outputs": [],
   "source": [
    "## df_final = df_pyspark.toDF(*column_names)"
   ]
  },
  {
   "cell_type": "code",
   "execution_count": 26,
   "id": "f5628ff1",
   "metadata": {},
   "outputs": [],
   "source": [
    "## df_final.columns"
   ]
  },
  {
   "cell_type": "code",
   "execution_count": 27,
   "id": "ef01f60f",
   "metadata": {},
   "outputs": [],
   "source": [
    "## df_final.show()"
   ]
  },
  {
   "cell_type": "code",
   "execution_count": 28,
   "id": "0b5cb22d",
   "metadata": {},
   "outputs": [],
   "source": [
    "## df_final.select('VendorID').distinct().show()"
   ]
  },
  {
   "cell_type": "code",
   "execution_count": 29,
   "id": "c0a7ca13",
   "metadata": {},
   "outputs": [],
   "source": [
    "## df_pyspark=spark.read.csv('s3://nyc-taxi-system/Final_dataset.csv',header=True,inferSchema=True)"
   ]
  },
  {
   "cell_type": "markdown",
   "id": "3462945b",
   "metadata": {},
   "source": [
    "### shape\n",
    "\n",
    "- returns number of rows and columns"
   ]
  },
  {
   "cell_type": "code",
   "execution_count": 30,
   "id": "60434447",
   "metadata": {},
   "outputs": [],
   "source": [
    "## df.shape()"
   ]
  },
  {
   "cell_type": "code",
   "execution_count": 31,
   "id": "baf1736c",
   "metadata": {},
   "outputs": [
    {
     "name": "stdout",
     "output_type": "stream",
     "text": [
      "(120091, 26)\n"
     ]
    }
   ],
   "source": [
    "print((df_pyspark.count(), len(df_pyspark.columns)))"
   ]
  },
  {
   "cell_type": "markdown",
   "id": "13f1afa8",
   "metadata": {},
   "source": [
    "- 95074 rows and 26 columns"
   ]
  },
  {
   "cell_type": "code",
   "execution_count": null,
   "id": "cfba8556",
   "metadata": {},
   "outputs": [],
   "source": []
  },
  {
   "cell_type": "markdown",
   "id": "c12bdb9e",
   "metadata": {},
   "source": [
    "### columns in dataset\n",
    "\n",
    "- print the columns names"
   ]
  },
  {
   "cell_type": "code",
   "execution_count": 32,
   "id": "c46dae58",
   "metadata": {},
   "outputs": [],
   "source": [
    "## df.columns"
   ]
  },
  {
   "cell_type": "code",
   "execution_count": 33,
   "id": "495108af",
   "metadata": {},
   "outputs": [
    {
     "data": {
      "text/plain": [
       "['VendorID',\n",
       " 'tpep_pickup_datetime',\n",
       " 'tpep_dropoff_datetime',\n",
       " 'passenger_count',\n",
       " 'trip_distance',\n",
       " 'RatecodeID',\n",
       " 'store_and_fwd_flag',\n",
       " 'PULocationID',\n",
       " 'DOLocationID',\n",
       " 'payment_type',\n",
       " 'fare_amount',\n",
       " 'extra',\n",
       " 'mta_tax',\n",
       " 'tip_amount',\n",
       " 'tolls_amount',\n",
       " 'improvement_surcharge',\n",
       " 'total_amount',\n",
       " 'congestion_surcharge',\n",
       " 'PU_zone ',\n",
       " 'PU_borough',\n",
       " 'PU_latitude',\n",
       " 'PU_longitude',\n",
       " 'DO_zone',\n",
       " 'DO_borough',\n",
       " 'DO_latitude',\n",
       " 'DO_longitude']"
      ]
     },
     "execution_count": 33,
     "metadata": {},
     "output_type": "execute_result"
    }
   ],
   "source": [
    "df_pyspark.columns"
   ]
  },
  {
   "cell_type": "code",
   "execution_count": null,
   "id": "4ba19f54",
   "metadata": {},
   "outputs": [],
   "source": []
  },
  {
   "cell_type": "markdown",
   "id": "9dbfec7c",
   "metadata": {},
   "source": [
    "- printing first 5 records"
   ]
  },
  {
   "cell_type": "code",
   "execution_count": 34,
   "id": "721b09a7",
   "metadata": {},
   "outputs": [],
   "source": [
    "## df.head()"
   ]
  },
  {
   "cell_type": "code",
   "execution_count": 35,
   "id": "0a72b777",
   "metadata": {},
   "outputs": [
    {
     "data": {
      "text/plain": [
       "[Row(VendorID=2.0, tpep_pickup_datetime='2020-01-13 12:52:07', tpep_dropoff_datetime='2020-01-13 12:59:40', passenger_count=5.0, trip_distance=1.6200000047683716, RatecodeID=1.0, store_and_fwd_flag='N', PULocationID=142, DOLocationID=237, payment_type=1.0, fare_amount=7.5, extra=0.0, mta_tax=0.5, tip_amount=2.1600000858306885, tolls_amount=0.0, improvement_surcharge=0.30000001192092896, total_amount=12.960000038146973, congestion_surcharge=2.5, PU_zone ='Lincoln Square East', PU_borough='Manhattan', PU_latitude=40.77570724487305, PU_longitude=-73.99141693115234, DO_zone='Upper East Side South', DO_borough='Manhattan', DO_latitude=40.77946853637695, DO_longitude=-73.95826721191406),\n",
       " Row(VendorID=2.0, tpep_pickup_datetime='2019-09-16 17:13:30', tpep_dropoff_datetime='2019-09-16 17:24:38', passenger_count=5.0, trip_distance=2.940000057220459, RatecodeID=1.0, store_and_fwd_flag='N', PULocationID=137, DOLocationID=232, payment_type=1.0, fare_amount=11.0, extra=1.0, mta_tax=0.5, tip_amount=1.0, tolls_amount=0.0, improvement_surcharge=0.30000001192092896, total_amount=16.299999237060547, congestion_surcharge=2.5, PU_zone ='Kips Bay', PU_borough='Manhattan', PU_latitude=40.73954772949219, PU_longitude=-73.97708129882812, DO_zone='Two Bridges/Seward Park', DO_borough='Manhattan', DO_latitude=40.71449661254883, DO_longitude=-73.98854064941406),\n",
       " Row(VendorID=1.0, tpep_pickup_datetime='2019-10-21 21:23:14', tpep_dropoff_datetime='2019-10-21 21:29:37', passenger_count=1.0, trip_distance=1.2000000476837158, RatecodeID=1.0, store_and_fwd_flag='N', PULocationID=237, DOLocationID=162, payment_type=1.0, fare_amount=6.5, extra=3.0, mta_tax=0.5, tip_amount=1.5, tolls_amount=0.0, improvement_surcharge=0.30000001192092896, total_amount=11.800000190734863, congestion_surcharge=2.5, PU_zone ='Upper East Side South', PU_borough='Manhattan', PU_latitude=40.77946853637695, PU_longitude=-73.95826721191406, DO_zone='Midtown East', DO_borough='Manhattan', DO_latitude=40.759822845458984, DO_longitude=-73.97247314453125),\n",
       " Row(VendorID=2.0, tpep_pickup_datetime='2021-03-26 15:52:31', tpep_dropoff_datetime='2021-03-26 15:55:19', passenger_count=1.0, trip_distance=0.3799999952316284, RatecodeID=1.0, store_and_fwd_flag='N', PULocationID=107, DOLocationID=164, payment_type=1.0, fare_amount=4.0, extra=0.0, mta_tax=0.5, tip_amount=1.8200000524520874, tolls_amount=0.0, improvement_surcharge=0.30000001192092896, total_amount=9.119999885559082, congestion_surcharge=2.5, PU_zone ='Gramercy', PU_borough='Manhattan', PU_latitude=40.73551940917969, PU_longitude=-73.98407745361328, DO_zone='Midtown South', DO_borough='Manhattan', DO_latitude=40.74984359741211, DO_longitude=-73.9842529296875),\n",
       " Row(VendorID=1.0, tpep_pickup_datetime='2020-09-19 00:13:48', tpep_dropoff_datetime='2020-09-19 00:17:08', passenger_count=1.0, trip_distance=0.6000000238418579, RatecodeID=1.0, store_and_fwd_flag='N', PULocationID=114, DOLocationID=144, payment_type=1.0, fare_amount=4.5, extra=3.0, mta_tax=0.5, tip_amount=1.649999976158142, tolls_amount=0.0, improvement_surcharge=0.30000001192092896, total_amount=9.949999809265137, congestion_surcharge=2.5, PU_zone ='Greenwich Village South', PU_borough='Manhattan', PU_latitude=40.733585357666016, PU_longitude=-74.00281524658203, DO_zone='Little Italy/NoLiTa', DO_borough='Manhattan', DO_latitude=40.721004486083984, DO_longitude=-73.99470520019531)]"
      ]
     },
     "execution_count": 35,
     "metadata": {},
     "output_type": "execute_result"
    }
   ],
   "source": [
    "df_pyspark.head(n=5)"
   ]
  },
  {
   "cell_type": "code",
   "execution_count": null,
   "id": "6cbe2937",
   "metadata": {},
   "outputs": [],
   "source": []
  },
  {
   "cell_type": "markdown",
   "id": "ab9ae7ce",
   "metadata": {},
   "source": [
    "### Demographic information of Customer & Vendor\n",
    "\n",
    "    1. 'VendorID' – code indicating the TPER ( Taxicab and Livery Passenger ENchancement Programs (TPEP ) provider that provided the record\t\n",
    "\t2. 'tpep_pickup_datetime' – pick up date and time \n",
    "\t3. 'tpep_dropoff_datetime' – drop off date and time\n",
    "    4. 'passenger_count' – passenger count \n",
    "\t5. 'trip_distance' – elapsed trip distance in miles reported by the taximeter \n",
    "\t6. 'RatecodeID' – final rate code effect at the end of the trip\n",
    "\t\t1 – Standard Rate\n",
    "\t\t2 – JFK\n",
    "\t\t3 – Newark\n",
    "\t\t4 – Nassau\n",
    "\t\t5 – Negotiated fare\n",
    "\t\t6 – group ride\n",
    "\t7. 'store_and_fwd_flag' – flag indicated whether the trip record was held in vehicle\n",
    "\t\tY – store and forward trip\n",
    "\t\tN – not a store and forward trip\n",
    "    8. 'PULocationID' – TLC Taxi zone in which taximeter was engaged \n",
    "\t9. 'DOLocationID' – TLC Taxi zone in whoch taximeter was disengaged \n",
    "\t10. 'payment_type' – numeric code signifying the payment mode\n",
    "\t\t1 – credit card\n",
    "\t\t2 – cash\n",
    "\t\t3 – no charge\n",
    "\t\t4 – dispute\n",
    "\t\t5 – unknown\n",
    "\t\t6 – voided trip\n",
    " \t11. 'fare_amount' – time and distance fare calculated by the meter \n",
    "\t12. 'extra' – miscellaneous extras and surcharges.\n",
    "\t\t1. Rush charge – 0.5 USD\n",
    "\t\t2. Overnight charge – 1 USD\n",
    "    13. 'mta_tax' – 0.50 MTA tax, automatically added \n",
    "\t14. 'tip_amount' – tip amount. field is automatically populated for credit card tips., cash tips are not included. \n",
    "\t15. 'tolls_amount' – total amount of all tolls paid in trip \n",
    "\t16. 'improvement_surcharge' – 0.30 imporvement surcharge assessed trips at the flag drop.\n",
    "        17. 'total_amount' – total amount charged to passengers. Does not include cash tips. \n",
    "\t18. 'congestion_surcharge' – additional charge added to base charge during unusal events like strikes, bad winter, major port fires.\n",
    "    19. zone_x - pick up zone\n",
    "    20. borough_x - pick up borough\n",
    "    21. PUlatitude - pick up latitude\n",
    "    22. PUlongitude - pick up longitude\n",
    "    23. zone_y - drop off zone\n",
    "    24. borough_y - drop off borough\n",
    "    25. DOlatitude - drop off latitude\n",
    "    26. DOlongitude - drop off longitude"
   ]
  },
  {
   "cell_type": "code",
   "execution_count": null,
   "id": "f127b652",
   "metadata": {},
   "outputs": [],
   "source": []
  },
  {
   "cell_type": "markdown",
   "id": "0241bb1e",
   "metadata": {},
   "source": [
    "### info()\n",
    "\n",
    "- it will tell you how many entries you have, the names of each column, the data type of each column, and how many non-null values you have in each column"
   ]
  },
  {
   "cell_type": "code",
   "execution_count": 36,
   "id": "f62cc910",
   "metadata": {},
   "outputs": [],
   "source": [
    "# df.info()"
   ]
  },
  {
   "cell_type": "code",
   "execution_count": 37,
   "id": "64dfc7cb",
   "metadata": {},
   "outputs": [],
   "source": [
    "from pyspark.sql.functions import *"
   ]
  },
  {
   "cell_type": "code",
   "execution_count": 38,
   "id": "fee3f15d",
   "metadata": {},
   "outputs": [
    {
     "name": "stdout",
     "output_type": "stream",
     "text": [
      "root\n",
      " |-- VendorID: float (nullable = true)\n",
      " |-- tpep_pickup_datetime: string (nullable = true)\n",
      " |-- tpep_dropoff_datetime: string (nullable = true)\n",
      " |-- passenger_count: float (nullable = true)\n",
      " |-- trip_distance: float (nullable = true)\n",
      " |-- RatecodeID: float (nullable = true)\n",
      " |-- store_and_fwd_flag: string (nullable = true)\n",
      " |-- PULocationID: integer (nullable = true)\n",
      " |-- DOLocationID: integer (nullable = true)\n",
      " |-- payment_type: float (nullable = true)\n",
      " |-- fare_amount: float (nullable = true)\n",
      " |-- extra: float (nullable = true)\n",
      " |-- mta_tax: float (nullable = true)\n",
      " |-- tip_amount: float (nullable = true)\n",
      " |-- tolls_amount: float (nullable = true)\n",
      " |-- improvement_surcharge: float (nullable = true)\n",
      " |-- total_amount: float (nullable = true)\n",
      " |-- congestion_surcharge: float (nullable = true)\n",
      " |-- PU_zone : string (nullable = true)\n",
      " |-- PU_borough: string (nullable = true)\n",
      " |-- PU_latitude: float (nullable = true)\n",
      " |-- PU_longitude: float (nullable = true)\n",
      " |-- DO_zone: string (nullable = true)\n",
      " |-- DO_borough: string (nullable = true)\n",
      " |-- DO_latitude: float (nullable = true)\n",
      " |-- DO_longitude: float (nullable = true)\n",
      "\n"
     ]
    }
   ],
   "source": [
    "df_pyspark.printSchema()"
   ]
  },
  {
   "cell_type": "code",
   "execution_count": null,
   "id": "16c511ab",
   "metadata": {},
   "outputs": [],
   "source": []
  },
  {
   "cell_type": "markdown",
   "id": "7dd1a937",
   "metadata": {},
   "source": [
    "### Descriptive Statistics\n",
    "\n",
    "- Descriptive statistics is a helpful way to understand characteristics of your data and to get a quick summary of it. \n",
    "- The describe function applies basic statistical computations on the dataset like extreme values, count of data points standard deviation etc. \n",
    "- Any missing value or NaN value is automatically skipped. "
   ]
  },
  {
   "cell_type": "code",
   "execution_count": 39,
   "id": "e1e7165f",
   "metadata": {},
   "outputs": [],
   "source": [
    "# df.describe()"
   ]
  },
  {
   "cell_type": "code",
   "execution_count": 40,
   "id": "fb19be7e",
   "metadata": {},
   "outputs": [
    {
     "data": {
      "text/html": [
       "<div>\n",
       "<style scoped>\n",
       "    .dataframe tbody tr th:only-of-type {\n",
       "        vertical-align: middle;\n",
       "    }\n",
       "\n",
       "    .dataframe tbody tr th {\n",
       "        vertical-align: top;\n",
       "    }\n",
       "\n",
       "    .dataframe thead th {\n",
       "        text-align: right;\n",
       "    }\n",
       "</style>\n",
       "<table border=\"1\" class=\"dataframe\">\n",
       "  <thead>\n",
       "    <tr style=\"text-align: right;\">\n",
       "      <th></th>\n",
       "      <th>summary</th>\n",
       "      <th>VendorID</th>\n",
       "      <th>tpep_pickup_datetime</th>\n",
       "      <th>tpep_dropoff_datetime</th>\n",
       "      <th>passenger_count</th>\n",
       "      <th>trip_distance</th>\n",
       "      <th>RatecodeID</th>\n",
       "      <th>store_and_fwd_flag</th>\n",
       "      <th>PULocationID</th>\n",
       "      <th>DOLocationID</th>\n",
       "      <th>...</th>\n",
       "      <th>total_amount</th>\n",
       "      <th>congestion_surcharge</th>\n",
       "      <th>PU_zone</th>\n",
       "      <th>PU_borough</th>\n",
       "      <th>PU_latitude</th>\n",
       "      <th>PU_longitude</th>\n",
       "      <th>DO_zone</th>\n",
       "      <th>DO_borough</th>\n",
       "      <th>DO_latitude</th>\n",
       "      <th>DO_longitude</th>\n",
       "    </tr>\n",
       "  </thead>\n",
       "  <tbody>\n",
       "    <tr>\n",
       "      <th>0</th>\n",
       "      <td>count</td>\n",
       "      <td>120091</td>\n",
       "      <td>120091</td>\n",
       "      <td>120091</td>\n",
       "      <td>120091</td>\n",
       "      <td>120091</td>\n",
       "      <td>120091</td>\n",
       "      <td>120091</td>\n",
       "      <td>120091</td>\n",
       "      <td>120091</td>\n",
       "      <td>...</td>\n",
       "      <td>120091</td>\n",
       "      <td>120091</td>\n",
       "      <td>120091</td>\n",
       "      <td>120091</td>\n",
       "      <td>120091</td>\n",
       "      <td>120091</td>\n",
       "      <td>120091</td>\n",
       "      <td>120091</td>\n",
       "      <td>120091</td>\n",
       "      <td>120091</td>\n",
       "    </tr>\n",
       "    <tr>\n",
       "      <th>1</th>\n",
       "      <td>mean</td>\n",
       "      <td>NaN</td>\n",
       "      <td>None</td>\n",
       "      <td>None</td>\n",
       "      <td>NaN</td>\n",
       "      <td>4.435011107988762</td>\n",
       "      <td>NaN</td>\n",
       "      <td>NaN</td>\n",
       "      <td>163.05753137204286</td>\n",
       "      <td>159.5821502027629</td>\n",
       "      <td>...</td>\n",
       "      <td>18.528659277342427</td>\n",
       "      <td>2.1594728164475274</td>\n",
       "      <td>NaN</td>\n",
       "      <td>NaN</td>\n",
       "      <td>NaN</td>\n",
       "      <td>NaN</td>\n",
       "      <td>NaN</td>\n",
       "      <td>NaN</td>\n",
       "      <td>NaN</td>\n",
       "      <td>NaN</td>\n",
       "    </tr>\n",
       "    <tr>\n",
       "      <th>2</th>\n",
       "      <td>stddev</td>\n",
       "      <td>NaN</td>\n",
       "      <td>None</td>\n",
       "      <td>None</td>\n",
       "      <td>NaN</td>\n",
       "      <td>345.1919073034631</td>\n",
       "      <td>NaN</td>\n",
       "      <td>NaN</td>\n",
       "      <td>67.4241103362905</td>\n",
       "      <td>71.83540590581744</td>\n",
       "      <td>...</td>\n",
       "      <td>14.173633668144985</td>\n",
       "      <td>0.881234064211357</td>\n",
       "      <td>NaN</td>\n",
       "      <td>NaN</td>\n",
       "      <td>NaN</td>\n",
       "      <td>NaN</td>\n",
       "      <td>NaN</td>\n",
       "      <td>NaN</td>\n",
       "      <td>NaN</td>\n",
       "      <td>NaN</td>\n",
       "    </tr>\n",
       "    <tr>\n",
       "      <th>3</th>\n",
       "      <td>min</td>\n",
       "      <td>1.0</td>\n",
       "      <td>2009-01-01 00:40:09</td>\n",
       "      <td>2009-01-01 00:44:25</td>\n",
       "      <td>0.0</td>\n",
       "      <td>-21.36</td>\n",
       "      <td>1.0</td>\n",
       "      <td>N</td>\n",
       "      <td>1</td>\n",
       "      <td>1</td>\n",
       "      <td>...</td>\n",
       "      <td>-154.42</td>\n",
       "      <td>-2.5</td>\n",
       "      <td>Allerton</td>\n",
       "      <td>Bronx</td>\n",
       "      <td>40.508476</td>\n",
       "      <td>-79.43939</td>\n",
       "      <td>Allerton</td>\n",
       "      <td>Bronx</td>\n",
       "      <td>40.508476</td>\n",
       "      <td>-79.43939</td>\n",
       "    </tr>\n",
       "    <tr>\n",
       "      <th>4</th>\n",
       "      <td>max</td>\n",
       "      <td>NaN</td>\n",
       "      <td>2021-07-31 23:56:52</td>\n",
       "      <td>2021-08-01 15:45:16</td>\n",
       "      <td>NaN</td>\n",
       "      <td>84813.76</td>\n",
       "      <td>NaN</td>\n",
       "      <td>Y</td>\n",
       "      <td>265</td>\n",
       "      <td>265</td>\n",
       "      <td>...</td>\n",
       "      <td>477.8</td>\n",
       "      <td>2.5</td>\n",
       "      <td>Yorkville West</td>\n",
       "      <td>Staten Island</td>\n",
       "      <td>NaN</td>\n",
       "      <td>NaN</td>\n",
       "      <td>Yorkville West</td>\n",
       "      <td>Staten Island</td>\n",
       "      <td>NaN</td>\n",
       "      <td>NaN</td>\n",
       "    </tr>\n",
       "  </tbody>\n",
       "</table>\n",
       "<p>5 rows × 27 columns</p>\n",
       "</div>"
      ],
      "text/plain": [
       "  summary VendorID tpep_pickup_datetime tpep_dropoff_datetime passenger_count  \\\n",
       "0   count   120091               120091                120091          120091   \n",
       "1    mean      NaN                 None                  None             NaN   \n",
       "2  stddev      NaN                 None                  None             NaN   \n",
       "3     min      1.0  2009-01-01 00:40:09   2009-01-01 00:44:25             0.0   \n",
       "4     max      NaN  2021-07-31 23:56:52   2021-08-01 15:45:16             NaN   \n",
       "\n",
       "       trip_distance RatecodeID store_and_fwd_flag        PULocationID  \\\n",
       "0             120091     120091             120091              120091   \n",
       "1  4.435011107988762        NaN                NaN  163.05753137204286   \n",
       "2  345.1919073034631        NaN                NaN    67.4241103362905   \n",
       "3             -21.36        1.0                  N                   1   \n",
       "4           84813.76        NaN                  Y                 265   \n",
       "\n",
       "        DOLocationID  ...        total_amount congestion_surcharge  \\\n",
       "0             120091  ...              120091               120091   \n",
       "1  159.5821502027629  ...  18.528659277342427   2.1594728164475274   \n",
       "2  71.83540590581744  ...  14.173633668144985    0.881234064211357   \n",
       "3                  1  ...             -154.42                 -2.5   \n",
       "4                265  ...               477.8                  2.5   \n",
       "\n",
       "         PU_zone      PU_borough PU_latitude PU_longitude         DO_zone  \\\n",
       "0          120091         120091      120091       120091          120091   \n",
       "1             NaN            NaN         NaN          NaN             NaN   \n",
       "2             NaN            NaN         NaN          NaN             NaN   \n",
       "3        Allerton          Bronx   40.508476    -79.43939        Allerton   \n",
       "4  Yorkville West  Staten Island         NaN          NaN  Yorkville West   \n",
       "\n",
       "      DO_borough DO_latitude DO_longitude  \n",
       "0         120091      120091       120091  \n",
       "1            NaN         NaN          NaN  \n",
       "2            NaN         NaN          NaN  \n",
       "3          Bronx   40.508476    -79.43939  \n",
       "4  Staten Island         NaN          NaN  \n",
       "\n",
       "[5 rows x 27 columns]"
      ]
     },
     "execution_count": 40,
     "metadata": {},
     "output_type": "execute_result"
    }
   ],
   "source": [
    "df_pyspark.describe().toPandas()"
   ]
  },
  {
   "cell_type": "code",
   "execution_count": 41,
   "id": "dda6dbbf",
   "metadata": {},
   "outputs": [
    {
     "data": {
      "text/html": [
       "<div>\n",
       "<style scoped>\n",
       "    .dataframe tbody tr th:only-of-type {\n",
       "        vertical-align: middle;\n",
       "    }\n",
       "\n",
       "    .dataframe tbody tr th {\n",
       "        vertical-align: top;\n",
       "    }\n",
       "\n",
       "    .dataframe thead th {\n",
       "        text-align: right;\n",
       "    }\n",
       "</style>\n",
       "<table border=\"1\" class=\"dataframe\">\n",
       "  <thead>\n",
       "    <tr style=\"text-align: right;\">\n",
       "      <th></th>\n",
       "      <th>summary</th>\n",
       "      <th>VendorID</th>\n",
       "      <th>tpep_pickup_datetime</th>\n",
       "      <th>tpep_dropoff_datetime</th>\n",
       "      <th>passenger_count</th>\n",
       "      <th>trip_distance</th>\n",
       "      <th>RatecodeID</th>\n",
       "      <th>store_and_fwd_flag</th>\n",
       "      <th>PULocationID</th>\n",
       "      <th>DOLocationID</th>\n",
       "      <th>...</th>\n",
       "      <th>total_amount</th>\n",
       "      <th>congestion_surcharge</th>\n",
       "      <th>PU_zone</th>\n",
       "      <th>PU_borough</th>\n",
       "      <th>PU_latitude</th>\n",
       "      <th>PU_longitude</th>\n",
       "      <th>DO_zone</th>\n",
       "      <th>DO_borough</th>\n",
       "      <th>DO_latitude</th>\n",
       "      <th>DO_longitude</th>\n",
       "    </tr>\n",
       "  </thead>\n",
       "  <tbody>\n",
       "    <tr>\n",
       "      <th>0</th>\n",
       "      <td>count</td>\n",
       "      <td>120091</td>\n",
       "      <td>120091</td>\n",
       "      <td>120091</td>\n",
       "      <td>120091</td>\n",
       "      <td>120091</td>\n",
       "      <td>120091</td>\n",
       "      <td>120091</td>\n",
       "      <td>120091</td>\n",
       "      <td>120091</td>\n",
       "      <td>...</td>\n",
       "      <td>120091</td>\n",
       "      <td>120091</td>\n",
       "      <td>120091</td>\n",
       "      <td>120091</td>\n",
       "      <td>120091</td>\n",
       "      <td>120091</td>\n",
       "      <td>120091</td>\n",
       "      <td>120091</td>\n",
       "      <td>120091</td>\n",
       "      <td>120091</td>\n",
       "    </tr>\n",
       "    <tr>\n",
       "      <th>1</th>\n",
       "      <td>mean</td>\n",
       "      <td>NaN</td>\n",
       "      <td>None</td>\n",
       "      <td>None</td>\n",
       "      <td>NaN</td>\n",
       "      <td>4.435011107988762</td>\n",
       "      <td>NaN</td>\n",
       "      <td>NaN</td>\n",
       "      <td>163.05753137204286</td>\n",
       "      <td>159.5821502027629</td>\n",
       "      <td>...</td>\n",
       "      <td>18.528659277342427</td>\n",
       "      <td>2.1594728164475274</td>\n",
       "      <td>NaN</td>\n",
       "      <td>NaN</td>\n",
       "      <td>NaN</td>\n",
       "      <td>NaN</td>\n",
       "      <td>NaN</td>\n",
       "      <td>NaN</td>\n",
       "      <td>NaN</td>\n",
       "      <td>NaN</td>\n",
       "    </tr>\n",
       "    <tr>\n",
       "      <th>2</th>\n",
       "      <td>stddev</td>\n",
       "      <td>NaN</td>\n",
       "      <td>None</td>\n",
       "      <td>None</td>\n",
       "      <td>NaN</td>\n",
       "      <td>345.1919073034631</td>\n",
       "      <td>NaN</td>\n",
       "      <td>NaN</td>\n",
       "      <td>67.4241103362905</td>\n",
       "      <td>71.83540590581744</td>\n",
       "      <td>...</td>\n",
       "      <td>14.173633668144985</td>\n",
       "      <td>0.881234064211357</td>\n",
       "      <td>NaN</td>\n",
       "      <td>NaN</td>\n",
       "      <td>NaN</td>\n",
       "      <td>NaN</td>\n",
       "      <td>NaN</td>\n",
       "      <td>NaN</td>\n",
       "      <td>NaN</td>\n",
       "      <td>NaN</td>\n",
       "    </tr>\n",
       "    <tr>\n",
       "      <th>3</th>\n",
       "      <td>min</td>\n",
       "      <td>1.0</td>\n",
       "      <td>2009-01-01 00:40:09</td>\n",
       "      <td>2009-01-01 00:44:25</td>\n",
       "      <td>0.0</td>\n",
       "      <td>-21.36</td>\n",
       "      <td>1.0</td>\n",
       "      <td>N</td>\n",
       "      <td>1</td>\n",
       "      <td>1</td>\n",
       "      <td>...</td>\n",
       "      <td>-154.42</td>\n",
       "      <td>-2.5</td>\n",
       "      <td>Allerton</td>\n",
       "      <td>Bronx</td>\n",
       "      <td>40.508476</td>\n",
       "      <td>-79.43939</td>\n",
       "      <td>Allerton</td>\n",
       "      <td>Bronx</td>\n",
       "      <td>40.508476</td>\n",
       "      <td>-79.43939</td>\n",
       "    </tr>\n",
       "    <tr>\n",
       "      <th>4</th>\n",
       "      <td>25%</td>\n",
       "      <td>1.0</td>\n",
       "      <td>None</td>\n",
       "      <td>None</td>\n",
       "      <td>1.0</td>\n",
       "      <td>1.0</td>\n",
       "      <td>1.0</td>\n",
       "      <td>NaN</td>\n",
       "      <td>114</td>\n",
       "      <td>107</td>\n",
       "      <td>...</td>\n",
       "      <td>11.15</td>\n",
       "      <td>2.5</td>\n",
       "      <td>NaN</td>\n",
       "      <td>NaN</td>\n",
       "      <td>40.74106</td>\n",
       "      <td>-73.99142</td>\n",
       "      <td>NaN</td>\n",
       "      <td>NaN</td>\n",
       "      <td>40.739548</td>\n",
       "      <td>-73.99136</td>\n",
       "    </tr>\n",
       "    <tr>\n",
       "      <th>5</th>\n",
       "      <td>50%</td>\n",
       "      <td>2.0</td>\n",
       "      <td>None</td>\n",
       "      <td>None</td>\n",
       "      <td>1.0</td>\n",
       "      <td>1.7</td>\n",
       "      <td>1.0</td>\n",
       "      <td>NaN</td>\n",
       "      <td>162</td>\n",
       "      <td>161</td>\n",
       "      <td>...</td>\n",
       "      <td>14.3</td>\n",
       "      <td>2.5</td>\n",
       "      <td>NaN</td>\n",
       "      <td>NaN</td>\n",
       "      <td>40.759823</td>\n",
       "      <td>-73.98408</td>\n",
       "      <td>NaN</td>\n",
       "      <td>NaN</td>\n",
       "      <td>40.759823</td>\n",
       "      <td>-73.98056</td>\n",
       "    </tr>\n",
       "    <tr>\n",
       "      <th>6</th>\n",
       "      <td>75%</td>\n",
       "      <td>2.0</td>\n",
       "      <td>None</td>\n",
       "      <td>None</td>\n",
       "      <td>2.0</td>\n",
       "      <td>3.18</td>\n",
       "      <td>1.0</td>\n",
       "      <td>NaN</td>\n",
       "      <td>234</td>\n",
       "      <td>234</td>\n",
       "      <td>...</td>\n",
       "      <td>20.16</td>\n",
       "      <td>2.5</td>\n",
       "      <td>NaN</td>\n",
       "      <td>NaN</td>\n",
       "      <td>40.775707</td>\n",
       "      <td>-73.96151</td>\n",
       "      <td>NaN</td>\n",
       "      <td>NaN</td>\n",
       "      <td>40.775715</td>\n",
       "      <td>-73.95947</td>\n",
       "    </tr>\n",
       "    <tr>\n",
       "      <th>7</th>\n",
       "      <td>max</td>\n",
       "      <td>NaN</td>\n",
       "      <td>2021-07-31 23:56:52</td>\n",
       "      <td>2021-08-01 15:45:16</td>\n",
       "      <td>NaN</td>\n",
       "      <td>84813.76</td>\n",
       "      <td>NaN</td>\n",
       "      <td>Y</td>\n",
       "      <td>265</td>\n",
       "      <td>265</td>\n",
       "      <td>...</td>\n",
       "      <td>477.8</td>\n",
       "      <td>2.5</td>\n",
       "      <td>Yorkville West</td>\n",
       "      <td>Staten Island</td>\n",
       "      <td>NaN</td>\n",
       "      <td>NaN</td>\n",
       "      <td>Yorkville West</td>\n",
       "      <td>Staten Island</td>\n",
       "      <td>NaN</td>\n",
       "      <td>NaN</td>\n",
       "    </tr>\n",
       "  </tbody>\n",
       "</table>\n",
       "<p>8 rows × 27 columns</p>\n",
       "</div>"
      ],
      "text/plain": [
       "  summary VendorID tpep_pickup_datetime tpep_dropoff_datetime passenger_count  \\\n",
       "0   count   120091               120091                120091          120091   \n",
       "1    mean      NaN                 None                  None             NaN   \n",
       "2  stddev      NaN                 None                  None             NaN   \n",
       "3     min      1.0  2009-01-01 00:40:09   2009-01-01 00:44:25             0.0   \n",
       "4     25%      1.0                 None                  None             1.0   \n",
       "5     50%      2.0                 None                  None             1.0   \n",
       "6     75%      2.0                 None                  None             2.0   \n",
       "7     max      NaN  2021-07-31 23:56:52   2021-08-01 15:45:16             NaN   \n",
       "\n",
       "       trip_distance RatecodeID store_and_fwd_flag        PULocationID  \\\n",
       "0             120091     120091             120091              120091   \n",
       "1  4.435011107988762        NaN                NaN  163.05753137204286   \n",
       "2  345.1919073034631        NaN                NaN    67.4241103362905   \n",
       "3             -21.36        1.0                  N                   1   \n",
       "4                1.0        1.0                NaN                 114   \n",
       "5                1.7        1.0                NaN                 162   \n",
       "6               3.18        1.0                NaN                 234   \n",
       "7           84813.76        NaN                  Y                 265   \n",
       "\n",
       "        DOLocationID  ...        total_amount congestion_surcharge  \\\n",
       "0             120091  ...              120091               120091   \n",
       "1  159.5821502027629  ...  18.528659277342427   2.1594728164475274   \n",
       "2  71.83540590581744  ...  14.173633668144985    0.881234064211357   \n",
       "3                  1  ...             -154.42                 -2.5   \n",
       "4                107  ...               11.15                  2.5   \n",
       "5                161  ...                14.3                  2.5   \n",
       "6                234  ...               20.16                  2.5   \n",
       "7                265  ...               477.8                  2.5   \n",
       "\n",
       "         PU_zone      PU_borough PU_latitude PU_longitude         DO_zone  \\\n",
       "0          120091         120091      120091       120091          120091   \n",
       "1             NaN            NaN         NaN          NaN             NaN   \n",
       "2             NaN            NaN         NaN          NaN             NaN   \n",
       "3        Allerton          Bronx   40.508476    -79.43939        Allerton   \n",
       "4             NaN            NaN    40.74106    -73.99142             NaN   \n",
       "5             NaN            NaN   40.759823    -73.98408             NaN   \n",
       "6             NaN            NaN   40.775707    -73.96151             NaN   \n",
       "7  Yorkville West  Staten Island         NaN          NaN  Yorkville West   \n",
       "\n",
       "      DO_borough DO_latitude DO_longitude  \n",
       "0         120091      120091       120091  \n",
       "1            NaN         NaN          NaN  \n",
       "2            NaN         NaN          NaN  \n",
       "3          Bronx   40.508476    -79.43939  \n",
       "4            NaN   40.739548    -73.99136  \n",
       "5            NaN   40.759823    -73.98056  \n",
       "6            NaN   40.775715    -73.95947  \n",
       "7  Staten Island         NaN          NaN  \n",
       "\n",
       "[8 rows x 27 columns]"
      ]
     },
     "execution_count": 41,
     "metadata": {},
     "output_type": "execute_result"
    }
   ],
   "source": [
    "df_pyspark.summary().toPandas()"
   ]
  },
  {
   "cell_type": "markdown",
   "id": "7fe07e1a",
   "metadata": {},
   "source": []
  },
  {
   "cell_type": "code",
   "execution_count": null,
   "id": "f05c59e9",
   "metadata": {},
   "outputs": [],
   "source": []
  },
  {
   "cell_type": "code",
   "execution_count": 42,
   "id": "bfb6aa46",
   "metadata": {},
   "outputs": [],
   "source": [
    "### Measures of Central Tendency"
   ]
  },
  {
   "cell_type": "markdown",
   "id": "4e729554",
   "metadata": {},
   "source": [
    "- mean of values of column"
   ]
  },
  {
   "cell_type": "code",
   "execution_count": 43,
   "id": "370259d3",
   "metadata": {},
   "outputs": [],
   "source": [
    "# df.mean()"
   ]
  },
  {
   "cell_type": "code",
   "execution_count": 44,
   "id": "0ec4c730",
   "metadata": {},
   "outputs": [
    {
     "name": "stdout",
     "output_type": "stream",
     "text": [
      "-RECORD 0------------------------------------\n",
      " VendorID              | NaN                 \n",
      " tpep_pickup_datetime  | null                \n",
      " tpep_dropoff_datetime | null                \n",
      " passenger_count       | NaN                 \n",
      " trip_distance         | 4.435011107988762   \n",
      " RatecodeID            | NaN                 \n",
      " store_and_fwd_flag    | NaN                 \n",
      " PULocationID          | 163.05753137204286  \n",
      " DOLocationID          | 159.5821502027629   \n",
      " payment_type          | NaN                 \n",
      " fare_amount           | 12.890548756377127  \n",
      " extra                 | 1.0413217476791867  \n",
      " mta_tax               | 0.492442814199133   \n",
      " tip_amount            | 2.0266098189788204  \n",
      " tolls_amount          | 0.32889533494177786 \n",
      " improvement_surcharge | 0.2973245407135336  \n",
      " total_amount          | 18.528659277342427  \n",
      " congestion_surcharge  | 2.1594728164475274  \n",
      " PU_zone               | NaN                 \n",
      " PU_borough            | NaN                 \n",
      " PU_latitude           | NaN                 \n",
      " PU_longitude          | NaN                 \n",
      " DO_zone               | NaN                 \n",
      " DO_borough            | NaN                 \n",
      " DO_latitude           | NaN                 \n",
      " DO_longitude          | NaN                 \n",
      "\n"
     ]
    }
   ],
   "source": [
    "df_pyspark.select(*[mean(c).alias(c) for c in df_pyspark.columns]).show(vertical=True)"
   ]
  },
  {
   "cell_type": "code",
   "execution_count": null,
   "id": "42fc7405",
   "metadata": {},
   "outputs": [],
   "source": []
  },
  {
   "cell_type": "markdown",
   "id": "4127cfa4",
   "metadata": {},
   "source": [
    "- median of respective columns"
   ]
  },
  {
   "cell_type": "code",
   "execution_count": 45,
   "id": "bf9abc61",
   "metadata": {},
   "outputs": [],
   "source": [
    "# df.median()"
   ]
  },
  {
   "cell_type": "code",
   "execution_count": 46,
   "id": "5bc40208",
   "metadata": {},
   "outputs": [
    {
     "name": "stdout",
     "output_type": "stream",
     "text": [
      "-RECORD 0--------------------------\n",
      " VendorID              | 2.0       \n",
      " tpep_pickup_datetime  | null      \n",
      " tpep_dropoff_datetime | null      \n",
      " passenger_count       | 1.0       \n",
      " trip_distance         | 1.7       \n",
      " RatecodeID            | 1.0       \n",
      " store_and_fwd_flag    | NaN       \n",
      " PULocationID          | 162       \n",
      " DOLocationID          | 161       \n",
      " payment_type          | 1.0       \n",
      " fare_amount           | 9.0       \n",
      " extra                 | 0.5       \n",
      " mta_tax               | 0.5       \n",
      " tip_amount            | 1.86      \n",
      " tolls_amount          | 0.0       \n",
      " improvement_surcharge | 0.3       \n",
      " total_amount          | 14.3      \n",
      " congestion_surcharge  | 2.5       \n",
      " PU_zone               | NaN       \n",
      " PU_borough            | NaN       \n",
      " PU_latitude           | 40.759823 \n",
      " PU_longitude          | -73.98408 \n",
      " DO_zone               | NaN       \n",
      " DO_borough            | NaN       \n",
      " DO_latitude           | 40.759823 \n",
      " DO_longitude          | -73.98056 \n",
      "\n"
     ]
    }
   ],
   "source": [
    "df_pyspark.agg(*[percentile_approx(c, 0.5).alias(c) for c in df_pyspark.columns]).show(vertical=True)"
   ]
  },
  {
   "cell_type": "code",
   "execution_count": 47,
   "id": "bfa9684b",
   "metadata": {},
   "outputs": [],
   "source": [
    "# df_pyspark.agg(expr(\"approx_percentile(array(0.5))\")).show()"
   ]
  },
  {
   "cell_type": "code",
   "execution_count": null,
   "id": "95484ca2",
   "metadata": {},
   "outputs": [],
   "source": []
  },
  {
   "cell_type": "markdown",
   "id": "006edf1f",
   "metadata": {},
   "source": [
    "- mode of values of columns"
   ]
  },
  {
   "cell_type": "code",
   "execution_count": 48,
   "id": "aeeb1a34",
   "metadata": {},
   "outputs": [],
   "source": [
    "# df.mode()"
   ]
  },
  {
   "cell_type": "code",
   "execution_count": 50,
   "id": "df261824",
   "metadata": {},
   "outputs": [],
   "source": [
    "# [[c, df_pyspark.groupby(c).count().orderBy(\"count\", ascending=False).first()[0]] for c in df_pyspark.columns]"
   ]
  },
  {
   "cell_type": "code",
   "execution_count": null,
   "id": "8bff76c3",
   "metadata": {},
   "outputs": [],
   "source": []
  },
  {
   "cell_type": "markdown",
   "id": "5d929c37",
   "metadata": {},
   "source": [
    "### to check the null values"
   ]
  },
  {
   "cell_type": "code",
   "execution_count": 51,
   "id": "65527da7",
   "metadata": {},
   "outputs": [],
   "source": [
    "# df.isnull().sum()"
   ]
  },
  {
   "cell_type": "code",
   "execution_count": 52,
   "id": "ee4422a8",
   "metadata": {},
   "outputs": [],
   "source": [
    "# df_pyspark.select([count(col(c).isNull()).alias(c) for c in df_pyspark.columns]).show()"
   ]
  },
  {
   "cell_type": "code",
   "execution_count": null,
   "id": "af488242",
   "metadata": {},
   "outputs": [],
   "source": []
  },
  {
   "cell_type": "markdown",
   "id": "57146f4a",
   "metadata": {},
   "source": [
    "### checking the missing values"
   ]
  },
  {
   "cell_type": "code",
   "execution_count": 54,
   "id": "8c329975",
   "metadata": {},
   "outputs": [
    {
     "name": "stdout",
     "output_type": "stream",
     "text": [
      "-RECORD 0-----------------------\n",
      " VendorID              | 120091 \n",
      " tpep_pickup_datetime  | 120091 \n",
      " tpep_dropoff_datetime | 120091 \n",
      " passenger_count       | 120091 \n",
      " trip_distance         | 120091 \n",
      " RatecodeID            | 120091 \n",
      " store_and_fwd_flag    | 120091 \n",
      " PULocationID          | 120091 \n",
      " DOLocationID          | 120091 \n",
      " payment_type          | 120091 \n",
      " fare_amount           | 120091 \n",
      " extra                 | 120091 \n",
      " mta_tax               | 120091 \n",
      " tip_amount            | 120091 \n",
      " tolls_amount          | 120091 \n",
      " improvement_surcharge | 120091 \n",
      " total_amount          | 120091 \n",
      " congestion_surcharge  | 120091 \n",
      " PU_zone               | 120091 \n",
      " PU_borough            | 120091 \n",
      " PU_latitude           | 120091 \n",
      " PU_longitude          | 120091 \n",
      " DO_zone               | 120091 \n",
      " DO_borough            | 120091 \n",
      " DO_latitude           | 120091 \n",
      " DO_longitude          | 120091 \n",
      "\n"
     ]
    }
   ],
   "source": [
    "df_pyspark.select(*[count(isnan(c) | isnull(c)).alias(c) for c in df_pyspark.columns]).show(vertical=True)"
   ]
  },
  {
   "cell_type": "code",
   "execution_count": 64,
   "id": "ea68bc8f",
   "metadata": {},
   "outputs": [],
   "source": [
    "import pyspark.sql.functions as F"
   ]
  },
  {
   "cell_type": "code",
   "execution_count": 68,
   "id": "3574a360",
   "metadata": {},
   "outputs": [],
   "source": [
    "# result = df_pyspark.select('VendorID').join(\n",
    "#     df_pyspark.select(\"nan\"), \n",
    "#     F.array_contains(\"nan\", F.col('VendorID'))\n",
    "# )"
   ]
  },
  {
   "cell_type": "code",
   "execution_count": 71,
   "id": "d25e0af3",
   "metadata": {},
   "outputs": [],
   "source": [
    "# result = df_pyspark.select(array_contains(\"VendorID\", \"nan\")).collect()"
   ]
  },
  {
   "cell_type": "code",
   "execution_count": 78,
   "id": "52aeeefd",
   "metadata": {},
   "outputs": [],
   "source": [
    "# df_pyspark.filter(df_pyspark.RatecodeID.contains('nan')).count()"
   ]
  },
  {
   "cell_type": "code",
   "execution_count": 79,
   "id": "86d97771",
   "metadata": {},
   "outputs": [],
   "source": [
    "# df_pyspark.select(array_contains(df_pyspark.VendorID, )).collect()"
   ]
  },
  {
   "cell_type": "code",
   "execution_count": null,
   "id": "204a2d46",
   "metadata": {},
   "outputs": [],
   "source": []
  },
  {
   "cell_type": "markdown",
   "id": "93794424",
   "metadata": {},
   "source": [
    "### unique elements"
   ]
  },
  {
   "cell_type": "code",
   "execution_count": 55,
   "id": "44195bee",
   "metadata": {},
   "outputs": [],
   "source": [
    "# df.nunique()"
   ]
  },
  {
   "cell_type": "code",
   "execution_count": null,
   "id": "028f2baa",
   "metadata": {},
   "outputs": [],
   "source": []
  },
  {
   "cell_type": "code",
   "execution_count": 56,
   "id": "0d099de9",
   "metadata": {},
   "outputs": [],
   "source": [
    "# df_pyspark.dropDuplicates(([\"VendorID\",\"tpep_pickup_datetime\",\"tpep_dropoff_datetime\",\"passenger_count\",\"trip_distance\",\"RatecodeID\",\"store_and_fwd_flag\",\"PULocationID\",\"DOLocationID\",\"payment_type\",\"fare_amount\",\"extra\",\"mta_tax\",\"tip_amount\",\"tolls_amount\",\"improvement_surcharge\",\"total_amount\",\"congestion_surcharge\",\"PU_zone\",\"PU_borough\",\"PU_latitude\",\"PU_longitude\",\"DO_zone\",\"DO_borough\",\"DO_latitude\",\"DO_longitude\"])).select(\"VendorID\",\"tpep_pickup_datetime\",\"tpep_dropoff_datetime\",\"passenger_count\",\"trip_distance\",\"RatecodeID\",\"store_and_fwd_flag\",\"PULocationID\",\"DOLocationID\",\"payment_type\",\"fare_amount\",\"extra\",\"mta_tax\",\"tip_amount\",\"tolls_amount\",\"improvement_surcharge\",\"total_amount\",\"congestion_surcharge\",\"PU_zone\",\"PU_borough\",\"PU_latitude\",\"PU_longitude\",\"DO_zone\",\"DO_borough\",\"DO_latitude\",\"DO_longitude\").show()"
   ]
  },
  {
   "cell_type": "code",
   "execution_count": 57,
   "id": "309aef70",
   "metadata": {},
   "outputs": [
    {
     "name": "stdout",
     "output_type": "stream",
     "text": [
      "-RECORD 0-----------------------\n",
      " VendorID              | 3      \n",
      " tpep_pickup_datetime  | 119874 \n",
      " tpep_dropoff_datetime | 119873 \n",
      " passenger_count       | 9      \n",
      " trip_distance         | 2529   \n",
      " RatecodeID            | 7      \n",
      " store_and_fwd_flag    | 3      \n",
      " PULocationID          | 247    \n",
      " DOLocationID          | 256    \n",
      " payment_type          | 5      \n",
      " fare_amount           | 2859   \n",
      " extra                 | 34     \n",
      " mta_tax               | 4      \n",
      " tip_amount            | 1386   \n",
      " tolls_amount          | 131    \n",
      " improvement_surcharge | 3      \n",
      " total_amount          | 4513   \n",
      " congestion_surcharge  | 4      \n",
      " PU_zone               | 244    \n",
      " PU_borough            | 7      \n",
      " PU_latitude           | 243    \n",
      " PU_longitude          | 245    \n",
      " DO_zone               | 253    \n",
      " DO_borough            | 7      \n",
      " DO_latitude           | 252    \n",
      " DO_longitude          | 254    \n",
      "\n"
     ]
    }
   ],
   "source": [
    "df_pyspark.agg(*(countDistinct(col(c)).alias(c) for c in df_pyspark.columns)).show(vertical=True)"
   ]
  },
  {
   "cell_type": "code",
   "execution_count": 58,
   "id": "f0f5fd8e",
   "metadata": {},
   "outputs": [
    {
     "data": {
      "text/plain": [
       "[Row(VendorID=2.0), Row(VendorID=1.0), Row(VendorID=nan)]"
      ]
     },
     "execution_count": 58,
     "metadata": {},
     "output_type": "execute_result"
    }
   ],
   "source": [
    "df_pyspark.select('VendorID').distinct().collect()"
   ]
  },
  {
   "cell_type": "code",
   "execution_count": 59,
   "id": "0a427941",
   "metadata": {},
   "outputs": [
    {
     "data": {
      "text/plain": [
       "[Row(RatecodeID=5.0),\n",
       " Row(RatecodeID=2.0),\n",
       " Row(RatecodeID=3.0),\n",
       " Row(RatecodeID=1.0),\n",
       " Row(RatecodeID=4.0),\n",
       " Row(RatecodeID=nan),\n",
       " Row(RatecodeID=99.0)]"
      ]
     },
     "execution_count": 59,
     "metadata": {},
     "output_type": "execute_result"
    }
   ],
   "source": [
    "df_pyspark.select('RatecodeID').distinct().collect()"
   ]
  },
  {
   "cell_type": "markdown",
   "id": "821608bd",
   "metadata": {},
   "source": [
    "#### Conclusion:\n",
    "\n",
    "\n",
    "- there are 3 vendors active in NYC\n",
    "- The fare_amount variable has negative value as minimum value which is unusual\n",
    "- The passenger_count variable having 0 as minimum no of passengers and maximum as 9\n",
    "- The pickup and dropoff zone's location_Id shouldn't be greter than 263"
   ]
  },
  {
   "cell_type": "code",
   "execution_count": null,
   "id": "02cac30b",
   "metadata": {},
   "outputs": [],
   "source": []
  },
  {
   "cell_type": "code",
   "execution_count": null,
   "id": "ee46eb89",
   "metadata": {},
   "outputs": [],
   "source": []
  },
  {
   "cell_type": "markdown",
   "id": "35e52307",
   "metadata": {},
   "source": [
    "# Data Cleansing"
   ]
  },
  {
   "cell_type": "code",
   "execution_count": null,
   "id": "9bd6e1bf",
   "metadata": {},
   "outputs": [],
   "source": []
  },
  {
   "cell_type": "markdown",
   "id": "34f0f7ee",
   "metadata": {},
   "source": [
    "#### analysis of records having null values\n",
    "\n",
    "- finds the null values and gives statistical analysis of the number of values ."
   ]
  },
  {
   "cell_type": "code",
   "execution_count": null,
   "id": "f4a3f70f",
   "metadata": {},
   "outputs": [],
   "source": [
    "# ndf=df.isnull()\n",
    "# ndf.describe()"
   ]
  },
  {
   "cell_type": "code",
   "execution_count": null,
   "id": "f139bcbd",
   "metadata": {},
   "outputs": [],
   "source": []
  },
  {
   "cell_type": "code",
   "execution_count": null,
   "id": "0e6e5465",
   "metadata": {},
   "outputs": [],
   "source": []
  },
  {
   "cell_type": "markdown",
   "id": "66661466",
   "metadata": {},
   "source": [
    "### cleansing the data"
   ]
  },
  {
   "cell_type": "markdown",
   "id": "f735097b",
   "metadata": {},
   "source": [
    "- count of null values"
   ]
  },
  {
   "cell_type": "code",
   "execution_count": null,
   "id": "3a5094ec",
   "metadata": {},
   "outputs": [],
   "source": [
    "# df.isna().sum()"
   ]
  },
  {
   "cell_type": "code",
   "execution_count": null,
   "id": "ca1cde9e",
   "metadata": {},
   "outputs": [],
   "source": [
    "df_pyspark1 = df_pyspark.na.drop(\"any\")"
   ]
  },
  {
   "cell_type": "code",
   "execution_count": null,
   "id": "a3840661",
   "metadata": {},
   "outputs": [],
   "source": [
    "df_pyspark1.count()"
   ]
  },
  {
   "cell_type": "code",
   "execution_count": null,
   "id": "51e8f024",
   "metadata": {},
   "outputs": [],
   "source": [
    "# df = df.replace('0', np.nan)"
   ]
  },
  {
   "cell_type": "code",
   "execution_count": null,
   "id": "5eb93e74",
   "metadata": {},
   "outputs": [],
   "source": []
  },
  {
   "cell_type": "markdown",
   "id": "a3845143",
   "metadata": {},
   "source": [
    "- drop the null values"
   ]
  },
  {
   "cell_type": "code",
   "execution_count": null,
   "id": "ee97f17b",
   "metadata": {},
   "outputs": [],
   "source": [
    "# df=df.dropna()"
   ]
  },
  {
   "cell_type": "code",
   "execution_count": null,
   "id": "02344f6c",
   "metadata": {},
   "outputs": [],
   "source": [
    "# df.isna().sum()"
   ]
  },
  {
   "cell_type": "markdown",
   "id": "5a5f828b",
   "metadata": {},
   "source": [
    "- statistical description after removing the null values"
   ]
  },
  {
   "cell_type": "code",
   "execution_count": null,
   "id": "73f8faea",
   "metadata": {},
   "outputs": [],
   "source": [
    "# df.info()"
   ]
  },
  {
   "cell_type": "code",
   "execution_count": null,
   "id": "c09418ff",
   "metadata": {},
   "outputs": [],
   "source": []
  },
  {
   "cell_type": "code",
   "execution_count": null,
   "id": "dab45688",
   "metadata": {},
   "outputs": [],
   "source": []
  },
  {
   "cell_type": "markdown",
   "id": "ae234f7e",
   "metadata": {},
   "source": [
    "# Data Preprocessing"
   ]
  },
  {
   "cell_type": "code",
   "execution_count": null,
   "id": "bcc4478b",
   "metadata": {},
   "outputs": [],
   "source": []
  },
  {
   "cell_type": "markdown",
   "id": "712aeabb",
   "metadata": {},
   "source": [
    "#### renaming the columns names"
   ]
  },
  {
   "cell_type": "code",
   "execution_count": null,
   "id": "92a288b7",
   "metadata": {},
   "outputs": [],
   "source": [
    "# df.columns"
   ]
  },
  {
   "cell_type": "code",
   "execution_count": null,
   "id": "186fe898",
   "metadata": {},
   "outputs": [],
   "source": [
    "df_pyspark1.columns"
   ]
  },
  {
   "cell_type": "code",
   "execution_count": null,
   "id": "c3733512",
   "metadata": {},
   "outputs": [],
   "source": [
    "# df = df.rename(columns={\"PU_latitude\":\"pickup_latitude\", \"PU_longitude\":\"pickup_longitude\", \"DO_latitude\":\"dropoff_latitude\", \"DO_longitude\":\"dropoff_longitude\", \"tpep_pickup_datetime\":\"pickup_datetime\", \"tpep_dropoff_datetime\":\"dropoff_datetime\"})\n",
    "# df.head()"
   ]
  },
  {
   "cell_type": "code",
   "execution_count": null,
   "id": "c4b65809",
   "metadata": {},
   "outputs": [],
   "source": [
    "df_pyspark1.withColumnRenamed()"
   ]
  },
  {
   "cell_type": "code",
   "execution_count": null,
   "id": "1bb3db76",
   "metadata": {},
   "outputs": [],
   "source": []
  },
  {
   "cell_type": "markdown",
   "id": "f446831f",
   "metadata": {},
   "source": [
    "#### remove the locations outside the New York City"
   ]
  },
  {
   "cell_type": "markdown",
   "id": "9ad1df37",
   "metadata": {},
   "source": [
    "- minimum and maximum latitude and longitude of NYC"
   ]
  },
  {
   "cell_type": "code",
   "execution_count": null,
   "id": "8e20a850",
   "metadata": {},
   "outputs": [],
   "source": [
    "def min_max():\n",
    "    print(df['pickup_longitude'].max(),df['pickup_longitude'].min())\n",
    "    print(df['pickup_latitude'].max(),df['pickup_latitude'].min())\n",
    "\n",
    "    print(df['dropoff_longitude'].max(),df['dropoff_longitude'].min())\n",
    "    print(df['dropoff_latitude'].max(),df['dropoff_latitude'].min())\n",
    "min_max()"
   ]
  },
  {
   "cell_type": "markdown",
   "id": "0b7d4e5c",
   "metadata": {},
   "source": [
    "- remove where pickup and drop location are same"
   ]
  },
  {
   "cell_type": "code",
   "execution_count": null,
   "id": "970ada31",
   "metadata": {},
   "outputs": [],
   "source": [
    "print(df[(df['pickup_longitude']==df['dropoff_longitude']) & (df['pickup_latitude']==df['dropoff_latitude'])].shape)\n",
    "df=df[~((df['pickup_longitude']==df['dropoff_longitude']) & (df['pickup_latitude']==df['dropoff_latitude']))]"
   ]
  },
  {
   "cell_type": "markdown",
   "id": "eade43b7",
   "metadata": {},
   "source": [
    "- shape of data frame "
   ]
  },
  {
   "cell_type": "code",
   "execution_count": null,
   "id": "606d3590",
   "metadata": {},
   "outputs": [],
   "source": [
    "df.shape"
   ]
  },
  {
   "cell_type": "markdown",
   "id": "a2963074",
   "metadata": {},
   "source": [
    "- boundary for new york latitude longitude..."
   ]
  },
  {
   "cell_type": "code",
   "execution_count": null,
   "id": "b9cae149",
   "metadata": {},
   "outputs": [],
   "source": [
    "boundary={\"min_lat\":40.573143,\n",
    "         \"min_lang\":-74.252193,\n",
    "         \"max_lat\":41.709555,\n",
    "         \"max_lang\":-72.986532}"
   ]
  },
  {
   "cell_type": "markdown",
   "id": "aee40cbe",
   "metadata": {},
   "source": [
    "- count of locations outside the new york city"
   ]
  },
  {
   "cell_type": "code",
   "execution_count": null,
   "id": "2b5a3107",
   "metadata": {},
   "outputs": [],
   "source": [
    "print(df[(df['pickup_latitude']<=boundary['min_lat']) | (df['pickup_latitude']>=boundary['max_lat'])].shape[0])\n",
    "print(df[(df['pickup_longitude']<=boundary['min_lang']) | (df['pickup_longitude']>=boundary['max_lang'])].shape[0])\n",
    "print(df[(df['dropoff_latitude']<=boundary['min_lat']) | (df['dropoff_latitude']>=boundary['max_lat'])].shape[0])\n",
    "print(df[(df['dropoff_longitude']<=boundary['min_lang']) | (df['dropoff_longitude']>=boundary['max_lang'])].shape[0])"
   ]
  },
  {
   "cell_type": "markdown",
   "id": "8845c4db",
   "metadata": {},
   "source": [
    "- removing the locations which are outside the boundaries"
   ]
  },
  {
   "cell_type": "code",
   "execution_count": null,
   "id": "29dd7336",
   "metadata": {},
   "outputs": [],
   "source": [
    "df=df[~((df['pickup_latitude']<=boundary['min_lat']) | (df['pickup_latitude']>=boundary['max_lat']))]\n",
    "df=df[~((df['pickup_longitude']<=boundary['min_lang']) | (df['pickup_longitude']>=boundary['max_lang']))]\n",
    "\n",
    "df=df[~((df['dropoff_latitude']<=boundary['min_lat']) | (df['dropoff_latitude']>=boundary['max_lat']))]\n",
    "df=df[~((df['dropoff_longitude']<=boundary['min_lang']) | (df['dropoff_longitude']>=boundary['max_lang']))]\n",
    "\n",
    "df.shape"
   ]
  },
  {
   "cell_type": "code",
   "execution_count": null,
   "id": "16c6cd12",
   "metadata": {},
   "outputs": [],
   "source": []
  },
  {
   "cell_type": "markdown",
   "id": "ac274e8e",
   "metadata": {},
   "source": [
    "### plotting the pickup latitude and pickup longitude"
   ]
  },
  {
   "cell_type": "code",
   "execution_count": null,
   "id": "c7862435",
   "metadata": {},
   "outputs": [],
   "source": [
    "df.plot(y='pickup_latitude',x='pickup_longitude',kind=\"scatter\",alpha=0.7,s=0.02)\n",
    "\n",
    "city_long_border = (-74.03, -73.75)\n",
    "city_lat_border = (40.63, 40.85)\n",
    "plt.title(\"Pickups Data\")\n",
    "\n",
    "plt.ylim(city_lat_border)\n",
    "plt.xlim(city_long_border)\n",
    "plt.show()"
   ]
  },
  {
   "cell_type": "code",
   "execution_count": null,
   "id": "1f62d2a7",
   "metadata": {},
   "outputs": [],
   "source": []
  },
  {
   "cell_type": "markdown",
   "id": "baa6a787",
   "metadata": {},
   "source": [
    "### plot of dropoff latitude and dropoff longitude"
   ]
  },
  {
   "cell_type": "code",
   "execution_count": null,
   "id": "a15956ac",
   "metadata": {},
   "outputs": [],
   "source": [
    "df.plot(y='dropoff_latitude',x='dropoff_longitude',kind=\"scatter\",alpha=0.5,s=0.02)\n",
    "city_long_border = (-74.03, -73.75)\n",
    "city_lat_border = (40.63, 40.85)\n",
    "plt.title(\"Dropoff Data\")\n",
    "\n",
    "plt.ylim(city_lat_border)\n",
    "plt.xlim(city_long_border)\n",
    "plt.show()"
   ]
  },
  {
   "cell_type": "code",
   "execution_count": null,
   "id": "16cebeb3",
   "metadata": {},
   "outputs": [],
   "source": []
  },
  {
   "cell_type": "markdown",
   "id": "6b974a10",
   "metadata": {},
   "source": [
    "### Passengers Count Data"
   ]
  },
  {
   "cell_type": "markdown",
   "id": "f6c4b48a",
   "metadata": {},
   "source": [
    "- max and min count of passengers"
   ]
  },
  {
   "cell_type": "code",
   "execution_count": null,
   "id": "d4dd523d",
   "metadata": {},
   "outputs": [],
   "source": [
    "df['passenger_count']=df['passenger_count'].astype(int)\n",
    "print(df['passenger_count'].max())\n",
    "print(df['passenger_count'].min())"
   ]
  },
  {
   "cell_type": "code",
   "execution_count": null,
   "id": "23ac38bd",
   "metadata": {},
   "outputs": [],
   "source": [
    "sns.countplot(y='passenger_count',data=df)"
   ]
  },
  {
   "cell_type": "markdown",
   "id": "d76acc9a",
   "metadata": {},
   "source": [
    "- removing records with passengers more than 6"
   ]
  },
  {
   "cell_type": "code",
   "execution_count": null,
   "id": "6558f7aa",
   "metadata": {},
   "outputs": [],
   "source": [
    "df=df[~((df['passenger_count']>6))]\n",
    "df.shape"
   ]
  },
  {
   "cell_type": "markdown",
   "id": "bcac40a7",
   "metadata": {},
   "source": [
    "- removing passengers with negative value as a count"
   ]
  },
  {
   "cell_type": "code",
   "execution_count": null,
   "id": "386aff66",
   "metadata": {},
   "outputs": [],
   "source": [
    "df[df['fare_amount']<=0]['fare_amount'].count()\n",
    "df=df[~(df['fare_amount']<=0)]\n",
    "df.shape"
   ]
  },
  {
   "cell_type": "code",
   "execution_count": null,
   "id": "d727d5cf",
   "metadata": {},
   "outputs": [],
   "source": []
  },
  {
   "cell_type": "code",
   "execution_count": null,
   "id": "2c2190e6",
   "metadata": {},
   "outputs": [],
   "source": []
  },
  {
   "cell_type": "markdown",
   "id": "d6b15e49",
   "metadata": {},
   "source": [
    "# Feature Engineering"
   ]
  },
  {
   "cell_type": "code",
   "execution_count": null,
   "id": "15a7d5a6",
   "metadata": {},
   "outputs": [],
   "source": []
  },
  {
   "cell_type": "markdown",
   "id": "f9e52fa1",
   "metadata": {},
   "source": [
    "### checking the data types of the columns"
   ]
  },
  {
   "cell_type": "code",
   "execution_count": null,
   "id": "dbf3858b",
   "metadata": {},
   "outputs": [],
   "source": [
    "df.info()"
   ]
  },
  {
   "cell_type": "code",
   "execution_count": null,
   "id": "cec13aef",
   "metadata": {},
   "outputs": [],
   "source": []
  },
  {
   "cell_type": "markdown",
   "id": "0808ae42",
   "metadata": {},
   "source": [
    "- changing the data type from string to timestamp"
   ]
  },
  {
   "cell_type": "code",
   "execution_count": null,
   "id": "aecac3b0",
   "metadata": {},
   "outputs": [],
   "source": [
    "type(df['pickup_datetime'].iloc[0])"
   ]
  },
  {
   "cell_type": "code",
   "execution_count": null,
   "id": "b484a1fe",
   "metadata": {},
   "outputs": [],
   "source": [
    "df['pickup_datetime']=pd.to_datetime(df['pickup_datetime'])\n",
    "type(df['pickup_datetime'].iloc[0])"
   ]
  },
  {
   "cell_type": "code",
   "execution_count": null,
   "id": "4b71702a",
   "metadata": {},
   "outputs": [],
   "source": [
    "df['dropoff_datetime']=pd.to_datetime(df['dropoff_datetime'])\n",
    "type(df['dropoff_datetime'].iloc[0])"
   ]
  },
  {
   "cell_type": "code",
   "execution_count": null,
   "id": "362146da",
   "metadata": {},
   "outputs": [],
   "source": []
  },
  {
   "cell_type": "markdown",
   "id": "95668cbd",
   "metadata": {},
   "source": [
    "### adding the new column for day of week, hour of day, month and year, trip duration"
   ]
  },
  {
   "cell_type": "code",
   "execution_count": null,
   "id": "550f8f16",
   "metadata": {},
   "outputs": [],
   "source": [
    "df['pickup_day']=df['pickup_datetime'].dt.dayofweek\n",
    "df['dropoff_day']=df['dropoff_datetime'].dt.dayofweek"
   ]
  },
  {
   "cell_type": "code",
   "execution_count": null,
   "id": "f3dabdaf",
   "metadata": {},
   "outputs": [],
   "source": [
    "df['pickup_day_no']=df['pickup_datetime'].dt.weekday\n",
    "df['dropoff_day_no']=df['dropoff_datetime'].dt.weekday"
   ]
  },
  {
   "cell_type": "code",
   "execution_count": null,
   "id": "6968eb35",
   "metadata": {},
   "outputs": [],
   "source": [
    "df['pickup_hour']=df['pickup_datetime'].dt.hour\n",
    "df['dropoff_hour']=df['dropoff_datetime'].dt.hour"
   ]
  },
  {
   "cell_type": "code",
   "execution_count": null,
   "id": "258aaa93",
   "metadata": {},
   "outputs": [],
   "source": [
    "df['pickup_month']=df['pickup_datetime'].dt.month\n",
    "df['dropoff_month']=df['dropoff_datetime'].dt.month"
   ]
  },
  {
   "cell_type": "code",
   "execution_count": null,
   "id": "33a62344",
   "metadata": {},
   "outputs": [],
   "source": [
    "df['pickup_year']=df['pickup_datetime'].dt.year\n",
    "df['dropoff_year']=df['dropoff_datetime'].dt.year"
   ]
  },
  {
   "cell_type": "code",
   "execution_count": null,
   "id": "0616d94b",
   "metadata": {},
   "outputs": [],
   "source": [
    "df['trip_duration'] = df.dropoff_datetime - df.pickup_datetime \n",
    "df.head()"
   ]
  },
  {
   "cell_type": "markdown",
   "id": "df0d65e9",
   "metadata": {},
   "source": [
    "- pickup_day and dropoff_day which will contain the name of the day on which the ride was taken.\n",
    "- pickup_day_no and dropoff_day_no which will contain the day number instead of characters with Monday=0 and Sunday=6.\n",
    "- pickup_hour and dropoff_hour with an hour of the day in the 24-hour format.\n",
    "- pickup_month and dropoff_month with month number with January=1 and December=12."
   ]
  },
  {
   "cell_type": "code",
   "execution_count": null,
   "id": "d3a2c9af",
   "metadata": {},
   "outputs": [],
   "source": []
  },
  {
   "cell_type": "markdown",
   "id": "d9aeecd7",
   "metadata": {},
   "source": [
    "- changing the data type of trip duration"
   ]
  },
  {
   "cell_type": "code",
   "execution_count": null,
   "id": "46e55389",
   "metadata": {},
   "outputs": [],
   "source": [
    "type(df.trip_duration)"
   ]
  },
  {
   "cell_type": "code",
   "execution_count": null,
   "id": "da9bec2d",
   "metadata": {},
   "outputs": [],
   "source": [
    "df['trip_duration']=pd.to_timedelta(df['trip_duration'])"
   ]
  },
  {
   "cell_type": "code",
   "execution_count": null,
   "id": "d4d06b14",
   "metadata": {},
   "outputs": [],
   "source": [
    "type(df.trip_duration.iloc[0])"
   ]
  },
  {
   "cell_type": "code",
   "execution_count": null,
   "id": "1af2fce0",
   "metadata": {},
   "outputs": [],
   "source": [
    "for i in range(len(df)):\n",
    "    \n",
    "    df.trip_duration.iloc[i] = df.trip_duration.iloc[i].seconds"
   ]
  },
  {
   "cell_type": "code",
   "execution_count": null,
   "id": "3640b8fc",
   "metadata": {},
   "outputs": [],
   "source": [
    "df.head()"
   ]
  },
  {
   "cell_type": "markdown",
   "id": "d765d953",
   "metadata": {},
   "source": []
  },
  {
   "cell_type": "markdown",
   "id": "b418f632",
   "metadata": {},
   "source": [
    "### function to determine at what time of day ride was taken"
   ]
  },
  {
   "cell_type": "code",
   "execution_count": null,
   "id": "82435de2",
   "metadata": {},
   "outputs": [],
   "source": [
    "def time_of_day(x):\n",
    "    if x in range(6,12):\n",
    "        return 'Morning'\n",
    "    elif x in range(12,16):\n",
    "        return 'Afternoon'\n",
    "    elif x in range(16,22):\n",
    "        return 'Evening'\n",
    "    else:\n",
    "        return 'Late night'"
   ]
  },
  {
   "cell_type": "code",
   "execution_count": null,
   "id": "e062550e",
   "metadata": {},
   "outputs": [],
   "source": [
    "df['pickup_timeofday']=df['pickup_hour'].apply(time_of_day)\n",
    "df['dropoff_timeofday']=df['dropoff_hour'].apply(time_of_day)"
   ]
  },
  {
   "cell_type": "code",
   "execution_count": null,
   "id": "e16a703a",
   "metadata": {},
   "outputs": [],
   "source": [
    "df.head()"
   ]
  },
  {
   "cell_type": "code",
   "execution_count": null,
   "id": "ee64c9bd",
   "metadata": {},
   "outputs": [],
   "source": []
  },
  {
   "cell_type": "markdown",
   "id": "9b552954",
   "metadata": {},
   "source": [
    "### mid night trip column\n",
    "\n",
    "- 1 for YES\n",
    "- 0 for NO\n",
    "- Let's add the feature called mid night trip usually fare during night hours are high compare to day time\n",
    "- The trip between night 11'o clock to morning 5'o clock are labelled mid night trip"
   ]
  },
  {
   "cell_type": "code",
   "execution_count": null,
   "id": "073ca4b0",
   "metadata": {},
   "outputs": [],
   "source": [
    "df['mid_night_trip']=((df['pickup_timeofday']=='Late night')).astype(int)\n",
    "df.head()"
   ]
  },
  {
   "cell_type": "code",
   "execution_count": null,
   "id": "75f64f45",
   "metadata": {},
   "outputs": [],
   "source": []
  },
  {
   "cell_type": "markdown",
   "id": "a0ae2537",
   "metadata": {},
   "source": [
    "### 'Rush hour trip' column\n",
    "\n",
    "- New York City has rush hour means heavy traffic from 4 PM to 8 PM\n",
    "- So fare rates may differ from other %time"
   ]
  },
  {
   "cell_type": "code",
   "execution_count": null,
   "id": "b50cdf95",
   "metadata": {},
   "outputs": [],
   "source": [
    "df['rush_hour_trip']=((df['pickup_timeofday']=='Evening')).astype(int)\n",
    "df.head()"
   ]
  },
  {
   "cell_type": "code",
   "execution_count": null,
   "id": "67fd9cb9",
   "metadata": {},
   "outputs": [],
   "source": []
  },
  {
   "cell_type": "markdown",
   "id": "e2f1f79c",
   "metadata": {},
   "source": [
    "### Trips in snow season"
   ]
  },
  {
   "cell_type": "markdown",
   "id": "4f97d2e9",
   "metadata": {},
   "source": [
    "- During snow season the taxi is very less available compare to other months i.e. taxi fare during snow season is high.\n",
    "- NYC has the snow season from December to March but December and March has less snow compare to Jan and Feb\n",
    "- So we will check if trip was in month of Jan and Feb it is during snow season"
   ]
  },
  {
   "cell_type": "code",
   "execution_count": null,
   "id": "f5ef7881",
   "metadata": {},
   "outputs": [],
   "source": [
    "df['snow_season']=((df['pickup_month']==1) | (df['pickup_month']==2)).astype(int)\n",
    "df.head()"
   ]
  },
  {
   "cell_type": "code",
   "execution_count": null,
   "id": "2dc16f03",
   "metadata": {},
   "outputs": [],
   "source": []
  },
  {
   "cell_type": "markdown",
   "id": "641c6c63",
   "metadata": {},
   "source": [
    "### Distance calculator between pickup and drop coordinates"
   ]
  },
  {
   "cell_type": "markdown",
   "id": "84b1fc06",
   "metadata": {},
   "source": [
    "- Distance and the fare amount has the direct correlation if distance increase fare will be increase\n",
    "- We will use python's geopy library to add column trip_distance which will have distance between two coordinates"
   ]
  },
  {
   "cell_type": "markdown",
   "id": "ffcbf0c6",
   "metadata": {},
   "source": [
    "###### using geopy library"
   ]
  },
  {
   "cell_type": "code",
   "execution_count": null,
   "id": "9603908d",
   "metadata": {},
   "outputs": [],
   "source": [
    "from geopy.distance import geodesic\n",
    "\n",
    "def distance_calculate(lat,long,drop_lat,drop_long):    \n",
    "    newport_ri = (lat,long)\n",
    "    cleveland_oh = (drop_lat,drop_long)\n",
    "    dist=geodesic(newport_ri, cleveland_oh).miles\n",
    "    return dist"
   ]
  },
  {
   "cell_type": "code",
   "execution_count": null,
   "id": "2dc7a048",
   "metadata": {},
   "outputs": [],
   "source": [
    "df['distance_lib']=list(map(distance_calculate,df['pickup_latitude'],df['pickup_longitude'],df['dropoff_latitude'],df['dropoff_longitude']))\n",
    "df.head()"
   ]
  },
  {
   "cell_type": "markdown",
   "id": "74d89ae4",
   "metadata": {},
   "source": [
    "###### using haverstine dsitance formula"
   ]
  },
  {
   "cell_type": "code",
   "execution_count": null,
   "id": "781ae3d9",
   "metadata": {},
   "outputs": [],
   "source": [
    "from math import radians, cos, sin, asin, sqrt\n",
    "\n",
    "def haversine_distance(row):\n",
    "#     lon1, lat1, lon2, lat2):\n",
    "    \"\"\"\n",
    "    Calculate the circle distance between two points in lat and lon\n",
    "    on the earth (specified in decimal degrees)\n",
    "    returning distance in miles\n",
    "    \"\"\"\n",
    "    # need to convert decimal degrees to radians \n",
    "    # a unit of angle, equal to an angle at the center of a circle whose arc is equal in length to the radius.\n",
    "    lon1, lat1, lon2, lat2 = row['pickup_longitude'], row['pickup_latitude'], row['dropoff_longitude'], row['dropoff_latitude']\n",
    "    lon1, lat1, lon2, lat2 = map(radians, [lon1, lat1, lon2, lat2])\n",
    "\n",
    "    # haversine formula \n",
    "    dlon = lon2 - lon1 \n",
    "    dlat = lat2 - lat1 \n",
    "    a = sin(dlat/2)**2 + cos(lat1) * cos(lat2) * sin(dlon/2)**2\n",
    "    c = 2 * asin(sqrt(a)) \n",
    "    r = 3965 # Radius of earth in kilometers (6371 for kms). Use 3956 for miles\n",
    "    return c * r\n",
    "#applying to the dataset\n",
    "df['haversine_distance'] = df.apply(haversine_distance, axis=1)"
   ]
  },
  {
   "cell_type": "code",
   "execution_count": null,
   "id": "c08aee78",
   "metadata": {},
   "outputs": [],
   "source": [
    "df.head()"
   ]
  },
  {
   "cell_type": "markdown",
   "id": "e03f6b69",
   "metadata": {},
   "source": [
    "###### comparing both the calculated distances and getting it's mean as a value"
   ]
  },
  {
   "cell_type": "code",
   "execution_count": null,
   "id": "0dcd80c8",
   "metadata": {},
   "outputs": [],
   "source": [
    "df1 = df[['distance_lib', 'haversine_distance']]\n",
    "df1.head()"
   ]
  },
  {
   "cell_type": "code",
   "execution_count": null,
   "id": "3cc711bb",
   "metadata": {},
   "outputs": [],
   "source": [
    "df['trip_distance'] = (df['distance_lib']+df['haversine_distance'])/2\n",
    "df['trip_distance'].head()"
   ]
  },
  {
   "cell_type": "code",
   "execution_count": null,
   "id": "dd356d8f",
   "metadata": {},
   "outputs": [],
   "source": [
    "df.columns"
   ]
  },
  {
   "cell_type": "code",
   "execution_count": null,
   "id": "e02da4e4",
   "metadata": {},
   "outputs": [],
   "source": []
  },
  {
   "cell_type": "code",
   "execution_count": null,
   "id": "7df6e934",
   "metadata": {},
   "outputs": [],
   "source": []
  },
  {
   "cell_type": "markdown",
   "id": "f0512597",
   "metadata": {},
   "source": [
    "### Mapping"
   ]
  },
  {
   "cell_type": "markdown",
   "id": "2b877ccd",
   "metadata": {},
   "source": [
    "###### Convert specific pickup and drop Coordinates into location\n",
    "\n",
    "- We have set the boundary for the JFK Airport, Manhattan, Brooklyn, LaGuardia, Bronx"
   ]
  },
  {
   "cell_type": "code",
   "execution_count": null,
   "id": "43360dd2",
   "metadata": {},
   "outputs": [],
   "source": [
    "#JFK Airport \n",
    "JFK={\"min_long\":-73.81,\n",
    "    \"min_lat\":40.63,\n",
    "    \"max_long\":-73.77,\n",
    "    \"max_lat\":40.67}\n",
    "\n",
    "#Manhattan \n",
    "Manhattan={\n",
    "    \"min_long\":-74.02,\n",
    "    \"min_lat\":40.70,\n",
    "    \"max_long\":-73.93,\n",
    "    \"max_lat\":40.85}\n",
    "\n",
    "#Brooklyn\n",
    "Brooklyn={\n",
    "    \"min_long\":-74.01,\n",
    "    \"min_lat\":40.62,\n",
    "    \"max_long\":-73.96,\n",
    "    \"max_lat\":40.70 }\n",
    "\n",
    "#LaGuardia\n",
    "LaGuardia={\n",
    "    \"min_long\":-73.89,\n",
    "    \"min_lat\":40.76,\n",
    "    \"max_long\":-73.85,\n",
    "    \"max_lat\":40.79}\n",
    "\n",
    "#Bronx\n",
    "Bronx={\n",
    "    \"min_long\":-73.935,\n",
    "    \"min_lat\":40.79,\n",
    "    \"max_long\":-73.88,\n",
    "    \"max_lat\":40.89}"
   ]
  },
  {
   "cell_type": "markdown",
   "id": "cfbe34bf",
   "metadata": {},
   "source": [
    "###### number of pickup from the lcoation"
   ]
  },
  {
   "cell_type": "code",
   "execution_count": null,
   "id": "a7a1876f",
   "metadata": {},
   "outputs": [],
   "source": [
    "def pickup_place(place,train):\n",
    "    data=train[((train['pickup_latitude']>= place['min_lat']) & (train['pickup_latitude']<= place['max_lat']) & (train['pickup_longitude']>= place['min_long']) & (train['pickup_longitude']<= place['max_long']))]    \n",
    "    return data\n",
    "\n",
    "print(\"JFK Pickup Total \" , pickup_place(JFK,df).shape)\n",
    "print(\"Manhattan Pickup Total \" , pickup_place(Manhattan,df).shape)\n",
    "print(\"Brroklyn Pickup Total \" , pickup_place(Brooklyn,df).shape)\n",
    "print(\"Bronx Pickup Total \" , pickup_place(Bronx,df).shape)\n",
    "print(\"LaGuardia Pickup Total \" , pickup_place(LaGuardia,df).shape)"
   ]
  },
  {
   "cell_type": "markdown",
   "id": "6ced31f2",
   "metadata": {},
   "source": [
    "###### number of dropoff from the location"
   ]
  },
  {
   "cell_type": "code",
   "execution_count": null,
   "id": "8faf8754",
   "metadata": {},
   "outputs": [],
   "source": [
    "def drop_place(place,train):\n",
    "    data=train[((train['dropoff_latitude']>= place['min_lat']) & (train['dropoff_latitude']<= place['max_lat']) & (train['dropoff_longitude']>= place['min_long']) & (train['dropoff_longitude']<= place['max_long']))]    \n",
    "    return data\n",
    "\n",
    "print(\"JFK Dropoff Total \" , drop_place(JFK,df).shape)\n",
    "print(\"Manhattan Dropoff Total \" , drop_place(Manhattan,df).shape)\n",
    "print(\"Brroklyn Dropoff Total \" , drop_place(Brooklyn,df).shape)\n",
    "print(\"Bronx Dropoff Total \" , drop_place(Bronx,df).shape)\n",
    "print(\"LaGuardia Dropoff Total \" , drop_place(LaGuardia,df).shape)"
   ]
  },
  {
   "cell_type": "markdown",
   "id": "55bf88e9",
   "metadata": {},
   "source": [
    "###### function for pickup"
   ]
  },
  {
   "cell_type": "code",
   "execution_count": null,
   "id": "1503188b",
   "metadata": {},
   "outputs": [],
   "source": [
    "def plotPickupAreaEachPlace(Area,data,ax):\n",
    "    d=pickup_place(Area,data)\n",
    "    d.plot(y='pickup_latitude',x='pickup_longitude',kind=\"scatter\",alpha=0.7,s=0.02,ax=ax,figsize=(14,6))\n",
    "    city_long_border = (-74.03, -73.75)\n",
    "    city_lat_border = (40.63, 40.85)\n",
    "    plt.title(\"Pickups\")\n",
    "\n",
    "    plt.ylim(city_lat_border)\n",
    "    plt.xlim(city_long_border)\n",
    "    plt.show()"
   ]
  },
  {
   "cell_type": "code",
   "execution_count": null,
   "id": "58af5c7b",
   "metadata": {},
   "outputs": [],
   "source": [
    "ax=plt.subplot(2,3,1)\n",
    "plotPickupAreaEachPlace(JFK,df,ax)\n",
    "ax=plt.subplot(2,3,2)\n",
    "plotPickupAreaEachPlace(Manhattan,df,ax)\n",
    "ax=plt.subplot(2,3,3)\n",
    "plotPickupAreaEachPlace(Brooklyn,df,ax)\n",
    "ax=plt.subplot(2,3,4)\n",
    "plotPickupAreaEachPlace(Bronx,df,ax)\n",
    "ax=plt.subplot(2,3,5)\n",
    "plotPickupAreaEachPlace(LaGuardia,df,ax)"
   ]
  },
  {
   "cell_type": "markdown",
   "id": "407c3a9b",
   "metadata": {},
   "source": [
    "###### function for drop off from the boroughs"
   ]
  },
  {
   "cell_type": "code",
   "execution_count": null,
   "id": "afd55f8b",
   "metadata": {},
   "outputs": [],
   "source": [
    "def plotDropAreaEachPlace(Area,data,ax):\n",
    "    d=drop_place(Area,data)\n",
    "    d.plot(y='dropoff_latitude',x='dropoff_longitude',kind=\"scatter\",alpha=0.7,s=0.02,ax=ax,figsize=(14,6))\n",
    "    city_long_border = (-74.03, -73.75)\n",
    "    city_lat_border = (40.63, 40.85)\n",
    "    plt.title(\"Pickups\")\n",
    "\n",
    "    plt.ylim(city_lat_border)\n",
    "    plt.xlim(city_long_border)\n",
    "    plt.show()"
   ]
  },
  {
   "cell_type": "code",
   "execution_count": null,
   "id": "492fa0af",
   "metadata": {},
   "outputs": [],
   "source": [
    "ax=plt.subplot(2,3,1)\n",
    "plotDropAreaEachPlace(JFK,df,ax)\n",
    "ax=plt.subplot(2,3,2)\n",
    "plotDropAreaEachPlace(Manhattan,df,ax)\n",
    "ax=plt.subplot(2,3,3)\n",
    "plotDropAreaEachPlace(Brooklyn,df,ax)\n",
    "ax=plt.subplot(2,3,4)\n",
    "plotDropAreaEachPlace(Bronx,df,ax)\n",
    "ax=plt.subplot(2,3,5)\n",
    "plotDropAreaEachPlace(LaGuardia,df,ax)"
   ]
  },
  {
   "cell_type": "markdown",
   "id": "bff2e60e",
   "metadata": {},
   "source": [
    "place_mapping function which will take lat,lang and bounday area varibale it will map to particular area\n",
    "\n",
    "It will return 1 if particular lat,lang's are within specific boundary.\n",
    "\n",
    "e.g pickup coordinates which are within boundary for JFK Airport said to be JFK pickup trip and vice versa for drop"
   ]
  },
  {
   "cell_type": "code",
   "execution_count": null,
   "id": "6ce61b73",
   "metadata": {},
   "outputs": [],
   "source": [
    "def place_mapping(lat,lang,place_area):\n",
    "    if (lat>= place_area['min_lat']) & (lat<= place_area['max_lat']) & (lang>= place_area['min_long']) & (lang<= place_area['max_long']):\n",
    "        return 1\n",
    "    return 0"
   ]
  },
  {
   "cell_type": "code",
   "execution_count": null,
   "id": "a61ac4ff",
   "metadata": {},
   "outputs": [],
   "source": [
    "df['pickup_manhattan']=df.apply(lambda row:place_mapping(row['pickup_latitude'],row['pickup_longitude'],Manhattan),axis=1)\n",
    "df['pickup_jfk']=df.apply(lambda row:place_mapping(row['pickup_latitude'],row['pickup_longitude'],JFK),axis=1)\n",
    "df['pickup_brooklyn']=df.apply(lambda row:place_mapping(row['pickup_latitude'],row['pickup_longitude'],Brooklyn),axis=1)\n",
    "df['pickup_bronx']=df.apply(lambda row:place_mapping(row['pickup_latitude'],row['pickup_longitude'],Bronx),axis=1)\n",
    "df['pickup_laGuardia']=df.apply(lambda row:place_mapping(row['pickup_latitude'],row['pickup_longitude'],LaGuardia),axis=1)"
   ]
  },
  {
   "cell_type": "code",
   "execution_count": null,
   "id": "76da705c",
   "metadata": {},
   "outputs": [],
   "source": [
    "df['drop_manhattan']=df.apply(lambda row:place_mapping(row['dropoff_latitude'],row['dropoff_longitude'],Manhattan),axis=1)\n",
    "df['drop_jfk']=df.apply(lambda row:place_mapping(row['dropoff_latitude'],row['dropoff_longitude'],JFK),axis=1)\n",
    "df['drop_brooklyn']=df.apply(lambda row:place_mapping(row['dropoff_latitude'],row['dropoff_longitude'],Brooklyn),axis=1)\n",
    "df['drop_bronx']=df.apply(lambda row:place_mapping(row['dropoff_latitude'],row['dropoff_longitude'],Bronx),axis=1)\n",
    "df['drop_laGuardia']=df.apply(lambda row:place_mapping(row['dropoff_latitude'],row['dropoff_longitude'],LaGuardia),axis=1)"
   ]
  },
  {
   "cell_type": "markdown",
   "id": "70151c7c",
   "metadata": {},
   "source": [
    "Airport trip has the fixed rate so it is good to have a column which show whether trip is airport trip or not"
   ]
  },
  {
   "cell_type": "code",
   "execution_count": null,
   "id": "adb2ef1a",
   "metadata": {},
   "outputs": [],
   "source": [
    "def isAirportTrip(pickupJFK,dropJFK,pickupLaG,dropLaG):    \n",
    "    if pickupJFK==1 or dropJFK==1 or pickupLaG==1 or dropLaG==1:\n",
    "        return 1\n",
    "    return 0"
   ]
  },
  {
   "cell_type": "code",
   "execution_count": null,
   "id": "4f122142",
   "metadata": {},
   "outputs": [],
   "source": [
    "df['isAirportTrip']=df.apply(lambda row:isAirportTrip(row['pickup_jfk'],row['drop_jfk'],row['pickup_laGuardia'],row['drop_laGuardia']),axis=1)"
   ]
  },
  {
   "cell_type": "markdown",
   "id": "b1b2978c",
   "metadata": {},
   "source": [
    "Till here we have pre-processed our data and feature engineering done"
   ]
  },
  {
   "cell_type": "code",
   "execution_count": null,
   "id": "23d8598c",
   "metadata": {},
   "outputs": [],
   "source": []
  },
  {
   "cell_type": "code",
   "execution_count": null,
   "id": "53ec533a",
   "metadata": {},
   "outputs": [],
   "source": []
  },
  {
   "cell_type": "markdown",
   "id": "d26016ac",
   "metadata": {},
   "source": [
    "# Save the pre-processed and feature_eng data in CSV file"
   ]
  },
  {
   "cell_type": "code",
   "execution_count": null,
   "id": "a950c541",
   "metadata": {},
   "outputs": [],
   "source": [
    "from secrets import access_key, secret_access_key"
   ]
  },
  {
   "cell_type": "code",
   "execution_count": null,
   "id": "fb0a1678",
   "metadata": {},
   "outputs": [],
   "source": [
    "client = boto3.client('s3',\n",
    "                        aws_access_key_id = access_key,\n",
    "                        aws_secret_access_key = secret_access_key)"
   ]
  },
  {
   "cell_type": "code",
   "execution_count": null,
   "id": "7ad4b8c5",
   "metadata": {},
   "outputs": [],
   "source": [
    "df.to_csv(\"./feature_model.csv\",index=False)"
   ]
  },
  {
   "cell_type": "code",
   "execution_count": null,
   "id": "ff196a7c",
   "metadata": {},
   "outputs": [],
   "source": [
    "client.upload_file('./feature_model.csv', 'nyc-taxi-system', 'feature_model.csv')\n",
    "print(\"Uploaded on AWS\")\n",
    "os.remove('./feature_model.csv')\n",
    "print(\"File removed\")"
   ]
  },
  {
   "cell_type": "code",
   "execution_count": null,
   "id": "fa9be4c6",
   "metadata": {},
   "outputs": [],
   "source": []
  },
  {
   "cell_type": "markdown",
   "id": "735f0172",
   "metadata": {},
   "source": [
    "### Read Pre-processed file"
   ]
  },
  {
   "cell_type": "code",
   "execution_count": null,
   "id": "971fc813",
   "metadata": {},
   "outputs": [],
   "source": [
    "path = 's3://nyc-taxi-system/feature_model.csv'"
   ]
  },
  {
   "cell_type": "code",
   "execution_count": null,
   "id": "4f0f3f8a",
   "metadata": {},
   "outputs": [],
   "source": [
    "df=pd.read_csv(path)\n",
    "df.shape"
   ]
  },
  {
   "cell_type": "code",
   "execution_count": null,
   "id": "e6f1963c",
   "metadata": {},
   "outputs": [],
   "source": []
  },
  {
   "cell_type": "code",
   "execution_count": null,
   "id": "6a6e582a",
   "metadata": {},
   "outputs": [],
   "source": [
    "df.head()"
   ]
  },
  {
   "cell_type": "code",
   "execution_count": null,
   "id": "66513c9d",
   "metadata": {},
   "outputs": [],
   "source": [
    "df.columns"
   ]
  },
  {
   "cell_type": "code",
   "execution_count": null,
   "id": "4f2175b6",
   "metadata": {},
   "outputs": [],
   "source": []
  },
  {
   "cell_type": "code",
   "execution_count": null,
   "id": "1e477d7d",
   "metadata": {},
   "outputs": [],
   "source": []
  },
  {
   "cell_type": "markdown",
   "id": "d0b3497e",
   "metadata": {},
   "source": [
    "### Univariate Analysis"
   ]
  },
  {
   "cell_type": "code",
   "execution_count": null,
   "id": "29d81036",
   "metadata": {},
   "outputs": [],
   "source": []
  },
  {
   "cell_type": "markdown",
   "id": "0eb40429",
   "metadata": {},
   "source": [
    "### Target Variable"
   ]
  },
  {
   "cell_type": "code",
   "execution_count": null,
   "id": "4aca066a",
   "metadata": {},
   "outputs": [],
   "source": [
    "sns.histplot(df['trip_duration'],kde=False,bins=20)"
   ]
  },
  {
   "cell_type": "markdown",
   "id": "7857c071",
   "metadata": {},
   "source": [
    "- The histogram is really skewed as we can see."
   ]
  },
  {
   "cell_type": "code",
   "execution_count": null,
   "id": "f5a9bf88",
   "metadata": {},
   "outputs": [],
   "source": []
  },
  {
   "cell_type": "code",
   "execution_count": null,
   "id": "5202a71d",
   "metadata": {},
   "outputs": [],
   "source": [
    "sns.boxplot(df['trip_duration'])"
   ]
  },
  {
   "cell_type": "markdown",
   "id": "b840cc48",
   "metadata": {},
   "source": [
    "- not many outliers"
   ]
  },
  {
   "cell_type": "code",
   "execution_count": null,
   "id": "2a2983ae",
   "metadata": {},
   "outputs": [],
   "source": [
    "df['trip_duration'].sort_values(ascending=False)"
   ]
  },
  {
   "cell_type": "code",
   "execution_count": null,
   "id": "d095f0ab",
   "metadata": {},
   "outputs": [],
   "source": []
  },
  {
   "cell_type": "markdown",
   "id": "3c616659",
   "metadata": {},
   "source": [
    "#### Vendor Id"
   ]
  },
  {
   "cell_type": "code",
   "execution_count": null,
   "id": "a5df4871",
   "metadata": {},
   "outputs": [],
   "source": [
    "sns.countplot(x='VendorID',data=df)"
   ]
  },
  {
   "cell_type": "markdown",
   "id": "f63d1691",
   "metadata": {},
   "source": [
    "- we can see there is significant difference between these two vendors trip vcount"
   ]
  },
  {
   "cell_type": "code",
   "execution_count": null,
   "id": "d897390d",
   "metadata": {},
   "outputs": [],
   "source": []
  },
  {
   "cell_type": "markdown",
   "id": "01b571c2",
   "metadata": {},
   "source": [
    "#### Passenger Count"
   ]
  },
  {
   "cell_type": "code",
   "execution_count": null,
   "id": "73f67830",
   "metadata": {},
   "outputs": [],
   "source": [
    "df.passenger_count.value_counts()"
   ]
  },
  {
   "cell_type": "code",
   "execution_count": null,
   "id": "20529a1e",
   "metadata": {},
   "outputs": [],
   "source": [
    "sns.countplot(x='passenger_count',data=df)"
   ]
  },
  {
   "cell_type": "markdown",
   "id": "007ffd9f",
   "metadata": {},
   "source": [
    "- the highest amount of trips are with 1 passenger."
   ]
  },
  {
   "cell_type": "code",
   "execution_count": null,
   "id": "5d719aca",
   "metadata": {},
   "outputs": [],
   "source": []
  },
  {
   "cell_type": "markdown",
   "id": "f413cf8f",
   "metadata": {},
   "source": [
    "#### Store and Forward Flag"
   ]
  },
  {
   "cell_type": "code",
   "execution_count": null,
   "id": "39d6eb21",
   "metadata": {},
   "outputs": [],
   "source": [
    "df['store_and_fwd_flag'].value_counts(normalize=True)"
   ]
  },
  {
   "cell_type": "markdown",
   "id": "d41abdfc",
   "metadata": {},
   "source": [
    "- We see there are only 1% of trips that were stored before forwarding."
   ]
  },
  {
   "cell_type": "code",
   "execution_count": null,
   "id": "9063e42c",
   "metadata": {},
   "outputs": [],
   "source": []
  },
  {
   "cell_type": "markdown",
   "id": "eec8885e",
   "metadata": {},
   "source": [
    "#### Distance"
   ]
  },
  {
   "cell_type": "code",
   "execution_count": null,
   "id": "8c307f3c",
   "metadata": {},
   "outputs": [],
   "source": [
    "df['trip_distance'].value_counts()"
   ]
  },
  {
   "cell_type": "markdown",
   "id": "53db0c60",
   "metadata": {},
   "source": [
    "- The reasons for 0 km distance can be:\n",
    "     - The dropoff location couldn’t be tracked.\n",
    "     - The driver deliberately took this ride to complete a target ride number.\n",
    "     - The passengers canceled the trip."
   ]
  },
  {
   "cell_type": "code",
   "execution_count": null,
   "id": "db1b1f57",
   "metadata": {},
   "outputs": [],
   "source": []
  },
  {
   "cell_type": "markdown",
   "id": "f8498d1e",
   "metadata": {},
   "source": [
    "### Trips per day"
   ]
  },
  {
   "cell_type": "code",
   "execution_count": null,
   "id": "2ed418e8",
   "metadata": {},
   "outputs": [],
   "source": [
    "figure,(ax1,ax2)=plt.subplots(ncols=2,figsize=(20,5))\n",
    "\n",
    "ax1.set_title('Pickup Days')\n",
    "ax=sns.countplot(x=\"pickup_day\",data=df,ax=ax1)\n",
    "\n",
    "ax2.set_title('Dropoff Days')\n",
    "ax=sns.countplot(x=\"dropoff_day\",data=df,ax=ax2)"
   ]
  },
  {
   "cell_type": "markdown",
   "id": "449e60a5",
   "metadata": {},
   "source": [
    "- We see Fridays are the busiest days followed by Saturdays. That is probably because it’s weekend."
   ]
  },
  {
   "cell_type": "code",
   "execution_count": null,
   "id": "e18a3687",
   "metadata": {},
   "outputs": [],
   "source": []
  },
  {
   "cell_type": "markdown",
   "id": "7dc9b74f",
   "metadata": {},
   "source": [
    "### trips per hour"
   ]
  },
  {
   "cell_type": "code",
   "execution_count": null,
   "id": "000848a8",
   "metadata": {},
   "outputs": [],
   "source": [
    "figure,(ax9,ax10)=plt.subplots(ncols=2,figsize=(20,5))\n",
    "\n",
    "ax9.set_title('Pickup Days')\n",
    "ax=sns.countplot(x=\"pickup_hour\",data=df,ax=ax9)\n",
    "\n",
    "ax10.set_title('Dropoff Days')\n",
    "ax=sns.countplot(x=\"dropoff_hour\",data=df,ax=ax10)"
   ]
  },
  {
   "cell_type": "markdown",
   "id": "ce2588eb",
   "metadata": {},
   "source": [
    "- We see the busiest hours are 6:00 pm to 7:00 pm and that makes sense as this is the time when people return from their offices."
   ]
  },
  {
   "cell_type": "code",
   "execution_count": null,
   "id": "245201c4",
   "metadata": {},
   "outputs": [],
   "source": []
  },
  {
   "cell_type": "markdown",
   "id": "8c5391ca",
   "metadata": {},
   "source": [
    "### Trips per Time of Day"
   ]
  },
  {
   "cell_type": "code",
   "execution_count": null,
   "id": "4cc96e1e",
   "metadata": {},
   "outputs": [],
   "source": [
    "figure,(ax3,ax4)=plt.subplots(ncols=2,figsize=(20,5))\n",
    "\n",
    "ax3.set_title('Pickup Time of Day')\n",
    "ax=sns.countplot(x=\"pickup_timeofday\",data=df,ax=ax3)\n",
    "\n",
    "ax4.set_title('Dropoff Time of Day')\n",
    "ax=sns.countplot(x=\"dropoff_timeofday\",data=df,ax=ax4)"
   ]
  },
  {
   "cell_type": "markdown",
   "id": "03b57b0b",
   "metadata": {},
   "source": [
    "- As we saw above, evenings are the busiest."
   ]
  },
  {
   "cell_type": "code",
   "execution_count": null,
   "id": "c8b0b9e6",
   "metadata": {},
   "outputs": [],
   "source": []
  },
  {
   "cell_type": "markdown",
   "id": "bc0b7afc",
   "metadata": {},
   "source": [
    "### trips per month"
   ]
  },
  {
   "cell_type": "code",
   "execution_count": null,
   "id": "5a587b41",
   "metadata": {},
   "outputs": [],
   "source": [
    "figure,(ax11,ax12)=plt.subplots(ncols=2,figsize=(20,5))\n",
    "ax11.set_title('Pickup Month')\n",
    "ax=sns.countplot(x=\"pickup_month\",data=df,ax=ax11)\n",
    "ax12.set_title('Dropoff Month')\n",
    "ax=sns.countplot(x=\"dropoff_month\",data=df,ax=ax12)"
   ]
  },
  {
   "cell_type": "markdown",
   "id": "6491afc0",
   "metadata": {},
   "source": [
    "- There is not much difference in the number of trips across months."
   ]
  },
  {
   "cell_type": "code",
   "execution_count": null,
   "id": "18fc09d1",
   "metadata": {},
   "outputs": [],
   "source": []
  },
  {
   "cell_type": "code",
   "execution_count": null,
   "id": "29870c52",
   "metadata": {},
   "outputs": [],
   "source": []
  },
  {
   "cell_type": "markdown",
   "id": "a7fd4b27",
   "metadata": {},
   "source": [
    "### Bivariate Analysis\n",
    "\n",
    "- Bivariate Analysis involves finding relationships, patterns, and correlations between two variables.## "
   ]
  },
  {
   "cell_type": "code",
   "execution_count": null,
   "id": "0070f778",
   "metadata": {},
   "outputs": [],
   "source": []
  },
  {
   "cell_type": "markdown",
   "id": "c8c556cf",
   "metadata": {},
   "source": [
    "### Trip Duration per Vendor"
   ]
  },
  {
   "cell_type": "code",
   "execution_count": null,
   "id": "7141b828",
   "metadata": {},
   "outputs": [],
   "source": [
    "sns.barplot(y='trip_duration',x='VendorID',data=df,estimator=np.mean)"
   ]
  },
  {
   "cell_type": "markdown",
   "id": "ec610dc0",
   "metadata": {},
   "source": [
    "- Vendor id 2 takes longer trips as compared to vendor 1."
   ]
  },
  {
   "cell_type": "code",
   "execution_count": null,
   "id": "c655fcda",
   "metadata": {},
   "outputs": [],
   "source": []
  },
  {
   "cell_type": "markdown",
   "id": "22e2f2f7",
   "metadata": {},
   "source": [
    "### Trip Duration per Store and Forward Flag"
   ]
  },
  {
   "cell_type": "code",
   "execution_count": null,
   "id": "a5f06b2c",
   "metadata": {},
   "outputs": [],
   "source": [
    "sns.catplot(y='trip_duration',x='store_and_fwd_flag',data=df,kind=\"strip\")"
   ]
  },
  {
   "cell_type": "markdown",
   "id": "7d29c9d4",
   "metadata": {},
   "source": [
    "- Trip duration is generally longer for trips whose flag was not stored"
   ]
  },
  {
   "cell_type": "code",
   "execution_count": null,
   "id": "931d4865",
   "metadata": {},
   "outputs": [],
   "source": []
  },
  {
   "cell_type": "markdown",
   "id": "f8d8c5a8",
   "metadata": {},
   "source": [
    "### Trip Duration per passenger count"
   ]
  },
  {
   "cell_type": "code",
   "execution_count": null,
   "id": "59a2c0f1",
   "metadata": {},
   "outputs": [],
   "source": [
    "sns.catplot(y='trip_duration',x='passenger_count',data=df,kind=\"strip\")"
   ]
  },
  {
   "cell_type": "markdown",
   "id": "e1dfd7cf",
   "metadata": {},
   "source": [
    "- There is no visible relation between trip duration and passenger count."
   ]
  },
  {
   "cell_type": "code",
   "execution_count": null,
   "id": "487c2316",
   "metadata": {},
   "outputs": [],
   "source": []
  },
  {
   "cell_type": "markdown",
   "id": "5517255c",
   "metadata": {},
   "source": [
    "### Trip Duration per hour"
   ]
  },
  {
   "cell_type": "code",
   "execution_count": null,
   "id": "ca2db9f8",
   "metadata": {},
   "outputs": [],
   "source": [
    "sns.lineplot(x='pickup_hour',y='trip_duration',data=df)"
   ]
  },
  {
   "cell_type": "markdown",
   "id": "ef06afdb",
   "metadata": {},
   "source": [
    "- We see the trip duration is the maximum around 3 pm which may be because of traffic on the roads.\n",
    "\n",
    "- Trip duration is the lowest around 6 am as streets may not be busy."
   ]
  },
  {
   "cell_type": "code",
   "execution_count": null,
   "id": "b3d676ca",
   "metadata": {},
   "outputs": [],
   "source": []
  },
  {
   "cell_type": "markdown",
   "id": "1e7117a5",
   "metadata": {},
   "source": [
    "### Trip duration per time of day"
   ]
  },
  {
   "cell_type": "code",
   "execution_count": null,
   "id": "b9643e21",
   "metadata": {},
   "outputs": [],
   "source": [
    "sns.lineplot(x='pickup_timeofday',y='trip_duration',data=df)"
   ]
  },
  {
   "cell_type": "markdown",
   "id": "20c6fe8d",
   "metadata": {},
   "source": [
    "- As we saw above, trip duration is the maximum in the afternoon and lowest between late night and morning."
   ]
  },
  {
   "cell_type": "code",
   "execution_count": null,
   "id": "911b58f8",
   "metadata": {},
   "outputs": [],
   "source": []
  },
  {
   "cell_type": "markdown",
   "id": "8c32668b",
   "metadata": {},
   "source": [
    "### Trip duration per Day of Week"
   ]
  },
  {
   "cell_type": "code",
   "execution_count": null,
   "id": "2d70593c",
   "metadata": {},
   "outputs": [],
   "source": [
    "sns.lineplot(x='pickup_day_no',y='trip_duration',data=df)"
   ]
  },
  {
   "cell_type": "markdown",
   "id": "94166591",
   "metadata": {},
   "source": [
    "- Trip duration is the longest on Thursdays closely followed by Fridays"
   ]
  },
  {
   "cell_type": "code",
   "execution_count": null,
   "id": "4d7ea47d",
   "metadata": {},
   "outputs": [],
   "source": []
  },
  {
   "cell_type": "markdown",
   "id": "f108f6be",
   "metadata": {},
   "source": [
    "### Trip duration per month"
   ]
  },
  {
   "cell_type": "code",
   "execution_count": null,
   "id": "05105770",
   "metadata": {},
   "outputs": [],
   "source": [
    "sns.lineplot(x='pickup_month',y='trip_duration',data=df)"
   ]
  },
  {
   "cell_type": "markdown",
   "id": "11a156fe",
   "metadata": {},
   "source": [
    "- From February, we can see trip duration rising every month."
   ]
  },
  {
   "cell_type": "code",
   "execution_count": null,
   "id": "46f5be02",
   "metadata": {},
   "outputs": [],
   "source": []
  },
  {
   "cell_type": "markdown",
   "id": "dae0f949",
   "metadata": {},
   "source": [
    "### Distance and Vendor"
   ]
  },
  {
   "cell_type": "code",
   "execution_count": null,
   "id": "4b26a111",
   "metadata": {},
   "outputs": [],
   "source": [
    "sns.barplot(y='trip_distance',x='VendorID',data=df,estimator=np.mean)"
   ]
  },
  {
   "cell_type": "markdown",
   "id": "01758940",
   "metadata": {},
   "source": [
    "- The distribution for both vendors is very similar."
   ]
  },
  {
   "cell_type": "code",
   "execution_count": null,
   "id": "42f4c85d",
   "metadata": {},
   "outputs": [],
   "source": []
  },
  {
   "cell_type": "markdown",
   "id": "ec70a9a6",
   "metadata": {},
   "source": [
    "### Distance and Store and Forward Flag"
   ]
  },
  {
   "cell_type": "code",
   "execution_count": null,
   "id": "384b72a9",
   "metadata": {},
   "outputs": [],
   "source": [
    "sns.catplot(y='trip_distance',x='store_and_fwd_flag',data=df,kind=\"strip\")"
   ]
  },
  {
   "cell_type": "markdown",
   "id": "e2f0de6d",
   "metadata": {},
   "source": [
    "- We see for longer distances the trip is not stored."
   ]
  },
  {
   "cell_type": "code",
   "execution_count": null,
   "id": "700a48a8",
   "metadata": {},
   "outputs": [],
   "source": []
  },
  {
   "cell_type": "markdown",
   "id": "7bc5d310",
   "metadata": {},
   "source": [
    "### Distance per passenger count"
   ]
  },
  {
   "cell_type": "code",
   "execution_count": null,
   "id": "c9f9c68e",
   "metadata": {},
   "outputs": [],
   "source": [
    "sns.catplot(y='trip_distance',x='passenger_count',data=df,kind=\"strip\")"
   ]
  },
  {
   "cell_type": "markdown",
   "id": "7afaddad",
   "metadata": {},
   "source": [
    "- We see some of the longer distances are covered by either 1 or 2 or 4 passenger rides"
   ]
  },
  {
   "cell_type": "code",
   "execution_count": null,
   "id": "22301d70",
   "metadata": {},
   "outputs": [],
   "source": []
  },
  {
   "cell_type": "markdown",
   "id": "99662c20",
   "metadata": {},
   "source": [
    "### Distance per day of week"
   ]
  },
  {
   "cell_type": "code",
   "execution_count": null,
   "id": "171f4098",
   "metadata": {},
   "outputs": [],
   "source": [
    "sns.lineplot(x='pickup_day_no',y='trip_distance',data=df)"
   ]
  },
  {
   "cell_type": "markdown",
   "id": "2cd91bb5",
   "metadata": {},
   "source": [
    "- Distances are longer on Sundays probably because it’s weekend.\n",
    "- Monday trip distances are also quite high.\n",
    "- This probably means that there can be outstation trips on these days and/or the streets are busier."
   ]
  },
  {
   "cell_type": "code",
   "execution_count": null,
   "id": "ade0cdba",
   "metadata": {},
   "outputs": [],
   "source": []
  },
  {
   "cell_type": "markdown",
   "id": "5cae9e22",
   "metadata": {},
   "source": [
    "### Distance per hour of day"
   ]
  },
  {
   "cell_type": "code",
   "execution_count": null,
   "id": "59ed155f",
   "metadata": {},
   "outputs": [],
   "source": [
    "sns.lineplot(x='pickup_hour',y='trip_distance',data=df)"
   ]
  },
  {
   "cell_type": "markdown",
   "id": "d85fda3d",
   "metadata": {},
   "source": [
    "- Distances are the longest around 5 am."
   ]
  },
  {
   "cell_type": "code",
   "execution_count": null,
   "id": "090892fb",
   "metadata": {},
   "outputs": [],
   "source": []
  },
  {
   "cell_type": "markdown",
   "id": "8719f1e8",
   "metadata": {},
   "source": [
    "### Distance per time of day"
   ]
  },
  {
   "cell_type": "code",
   "execution_count": null,
   "id": "fd7d7414",
   "metadata": {},
   "outputs": [],
   "source": [
    "sns.lineplot(x='pickup_timeofday',y='trip_distance',data=df)"
   ]
  },
  {
   "cell_type": "markdown",
   "id": "815341ca",
   "metadata": {},
   "source": [
    "- As seen above also, distances being the longest during late night or it maybe called as early morning too.\n",
    "- This can probably point to outstation trips where people start early for the day."
   ]
  },
  {
   "cell_type": "code",
   "execution_count": null,
   "id": "f84d2128",
   "metadata": {},
   "outputs": [],
   "source": []
  },
  {
   "cell_type": "markdown",
   "id": "8873d25b",
   "metadata": {},
   "source": [
    "### Distance per month"
   ]
  },
  {
   "cell_type": "code",
   "execution_count": null,
   "id": "bed97975",
   "metadata": {},
   "outputs": [],
   "source": [
    "sns.lineplot(x='pickup_month',y='trip_distance',data=df)"
   ]
  },
  {
   "cell_type": "markdown",
   "id": "82a3b5f3",
   "metadata": {},
   "source": [
    "- As we also saw during trip duration per month, similarly trip distance is the lowest in February and the maximum in June"
   ]
  },
  {
   "cell_type": "code",
   "execution_count": null,
   "id": "d8339a42",
   "metadata": {},
   "outputs": [],
   "source": []
  },
  {
   "cell_type": "markdown",
   "id": "fb60696e",
   "metadata": {},
   "source": [
    "### Passenger Count and Vendor id"
   ]
  },
  {
   "cell_type": "code",
   "execution_count": null,
   "id": "76c4d7f3",
   "metadata": {},
   "outputs": [],
   "source": [
    "sns.barplot(y='passenger_count',x='VendorID',data=df)"
   ]
  },
  {
   "cell_type": "markdown",
   "id": "4c100ac8",
   "metadata": {},
   "source": [
    "- This shows that vendor 2 generally carries 2 passengers while vendor 1 carries 1 passenger rides."
   ]
  },
  {
   "cell_type": "code",
   "execution_count": null,
   "id": "73b0ee15",
   "metadata": {},
   "outputs": [],
   "source": []
  },
  {
   "cell_type": "markdown",
   "id": "5bf028db",
   "metadata": {},
   "source": [
    "### Trip Duration and Distance"
   ]
  },
  {
   "cell_type": "code",
   "execution_count": null,
   "id": "2650a5ff",
   "metadata": {},
   "outputs": [],
   "source": [
    "sns.relplot(y=df.trip_distance,x='trip_duration',data=df)"
   ]
  },
  {
   "cell_type": "markdown",
   "id": "98c434a7",
   "metadata": {},
   "source": [
    "- We can see there are trips which trip duration as short as 0 seconds and yet covering a large distance. And, trips with 0 km distance and long trip durations."
   ]
  },
  {
   "cell_type": "code",
   "execution_count": null,
   "id": "af821e58",
   "metadata": {},
   "outputs": [],
   "source": [
    "df[df.trip_distance==0].head()"
   ]
  },
  {
   "cell_type": "code",
   "execution_count": null,
   "id": "82bbd556",
   "metadata": {},
   "outputs": [],
   "source": [
    "df[df.trip_distance==0].tail()"
   ]
  },
  {
   "cell_type": "markdown",
   "id": "b3131f48",
   "metadata": {},
   "source": [
    "- We can see even though distance is recorded as 0 but trip duration is definitely more.\n",
    "    - One reason can be that the dropoff coordinates weren’t recorded.\n",
    "    - Another reason one can think is that for short trip durations, maybe the passenger changed their mind and cancelled the ride after some time."
   ]
  },
  {
   "cell_type": "markdown",
   "id": "93967a7b",
   "metadata": {},
   "source": []
  },
  {
   "cell_type": "code",
   "execution_count": null,
   "id": "36194f1d",
   "metadata": {},
   "outputs": [],
   "source": []
  },
  {
   "cell_type": "markdown",
   "id": "940df477",
   "metadata": {},
   "source": []
  },
  {
   "cell_type": "code",
   "execution_count": null,
   "id": "be75929b",
   "metadata": {},
   "outputs": [],
   "source": []
  },
  {
   "cell_type": "code",
   "execution_count": null,
   "id": "57b0f014",
   "metadata": {},
   "outputs": [],
   "source": []
  },
  {
   "cell_type": "markdown",
   "id": "f63b67df",
   "metadata": {},
   "source": [
    "### Data Visualization"
   ]
  },
  {
   "cell_type": "code",
   "execution_count": null,
   "id": "d5d48fc6",
   "metadata": {},
   "outputs": [],
   "source": []
  },
  {
   "cell_type": "markdown",
   "id": "6b413966",
   "metadata": {},
   "source": [
    "The next step is to get insight to data.\n",
    "\n",
    "Remove any noisy or outlier data and understand data distribution"
   ]
  },
  {
   "cell_type": "code",
   "execution_count": null,
   "id": "2b88e598",
   "metadata": {},
   "outputs": [],
   "source": [
    "df.columns"
   ]
  },
  {
   "cell_type": "markdown",
   "id": "bf18113c",
   "metadata": {},
   "source": [
    "#### distance travelled by hour by days"
   ]
  },
  {
   "cell_type": "code",
   "execution_count": null,
   "id": "fa357cdf",
   "metadata": {},
   "outputs": [],
   "source": [
    "sns.set(font_scale=1.3)\n",
    "g = sns.factorplot('pickup_hour', \n",
    "                   'haversine_distance', \n",
    "                   hue = 'pickup_day', \n",
    "                   estimator = np.mean, \n",
    "                   data = df, \n",
    "                   size = 8, \n",
    "                   aspect = 2, \n",
    "                    ci=None,\n",
    "                   legend_out=False)\n",
    "plt.title('Average Duration by Hour of Day and Day of Week \\n',weight='bold', size = 20)\n",
    "plt.xlabel('start hour', size = 18,weight = 'bold')\n",
    "plt.ylabel('distance', size = 18,weight = 'bold')\n",
    "g.set_xticklabels(rotation=60)"
   ]
  },
  {
   "cell_type": "code",
   "execution_count": null,
   "id": "8bdfa742",
   "metadata": {},
   "outputs": [],
   "source": []
  },
  {
   "cell_type": "markdown",
   "id": "b75f535a",
   "metadata": {},
   "source": [
    "####  count of trip per year, per month, per weekdays, per hour"
   ]
  },
  {
   "cell_type": "code",
   "execution_count": null,
   "id": "14e2f927",
   "metadata": {},
   "outputs": [],
   "source": [
    "plt.figure(figsize=(12,8))\n",
    "plt.subplot(2,2,1)\n",
    "sns.countplot(y='pickup_year', data=df)\n",
    "plt.subplot(2,2,2)\n",
    "sns.countplot(x='pickup_month', data=df,palette='Set3')\n",
    "plt.subplot(2,2,3)\n",
    "sns.countplot(x='pickup_hour', data=df,palette='Set2')\n",
    "plt.subplot(2,2,4)\n",
    "sns.countplot(y='pickup_day', data=df)\n",
    "\n",
    "plt.show()"
   ]
  },
  {
   "cell_type": "code",
   "execution_count": null,
   "id": "6ac9e163",
   "metadata": {},
   "outputs": [],
   "source": []
  },
  {
   "cell_type": "markdown",
   "id": "74034c9a",
   "metadata": {},
   "source": [
    "####  count as per mid night trip, per rush hour trip, per passenger count, per snow season"
   ]
  },
  {
   "cell_type": "code",
   "execution_count": null,
   "id": "97612cac",
   "metadata": {},
   "outputs": [],
   "source": [
    "plt.figure(figsize=(12,8))\n",
    "\n",
    "plt.subplot(2,2,1)\n",
    "sns.countplot(y='mid_night_trip', data=df,palette='Set1')\n",
    "\n",
    "plt.subplot(2,2,2)\n",
    "sns.countplot(x='rush_hour_trip', data=df,palette='Set2')\n",
    "\n",
    "plt.subplot(2,2,3)\n",
    "sns.countplot(x='passenger_count', data=df,palette='Set3')\n",
    "\n",
    "plt.subplot(2,2,4)\n",
    "sns.countplot(x='snow_season', data=df)\n",
    "\n",
    "plt.show()"
   ]
  },
  {
   "cell_type": "code",
   "execution_count": null,
   "id": "5473184d",
   "metadata": {},
   "outputs": [],
   "source": []
  },
  {
   "cell_type": "markdown",
   "id": "1a742d24",
   "metadata": {},
   "source": [
    "####  count as per pick weekday and as per airport trip"
   ]
  },
  {
   "cell_type": "code",
   "execution_count": null,
   "id": "1f71245e",
   "metadata": {
    "scrolled": true
   },
   "outputs": [],
   "source": [
    "plt.figure(figsize=(12,8))\n",
    "\n",
    "plt.subplot(2,2,1)\n",
    "sns.countplot(x='pickup_day',data=df,palette='Set3')\n",
    "\n",
    "plt.subplot(2,2,2)\n",
    "sns.countplot(x='isAirportTrip',data=df,palette='Set2')"
   ]
  },
  {
   "cell_type": "code",
   "execution_count": null,
   "id": "aee9b084",
   "metadata": {},
   "outputs": [],
   "source": []
  },
  {
   "cell_type": "markdown",
   "id": "849de97c",
   "metadata": {},
   "source": [
    "####  Pickup Location Count Plot as per region"
   ]
  },
  {
   "cell_type": "code",
   "execution_count": null,
   "id": "7bd9c53b",
   "metadata": {},
   "outputs": [],
   "source": [
    "plt.figure(figsize=(16,7))\n",
    "plt.subplot(2,3,1)\n",
    "sns.countplot(x='pickup_jfk',data=df)\n",
    "plt.subplot(2,3,2)\n",
    "sns.countplot(x='pickup_manhattan',data=df)\n",
    "plt.subplot(2,3,3)\n",
    "sns.countplot(x='pickup_bronx',data=df)\n",
    "plt.subplot(2,3,4)\n",
    "sns.countplot(x='pickup_brooklyn',data=df)\n",
    "plt.subplot(2,3,5)\n",
    "sns.countplot(x='pickup_laGuardia',data=df)\n",
    "# plt.show()"
   ]
  },
  {
   "cell_type": "code",
   "execution_count": null,
   "id": "f6da2b0f",
   "metadata": {},
   "outputs": [],
   "source": []
  },
  {
   "cell_type": "markdown",
   "id": "fd9a4edb",
   "metadata": {},
   "source": [
    "####  Drop Location Count Plot as per region"
   ]
  },
  {
   "cell_type": "code",
   "execution_count": null,
   "id": "ed4c8a17",
   "metadata": {},
   "outputs": [],
   "source": [
    "plt.figure(figsize=(16,7))\n",
    "plt.subplot(2,3,1)\n",
    "sns.countplot(x='drop_jfk',data=df)\n",
    "plt.subplot(2,3,2)\n",
    "sns.countplot(x='drop_manhattan',data=df)\n",
    "plt.subplot(2,3,3)\n",
    "sns.countplot(x='drop_bronx',data=df)\n",
    "plt.subplot(2,3,4)\n",
    "sns.countplot(x='drop_brooklyn',data=df)\n",
    "plt.subplot(2,3,5)\n",
    "sns.countplot(x='drop_laGuardia',data=df)\n",
    "plt.show()"
   ]
  },
  {
   "cell_type": "code",
   "execution_count": null,
   "id": "73e941c6",
   "metadata": {},
   "outputs": [],
   "source": []
  },
  {
   "cell_type": "markdown",
   "id": "53c829df",
   "metadata": {},
   "source": [
    "####  Fare amount vs Trip distance"
   ]
  },
  {
   "cell_type": "code",
   "execution_count": null,
   "id": "ad8bde5b",
   "metadata": {},
   "outputs": [],
   "source": [
    "plt.figure(figsize=(8,8))\n",
    "\n",
    "# fare amount density\n",
    "plt.subplot(2,2,1)\n",
    "sns.distplot(df['fare_amount'],kde=True)\n",
    "\n",
    "# trip distance density \n",
    "plt.subplot(2,2,2)\n",
    "sns.distplot(df['trip_distance'],kde=True)\n",
    "\n",
    "# fare amount vs trip distance\n",
    "df.plot(x='fare_amount',y='trip_distance',kind='scatter')"
   ]
  },
  {
   "cell_type": "code",
   "execution_count": null,
   "id": "a9e03873",
   "metadata": {},
   "outputs": [],
   "source": []
  },
  {
   "cell_type": "markdown",
   "id": "e707253e",
   "metadata": {},
   "source": [
    "####  cancel ride desnity"
   ]
  },
  {
   "cell_type": "code",
   "execution_count": null,
   "id": "991aa680",
   "metadata": {},
   "outputs": [],
   "source": [
    "cancel_ride=df[(df['fare_amount']>=0) & (df['passenger_count']==0)]\n",
    "sns.distplot(cancel_ride['fare_amount'],kde=True)"
   ]
  },
  {
   "cell_type": "code",
   "execution_count": null,
   "id": "5c3669a9",
   "metadata": {},
   "outputs": [],
   "source": []
  },
  {
   "cell_type": "markdown",
   "id": "89ad31b5",
   "metadata": {},
   "source": [
    "####  log of fare amount vs density "
   ]
  },
  {
   "cell_type": "code",
   "execution_count": null,
   "id": "7a4561be",
   "metadata": {},
   "outputs": [],
   "source": [
    "sns.distplot(np.log(df['fare_amount']),kde=True)"
   ]
  },
  {
   "cell_type": "code",
   "execution_count": null,
   "id": "7ad25246",
   "metadata": {},
   "outputs": [],
   "source": []
  },
  {
   "cell_type": "markdown",
   "id": "e256c27a",
   "metadata": {},
   "source": [
    "####  Airport vs Non Aiport Trip Fare Distributinon"
   ]
  },
  {
   "cell_type": "code",
   "execution_count": null,
   "id": "6fba6262",
   "metadata": {},
   "outputs": [],
   "source": [
    "df_airport=df[df['isAirportTrip']==1]\n",
    "df_non_airport=df[df['isAirportTrip']==0]\n",
    "\n",
    "fig = plt.figure(figsize=(6,4))\n",
    "sns.distplot(df_airport['fare_amount'],kde=True,color=\"y\")\n",
    "sns.distplot(df_non_airport['fare_amount'],kde=True)\n",
    "fig.legend(labels=['Airport Fare','Non Airport Fare'])\n",
    "plt.show()"
   ]
  },
  {
   "cell_type": "code",
   "execution_count": null,
   "id": "5a200fe3",
   "metadata": {},
   "outputs": [],
   "source": []
  },
  {
   "cell_type": "markdown",
   "id": "59fdc11e",
   "metadata": {},
   "source": [
    "####  Different Area Fare Distribution"
   ]
  },
  {
   "cell_type": "code",
   "execution_count": null,
   "id": "db8292a2",
   "metadata": {},
   "outputs": [],
   "source": [
    "df_manhattan=df[(df['pickup_manhattan']==1) | (df['drop_manhattan']==1)]\n",
    "df_jfk=df[(df['pickup_jfk']==1) | (df['drop_jfk']==1)]\n",
    "df_bronx=df[(df['pickup_bronx']==1) | (df['drop_bronx']==1)]\n",
    "df_brooklyn=df[(df['pickup_brooklyn']==1) | (df['drop_brooklyn']==1)]\n",
    "df_LGD=df[(df['pickup_laGuardia']==1) | (df['drop_laGuardia']==1)]"
   ]
  },
  {
   "cell_type": "code",
   "execution_count": null,
   "id": "32a93c5b",
   "metadata": {},
   "outputs": [],
   "source": [
    "fig = plt.figure(figsize=(6,4))\n",
    "\n",
    "sns.distplot(df_manhattan['fare_amount'],kde=True)\n",
    "sns.distplot(df_jfk['fare_amount'],kde=True)\n",
    "sns.distplot(df_bronx['fare_amount'],kde=True)\n",
    "sns.distplot(df_brooklyn['fare_amount'],kde=True)\n",
    "sns.distplot(df_LGD['fare_amount'],kde=True)\n",
    "fig.legend(labels=['Manhattan Fare','JFK Fare','Bronx Fare','Brooklyn Fare','LaGuardia Fare'])\n",
    "plt.show()"
   ]
  },
  {
   "cell_type": "code",
   "execution_count": null,
   "id": "7cfab46a",
   "metadata": {},
   "outputs": [],
   "source": []
  },
  {
   "cell_type": "markdown",
   "id": "c380c663",
   "metadata": {},
   "source": [
    "####  Fare Distribution of Manhattan"
   ]
  },
  {
   "cell_type": "code",
   "execution_count": null,
   "id": "54b2d20b",
   "metadata": {},
   "outputs": [],
   "source": [
    "df_man=df[ (df['pickup_manhattan'] ==1) & (df['drop_manhattan'] ==1)]\n",
    "sns.distplot(df_man['fare_amount'],kde=True)"
   ]
  },
  {
   "cell_type": "code",
   "execution_count": null,
   "id": "f5db0950",
   "metadata": {},
   "outputs": [],
   "source": [
    "df_man['fare_amount'].sum()/df_man.shape[0]\n",
    "df=df[~((df['pickup_manhattan'] ==1) & (df['drop_manhattan'] ==1) & (df['fare_amount'] > 20))]"
   ]
  },
  {
   "cell_type": "code",
   "execution_count": null,
   "id": "d20707d3",
   "metadata": {},
   "outputs": [],
   "source": []
  },
  {
   "cell_type": "markdown",
   "id": "291bf631",
   "metadata": {},
   "source": [
    "####  Fare Distribution at Different Time Zone"
   ]
  },
  {
   "cell_type": "code",
   "execution_count": null,
   "id": "d6fe84d5",
   "metadata": {},
   "outputs": [],
   "source": [
    "df_snow=df[df['snow_season']==1]\n",
    "df_non_snow=df[df['snow_season']==0]\n",
    "\n",
    "fig = plt.figure(figsize=(7,6))\n",
    "ax=plt.subplot(2,2,1)\n",
    "sns.distplot(np.log(df_snow['fare_amount']),ax=ax)\n",
    "sns.distplot(np.log(df_non_snow['fare_amount']),ax=ax)\n",
    "\n",
    "\n",
    "df_mid=df[df['mid_night_trip']==1]\n",
    "df_non_mid=df[df['mid_night_trip']==0]\n",
    "ax=plt.subplot(2,2,2)\n",
    "sns.distplot(np.log(df_mid['fare_amount']),ax=ax)\n",
    "sns.distplot(np.log(df_non_mid['fare_amount']),ax=ax)\n",
    "\n",
    "df_rush_hour=df[df['rush_hour_trip']==1]\n",
    "df_non_rush_hour=df[df['rush_hour_trip']==0]\n",
    "ax=plt.subplot(2,2,3)\n",
    "sns.distplot(np.log(df_rush_hour['fare_amount']),ax=ax)\n",
    "sns.distplot(np.log(df_non_rush_hour['fare_amount']),ax=ax)"
   ]
  },
  {
   "cell_type": "code",
   "execution_count": null,
   "id": "5871b15b",
   "metadata": {},
   "outputs": [],
   "source": []
  },
  {
   "cell_type": "code",
   "execution_count": null,
   "id": "e9b8be7b",
   "metadata": {},
   "outputs": [],
   "source": []
  },
  {
   "cell_type": "markdown",
   "id": "771b29a9",
   "metadata": {},
   "source": [
    "### Correlation"
   ]
  },
  {
   "cell_type": "markdown",
   "id": "fa66ec48",
   "metadata": {},
   "source": [
    "- corr() is used for correlation"
   ]
  },
  {
   "cell_type": "code",
   "execution_count": null,
   "id": "fb45226b",
   "metadata": {},
   "outputs": [],
   "source": [
    "df.corr()"
   ]
  },
  {
   "cell_type": "markdown",
   "id": "54f0886f",
   "metadata": {},
   "source": [
    "- heatmap to look for variable dependencies"
   ]
  },
  {
   "cell_type": "code",
   "execution_count": null,
   "id": "b47998b7",
   "metadata": {},
   "outputs": [],
   "source": [
    "sns.heatmap(df.corr())"
   ]
  },
  {
   "cell_type": "markdown",
   "id": "fda19c76",
   "metadata": {},
   "source": [
    "- shows all columns"
   ]
  },
  {
   "cell_type": "code",
   "execution_count": null,
   "id": "877bd614",
   "metadata": {},
   "outputs": [],
   "source": [
    "df.columns"
   ]
  },
  {
   "cell_type": "markdown",
   "id": "b89239d5",
   "metadata": {},
   "source": [
    "- show number of records and number of columns "
   ]
  },
  {
   "cell_type": "code",
   "execution_count": null,
   "id": "91289050",
   "metadata": {},
   "outputs": [],
   "source": [
    "df.shape"
   ]
  },
  {
   "cell_type": "code",
   "execution_count": null,
   "id": "45cf3e09",
   "metadata": {},
   "outputs": [],
   "source": [
    "df.info()"
   ]
  },
  {
   "cell_type": "code",
   "execution_count": null,
   "id": "03df2828",
   "metadata": {},
   "outputs": [],
   "source": []
  },
  {
   "cell_type": "markdown",
   "id": "5f97085f",
   "metadata": {},
   "source": [
    "### PCA"
   ]
  },
  {
   "cell_type": "markdown",
   "id": "bf37a4b8",
   "metadata": {},
   "source": []
  },
  {
   "cell_type": "code",
   "execution_count": null,
   "id": "edd688d0",
   "metadata": {},
   "outputs": [],
   "source": [
    "from sklearn.linear_model import LinearRegression\n",
    "from sklearn.metrics import r2_score\n",
    "\n",
    "# Profit is the dependent column\n",
    "y = df['total_amount']\n",
    "\n",
    "# start with nothing\n",
    "x_names = []\n",
    "\n",
    "# the previous r2\n",
    "previous_r2 = -1\n",
    "\n",
    "# list of all columns\n",
    "columns = ['VendorID', 'passenger_count',\n",
    "       'trip_distance', 'RatecodeID', 'PULocationID',\n",
    "       'DOLocationID', 'payment_type', 'fare_amount', 'extra', 'mta_tax',\n",
    "       'tip_amount', 'tolls_amount', 'improvement_surcharge', 'total_amount',\n",
    "       'congestion_surcharge', 'pickup_latitude',\n",
    "       'pickup_longitude', 'dropoff_latitude',\n",
    "       'dropoff_longitude', 'pickup_day', 'dropoff_day', 'pickup_day_no',\n",
    "       'dropoff_day_no', 'pickup_hour', 'dropoff_hour', 'pickup_month',\n",
    "       'dropoff_month', 'pickup_year', 'dropoff_year', 'trip_duration',\n",
    "       'mid_night_trip',\n",
    "       'rush_hour_trip', 'snow_season', 'distance_lib', 'haversine_distance',\n",
    "       'pickup_manhattan', 'pickup_jfk', 'pickup_brooklyn', 'pickup_bronx',\n",
    "       'pickup_laGuardia', 'drop_manhattan', 'drop_jfk', 'drop_brooklyn',\n",
    "       'drop_bronx', 'drop_laGuardia', 'isAirportTrip']\n",
    "\n",
    "# choose one col at a time and check its significance\n",
    "for col in columns:\n",
    "    \n",
    "    # this will hold all the variables need to pass to the model\n",
    "    temp_variables = []\n",
    "    \n",
    "    # add previously selected variable(s)\n",
    "    temp_variables.extend(x_names)\n",
    "    \n",
    "    # add the current column\n",
    "    temp_variables.append(col)\n",
    "    \n",
    "    print(f\"selected columns {temp_variables}\")\n",
    "    \n",
    "    # get all the variables in the form of a df\n",
    "    x = df[temp_variables]\n",
    "    \n",
    "    # create model \n",
    "    model = LinearRegression()\n",
    "    \n",
    "    # train the model\n",
    "    model.fit(x, y)\n",
    "    \n",
    "    # predict the values\n",
    "    predictions = model.predict(x)\n",
    "    \n",
    "    # evaluate the model\n",
    "    r2 = r2_score(y, predictions)\n",
    "\n",
    "    print(f\"previous r2 = {previous_r2}, current r2 = {r2}\")\n",
    "    \n",
    "    # check if this is the first variable\n",
    "    if previous_r2 == -1:\n",
    "        previous_r2 = r2\n",
    "        x_names.append(col)\n",
    "        print(rf\"since this is the first column, add ({col}) it to the list\")\n",
    "    else:\n",
    "        # check if this r2 is greater than the previous one\n",
    "        # if r2 > previous_r2:\n",
    "        \n",
    "        # check if the r2 difference is significant\n",
    "        print(f\"r2 - previous_r2 = {r2 - previous_r2}\")\n",
    "        if (r2 - previous_r2) >= 0.05:\n",
    "            previous_r2 = r2\n",
    "            x_names.append(col)\n",
    "            print(f\"found col: {col} increasing the r2 score\")\n",
    "        \n",
    "        \n",
    "print(f\"finally selected columns = {x_names}\")"
   ]
  },
  {
   "cell_type": "code",
   "execution_count": null,
   "id": "7a11559b",
   "metadata": {},
   "outputs": [],
   "source": []
  },
  {
   "cell_type": "code",
   "execution_count": null,
   "id": "95c90227",
   "metadata": {},
   "outputs": [],
   "source": []
  },
  {
   "cell_type": "markdown",
   "id": "43178391",
   "metadata": {},
   "source": [
    "### Separate the independent and dependent relationship"
   ]
  },
  {
   "cell_type": "markdown",
   "id": "7b7c1b56",
   "metadata": {},
   "source": [
    "- independent variables"
   ]
  },
  {
   "cell_type": "code",
   "execution_count": null,
   "id": "200be2fd",
   "metadata": {},
   "outputs": [],
   "source": [
    "x = df.drop(['pickup_datetime', 'dropoff_datetime', 'passenger_count',\n",
    "       'RatecodeID', 'store_and_fwd_flag', 'PULocationID',\n",
    "       'DOLocationID', 'payment_type', 'fare_amount', 'extra', 'mta_tax',\n",
    "       'tip_amount', 'tolls_amount', 'improvement_surcharge',\n",
    "       'congestion_surcharge', 'PU_zone', 'PU_borough', 'pickup_latitude',\n",
    "       'pickup_longitude', 'DO_zone', 'DO_borough', 'dropoff_latitude',\n",
    "       'dropoff_longitude', 'pickup_day', 'dropoff_day', 'pickup_day_no',\n",
    "       'dropoff_day_no', 'pickup_hour', 'dropoff_hour', 'pickup_month',\n",
    "       'dropoff_month', 'pickup_year', 'dropoff_year', 'trip_duration',\n",
    "       'pickup_timeofday', 'dropoff_timeofday', 'mid_night_trip',\n",
    "       'rush_hour_trip', 'snow_season', 'distance_lib', 'haversine_distance',\n",
    "       'pickup_manhattan', 'pickup_jfk', 'pickup_brooklyn', 'pickup_bronx',\n",
    "       'pickup_laGuardia', 'drop_manhattan', 'drop_jfk', 'drop_brooklyn',\n",
    "       'drop_bronx', 'drop_laGuardia', 'isAirportTrip', 'total_amount'], axis=1).values"
   ]
  },
  {
   "cell_type": "code",
   "execution_count": null,
   "id": "f4045653",
   "metadata": {},
   "outputs": [],
   "source": [
    "x"
   ]
  },
  {
   "cell_type": "markdown",
   "id": "c22a7995",
   "metadata": {},
   "source": [
    "- dependent variable"
   ]
  },
  {
   "cell_type": "code",
   "execution_count": null,
   "id": "47086844",
   "metadata": {},
   "outputs": [],
   "source": [
    "y = df['total_amount']"
   ]
  },
  {
   "cell_type": "code",
   "execution_count": null,
   "id": "8186d1ca",
   "metadata": {},
   "outputs": [],
   "source": [
    "y"
   ]
  },
  {
   "cell_type": "code",
   "execution_count": null,
   "id": "f4aa5695",
   "metadata": {},
   "outputs": [],
   "source": []
  },
  {
   "cell_type": "markdown",
   "id": "7df47597",
   "metadata": {},
   "source": [
    "## LINEAR REGRESSION"
   ]
  },
  {
   "cell_type": "markdown",
   "id": "767c7f24",
   "metadata": {},
   "source": [
    "#### Split the data into train and tests sets"
   ]
  },
  {
   "cell_type": "code",
   "execution_count": null,
   "id": "d2eba595",
   "metadata": {},
   "outputs": [],
   "source": [
    "from sklearn.model_selection import train_test_split\n",
    "x_train,x_test,y_train,y_test = train_test_split(x,y,train_size=0.8,test_size=0.2,random_state=864)"
   ]
  },
  {
   "cell_type": "markdown",
   "id": "b52dd67b",
   "metadata": {},
   "source": [
    "### Import linear regression algorithm from scikit"
   ]
  },
  {
   "cell_type": "code",
   "execution_count": null,
   "id": "5124318f",
   "metadata": {},
   "outputs": [],
   "source": [
    "from sklearn.linear_model import LinearRegression\n",
    "# creating model using LinearRegression algorithm\n",
    "model = LinearRegression()"
   ]
  },
  {
   "cell_type": "markdown",
   "id": "59065f82",
   "metadata": {},
   "source": [
    "### Creating Model"
   ]
  },
  {
   "cell_type": "code",
   "execution_count": null,
   "id": "fb1d0576",
   "metadata": {},
   "outputs": [],
   "source": [
    "# creating model \n",
    "model.fit(x_train,y_train)"
   ]
  },
  {
   "cell_type": "markdown",
   "id": "cbbe750c",
   "metadata": {},
   "source": [
    "### Testing the model"
   ]
  },
  {
   "cell_type": "code",
   "execution_count": null,
   "id": "94c10a2f",
   "metadata": {},
   "outputs": [],
   "source": [
    "# importing libraries from sklearn\n",
    "from sklearn.metrics import r2_score,mean_absolute_error,mean_squared_error\n",
    "\n",
    "# storing predicted values in predictions\n",
    "predictions=model.predict(x_test)\n",
    "\n",
    "# r2_score\n",
    "print(f\"r2_score : {r2_score(y_test,predictions)}\")\n",
    "print(f\"mean absolute error : {mean_absolute_error(y_test,predictions)}\")\n",
    "print(f\"mean squared error : {mean_squared_error(y_test,predictions)}\")"
   ]
  },
  {
   "cell_type": "code",
   "execution_count": null,
   "id": "2679501d",
   "metadata": {},
   "outputs": [],
   "source": [
    "import pickle\n",
    "\n",
    "# create the file to store the model\n",
    "# w: write\n",
    "# b: binary data\n",
    "file = open('taxi_fare_linear.pkl', 'wb')\n",
    "\n",
    "# store the model using pickle\n",
    "pickle.dump(model, file)\n",
    "\n",
    "# save the file\n",
    "file.close()"
   ]
  },
  {
   "cell_type": "code",
   "execution_count": null,
   "id": "dff31433",
   "metadata": {},
   "outputs": [],
   "source": []
  },
  {
   "cell_type": "markdown",
   "id": "9b88d950",
   "metadata": {},
   "source": [
    "## XG Boost"
   ]
  },
  {
   "cell_type": "markdown",
   "id": "05fe0563",
   "metadata": {},
   "source": [
    "#### SPlitting the dataset into training and testing sets"
   ]
  },
  {
   "cell_type": "code",
   "execution_count": null,
   "id": "5fe8bfc2",
   "metadata": {},
   "outputs": [],
   "source": [
    "from sklearn.model_selection import train_test_split\n",
    "x_train,x_test,y_train,y_test = train_test_split(x,y,train_size=0.8,test_size=0.2,random_state=563)"
   ]
  },
  {
   "cell_type": "markdown",
   "id": "752e8c55",
   "metadata": {},
   "source": [
    "#### Importing XGBoost algorithm from scikit"
   ]
  },
  {
   "cell_type": "code",
   "execution_count": null,
   "id": "0a0a5a4c",
   "metadata": {},
   "outputs": [],
   "source": [
    "from xgboost import XGBRegressor\n",
    "# creating model using LinearRegression algorithm\n",
    "model_2 = XGBRegressor()"
   ]
  },
  {
   "cell_type": "code",
   "execution_count": null,
   "id": "5c0edf4a",
   "metadata": {},
   "outputs": [],
   "source": [
    "model_2.get_params()"
   ]
  },
  {
   "cell_type": "code",
   "execution_count": null,
   "id": "f5992a2b",
   "metadata": {},
   "outputs": [],
   "source": [
    "# parameters = {'nthread':[4], #when use hyperthread, xgboost may become slower\n",
    "#               'objective':['reg:linear'],\n",
    "#               'learning_rate': [0.05, 0.10, 0.15, 0.20, 0.25, 0.30 ], #so called `eta` value\n",
    "#               'max_depth': [ 3, 4, 5, 6, 8, 10, 12, 15],\n",
    "#               'gamma' : [0.0, 0.1, 0.2 , 0.3, 0.4],\n",
    "#               'eta':[.03], \n",
    "#               'eval_metric':['rmse'],\n",
    "#               'min_child_weight': [1, 3, 5, 7],\n",
    "#               'silent': [1],\n",
    "#               'subsample': [0.7],\n",
    "#               'colsample_bytree': [0.3, 0.4, 0.5 , 0.7],\n",
    "#               'n_estimators': [786]}\n",
    "\n",
    "# paramters = {\n",
    "#      \"learning_rate\"    : [0.05, 0.10, 0.15, 0.20, 0.25, 0.30 ] ,\n",
    "#      \"max_depth\"        : [ 3, 4, 5, 6, 8, 10, 12],\n",
    "#      \"min_child_weight\" : [ 1, 3, 5, 7 ],\n",
    "#      \"gamma\"            : [ 0.0, 0.1, 0.2 , 0.3, 0.4 ],\n",
    "#      \"colsample_bytree\" : [ 0.3, 0.4, 0.5 , 0.7 ]\n",
    "# }"
   ]
  },
  {
   "cell_type": "code",
   "execution_count": null,
   "id": "69b78ca3",
   "metadata": {},
   "outputs": [],
   "source": [
    "# from sklearn.model_selection import GridSearchCV"
   ]
  },
  {
   "cell_type": "code",
   "execution_count": null,
   "id": "56c2f8cc",
   "metadata": {},
   "outputs": [],
   "source": [
    "# xgb_grid = GridSearchCV(model_2,\n",
    "#                         parameters,\n",
    "#                         cv = 2,\n",
    "#                         n_jobs = 5,\n",
    "#                         verbose=True)"
   ]
  },
  {
   "cell_type": "code",
   "execution_count": null,
   "id": "ae69ad50",
   "metadata": {},
   "outputs": [],
   "source": []
  },
  {
   "cell_type": "markdown",
   "id": "a77ba72a",
   "metadata": {},
   "source": [
    "#### Creating the model"
   ]
  },
  {
   "cell_type": "code",
   "execution_count": null,
   "id": "a4a58667",
   "metadata": {},
   "outputs": [],
   "source": [
    "# creating model \n",
    "model_2.fit(x_train,y_train)"
   ]
  },
  {
   "cell_type": "code",
   "execution_count": null,
   "id": "20119c6d",
   "metadata": {},
   "outputs": [],
   "source": [
    "# print(xgb_grid.best_score_)\n",
    "# print(xgb_grid.best_params_)"
   ]
  },
  {
   "cell_type": "markdown",
   "id": "ad38471d",
   "metadata": {},
   "source": [
    "#### Testing the model"
   ]
  },
  {
   "cell_type": "code",
   "execution_count": null,
   "id": "2ca8c9ed",
   "metadata": {},
   "outputs": [],
   "source": [
    "# importing libraries from sklearn\n",
    "from sklearn.metrics import r2_score,mean_absolute_error,mean_squared_error\n",
    "\n",
    "# storing predicted values in predictions\n",
    "predictions=model_2.predict(x_test)\n",
    "\n",
    "# r2_score\n",
    "print(f\"r2_score : {r2_score(y_test,predictions)}\")\n",
    "print(f\"mean absolute error : {mean_absolute_error(y_test,predictions)}\")\n",
    "print(f\"mean squared error : {mean_squared_error(y_test,predictions)}\")"
   ]
  },
  {
   "cell_type": "code",
   "execution_count": null,
   "id": "6205af8a",
   "metadata": {},
   "outputs": [],
   "source": [
    "import pickle\n",
    "\n",
    "# create the file to store the model\n",
    "# w: write\n",
    "# b: binary data\n",
    "file = open('taxi_fare_XG.pkl', 'wb')\n",
    "\n",
    "# store the model using pickle\n",
    "pickle.dump(model_2, file)\n",
    "\n",
    "# save the file\n",
    "file.close()"
   ]
  },
  {
   "cell_type": "code",
   "execution_count": null,
   "id": "322cb535",
   "metadata": {},
   "outputs": [],
   "source": []
  },
  {
   "cell_type": "markdown",
   "id": "88f771e7",
   "metadata": {},
   "source": [
    "## RANDOM FOREST"
   ]
  },
  {
   "cell_type": "markdown",
   "id": "626aca00",
   "metadata": {},
   "source": [
    "#### Splitting the dataset into training and testing sets"
   ]
  },
  {
   "cell_type": "code",
   "execution_count": null,
   "id": "c6438b18",
   "metadata": {},
   "outputs": [],
   "source": [
    "from sklearn.model_selection import train_test_split\n",
    "x_train,x_test,y_train,y_test = train_test_split(x,y,train_size=0.8,test_size=0.2,random_state=563)\n",
    "# 563"
   ]
  },
  {
   "cell_type": "markdown",
   "id": "88353f41",
   "metadata": {},
   "source": [
    "#### Importing random forest algorithm from scikit"
   ]
  },
  {
   "cell_type": "code",
   "execution_count": null,
   "id": "3571a1e3",
   "metadata": {},
   "outputs": [],
   "source": [
    "from sklearn.ensemble import RandomForestRegressor\n",
    "# creating model using Random Forest algorithm\n",
    "model_3 = RandomForestRegressor()"
   ]
  },
  {
   "cell_type": "code",
   "execution_count": null,
   "id": "78c38399",
   "metadata": {},
   "outputs": [],
   "source": [
    "model_3.get_params()"
   ]
  },
  {
   "cell_type": "code",
   "execution_count": null,
   "id": "6b7e9aad",
   "metadata": {},
   "outputs": [],
   "source": [
    "# parameters = {'nthread':[4], #when use hyperthread, xgboost may become slower\n",
    "#               'objective':['reg:linear'],\n",
    "#               'learning_rate': [.03, 0.05, .07], #so called `eta` value\n",
    "#               'max_depth': [5, 6, 7],\n",
    "#               'min_child_weight': [4],\n",
    "#               'silent': [1],\n",
    "#               'subsample': [0.7],\n",
    "#               'colsample_bytree': [0.7],\n",
    "#               'n_estimators': [500]}"
   ]
  },
  {
   "cell_type": "code",
   "execution_count": null,
   "id": "d44fff30",
   "metadata": {},
   "outputs": [],
   "source": [
    "# param_grid = { \n",
    "#     'n_estimators': [300, 500, 700],\n",
    "#     'max_features': ['auto', 'sqrt', 'log2'],\n",
    "#     'max_depth' : [4,5,6,7,8],\n",
    "# }"
   ]
  },
  {
   "cell_type": "code",
   "execution_count": null,
   "id": "661c5a92",
   "metadata": {},
   "outputs": [],
   "source": [
    "# from sklearn.model_selection import GridSearchCV"
   ]
  },
  {
   "cell_type": "code",
   "execution_count": null,
   "id": "7a854fd1",
   "metadata": {},
   "outputs": [],
   "source": [
    "# rf_grid = GridSearchCV(model_3,\n",
    "#                         param_grid,\n",
    "#                         cv = 2,\n",
    "#                         n_jobs = 5,\n",
    "#                         verbose=True)"
   ]
  },
  {
   "cell_type": "code",
   "execution_count": null,
   "id": "413f4359",
   "metadata": {},
   "outputs": [],
   "source": []
  },
  {
   "cell_type": "markdown",
   "id": "978102c6",
   "metadata": {},
   "source": [
    "#### creating the model"
   ]
  },
  {
   "cell_type": "code",
   "execution_count": null,
   "id": "37ef920b",
   "metadata": {},
   "outputs": [],
   "source": [
    "# creating model \n",
    "model_3.fit(x_train,y_train)"
   ]
  },
  {
   "cell_type": "code",
   "execution_count": null,
   "id": "82526426",
   "metadata": {},
   "outputs": [],
   "source": []
  },
  {
   "cell_type": "markdown",
   "id": "aa825302",
   "metadata": {},
   "source": [
    "### Testing the model"
   ]
  },
  {
   "cell_type": "code",
   "execution_count": null,
   "id": "1fa7c287",
   "metadata": {},
   "outputs": [],
   "source": [
    "# importing libraries from sklearn\n",
    "from sklearn.metrics import r2_score,mean_absolute_error,mean_squared_error\n",
    "\n",
    "# storing predicted values in predictions\n",
    "predictions=model_3.predict(x_test)\n",
    "\n",
    "# r2_score\n",
    "print(f\"r2_score            : {r2_score(y_test,predictions)}\")\n",
    "print(f\"mean absolute error : {mean_absolute_error(y_test,predictions)}\")\n",
    "print(f\"mean squared error  : {mean_squared_error(y_test,predictions)}\")"
   ]
  },
  {
   "cell_type": "code",
   "execution_count": null,
   "id": "c5e3426b",
   "metadata": {},
   "outputs": [],
   "source": [
    "value=np.array([2, 2.10])"
   ]
  },
  {
   "cell_type": "code",
   "execution_count": null,
   "id": "2fddca7a",
   "metadata": {},
   "outputs": [],
   "source": [
    "value"
   ]
  },
  {
   "cell_type": "code",
   "execution_count": null,
   "id": "c9875cd3",
   "metadata": {},
   "outputs": [],
   "source": [
    "model_3.predict([value])"
   ]
  },
  {
   "cell_type": "code",
   "execution_count": null,
   "id": "39ded4e7",
   "metadata": {},
   "outputs": [],
   "source": [
    "import pickle\n",
    "\n",
    "# create the file to store the model\n",
    "# w: write\n",
    "# b: binary data\n",
    "file = open('taxi_fare_RANDOM.pkl', 'wb')\n",
    "\n",
    "# store the model using pickle\n",
    "pickle.dump(model_3, file)\n",
    "\n",
    "# save the file\n",
    "file.close()"
   ]
  },
  {
   "cell_type": "code",
   "execution_count": null,
   "id": "10167c00",
   "metadata": {},
   "outputs": [],
   "source": []
  },
  {
   "cell_type": "code",
   "execution_count": null,
   "id": "9ae6a874",
   "metadata": {},
   "outputs": [],
   "source": []
  },
  {
   "cell_type": "code",
   "execution_count": null,
   "id": "1cde535d",
   "metadata": {},
   "outputs": [],
   "source": []
  },
  {
   "cell_type": "code",
   "execution_count": null,
   "id": "ac583317",
   "metadata": {},
   "outputs": [],
   "source": []
  },
  {
   "cell_type": "code",
   "execution_count": null,
   "id": "5ace8c5d",
   "metadata": {},
   "outputs": [],
   "source": []
  }
 ],
 "metadata": {
  "kernelspec": {
   "display_name": "Python 3 (ipykernel)",
   "language": "python",
   "name": "python3"
  },
  "language_info": {
   "codemirror_mode": {
    "name": "ipython",
    "version": 3
   },
   "file_extension": ".py",
   "mimetype": "text/x-python",
   "name": "python",
   "nbconvert_exporter": "python",
   "pygments_lexer": "ipython3",
   "version": "3.9.7"
  }
 },
 "nbformat": 4,
 "nbformat_minor": 5
}

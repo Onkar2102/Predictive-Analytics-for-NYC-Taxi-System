{
 "cells": [
  {
   "cell_type": "code",
   "execution_count": 1,
   "id": "5d5712b9",
   "metadata": {},
   "outputs": [],
   "source": [
    "import pandas as pd\n",
    "import numpy as np\n",
    "from matplotlib import pyplot as plt\n",
    "import seaborn as sns"
   ]
  },
  {
   "cell_type": "code",
   "execution_count": 2,
   "id": "dcb64f55",
   "metadata": {},
   "outputs": [],
   "source": [
    "import warnings\n",
    "warnings.filterwarnings('ignore')"
   ]
  },
  {
   "cell_type": "code",
   "execution_count": 3,
   "id": "a006322b",
   "metadata": {},
   "outputs": [],
   "source": [
    "import math"
   ]
  },
  {
   "cell_type": "code",
   "execution_count": 4,
   "id": "3d750c8e",
   "metadata": {},
   "outputs": [],
   "source": [
    "from sklearn.model_selection import train_test_split\n",
    "from sklearn.linear_model import LinearRegression\n",
    "from sklearn.linear_model import LogisticRegression\n",
    "from sklearn.preprocessing import StandardScaler\n",
    "from sklearn import metrics\n",
    "from sklearn.metrics import r2_score\n",
    "from sklearn import preprocessing"
   ]
  },
  {
   "cell_type": "code",
   "execution_count": null,
   "id": "de1df000",
   "metadata": {},
   "outputs": [],
   "source": []
  },
  {
   "cell_type": "markdown",
   "id": "d9541877",
   "metadata": {},
   "source": [
    "## Steps"
   ]
  },
  {
   "cell_type": "code",
   "execution_count": null,
   "id": "672574b7",
   "metadata": {},
   "outputs": [],
   "source": []
  },
  {
   "cell_type": "code",
   "execution_count": null,
   "id": "38ebc8a5",
   "metadata": {},
   "outputs": [],
   "source": []
  },
  {
   "cell_type": "markdown",
   "id": "239e3608",
   "metadata": {},
   "source": [
    "## Exploratory Data Analysis and Features Engineering"
   ]
  },
  {
   "cell_type": "code",
   "execution_count": null,
   "id": "e120ebd5",
   "metadata": {},
   "outputs": [],
   "source": []
  },
  {
   "cell_type": "code",
   "execution_count": 5,
   "id": "4b5a98d0",
   "metadata": {},
   "outputs": [
    {
     "data": {
      "text/html": [
       "<div>\n",
       "<style scoped>\n",
       "    .dataframe tbody tr th:only-of-type {\n",
       "        vertical-align: middle;\n",
       "    }\n",
       "\n",
       "    .dataframe tbody tr th {\n",
       "        vertical-align: top;\n",
       "    }\n",
       "\n",
       "    .dataframe thead th {\n",
       "        text-align: right;\n",
       "    }\n",
       "</style>\n",
       "<table border=\"1\" class=\"dataframe\">\n",
       "  <thead>\n",
       "    <tr style=\"text-align: right;\">\n",
       "      <th></th>\n",
       "      <th>Unnamed: 0</th>\n",
       "      <th>VendorID</th>\n",
       "      <th>tpep_pickup_datetime</th>\n",
       "      <th>tpep_dropoff_datetime</th>\n",
       "      <th>passenger_count</th>\n",
       "      <th>trip_distance</th>\n",
       "      <th>RatecodeID</th>\n",
       "      <th>store_and_fwd_flag</th>\n",
       "      <th>PULocationID</th>\n",
       "      <th>DOLocationID</th>\n",
       "      <th>...</th>\n",
       "      <th>total_amount</th>\n",
       "      <th>congestion_surcharge</th>\n",
       "      <th>PU_zone</th>\n",
       "      <th>PU_borough</th>\n",
       "      <th>PU_latitude</th>\n",
       "      <th>PU_longitude</th>\n",
       "      <th>DO_zone</th>\n",
       "      <th>DO_borough</th>\n",
       "      <th>DO_latitude</th>\n",
       "      <th>DO_longitude</th>\n",
       "    </tr>\n",
       "  </thead>\n",
       "  <tbody>\n",
       "    <tr>\n",
       "      <th>0</th>\n",
       "      <td>0</td>\n",
       "      <td>1.0</td>\n",
       "      <td>2020-01-21 18:48:44</td>\n",
       "      <td>2020-01-21 19:08:40</td>\n",
       "      <td>2.0</td>\n",
       "      <td>4.80</td>\n",
       "      <td>1.0</td>\n",
       "      <td>N</td>\n",
       "      <td>137</td>\n",
       "      <td>256</td>\n",
       "      <td>...</td>\n",
       "      <td>22.8</td>\n",
       "      <td>2.5</td>\n",
       "      <td>Kips Bay</td>\n",
       "      <td>Manhattan</td>\n",
       "      <td>40.739546</td>\n",
       "      <td>-73.977083</td>\n",
       "      <td>Williamsburg (South Side)</td>\n",
       "      <td>Brooklyn</td>\n",
       "      <td>40.710732</td>\n",
       "      <td>-73.943609</td>\n",
       "    </tr>\n",
       "    <tr>\n",
       "      <th>1</th>\n",
       "      <td>1</td>\n",
       "      <td>2.0</td>\n",
       "      <td>2020-01-12 04:08:39</td>\n",
       "      <td>2020-01-12 04:10:16</td>\n",
       "      <td>1.0</td>\n",
       "      <td>0.57</td>\n",
       "      <td>1.0</td>\n",
       "      <td>N</td>\n",
       "      <td>107</td>\n",
       "      <td>107</td>\n",
       "      <td>...</td>\n",
       "      <td>7.3</td>\n",
       "      <td>2.5</td>\n",
       "      <td>Gramercy</td>\n",
       "      <td>Manhattan</td>\n",
       "      <td>40.735519</td>\n",
       "      <td>-73.984079</td>\n",
       "      <td>Gramercy</td>\n",
       "      <td>Manhattan</td>\n",
       "      <td>40.735519</td>\n",
       "      <td>-73.984079</td>\n",
       "    </tr>\n",
       "    <tr>\n",
       "      <th>2</th>\n",
       "      <td>2</td>\n",
       "      <td>1.0</td>\n",
       "      <td>2020-01-27 12:12:33</td>\n",
       "      <td>2020-01-27 12:21:34</td>\n",
       "      <td>1.0</td>\n",
       "      <td>0.90</td>\n",
       "      <td>1.0</td>\n",
       "      <td>Y</td>\n",
       "      <td>137</td>\n",
       "      <td>164</td>\n",
       "      <td>...</td>\n",
       "      <td>11.3</td>\n",
       "      <td>2.5</td>\n",
       "      <td>Kips Bay</td>\n",
       "      <td>Manhattan</td>\n",
       "      <td>40.739546</td>\n",
       "      <td>-73.977083</td>\n",
       "      <td>Midtown South</td>\n",
       "      <td>Manhattan</td>\n",
       "      <td>40.749842</td>\n",
       "      <td>-73.984251</td>\n",
       "    </tr>\n",
       "    <tr>\n",
       "      <th>3</th>\n",
       "      <td>3</td>\n",
       "      <td>1.0</td>\n",
       "      <td>2020-01-31 09:55:46</td>\n",
       "      <td>2020-01-31 10:07:18</td>\n",
       "      <td>1.0</td>\n",
       "      <td>1.80</td>\n",
       "      <td>1.0</td>\n",
       "      <td>N</td>\n",
       "      <td>141</td>\n",
       "      <td>143</td>\n",
       "      <td>...</td>\n",
       "      <td>13.8</td>\n",
       "      <td>2.5</td>\n",
       "      <td>Lenox Hill West</td>\n",
       "      <td>Manhattan</td>\n",
       "      <td>40.769382</td>\n",
       "      <td>-73.959474</td>\n",
       "      <td>Lincoln Square West</td>\n",
       "      <td>Manhattan</td>\n",
       "      <td>40.771060</td>\n",
       "      <td>-73.980557</td>\n",
       "    </tr>\n",
       "    <tr>\n",
       "      <th>4</th>\n",
       "      <td>4</td>\n",
       "      <td>2.0</td>\n",
       "      <td>2020-01-24 00:24:09</td>\n",
       "      <td>2020-01-24 00:47:14</td>\n",
       "      <td>1.0</td>\n",
       "      <td>9.06</td>\n",
       "      <td>1.0</td>\n",
       "      <td>N</td>\n",
       "      <td>138</td>\n",
       "      <td>90</td>\n",
       "      <td>...</td>\n",
       "      <td>44.9</td>\n",
       "      <td>2.5</td>\n",
       "      <td>LaGuardia Airport</td>\n",
       "      <td>Queens</td>\n",
       "      <td>40.775714</td>\n",
       "      <td>-73.873364</td>\n",
       "      <td>Flatiron</td>\n",
       "      <td>Manhattan</td>\n",
       "      <td>40.741059</td>\n",
       "      <td>-73.989642</td>\n",
       "    </tr>\n",
       "  </tbody>\n",
       "</table>\n",
       "<p>5 rows × 27 columns</p>\n",
       "</div>"
      ],
      "text/plain": [
       "   Unnamed: 0  VendorID tpep_pickup_datetime tpep_dropoff_datetime  \\\n",
       "0           0       1.0  2020-01-21 18:48:44   2020-01-21 19:08:40   \n",
       "1           1       2.0  2020-01-12 04:08:39   2020-01-12 04:10:16   \n",
       "2           2       1.0  2020-01-27 12:12:33   2020-01-27 12:21:34   \n",
       "3           3       1.0  2020-01-31 09:55:46   2020-01-31 10:07:18   \n",
       "4           4       2.0  2020-01-24 00:24:09   2020-01-24 00:47:14   \n",
       "\n",
       "   passenger_count  trip_distance  RatecodeID store_and_fwd_flag  \\\n",
       "0              2.0           4.80         1.0                  N   \n",
       "1              1.0           0.57         1.0                  N   \n",
       "2              1.0           0.90         1.0                  Y   \n",
       "3              1.0           1.80         1.0                  N   \n",
       "4              1.0           9.06         1.0                  N   \n",
       "\n",
       "   PULocationID  DOLocationID  ...  total_amount  congestion_surcharge  \\\n",
       "0           137           256  ...          22.8                   2.5   \n",
       "1           107           107  ...           7.3                   2.5   \n",
       "2           137           164  ...          11.3                   2.5   \n",
       "3           141           143  ...          13.8                   2.5   \n",
       "4           138            90  ...          44.9                   2.5   \n",
       "\n",
       "             PU_zone  PU_borough  PU_latitude  PU_longitude  \\\n",
       "0           Kips Bay   Manhattan    40.739546    -73.977083   \n",
       "1           Gramercy   Manhattan    40.735519    -73.984079   \n",
       "2           Kips Bay   Manhattan    40.739546    -73.977083   \n",
       "3    Lenox Hill West   Manhattan    40.769382    -73.959474   \n",
       "4  LaGuardia Airport      Queens    40.775714    -73.873364   \n",
       "\n",
       "                     DO_zone  DO_borough  DO_latitude DO_longitude  \n",
       "0  Williamsburg (South Side)    Brooklyn    40.710732   -73.943609  \n",
       "1                   Gramercy   Manhattan    40.735519   -73.984079  \n",
       "2              Midtown South   Manhattan    40.749842   -73.984251  \n",
       "3        Lincoln Square West   Manhattan    40.771060   -73.980557  \n",
       "4                   Flatiron   Manhattan    40.741059   -73.989642  \n",
       "\n",
       "[5 rows x 27 columns]"
      ]
     },
     "execution_count": 5,
     "metadata": {},
     "output_type": "execute_result"
    }
   ],
   "source": [
    "#first of all, we need to import the data and parse the features that indicate dates into timestamp objects\n",
    "\n",
    "df_raw = pd.read_csv('./Final_dataset.csv', parse_dates = ['tpep_pickup_datetime', 'tpep_dropoff_datetime'])\n",
    "df_raw.head()\n",
    "\n",
    "# fare_amount --> amount indicated by the meter"
   ]
  },
  {
   "cell_type": "code",
   "execution_count": 6,
   "id": "c8f2ec65",
   "metadata": {},
   "outputs": [
    {
     "data": {
      "text/html": [
       "<div>\n",
       "<style scoped>\n",
       "    .dataframe tbody tr th:only-of-type {\n",
       "        vertical-align: middle;\n",
       "    }\n",
       "\n",
       "    .dataframe tbody tr th {\n",
       "        vertical-align: top;\n",
       "    }\n",
       "\n",
       "    .dataframe thead th {\n",
       "        text-align: right;\n",
       "    }\n",
       "</style>\n",
       "<table border=\"1\" class=\"dataframe\">\n",
       "  <thead>\n",
       "    <tr style=\"text-align: right;\">\n",
       "      <th></th>\n",
       "      <th>tpep_pickup_datetime</th>\n",
       "      <th>tpep_dropoff_datetime</th>\n",
       "      <th>passenger_count</th>\n",
       "      <th>trip_distance</th>\n",
       "      <th>PULocationID</th>\n",
       "      <th>DOLocationID</th>\n",
       "      <th>payment_type</th>\n",
       "      <th>tip_amount</th>\n",
       "      <th>total_amount</th>\n",
       "    </tr>\n",
       "  </thead>\n",
       "  <tbody>\n",
       "    <tr>\n",
       "      <th>0</th>\n",
       "      <td>2020-01-21 18:48:44</td>\n",
       "      <td>2020-01-21 19:08:40</td>\n",
       "      <td>2.0</td>\n",
       "      <td>4.80</td>\n",
       "      <td>137</td>\n",
       "      <td>256</td>\n",
       "      <td>2.0</td>\n",
       "      <td>0.00</td>\n",
       "      <td>22.8</td>\n",
       "    </tr>\n",
       "    <tr>\n",
       "      <th>1</th>\n",
       "      <td>2020-01-12 04:08:39</td>\n",
       "      <td>2020-01-12 04:10:16</td>\n",
       "      <td>1.0</td>\n",
       "      <td>0.57</td>\n",
       "      <td>107</td>\n",
       "      <td>107</td>\n",
       "      <td>1.0</td>\n",
       "      <td>0.00</td>\n",
       "      <td>7.3</td>\n",
       "    </tr>\n",
       "    <tr>\n",
       "      <th>2</th>\n",
       "      <td>2020-01-27 12:12:33</td>\n",
       "      <td>2020-01-27 12:21:34</td>\n",
       "      <td>1.0</td>\n",
       "      <td>0.90</td>\n",
       "      <td>137</td>\n",
       "      <td>164</td>\n",
       "      <td>1.0</td>\n",
       "      <td>1.00</td>\n",
       "      <td>11.3</td>\n",
       "    </tr>\n",
       "    <tr>\n",
       "      <th>3</th>\n",
       "      <td>2020-01-31 09:55:46</td>\n",
       "      <td>2020-01-31 10:07:18</td>\n",
       "      <td>1.0</td>\n",
       "      <td>1.80</td>\n",
       "      <td>141</td>\n",
       "      <td>143</td>\n",
       "      <td>1.0</td>\n",
       "      <td>1.00</td>\n",
       "      <td>13.8</td>\n",
       "    </tr>\n",
       "    <tr>\n",
       "      <th>4</th>\n",
       "      <td>2020-01-24 00:24:09</td>\n",
       "      <td>2020-01-24 00:47:14</td>\n",
       "      <td>1.0</td>\n",
       "      <td>9.06</td>\n",
       "      <td>138</td>\n",
       "      <td>90</td>\n",
       "      <td>1.0</td>\n",
       "      <td>7.48</td>\n",
       "      <td>44.9</td>\n",
       "    </tr>\n",
       "  </tbody>\n",
       "</table>\n",
       "</div>"
      ],
      "text/plain": [
       "  tpep_pickup_datetime tpep_dropoff_datetime  passenger_count  trip_distance  \\\n",
       "0  2020-01-21 18:48:44   2020-01-21 19:08:40              2.0           4.80   \n",
       "1  2020-01-12 04:08:39   2020-01-12 04:10:16              1.0           0.57   \n",
       "2  2020-01-27 12:12:33   2020-01-27 12:21:34              1.0           0.90   \n",
       "3  2020-01-31 09:55:46   2020-01-31 10:07:18              1.0           1.80   \n",
       "4  2020-01-24 00:24:09   2020-01-24 00:47:14              1.0           9.06   \n",
       "\n",
       "   PULocationID  DOLocationID  payment_type  tip_amount  total_amount  \n",
       "0           137           256           2.0        0.00          22.8  \n",
       "1           107           107           1.0        0.00           7.3  \n",
       "2           137           164           1.0        1.00          11.3  \n",
       "3           141           143           1.0        1.00          13.8  \n",
       "4           138            90           1.0        7.48          44.9  "
      ]
     },
     "execution_count": 6,
     "metadata": {},
     "output_type": "execute_result"
    }
   ],
   "source": [
    "#let's pick just the features we are interested in\n",
    "\n",
    "columns = ['tpep_pickup_datetime', 'tpep_dropoff_datetime', 'passenger_count', 'trip_distance', 'PULocationID', 'DOLocationID', 'payment_type', 'tip_amount', 'total_amount']\n",
    "df = df_raw[columns]\n",
    "df.head()"
   ]
  },
  {
   "cell_type": "code",
   "execution_count": 7,
   "id": "b9a8200c",
   "metadata": {},
   "outputs": [
    {
     "data": {
      "text/plain": [
       "payment_type\n",
       "1.0    63939\n",
       "2.0    24056\n",
       "3.0      663\n",
       "4.0      367\n",
       "Name: payment_type, dtype: int64"
      ]
     },
     "execution_count": 7,
     "metadata": {},
     "output_type": "execute_result"
    }
   ],
   "source": [
    "df.groupby(df.payment_type).payment_type.count()\n",
    "\n",
    "# 1 --> credit card\n",
    "# 2 --> cash\n",
    "# 3 --> no charge (nessun addebbito)\n",
    "# 4 --> dispute (controversia, in disaccordo)\n",
    "# 5 --> unkown\n",
    "# 6 --> voided trip\n",
    "\n",
    "#the type of payment 1.0 (credit card) and 2.0 (cash) are the most frequent, therefore we'll consider just those 2"
   ]
  },
  {
   "cell_type": "code",
   "execution_count": 8,
   "id": "7491e06d",
   "metadata": {},
   "outputs": [
    {
     "data": {
      "text/plain": [
       "PULocationID\n",
       "1         6\n",
       "3         2\n",
       "4        93\n",
       "5         1\n",
       "6         1\n",
       "       ... \n",
       "261     310\n",
       "262    1463\n",
       "263    2605\n",
       "264     666\n",
       "265      55\n",
       "Name: payment_type, Length: 247, dtype: int64"
      ]
     },
     "execution_count": 8,
     "metadata": {},
     "output_type": "execute_result"
    }
   ],
   "source": [
    "df.groupby(df.PULocationID).payment_type.count()\n",
    "\n",
    "#the (pick up or drop off) location ID can be different for the same borough (Manhattan, Brookyin, Bronx etc.) "
   ]
  },
  {
   "cell_type": "code",
   "execution_count": 9,
   "id": "ef3be202",
   "metadata": {},
   "outputs": [
    {
     "data": {
      "text/plain": [
       "payment_type\n",
       "1.0    62593\n",
       "2.0    23539\n",
       "Name: payment_type, dtype: int64"
      ]
     },
     "execution_count": 9,
     "metadata": {},
     "output_type": "execute_result"
    }
   ],
   "source": [
    "#let's pick just the records for which the payment is payment type is credit card or cash and the passenger is at least one\n",
    "\n",
    "df = df[((df.payment_type == 1.0) | (df.payment_type == 2.0)) & (df.passenger_count != 0.0)]\n",
    "df.groupby(df.passenger_count).passenger_count.count()\n",
    "\n",
    "#check\n",
    "df.groupby(df.payment_type).payment_type.count()"
   ]
  },
  {
   "cell_type": "code",
   "execution_count": 10,
   "id": "c6920ccd",
   "metadata": {},
   "outputs": [],
   "source": [
    "#taxi+_zone_lookup.csv contains information about the pick up and drop off locations IDs; given that we'd like to focus on the \n",
    "#boroughs of Manhattan and Brooklyn, we create 2 lists containing list_man and list_bro containing respectively the IDs\n",
    "#corresponding to the boroughs of Manhattan and Brooklyn \n",
    "\n",
    "zone = pd.read_csv('./Taxi_Zone_Lookup_Fixed.csv')\n",
    "\n",
    "MAN = zone[(zone.borough == 'Manhattan' )]\n",
    "BRO = zone[(zone.borough == 'Brooklyn' )]\n",
    "\n",
    "list_man = MAN['LocationID'].tolist()\n",
    "list_bro = BRO['LocationID'].tolist()"
   ]
  },
  {
   "cell_type": "code",
   "execution_count": 11,
   "id": "bb4de482",
   "metadata": {},
   "outputs": [
    {
     "data": {
      "text/plain": [
       "True"
      ]
     },
     "execution_count": 11,
     "metadata": {},
     "output_type": "execute_result"
    }
   ],
   "source": [
    "#we then convert the values of the PULocationID feature in 1 if the ID corresponds to one of Manhattan's IDs, in 0 if the ID\n",
    "#corresponds to one of Brooklyn's IDs and in 2 otherwise\n",
    "\n",
    "list_PULocationID = df['PULocationID'].tolist()\n",
    "\n",
    "array = np.array([])\n",
    "\n",
    "for element in list_PULocationID:\n",
    "\n",
    "    if element in list_man:\n",
    "        \n",
    "        #Manhattan = 1\n",
    "        array = np.append(array, 1)\n",
    "    \n",
    "    elif element in list_bro:\n",
    "        \n",
    "        #Brooklyn = 0\n",
    "        array = np.append(array, 0)\n",
    "        \n",
    "    else:\n",
    "        \n",
    "        array = np.append(array, 2)\n",
    "        \n",
    "#check\n",
    "len(array) == df.shape[0]"
   ]
  },
  {
   "cell_type": "code",
   "execution_count": 12,
   "id": "90bca5dd",
   "metadata": {},
   "outputs": [
    {
     "data": {
      "text/html": [
       "<div>\n",
       "<style scoped>\n",
       "    .dataframe tbody tr th:only-of-type {\n",
       "        vertical-align: middle;\n",
       "    }\n",
       "\n",
       "    .dataframe tbody tr th {\n",
       "        vertical-align: top;\n",
       "    }\n",
       "\n",
       "    .dataframe thead th {\n",
       "        text-align: right;\n",
       "    }\n",
       "</style>\n",
       "<table border=\"1\" class=\"dataframe\">\n",
       "  <thead>\n",
       "    <tr style=\"text-align: right;\">\n",
       "      <th></th>\n",
       "      <th>tpep_pickup_datetime</th>\n",
       "      <th>tpep_dropoff_datetime</th>\n",
       "      <th>passenger_count</th>\n",
       "      <th>trip_distance</th>\n",
       "      <th>PULocationID</th>\n",
       "      <th>DOLocationID</th>\n",
       "      <th>payment_type</th>\n",
       "      <th>tip_amount</th>\n",
       "      <th>total_amount</th>\n",
       "    </tr>\n",
       "  </thead>\n",
       "  <tbody>\n",
       "    <tr>\n",
       "      <th>0</th>\n",
       "      <td>2020-01-21 18:48:44</td>\n",
       "      <td>2020-01-21 19:08:40</td>\n",
       "      <td>2.0</td>\n",
       "      <td>4.80</td>\n",
       "      <td>1.0</td>\n",
       "      <td>256</td>\n",
       "      <td>2.0</td>\n",
       "      <td>0.00</td>\n",
       "      <td>22.8</td>\n",
       "    </tr>\n",
       "    <tr>\n",
       "      <th>1</th>\n",
       "      <td>2020-01-12 04:08:39</td>\n",
       "      <td>2020-01-12 04:10:16</td>\n",
       "      <td>1.0</td>\n",
       "      <td>0.57</td>\n",
       "      <td>1.0</td>\n",
       "      <td>107</td>\n",
       "      <td>1.0</td>\n",
       "      <td>0.00</td>\n",
       "      <td>7.3</td>\n",
       "    </tr>\n",
       "    <tr>\n",
       "      <th>2</th>\n",
       "      <td>2020-01-27 12:12:33</td>\n",
       "      <td>2020-01-27 12:21:34</td>\n",
       "      <td>1.0</td>\n",
       "      <td>0.90</td>\n",
       "      <td>1.0</td>\n",
       "      <td>164</td>\n",
       "      <td>1.0</td>\n",
       "      <td>1.00</td>\n",
       "      <td>11.3</td>\n",
       "    </tr>\n",
       "    <tr>\n",
       "      <th>3</th>\n",
       "      <td>2020-01-31 09:55:46</td>\n",
       "      <td>2020-01-31 10:07:18</td>\n",
       "      <td>1.0</td>\n",
       "      <td>1.80</td>\n",
       "      <td>1.0</td>\n",
       "      <td>143</td>\n",
       "      <td>1.0</td>\n",
       "      <td>1.00</td>\n",
       "      <td>13.8</td>\n",
       "    </tr>\n",
       "    <tr>\n",
       "      <th>4</th>\n",
       "      <td>2020-01-24 00:24:09</td>\n",
       "      <td>2020-01-24 00:47:14</td>\n",
       "      <td>1.0</td>\n",
       "      <td>9.06</td>\n",
       "      <td>2.0</td>\n",
       "      <td>90</td>\n",
       "      <td>1.0</td>\n",
       "      <td>7.48</td>\n",
       "      <td>44.9</td>\n",
       "    </tr>\n",
       "  </tbody>\n",
       "</table>\n",
       "</div>"
      ],
      "text/plain": [
       "  tpep_pickup_datetime tpep_dropoff_datetime  passenger_count  trip_distance  \\\n",
       "0  2020-01-21 18:48:44   2020-01-21 19:08:40              2.0           4.80   \n",
       "1  2020-01-12 04:08:39   2020-01-12 04:10:16              1.0           0.57   \n",
       "2  2020-01-27 12:12:33   2020-01-27 12:21:34              1.0           0.90   \n",
       "3  2020-01-31 09:55:46   2020-01-31 10:07:18              1.0           1.80   \n",
       "4  2020-01-24 00:24:09   2020-01-24 00:47:14              1.0           9.06   \n",
       "\n",
       "   PULocationID  DOLocationID  payment_type  tip_amount  total_amount  \n",
       "0           1.0           256           2.0        0.00          22.8  \n",
       "1           1.0           107           1.0        0.00           7.3  \n",
       "2           1.0           164           1.0        1.00          11.3  \n",
       "3           1.0           143           1.0        1.00          13.8  \n",
       "4           2.0            90           1.0        7.48          44.9  "
      ]
     },
     "execution_count": 12,
     "metadata": {},
     "output_type": "execute_result"
    }
   ],
   "source": [
    "df.PULocationID = array\n",
    "df.head()"
   ]
  },
  {
   "cell_type": "code",
   "execution_count": 13,
   "id": "24d91ca8",
   "metadata": {},
   "outputs": [
    {
     "data": {
      "text/plain": [
       "True"
      ]
     },
     "execution_count": 13,
     "metadata": {},
     "output_type": "execute_result"
    }
   ],
   "source": [
    "#same for the DOLocationID feature\n",
    "\n",
    "list_DOLocationID = df['DOLocationID'].tolist()\n",
    "\n",
    "array1 = np.array([])\n",
    "\n",
    "for element in list_DOLocationID:\n",
    "\n",
    "    if element in list_man:\n",
    "        \n",
    "        #Manhattan = 1\n",
    "        array1 = np.append(array1, 1)\n",
    "    \n",
    "    elif element in list_bro:\n",
    "        \n",
    "        #Brooklyn = 0\n",
    "        array1 = np.append(array1, 0)\n",
    "        \n",
    "    else:\n",
    "        \n",
    "        array1 = np.append(array1, 2)\n",
    "        \n",
    "#check\n",
    "len(array1) == df.shape[0]"
   ]
  },
  {
   "cell_type": "code",
   "execution_count": 14,
   "id": "15e96ca2",
   "metadata": {},
   "outputs": [
    {
     "data": {
      "text/html": [
       "<div>\n",
       "<style scoped>\n",
       "    .dataframe tbody tr th:only-of-type {\n",
       "        vertical-align: middle;\n",
       "    }\n",
       "\n",
       "    .dataframe tbody tr th {\n",
       "        vertical-align: top;\n",
       "    }\n",
       "\n",
       "    .dataframe thead th {\n",
       "        text-align: right;\n",
       "    }\n",
       "</style>\n",
       "<table border=\"1\" class=\"dataframe\">\n",
       "  <thead>\n",
       "    <tr style=\"text-align: right;\">\n",
       "      <th></th>\n",
       "      <th>tpep_pickup_datetime</th>\n",
       "      <th>tpep_dropoff_datetime</th>\n",
       "      <th>passenger_count</th>\n",
       "      <th>trip_distance</th>\n",
       "      <th>PULocationID</th>\n",
       "      <th>DOLocationID</th>\n",
       "      <th>payment_type</th>\n",
       "      <th>tip_amount</th>\n",
       "      <th>total_amount</th>\n",
       "    </tr>\n",
       "  </thead>\n",
       "  <tbody>\n",
       "    <tr>\n",
       "      <th>0</th>\n",
       "      <td>2020-01-21 18:48:44</td>\n",
       "      <td>2020-01-21 19:08:40</td>\n",
       "      <td>2.0</td>\n",
       "      <td>4.80</td>\n",
       "      <td>1.0</td>\n",
       "      <td>0.0</td>\n",
       "      <td>2.0</td>\n",
       "      <td>0.00</td>\n",
       "      <td>22.8</td>\n",
       "    </tr>\n",
       "    <tr>\n",
       "      <th>1</th>\n",
       "      <td>2020-01-12 04:08:39</td>\n",
       "      <td>2020-01-12 04:10:16</td>\n",
       "      <td>1.0</td>\n",
       "      <td>0.57</td>\n",
       "      <td>1.0</td>\n",
       "      <td>1.0</td>\n",
       "      <td>1.0</td>\n",
       "      <td>0.00</td>\n",
       "      <td>7.3</td>\n",
       "    </tr>\n",
       "    <tr>\n",
       "      <th>2</th>\n",
       "      <td>2020-01-27 12:12:33</td>\n",
       "      <td>2020-01-27 12:21:34</td>\n",
       "      <td>1.0</td>\n",
       "      <td>0.90</td>\n",
       "      <td>1.0</td>\n",
       "      <td>1.0</td>\n",
       "      <td>1.0</td>\n",
       "      <td>1.00</td>\n",
       "      <td>11.3</td>\n",
       "    </tr>\n",
       "    <tr>\n",
       "      <th>3</th>\n",
       "      <td>2020-01-31 09:55:46</td>\n",
       "      <td>2020-01-31 10:07:18</td>\n",
       "      <td>1.0</td>\n",
       "      <td>1.80</td>\n",
       "      <td>1.0</td>\n",
       "      <td>1.0</td>\n",
       "      <td>1.0</td>\n",
       "      <td>1.00</td>\n",
       "      <td>13.8</td>\n",
       "    </tr>\n",
       "    <tr>\n",
       "      <th>4</th>\n",
       "      <td>2020-01-24 00:24:09</td>\n",
       "      <td>2020-01-24 00:47:14</td>\n",
       "      <td>1.0</td>\n",
       "      <td>9.06</td>\n",
       "      <td>2.0</td>\n",
       "      <td>1.0</td>\n",
       "      <td>1.0</td>\n",
       "      <td>7.48</td>\n",
       "      <td>44.9</td>\n",
       "    </tr>\n",
       "  </tbody>\n",
       "</table>\n",
       "</div>"
      ],
      "text/plain": [
       "  tpep_pickup_datetime tpep_dropoff_datetime  passenger_count  trip_distance  \\\n",
       "0  2020-01-21 18:48:44   2020-01-21 19:08:40              2.0           4.80   \n",
       "1  2020-01-12 04:08:39   2020-01-12 04:10:16              1.0           0.57   \n",
       "2  2020-01-27 12:12:33   2020-01-27 12:21:34              1.0           0.90   \n",
       "3  2020-01-31 09:55:46   2020-01-31 10:07:18              1.0           1.80   \n",
       "4  2020-01-24 00:24:09   2020-01-24 00:47:14              1.0           9.06   \n",
       "\n",
       "   PULocationID  DOLocationID  payment_type  tip_amount  total_amount  \n",
       "0           1.0           0.0           2.0        0.00          22.8  \n",
       "1           1.0           1.0           1.0        0.00           7.3  \n",
       "2           1.0           1.0           1.0        1.00          11.3  \n",
       "3           1.0           1.0           1.0        1.00          13.8  \n",
       "4           2.0           1.0           1.0        7.48          44.9  "
      ]
     },
     "execution_count": 14,
     "metadata": {},
     "output_type": "execute_result"
    }
   ],
   "source": [
    "df.DOLocationID = array1\n",
    "df.head()\n"
   ]
  },
  {
   "cell_type": "code",
   "execution_count": null,
   "id": "2f75b829",
   "metadata": {},
   "outputs": [],
   "source": []
  },
  {
   "cell_type": "code",
   "execution_count": 15,
   "id": "a30a8f02",
   "metadata": {},
   "outputs": [
    {
     "data": {
      "text/plain": [
       "80962"
      ]
     },
     "execution_count": 15,
     "metadata": {},
     "output_type": "execute_result"
    }
   ],
   "source": [
    "#pick just the records for which the PULocationID is 0 (Brooklyn) or 1 (Manhattan) \n",
    "\n",
    "df = df[(df.PULocationID == 0.0) | (df.PULocationID == 1.0)]\n",
    "len(df)"
   ]
  },
  {
   "cell_type": "code",
   "execution_count": 16,
   "id": "d0c73ee3",
   "metadata": {},
   "outputs": [
    {
     "data": {
      "text/html": [
       "<div>\n",
       "<style scoped>\n",
       "    .dataframe tbody tr th:only-of-type {\n",
       "        vertical-align: middle;\n",
       "    }\n",
       "\n",
       "    .dataframe tbody tr th {\n",
       "        vertical-align: top;\n",
       "    }\n",
       "\n",
       "    .dataframe thead th {\n",
       "        text-align: right;\n",
       "    }\n",
       "</style>\n",
       "<table border=\"1\" class=\"dataframe\">\n",
       "  <thead>\n",
       "    <tr style=\"text-align: right;\">\n",
       "      <th></th>\n",
       "      <th>tpep_pickup_datetime</th>\n",
       "      <th>tpep_dropoff_datetime</th>\n",
       "      <th>passenger_count</th>\n",
       "      <th>trip_distance</th>\n",
       "      <th>PULocationID</th>\n",
       "      <th>DOLocationID</th>\n",
       "      <th>payment_type</th>\n",
       "      <th>tip_amount</th>\n",
       "      <th>total_amount</th>\n",
       "    </tr>\n",
       "  </thead>\n",
       "  <tbody>\n",
       "    <tr>\n",
       "      <th>0</th>\n",
       "      <td>2020-01-21 18:48:44</td>\n",
       "      <td>2020-01-21 19:08:40</td>\n",
       "      <td>2.0</td>\n",
       "      <td>4.80</td>\n",
       "      <td>1.0</td>\n",
       "      <td>0.0</td>\n",
       "      <td>2.0</td>\n",
       "      <td>0.00</td>\n",
       "      <td>22.80</td>\n",
       "    </tr>\n",
       "    <tr>\n",
       "      <th>1</th>\n",
       "      <td>2020-01-12 04:08:39</td>\n",
       "      <td>2020-01-12 04:10:16</td>\n",
       "      <td>1.0</td>\n",
       "      <td>0.57</td>\n",
       "      <td>1.0</td>\n",
       "      <td>1.0</td>\n",
       "      <td>1.0</td>\n",
       "      <td>0.00</td>\n",
       "      <td>7.30</td>\n",
       "    </tr>\n",
       "    <tr>\n",
       "      <th>2</th>\n",
       "      <td>2020-01-27 12:12:33</td>\n",
       "      <td>2020-01-27 12:21:34</td>\n",
       "      <td>1.0</td>\n",
       "      <td>0.90</td>\n",
       "      <td>1.0</td>\n",
       "      <td>1.0</td>\n",
       "      <td>1.0</td>\n",
       "      <td>1.00</td>\n",
       "      <td>11.30</td>\n",
       "    </tr>\n",
       "    <tr>\n",
       "      <th>3</th>\n",
       "      <td>2020-01-31 09:55:46</td>\n",
       "      <td>2020-01-31 10:07:18</td>\n",
       "      <td>1.0</td>\n",
       "      <td>1.80</td>\n",
       "      <td>1.0</td>\n",
       "      <td>1.0</td>\n",
       "      <td>1.0</td>\n",
       "      <td>1.00</td>\n",
       "      <td>13.80</td>\n",
       "    </tr>\n",
       "    <tr>\n",
       "      <th>4</th>\n",
       "      <td>2020-01-14 23:51:36</td>\n",
       "      <td>2020-01-14 23:58:55</td>\n",
       "      <td>2.0</td>\n",
       "      <td>1.37</td>\n",
       "      <td>1.0</td>\n",
       "      <td>1.0</td>\n",
       "      <td>1.0</td>\n",
       "      <td>2.26</td>\n",
       "      <td>13.56</td>\n",
       "    </tr>\n",
       "  </tbody>\n",
       "</table>\n",
       "</div>"
      ],
      "text/plain": [
       "  tpep_pickup_datetime tpep_dropoff_datetime  passenger_count  trip_distance  \\\n",
       "0  2020-01-21 18:48:44   2020-01-21 19:08:40              2.0           4.80   \n",
       "1  2020-01-12 04:08:39   2020-01-12 04:10:16              1.0           0.57   \n",
       "2  2020-01-27 12:12:33   2020-01-27 12:21:34              1.0           0.90   \n",
       "3  2020-01-31 09:55:46   2020-01-31 10:07:18              1.0           1.80   \n",
       "4  2020-01-14 23:51:36   2020-01-14 23:58:55              2.0           1.37   \n",
       "\n",
       "   PULocationID  DOLocationID  payment_type  tip_amount  total_amount  \n",
       "0           1.0           0.0           2.0        0.00         22.80  \n",
       "1           1.0           1.0           1.0        0.00          7.30  \n",
       "2           1.0           1.0           1.0        1.00         11.30  \n",
       "3           1.0           1.0           1.0        1.00         13.80  \n",
       "4           1.0           1.0           1.0        2.26         13.56  "
      ]
     },
     "execution_count": 16,
     "metadata": {},
     "output_type": "execute_result"
    }
   ],
   "source": [
    "df = df.reset_index()\n",
    "df = df.drop(['index'], axis=1)\n",
    "df.head()"
   ]
  },
  {
   "cell_type": "code",
   "execution_count": null,
   "id": "31dab2f8",
   "metadata": {},
   "outputs": [],
   "source": []
  },
  {
   "cell_type": "code",
   "execution_count": 17,
   "id": "e5eb095b",
   "metadata": {},
   "outputs": [
    {
     "data": {
      "text/html": [
       "<div>\n",
       "<style scoped>\n",
       "    .dataframe tbody tr th:only-of-type {\n",
       "        vertical-align: middle;\n",
       "    }\n",
       "\n",
       "    .dataframe tbody tr th {\n",
       "        vertical-align: top;\n",
       "    }\n",
       "\n",
       "    .dataframe thead th {\n",
       "        text-align: right;\n",
       "    }\n",
       "</style>\n",
       "<table border=\"1\" class=\"dataframe\">\n",
       "  <thead>\n",
       "    <tr style=\"text-align: right;\">\n",
       "      <th></th>\n",
       "      <th>tpep_pickup_datetime</th>\n",
       "      <th>tpep_dropoff_datetime</th>\n",
       "      <th>passenger_count</th>\n",
       "      <th>trip_distance</th>\n",
       "      <th>PULocationID</th>\n",
       "      <th>DOLocationID</th>\n",
       "      <th>payment_type</th>\n",
       "      <th>tip_amount</th>\n",
       "      <th>total_amount</th>\n",
       "      <th>time_distance</th>\n",
       "    </tr>\n",
       "  </thead>\n",
       "  <tbody>\n",
       "    <tr>\n",
       "      <th>0</th>\n",
       "      <td>2020-01-21 18:48:44</td>\n",
       "      <td>2020-01-21 19:08:40</td>\n",
       "      <td>2.0</td>\n",
       "      <td>4.80</td>\n",
       "      <td>1.0</td>\n",
       "      <td>0.0</td>\n",
       "      <td>2.0</td>\n",
       "      <td>0.00</td>\n",
       "      <td>22.80</td>\n",
       "      <td>0 days 00:19:56</td>\n",
       "    </tr>\n",
       "    <tr>\n",
       "      <th>1</th>\n",
       "      <td>2020-01-12 04:08:39</td>\n",
       "      <td>2020-01-12 04:10:16</td>\n",
       "      <td>1.0</td>\n",
       "      <td>0.57</td>\n",
       "      <td>1.0</td>\n",
       "      <td>1.0</td>\n",
       "      <td>1.0</td>\n",
       "      <td>0.00</td>\n",
       "      <td>7.30</td>\n",
       "      <td>0 days 00:01:37</td>\n",
       "    </tr>\n",
       "    <tr>\n",
       "      <th>2</th>\n",
       "      <td>2020-01-27 12:12:33</td>\n",
       "      <td>2020-01-27 12:21:34</td>\n",
       "      <td>1.0</td>\n",
       "      <td>0.90</td>\n",
       "      <td>1.0</td>\n",
       "      <td>1.0</td>\n",
       "      <td>1.0</td>\n",
       "      <td>1.00</td>\n",
       "      <td>11.30</td>\n",
       "      <td>0 days 00:09:01</td>\n",
       "    </tr>\n",
       "    <tr>\n",
       "      <th>3</th>\n",
       "      <td>2020-01-31 09:55:46</td>\n",
       "      <td>2020-01-31 10:07:18</td>\n",
       "      <td>1.0</td>\n",
       "      <td>1.80</td>\n",
       "      <td>1.0</td>\n",
       "      <td>1.0</td>\n",
       "      <td>1.0</td>\n",
       "      <td>1.00</td>\n",
       "      <td>13.80</td>\n",
       "      <td>0 days 00:11:32</td>\n",
       "    </tr>\n",
       "    <tr>\n",
       "      <th>4</th>\n",
       "      <td>2020-01-14 23:51:36</td>\n",
       "      <td>2020-01-14 23:58:55</td>\n",
       "      <td>2.0</td>\n",
       "      <td>1.37</td>\n",
       "      <td>1.0</td>\n",
       "      <td>1.0</td>\n",
       "      <td>1.0</td>\n",
       "      <td>2.26</td>\n",
       "      <td>13.56</td>\n",
       "      <td>0 days 00:07:19</td>\n",
       "    </tr>\n",
       "  </tbody>\n",
       "</table>\n",
       "</div>"
      ],
      "text/plain": [
       "  tpep_pickup_datetime tpep_dropoff_datetime  passenger_count  trip_distance  \\\n",
       "0  2020-01-21 18:48:44   2020-01-21 19:08:40              2.0           4.80   \n",
       "1  2020-01-12 04:08:39   2020-01-12 04:10:16              1.0           0.57   \n",
       "2  2020-01-27 12:12:33   2020-01-27 12:21:34              1.0           0.90   \n",
       "3  2020-01-31 09:55:46   2020-01-31 10:07:18              1.0           1.80   \n",
       "4  2020-01-14 23:51:36   2020-01-14 23:58:55              2.0           1.37   \n",
       "\n",
       "   PULocationID  DOLocationID  payment_type  tip_amount  total_amount  \\\n",
       "0           1.0           0.0           2.0        0.00         22.80   \n",
       "1           1.0           1.0           1.0        0.00          7.30   \n",
       "2           1.0           1.0           1.0        1.00         11.30   \n",
       "3           1.0           1.0           1.0        1.00         13.80   \n",
       "4           1.0           1.0           1.0        2.26         13.56   \n",
       "\n",
       "    time_distance  \n",
       "0 0 days 00:19:56  \n",
       "1 0 days 00:01:37  \n",
       "2 0 days 00:09:01  \n",
       "3 0 days 00:11:32  \n",
       "4 0 days 00:07:19  "
      ]
     },
     "execution_count": 17,
     "metadata": {},
     "output_type": "execute_result"
    }
   ],
   "source": [
    "#add a new feature 'time_distance' given by the difference between the time the passenger was picked up and dropped off\n",
    "\n",
    "df['time_distance'] = df.tpep_dropoff_datetime - df.tpep_pickup_datetime\n",
    "\n",
    "#check\n",
    "df.head()"
   ]
  },
  {
   "cell_type": "code",
   "execution_count": 18,
   "id": "4b3b854f",
   "metadata": {},
   "outputs": [
    {
     "data": {
      "text/plain": [
       "pandas._libs.tslibs.timedeltas.Timedelta"
      ]
     },
     "execution_count": 18,
     "metadata": {},
     "output_type": "execute_result"
    }
   ],
   "source": [
    "type(df.time_distance[0])"
   ]
  },
  {
   "cell_type": "code",
   "execution_count": 19,
   "id": "4ffb15c7",
   "metadata": {},
   "outputs": [],
   "source": [
    "for i in range(len(df)):\n",
    "    \n",
    "    df.time_distance[i] = df.time_distance[i].seconds"
   ]
  },
  {
   "cell_type": "code",
   "execution_count": null,
   "id": "c01de024",
   "metadata": {},
   "outputs": [],
   "source": []
  },
  {
   "cell_type": "markdown",
   "id": "bb636ced",
   "metadata": {},
   "source": [
    "## Analysis of features for Linear Regression"
   ]
  },
  {
   "cell_type": "markdown",
   "id": "36ae98ba",
   "metadata": {},
   "source": [
    "The goal of our linear regression model is to predict the tip_amount that the taxy rider will receive, based on the characteristics of his ride. To this end, we analyze the different features one by one comparing them with tip_amount (target variable), discovering correlations and general relationships"
   ]
  },
  {
   "cell_type": "markdown",
   "id": "9a88d7c8",
   "metadata": {},
   "source": [
    "### Total amount & Trip distance vs Tip amount"
   ]
  },
  {
   "cell_type": "code",
   "execution_count": 20,
   "id": "b0b8c960",
   "metadata": {},
   "outputs": [
    {
     "data": {
      "image/png": "[encoded data removed]",
      "text/plain": [
       "<Figure size 432x288 with 2 Axes>"
      ]
     },
     "metadata": {
      "needs_background": "light"
     },
     "output_type": "display_data"
    }
   ],
   "source": [
    "#compare the trend of the total amount paid by the passenger and the distance of the trip (in miles) both wrt the amount of the \n",
    "#tip\n",
    "\n",
    "plt.figure()\n",
    "\n",
    "plt.subplot(211)\n",
    "plt.scatter(df.total_amount[0:10000], df.tip_amount[0:10000], color = (0.5,0.1,0.5,0.6))\n",
    "plt.title('Total Amount vs Tip')\n",
    "plt.xlabel('total amount')\n",
    "plt.ylabel('tip')\n",
    "\n",
    "plt.subplot(212)\n",
    "plt.scatter(df.trip_distance[0:100], df.tip_amount[0:100], color = (0.5,0.1,0.5,0.6))\n",
    "plt.title('Distance of the Trip vs Tip')\n",
    "plt.xlabel('distance of the trip')\n",
    "plt.ylabel('tip')\n",
    "plt.tight_layout()\n",
    "\n",
    "plt.show()"
   ]
  },
  {
   "cell_type": "code",
   "execution_count": 21,
   "id": "feca0c6b",
   "metadata": {},
   "outputs": [
    {
     "name": "stdout",
     "output_type": "stream",
     "text": [
      "The correlation between the total amount and the amount of the tip is 0.57\n",
      "The correlation between the distance of the trip and the amount of the tip is 0.36\n"
     ]
    }
   ],
   "source": [
    "#we can see a positive trend, that can be confirmed also via the calculation of the correlation coefficient\n",
    "\n",
    "print('The correlation between the total amount and the amount of the tip is '+ str(round(np.corrcoef(df['total_amount'], \\\n",
    "       df['tip_amount'])[0][1], 2)))\n",
    "print('The correlation between the distance of the trip and the amount of the tip is '+ str(round(np.corrcoef(df['trip_distance'], \\\n",
    "       df['tip_amount'])[0][1], 2)))"
   ]
  },
  {
   "cell_type": "code",
   "execution_count": 22,
   "id": "5f11f9cc",
   "metadata": {},
   "outputs": [
    {
     "data": {
      "image/png": "[encoded data removed]",
      "text/plain": [
       "<Figure size 432x288 with 1 Axes>"
      ]
     },
     "metadata": {
      "needs_background": "light"
     },
     "output_type": "display_data"
    }
   ],
   "source": [
    "#in order to compare the number of passengers always wrt the amount of the tip, we chose to produce another type of plot, from \n",
    "#which we can see that the tip tends to increase if there are more passengers in the taxi, even though there is a slight\n",
    "#descreasing when the number of passengers is 4\n",
    "\n",
    "plt.figure()\n",
    "\n",
    "df.groupby(df.passenger_count).tip_amount.mean().plot(title = 'Number of passengers vs Average Tip',\n",
    "                                                                xlabel = 'number or passengers',\n",
    "                                                                ylabel = 'average amount of the tip',\n",
    "                                                                color = (0.5,0.1,0.5,0.6))\n",
    "\n",
    "plt.show()"
   ]
  },
  {
   "cell_type": "code",
   "execution_count": null,
   "id": "aed96bc7",
   "metadata": {},
   "outputs": [],
   "source": []
  },
  {
   "cell_type": "markdown",
   "id": "33f33bd3",
   "metadata": {},
   "source": [
    "### Speed vs Tip Amount"
   ]
  },
  {
   "cell_type": "code",
   "execution_count": 23,
   "id": "9355d67b",
   "metadata": {},
   "outputs": [],
   "source": [
    "#drop time_distance==0\n",
    "\n",
    "df = df[df.time_distance != 0]"
   ]
  },
  {
   "cell_type": "code",
   "execution_count": 24,
   "id": "5e8d887d",
   "metadata": {},
   "outputs": [],
   "source": [
    "# df1 = df1[df1.trip_distance ]"
   ]
  },
  {
   "cell_type": "code",
   "execution_count": 25,
   "id": "44a8d3c0",
   "metadata": {},
   "outputs": [
    {
     "data": {
      "text/html": [
       "<div>\n",
       "<style scoped>\n",
       "    .dataframe tbody tr th:only-of-type {\n",
       "        vertical-align: middle;\n",
       "    }\n",
       "\n",
       "    .dataframe tbody tr th {\n",
       "        vertical-align: top;\n",
       "    }\n",
       "\n",
       "    .dataframe thead th {\n",
       "        text-align: right;\n",
       "    }\n",
       "</style>\n",
       "<table border=\"1\" class=\"dataframe\">\n",
       "  <thead>\n",
       "    <tr style=\"text-align: right;\">\n",
       "      <th></th>\n",
       "      <th>tpep_pickup_datetime</th>\n",
       "      <th>tpep_dropoff_datetime</th>\n",
       "      <th>passenger_count</th>\n",
       "      <th>trip_distance</th>\n",
       "      <th>PULocationID</th>\n",
       "      <th>DOLocationID</th>\n",
       "      <th>payment_type</th>\n",
       "      <th>tip_amount</th>\n",
       "      <th>total_amount</th>\n",
       "      <th>time_distance</th>\n",
       "      <th>speed</th>\n",
       "    </tr>\n",
       "  </thead>\n",
       "  <tbody>\n",
       "    <tr>\n",
       "      <th>0</th>\n",
       "      <td>2020-01-21 18:48:44</td>\n",
       "      <td>2020-01-21 19:08:40</td>\n",
       "      <td>2.0</td>\n",
       "      <td>4.80</td>\n",
       "      <td>1.0</td>\n",
       "      <td>0.0</td>\n",
       "      <td>2.0</td>\n",
       "      <td>0.00</td>\n",
       "      <td>22.80</td>\n",
       "      <td>1196</td>\n",
       "      <td>14.448161</td>\n",
       "    </tr>\n",
       "    <tr>\n",
       "      <th>1</th>\n",
       "      <td>2020-01-12 04:08:39</td>\n",
       "      <td>2020-01-12 04:10:16</td>\n",
       "      <td>1.0</td>\n",
       "      <td>0.57</td>\n",
       "      <td>1.0</td>\n",
       "      <td>1.0</td>\n",
       "      <td>1.0</td>\n",
       "      <td>0.00</td>\n",
       "      <td>7.30</td>\n",
       "      <td>97</td>\n",
       "      <td>21.154639</td>\n",
       "    </tr>\n",
       "    <tr>\n",
       "      <th>2</th>\n",
       "      <td>2020-01-27 12:12:33</td>\n",
       "      <td>2020-01-27 12:21:34</td>\n",
       "      <td>1.0</td>\n",
       "      <td>0.90</td>\n",
       "      <td>1.0</td>\n",
       "      <td>1.0</td>\n",
       "      <td>1.0</td>\n",
       "      <td>1.00</td>\n",
       "      <td>11.30</td>\n",
       "      <td>541</td>\n",
       "      <td>5.988909</td>\n",
       "    </tr>\n",
       "    <tr>\n",
       "      <th>3</th>\n",
       "      <td>2020-01-31 09:55:46</td>\n",
       "      <td>2020-01-31 10:07:18</td>\n",
       "      <td>1.0</td>\n",
       "      <td>1.80</td>\n",
       "      <td>1.0</td>\n",
       "      <td>1.0</td>\n",
       "      <td>1.0</td>\n",
       "      <td>1.00</td>\n",
       "      <td>13.80</td>\n",
       "      <td>692</td>\n",
       "      <td>9.364162</td>\n",
       "    </tr>\n",
       "    <tr>\n",
       "      <th>4</th>\n",
       "      <td>2020-01-14 23:51:36</td>\n",
       "      <td>2020-01-14 23:58:55</td>\n",
       "      <td>2.0</td>\n",
       "      <td>1.37</td>\n",
       "      <td>1.0</td>\n",
       "      <td>1.0</td>\n",
       "      <td>1.0</td>\n",
       "      <td>2.26</td>\n",
       "      <td>13.56</td>\n",
       "      <td>439</td>\n",
       "      <td>11.234624</td>\n",
       "    </tr>\n",
       "  </tbody>\n",
       "</table>\n",
       "</div>"
      ],
      "text/plain": [
       "  tpep_pickup_datetime tpep_dropoff_datetime  passenger_count  trip_distance  \\\n",
       "0  2020-01-21 18:48:44   2020-01-21 19:08:40              2.0           4.80   \n",
       "1  2020-01-12 04:08:39   2020-01-12 04:10:16              1.0           0.57   \n",
       "2  2020-01-27 12:12:33   2020-01-27 12:21:34              1.0           0.90   \n",
       "3  2020-01-31 09:55:46   2020-01-31 10:07:18              1.0           1.80   \n",
       "4  2020-01-14 23:51:36   2020-01-14 23:58:55              2.0           1.37   \n",
       "\n",
       "   PULocationID  DOLocationID  payment_type  tip_amount  total_amount  \\\n",
       "0           1.0           0.0           2.0        0.00         22.80   \n",
       "1           1.0           1.0           1.0        0.00          7.30   \n",
       "2           1.0           1.0           1.0        1.00         11.30   \n",
       "3           1.0           1.0           1.0        1.00         13.80   \n",
       "4           1.0           1.0           1.0        2.26         13.56   \n",
       "\n",
       "  time_distance      speed  \n",
       "0          1196  14.448161  \n",
       "1            97  21.154639  \n",
       "2           541   5.988909  \n",
       "3           692   9.364162  \n",
       "4           439  11.234624  "
      ]
     },
     "execution_count": 25,
     "metadata": {},
     "output_type": "execute_result"
    }
   ],
   "source": [
    "#calculate the speed in miles per hour ->  1 mile/s = 3600 miles/hour\n",
    "\n",
    "df['speed'] = ((df.trip_distance) / (df.time_distance))*3600\n",
    "\n",
    "#check\n",
    "df.head()"
   ]
  },
  {
   "cell_type": "code",
   "execution_count": 26,
   "id": "e8a1be85",
   "metadata": {},
   "outputs": [
    {
     "data": {
      "image/png": "[encoded data removed]",
      "text/plain": [
       "<Figure size 432x288 with 1 Axes>"
      ]
     },
     "metadata": {
      "needs_background": "light"
     },
     "output_type": "display_data"
    }
   ],
   "source": [
    "#compare the trend of the speed of the trip wrt the amount of the tip\n",
    "\n",
    "plt.figure()\n",
    "plt.scatter(df.speed[0:100], df.tip_amount[0:100], color = (0.5,0.1,0.5,0.6))\n",
    "plt.title('Speed of the Trip vs Tip')\n",
    "plt.xlabel('speed of the trip')\n",
    "plt.ylabel('tip')\n",
    "plt.tight_layout()\n",
    "plt.show()"
   ]
  },
  {
   "cell_type": "code",
   "execution_count": 27,
   "id": "3ff0c839",
   "metadata": {},
   "outputs": [],
   "source": [
    "df[\"speed\"] = pd.to_numeric(df[\"speed\"])"
   ]
  },
  {
   "cell_type": "code",
   "execution_count": 28,
   "id": "30becdbf",
   "metadata": {},
   "outputs": [
    {
     "name": "stdout",
     "output_type": "stream",
     "text": [
      "The correlation between the speed and the amount of the tip is 0.06\n"
     ]
    }
   ],
   "source": [
    "print('The correlation between the speed and the amount of the tip is '+ str(round(np.corrcoef(df['speed'], \\\n",
    "df['tip_amount'])[0][1], 2)))"
   ]
  },
  {
   "cell_type": "markdown",
   "id": "bceb5236",
   "metadata": {},
   "source": [
    "The correlation between the speed and the amount of the tip is 0.01"
   ]
  },
  {
   "cell_type": "code",
   "execution_count": null,
   "id": "2cdb2b9c",
   "metadata": {},
   "outputs": [],
   "source": []
  },
  {
   "cell_type": "markdown",
   "id": "76b61281",
   "metadata": {},
   "source": [
    "Time slot vs Tip amount\n",
    "\n",
    "The Time slots we are referring to are\n",
    "\n",
    "1) 06:00 - 10:00\n",
    "\n",
    "2) 10:00 - 18:00\n",
    "\n",
    "3) 18:00 - 22:00\n",
    "\n",
    "4) 22:00 - 06:00"
   ]
  },
  {
   "cell_type": "code",
   "execution_count": 29,
   "id": "8f7d40e0",
   "metadata": {},
   "outputs": [],
   "source": [
    "df['pickup_hour'] = df.tpep_pickup_datetime.apply(lambda x: x.hour)"
   ]
  },
  {
   "cell_type": "code",
   "execution_count": 30,
   "id": "1ca782bf",
   "metadata": {},
   "outputs": [
    {
     "data": {
      "text/html": [
       "<div>\n",
       "<style scoped>\n",
       "    .dataframe tbody tr th:only-of-type {\n",
       "        vertical-align: middle;\n",
       "    }\n",
       "\n",
       "    .dataframe tbody tr th {\n",
       "        vertical-align: top;\n",
       "    }\n",
       "\n",
       "    .dataframe thead th {\n",
       "        text-align: right;\n",
       "    }\n",
       "</style>\n",
       "<table border=\"1\" class=\"dataframe\">\n",
       "  <thead>\n",
       "    <tr style=\"text-align: right;\">\n",
       "      <th></th>\n",
       "      <th>tpep_pickup_datetime</th>\n",
       "      <th>tpep_dropoff_datetime</th>\n",
       "      <th>passenger_count</th>\n",
       "      <th>trip_distance</th>\n",
       "      <th>PULocationID</th>\n",
       "      <th>DOLocationID</th>\n",
       "      <th>payment_type</th>\n",
       "      <th>tip_amount</th>\n",
       "      <th>total_amount</th>\n",
       "      <th>time_distance</th>\n",
       "      <th>speed</th>\n",
       "      <th>pickup_hour</th>\n",
       "      <th>time_slot</th>\n",
       "    </tr>\n",
       "  </thead>\n",
       "  <tbody>\n",
       "    <tr>\n",
       "      <th>0</th>\n",
       "      <td>2020-01-21 18:48:44</td>\n",
       "      <td>2020-01-21 19:08:40</td>\n",
       "      <td>2.0</td>\n",
       "      <td>4.80</td>\n",
       "      <td>1.0</td>\n",
       "      <td>0.0</td>\n",
       "      <td>2.0</td>\n",
       "      <td>0.00</td>\n",
       "      <td>22.80</td>\n",
       "      <td>1196</td>\n",
       "      <td>14.448161</td>\n",
       "      <td>18</td>\n",
       "      <td>3</td>\n",
       "    </tr>\n",
       "    <tr>\n",
       "      <th>1</th>\n",
       "      <td>2020-01-12 04:08:39</td>\n",
       "      <td>2020-01-12 04:10:16</td>\n",
       "      <td>1.0</td>\n",
       "      <td>0.57</td>\n",
       "      <td>1.0</td>\n",
       "      <td>1.0</td>\n",
       "      <td>1.0</td>\n",
       "      <td>0.00</td>\n",
       "      <td>7.30</td>\n",
       "      <td>97</td>\n",
       "      <td>21.154639</td>\n",
       "      <td>4</td>\n",
       "      <td>4</td>\n",
       "    </tr>\n",
       "    <tr>\n",
       "      <th>2</th>\n",
       "      <td>2020-01-27 12:12:33</td>\n",
       "      <td>2020-01-27 12:21:34</td>\n",
       "      <td>1.0</td>\n",
       "      <td>0.90</td>\n",
       "      <td>1.0</td>\n",
       "      <td>1.0</td>\n",
       "      <td>1.0</td>\n",
       "      <td>1.00</td>\n",
       "      <td>11.30</td>\n",
       "      <td>541</td>\n",
       "      <td>5.988909</td>\n",
       "      <td>12</td>\n",
       "      <td>2</td>\n",
       "    </tr>\n",
       "    <tr>\n",
       "      <th>3</th>\n",
       "      <td>2020-01-31 09:55:46</td>\n",
       "      <td>2020-01-31 10:07:18</td>\n",
       "      <td>1.0</td>\n",
       "      <td>1.80</td>\n",
       "      <td>1.0</td>\n",
       "      <td>1.0</td>\n",
       "      <td>1.0</td>\n",
       "      <td>1.00</td>\n",
       "      <td>13.80</td>\n",
       "      <td>692</td>\n",
       "      <td>9.364162</td>\n",
       "      <td>9</td>\n",
       "      <td>1</td>\n",
       "    </tr>\n",
       "    <tr>\n",
       "      <th>4</th>\n",
       "      <td>2020-01-14 23:51:36</td>\n",
       "      <td>2020-01-14 23:58:55</td>\n",
       "      <td>2.0</td>\n",
       "      <td>1.37</td>\n",
       "      <td>1.0</td>\n",
       "      <td>1.0</td>\n",
       "      <td>1.0</td>\n",
       "      <td>2.26</td>\n",
       "      <td>13.56</td>\n",
       "      <td>439</td>\n",
       "      <td>11.234624</td>\n",
       "      <td>23</td>\n",
       "      <td>4</td>\n",
       "    </tr>\n",
       "  </tbody>\n",
       "</table>\n",
       "</div>"
      ],
      "text/plain": [
       "  tpep_pickup_datetime tpep_dropoff_datetime  passenger_count  trip_distance  \\\n",
       "0  2020-01-21 18:48:44   2020-01-21 19:08:40              2.0           4.80   \n",
       "1  2020-01-12 04:08:39   2020-01-12 04:10:16              1.0           0.57   \n",
       "2  2020-01-27 12:12:33   2020-01-27 12:21:34              1.0           0.90   \n",
       "3  2020-01-31 09:55:46   2020-01-31 10:07:18              1.0           1.80   \n",
       "4  2020-01-14 23:51:36   2020-01-14 23:58:55              2.0           1.37   \n",
       "\n",
       "   PULocationID  DOLocationID  payment_type  tip_amount  total_amount  \\\n",
       "0           1.0           0.0           2.0        0.00         22.80   \n",
       "1           1.0           1.0           1.0        0.00          7.30   \n",
       "2           1.0           1.0           1.0        1.00         11.30   \n",
       "3           1.0           1.0           1.0        1.00         13.80   \n",
       "4           1.0           1.0           1.0        2.26         13.56   \n",
       "\n",
       "  time_distance      speed  pickup_hour  time_slot  \n",
       "0          1196  14.448161           18          3  \n",
       "1            97  21.154639            4          4  \n",
       "2           541   5.988909           12          2  \n",
       "3           692   9.364162            9          1  \n",
       "4           439  11.234624           23          4  "
      ]
     },
     "execution_count": 30,
     "metadata": {},
     "output_type": "execute_result"
    }
   ],
   "source": [
    "cl_f = {1: 4,  2: 4, 2: 4, 3: 4,  4: 4,  5: 4, 6: 1,  7: 1,   8: 1,  9: 1,  10: 2, 11: 2, 12: 2, \\\n",
    "       13: 2, 14: 2, 15: 2, 16: 2, 17: 2 , 18: 3, 19: 3, 20: 3, 21: 3, 22: 4, 23: 4, 0: 4}\n",
    "\n",
    "df['time_slot'] = df['pickup_hour'].map(cl_f)\n",
    "\n",
    "#check\n",
    "df.head()"
   ]
  },
  {
   "cell_type": "code",
   "execution_count": 31,
   "id": "9375dc26",
   "metadata": {},
   "outputs": [],
   "source": [
    "df_tr = df.sample(frac=0.8, random_state=600)\n",
    "df_tr.to_csv('./final1_df.csv')"
   ]
  },
  {
   "cell_type": "code",
   "execution_count": 32,
   "id": "567a57fc",
   "metadata": {},
   "outputs": [],
   "source": [
    "df_te = df.sample(frac=0.2, random_state=600)\n",
    "df_te.to_csv('./final2_df.csv')"
   ]
  },
  {
   "cell_type": "code",
   "execution_count": 33,
   "id": "9a03517f",
   "metadata": {},
   "outputs": [
    {
     "data": {
      "text/plain": [
       "time_slot\n",
       "1    1.822891\n",
       "2    1.839894\n",
       "3    2.016784\n",
       "4    1.978927\n",
       "Name: tip_amount, dtype: float64"
      ]
     },
     "execution_count": 33,
     "metadata": {},
     "output_type": "execute_result"
    }
   ],
   "source": [
    "df.groupby(df.time_slot).tip_amount.mean()"
   ]
  },
  {
   "cell_type": "code",
   "execution_count": null,
   "id": "4a9ad52c",
   "metadata": {},
   "outputs": [],
   "source": []
  },
  {
   "cell_type": "markdown",
   "id": "33f06ad5",
   "metadata": {},
   "source": [
    "PULocationID & DOLocationID vs Tip amount"
   ]
  },
  {
   "cell_type": "code",
   "execution_count": 34,
   "id": "5f03e537",
   "metadata": {},
   "outputs": [
    {
     "data": {
      "text/plain": [
       "PULocationID\n",
       "0.0    1.698306\n",
       "1.0    1.890708\n",
       "Name: tip_amount, dtype: float64"
      ]
     },
     "execution_count": 34,
     "metadata": {},
     "output_type": "execute_result"
    }
   ],
   "source": [
    "df.groupby(df.PULocationID).tip_amount.mean()"
   ]
  },
  {
   "cell_type": "code",
   "execution_count": 35,
   "id": "a19366e9",
   "metadata": {},
   "outputs": [
    {
     "data": {
      "text/plain": [
       "DOLocationID\n",
       "0.0    3.024844\n",
       "1.0    1.796275\n",
       "2.0    3.423464\n",
       "Name: tip_amount, dtype: float64"
      ]
     },
     "execution_count": 35,
     "metadata": {},
     "output_type": "execute_result"
    }
   ],
   "source": [
    "df.groupby(df.DOLocationID).tip_amount.mean()"
   ]
  },
  {
   "cell_type": "code",
   "execution_count": null,
   "id": "4692f5bc",
   "metadata": {},
   "outputs": [],
   "source": []
  },
  {
   "cell_type": "markdown",
   "id": "2f1c904d",
   "metadata": {},
   "source": [
    "Time distance vs Tip amount"
   ]
  },
  {
   "cell_type": "code",
   "execution_count": 36,
   "id": "0b0fdb06",
   "metadata": {},
   "outputs": [
    {
     "data": {
      "image/png": "[encoded data removed]",
      "text/plain": [
       "<Figure size 432x288 with 1 Axes>"
      ]
     },
     "metadata": {
      "needs_background": "light"
     },
     "output_type": "display_data"
    }
   ],
   "source": [
    "#compare the trend of the time distance travelled wrt the amount of the tip\n",
    "\n",
    "plt.figure()\n",
    "plt.scatter(df.time_distance[0:100], df.tip_amount[0:100], color = (0.5,0.1,0.5,0.6))\n",
    "plt.title('Time Distance vs Tip')\n",
    "plt.xlabel('time distance')\n",
    "plt.ylabel('tip')\n",
    "plt.show()"
   ]
  },
  {
   "cell_type": "code",
   "execution_count": 37,
   "id": "1eac419b",
   "metadata": {},
   "outputs": [],
   "source": [
    "df[\"time_distance\"] = pd.to_numeric(df[\"time_distance\"])"
   ]
  },
  {
   "cell_type": "code",
   "execution_count": 38,
   "id": "3bd3d3fb",
   "metadata": {},
   "outputs": [
    {
     "name": "stdout",
     "output_type": "stream",
     "text": [
      "The correlation between the time distance and the amount of the tip is 0.03\n"
     ]
    }
   ],
   "source": [
    "print('The correlation between the time distance and the amount of the tip is '+ str(round(np.corrcoef(df['time_distance'], \\\n",
    "df['tip_amount'])[0][1], 2)))"
   ]
  },
  {
   "cell_type": "code",
   "execution_count": null,
   "id": "d49feefe",
   "metadata": {},
   "outputs": [],
   "source": []
  },
  {
   "cell_type": "markdown",
   "id": "4cae9ecd",
   "metadata": {},
   "source": [
    "#### Payment type vs Tip_amount"
   ]
  },
  {
   "cell_type": "code",
   "execution_count": 39,
   "id": "defd4207",
   "metadata": {},
   "outputs": [
    {
     "data": {
      "text/plain": [
       "payment_type\n",
       "1.0    2.574956\n",
       "2.0    0.000068\n",
       "Name: tip_amount, dtype: float64"
      ]
     },
     "execution_count": 39,
     "metadata": {},
     "output_type": "execute_result"
    }
   ],
   "source": [
    "df.groupby(df.payment_type).tip_amount.mean()"
   ]
  },
  {
   "cell_type": "markdown",
   "id": "9e6d5e25",
   "metadata": {},
   "source": [
    "From this analysis we conclude that the useful feature we could use in order to predict the amount of the tip given by a passenger after a taxi ride in NYC are:\n",
    "\n",
    "passenger_count\n",
    "\n",
    "trip_distance\n",
    "\n",
    "PULocationID\n",
    "\n",
    "payment_type\n",
    "\n",
    "total_amount\n",
    "\n",
    "time_slot\n",
    "\n",
    "DOLocationID\n",
    "\n",
    "PULocationID"
   ]
  },
  {
   "cell_type": "code",
   "execution_count": null,
   "id": "8cf3330e",
   "metadata": {},
   "outputs": [],
   "source": []
  },
  {
   "cell_type": "markdown",
   "id": "eedba3a8",
   "metadata": {},
   "source": [
    "## Analysis of features for Logistic Regression"
   ]
  },
  {
   "cell_type": "markdown",
   "id": "c80d67da",
   "metadata": {},
   "source": [
    "Goals the goal of this task is to create a model capable of predicting the starting district of a taxi ride, classifying Brooklyn as 0 and Manhattan as 1.\n",
    "\n",
    "Before going into the model, our intention is to study the relationships between the different features that could serve us and, in fact, the starting district. In this way, we will try to understand what the trends are and what result our model should tend to predict, under certain conditions.\n",
    "\n",
    "In addition to doing this, we need to structure our features so that they are linearly linked to the output. (example: taken into consideration n significant features, for values greater than a certain moving threshold in the n features, the model will have to predict success, understood as 1, Manhattan.) Therefore, model the values of the features so that the higher ranges are associated with Manhattan, while the lower value ranges in Brooklyn."
   ]
  },
  {
   "cell_type": "code",
   "execution_count": null,
   "id": "8709ce49",
   "metadata": {},
   "outputs": [],
   "source": []
  },
  {
   "cell_type": "markdown",
   "id": "ccf4b6b9",
   "metadata": {},
   "source": [
    "#### Let's analyze tra Class of our dataset"
   ]
  },
  {
   "cell_type": "code",
   "execution_count": 40,
   "id": "45b495b9",
   "metadata": {},
   "outputs": [
    {
     "name": "stdout",
     "output_type": "stream",
     "text": [
      "661\n",
      "80259\n"
     ]
    }
   ],
   "source": [
    "print(len(df[df.PULocationID == 0]))\n",
    "print(len(df[df.PULocationID == 1]))"
   ]
  },
  {
   "cell_type": "code",
   "execution_count": 41,
   "id": "7eec1075",
   "metadata": {},
   "outputs": [
    {
     "data": {
      "image/png": "[encoded data removed]",
      "text/plain": [
       "<Figure size 432x288 with 1 Axes>"
      ]
     },
     "metadata": {
      "needs_background": "light"
     },
     "output_type": "display_data"
    }
   ],
   "source": [
    "sns.countplot(x='PULocationID', data = df , palette= 'hls')\n",
    "plt.show()"
   ]
  },
  {
   "cell_type": "markdown",
   "id": "1c751bf0",
   "metadata": {},
   "source": [
    "Our dataset is strongly unbalanced, so we need to modify it in order to make our model more accurated"
   ]
  },
  {
   "cell_type": "code",
   "execution_count": 42,
   "id": "12a4d732",
   "metadata": {},
   "outputs": [
    {
     "name": "stdout",
     "output_type": "stream",
     "text": [
      "percentage of Manhattan is 99.1831438457736\n",
      "percentage of Brooklyn 0.8168561542263965\n"
     ]
    }
   ],
   "source": [
    "brooklyn = (len(df[df.PULocationID == 0]))\n",
    "manhattan = (len(df[df.PULocationID == 1]))\n",
    "pct_of_manhattan = manhattan / (brooklyn + manhattan)\n",
    "print(\"percentage of Manhattan is\", pct_of_manhattan*100)\n",
    "\n",
    "pct_of_brooklyn = brooklyn/(brooklyn + manhattan)\n",
    "print(\"percentage of Brooklyn\", pct_of_brooklyn*100)"
   ]
  },
  {
   "cell_type": "code",
   "execution_count": 43,
   "id": "b6044889",
   "metadata": {},
   "outputs": [],
   "source": [
    "df_M = df[df.PULocationID == 1].sample(n = 661)\n",
    "df_B = df[df.PULocationID == 0]"
   ]
  },
  {
   "cell_type": "code",
   "execution_count": 44,
   "id": "00fc361a",
   "metadata": {},
   "outputs": [
    {
     "data": {
      "text/html": [
       "<div>\n",
       "<style scoped>\n",
       "    .dataframe tbody tr th:only-of-type {\n",
       "        vertical-align: middle;\n",
       "    }\n",
       "\n",
       "    .dataframe tbody tr th {\n",
       "        vertical-align: top;\n",
       "    }\n",
       "\n",
       "    .dataframe thead th {\n",
       "        text-align: right;\n",
       "    }\n",
       "</style>\n",
       "<table border=\"1\" class=\"dataframe\">\n",
       "  <thead>\n",
       "    <tr style=\"text-align: right;\">\n",
       "      <th></th>\n",
       "      <th>tpep_pickup_datetime</th>\n",
       "      <th>tpep_dropoff_datetime</th>\n",
       "      <th>passenger_count</th>\n",
       "      <th>trip_distance</th>\n",
       "      <th>DOLocationID</th>\n",
       "      <th>payment_type</th>\n",
       "      <th>tip_amount</th>\n",
       "      <th>total_amount</th>\n",
       "      <th>time_distance</th>\n",
       "      <th>speed</th>\n",
       "      <th>pickup_hour</th>\n",
       "      <th>time_slot</th>\n",
       "    </tr>\n",
       "    <tr>\n",
       "      <th>PULocationID</th>\n",
       "      <th></th>\n",
       "      <th></th>\n",
       "      <th></th>\n",
       "      <th></th>\n",
       "      <th></th>\n",
       "      <th></th>\n",
       "      <th></th>\n",
       "      <th></th>\n",
       "      <th></th>\n",
       "      <th></th>\n",
       "      <th></th>\n",
       "      <th></th>\n",
       "    </tr>\n",
       "  </thead>\n",
       "  <tbody>\n",
       "    <tr>\n",
       "      <th>0.0</th>\n",
       "      <td>661</td>\n",
       "      <td>661</td>\n",
       "      <td>661</td>\n",
       "      <td>661</td>\n",
       "      <td>661</td>\n",
       "      <td>661</td>\n",
       "      <td>661</td>\n",
       "      <td>661</td>\n",
       "      <td>661</td>\n",
       "      <td>661</td>\n",
       "      <td>661</td>\n",
       "      <td>661</td>\n",
       "    </tr>\n",
       "    <tr>\n",
       "      <th>1.0</th>\n",
       "      <td>661</td>\n",
       "      <td>661</td>\n",
       "      <td>661</td>\n",
       "      <td>661</td>\n",
       "      <td>661</td>\n",
       "      <td>661</td>\n",
       "      <td>661</td>\n",
       "      <td>661</td>\n",
       "      <td>661</td>\n",
       "      <td>661</td>\n",
       "      <td>661</td>\n",
       "      <td>661</td>\n",
       "    </tr>\n",
       "  </tbody>\n",
       "</table>\n",
       "</div>"
      ],
      "text/plain": [
       "              tpep_pickup_datetime  tpep_dropoff_datetime  passenger_count  \\\n",
       "PULocationID                                                                 \n",
       "0.0                            661                    661              661   \n",
       "1.0                            661                    661              661   \n",
       "\n",
       "              trip_distance  DOLocationID  payment_type  tip_amount  \\\n",
       "PULocationID                                                          \n",
       "0.0                     661           661           661         661   \n",
       "1.0                     661           661           661         661   \n",
       "\n",
       "              total_amount  time_distance  speed  pickup_hour  time_slot  \n",
       "PULocationID                                                              \n",
       "0.0                    661            661    661          661        661  \n",
       "1.0                    661            661    661          661        661  "
      ]
     },
     "execution_count": 44,
     "metadata": {},
     "output_type": "execute_result"
    }
   ],
   "source": [
    "df = pd.concat([df_M, df_B], axis=0, sort=False)\n",
    "\n",
    "#check\n",
    "df.groupby(df.PULocationID).count()"
   ]
  },
  {
   "cell_type": "code",
   "execution_count": 45,
   "id": "4e34d7d9",
   "metadata": {},
   "outputs": [],
   "source": [
    "df.reset_index(drop=True, inplace=True)"
   ]
  },
  {
   "cell_type": "code",
   "execution_count": null,
   "id": "0c66d0d1",
   "metadata": {},
   "outputs": [],
   "source": []
  },
  {
   "cell_type": "markdown",
   "id": "f04bf06b",
   "metadata": {},
   "source": [
    "### Time distance vs PULocationID"
   ]
  },
  {
   "cell_type": "markdown",
   "id": "ea53e7a1",
   "metadata": {},
   "source": [
    "### Pre-consideration\n",
    "\n",
    "We want to explore the relationship between the time_distance and PULocationID, in order to understand if this feature can be useful for our model and how is better placing the threshold"
   ]
  },
  {
   "cell_type": "code",
   "execution_count": 46,
   "id": "29f013b9",
   "metadata": {},
   "outputs": [
    {
     "data": {
      "text/plain": [
       "PULocationID\n",
       "0.0    1.698306\n",
       "1.0    1.959440\n",
       "Name: tip_amount, dtype: float64"
      ]
     },
     "execution_count": 46,
     "metadata": {},
     "output_type": "execute_result"
    }
   ],
   "source": [
    "df.groupby(df.PULocationID).tip_amount.mean()"
   ]
  },
  {
   "cell_type": "code",
   "execution_count": 47,
   "id": "47390950",
   "metadata": {},
   "outputs": [
    {
     "name": "stdout",
     "output_type": "stream",
     "text": [
      "PULocationID\n",
      "0.0    1756.682300\n",
      "1.0     927.476551\n",
      "Name: time_distance, dtype: float64\n"
     ]
    },
    {
     "data": {
      "text/plain": [
       "<matplotlib.collections.PathCollection at 0x209612dd5b0>"
      ]
     },
     "execution_count": 47,
     "metadata": {},
     "output_type": "execute_result"
    },
    {
     "data": {
      "image/png": "[encoded data removed]",
      "text/plain": [
       "<Figure size 432x288 with 1 Axes>"
      ]
     },
     "metadata": {
      "needs_background": "light"
     },
     "output_type": "display_data"
    }
   ],
   "source": [
    "mean_time = df.groupby(df.PULocationID).time_distance.mean()\n",
    "print(mean_time)\n",
    "plt.scatter([0,1] ,mean_time )"
   ]
  },
  {
   "cell_type": "markdown",
   "id": "72a80552",
   "metadata": {},
   "source": [
    "The average time passed in the taxy, for passengers, is bigger when they take it from Brooklyn (0)\n",
    "\n",
    "This it means that our logistic model should predict the target Brooklyn when the values of time_distance are higher than a threshold"
   ]
  },
  {
   "cell_type": "code",
   "execution_count": null,
   "id": "6140eaf0",
   "metadata": {},
   "outputs": [],
   "source": []
  },
  {
   "cell_type": "markdown",
   "id": "5f543a7f",
   "metadata": {},
   "source": [
    "## Passeger count vs PULocationID\n",
    "#### Pre-consideration\n",
    "\n",
    "We want to explore the relationship between the passenger_count and PULocation, in order to understand if this feature can be useful for our model and how is better placing the threshold"
   ]
  },
  {
   "cell_type": "code",
   "execution_count": 48,
   "id": "764a0a1b",
   "metadata": {},
   "outputs": [
    {
     "name": "stdout",
     "output_type": "stream",
     "text": [
      "PULocationID\n",
      "0.0    1.350983\n",
      "1.0    1.511346\n",
      "Name: passenger_count, dtype: float64\n"
     ]
    }
   ],
   "source": [
    "mean_pass = df.groupby(df.PULocationID).passenger_count.mean()\n",
    "print(mean_pass)\n",
    "#plt.scatter([0,1] ,mean_pass )"
   ]
  },
  {
   "cell_type": "code",
   "execution_count": 49,
   "id": "72dd2864",
   "metadata": {},
   "outputs": [
    {
     "data": {
      "text/plain": [
       "<AxesSubplot:>"
      ]
     },
     "execution_count": 49,
     "metadata": {},
     "output_type": "execute_result"
    },
    {
     "data": {
      "image/png": "[encoded data removed]",
      "text/plain": [
       "<Figure size 432x288 with 1 Axes>"
      ]
     },
     "metadata": {
      "needs_background": "light"
     },
     "output_type": "display_data"
    }
   ],
   "source": [
    "df.passenger_count.hist()"
   ]
  },
  {
   "cell_type": "markdown",
   "id": "57e73c87",
   "metadata": {},
   "source": [
    "The feature passenger_count has all the value concentrated near 1, and the mean relative to Brooklyn and Manhattan does not change in a meaningful way. This let us think that this feature in not meaningful for the purpose of our model"
   ]
  },
  {
   "cell_type": "code",
   "execution_count": null,
   "id": "55f6ed4f",
   "metadata": {},
   "outputs": [],
   "source": []
  },
  {
   "cell_type": "markdown",
   "id": "7b24f9ff",
   "metadata": {},
   "source": [
    "### Payment type vs PULocationID"
   ]
  },
  {
   "cell_type": "code",
   "execution_count": 50,
   "id": "84a47827",
   "metadata": {},
   "outputs": [
    {
     "data": {
      "text/html": [
       "<div>\n",
       "<style scoped>\n",
       "    .dataframe tbody tr th:only-of-type {\n",
       "        vertical-align: middle;\n",
       "    }\n",
       "\n",
       "    .dataframe tbody tr th {\n",
       "        vertical-align: top;\n",
       "    }\n",
       "\n",
       "    .dataframe thead th {\n",
       "        text-align: right;\n",
       "    }\n",
       "</style>\n",
       "<table border=\"1\" class=\"dataframe\">\n",
       "  <thead>\n",
       "    <tr style=\"text-align: right;\">\n",
       "      <th></th>\n",
       "      <th>tpep_pickup_datetime</th>\n",
       "      <th>tpep_dropoff_datetime</th>\n",
       "      <th>passenger_count</th>\n",
       "      <th>trip_distance</th>\n",
       "      <th>PULocationID</th>\n",
       "      <th>DOLocationID</th>\n",
       "      <th>payment_type</th>\n",
       "      <th>tip_amount</th>\n",
       "      <th>total_amount</th>\n",
       "      <th>time_distance</th>\n",
       "      <th>speed</th>\n",
       "      <th>pickup_hour</th>\n",
       "      <th>time_slot</th>\n",
       "    </tr>\n",
       "  </thead>\n",
       "  <tbody>\n",
       "    <tr>\n",
       "      <th>0</th>\n",
       "      <td>2021-07-25 08:29:28</td>\n",
       "      <td>2021-07-25 08:43:16</td>\n",
       "      <td>2.0</td>\n",
       "      <td>2.45</td>\n",
       "      <td>1.0</td>\n",
       "      <td>1.0</td>\n",
       "      <td>1.0</td>\n",
       "      <td>3.06</td>\n",
       "      <td>18.36</td>\n",
       "      <td>828</td>\n",
       "      <td>10.652174</td>\n",
       "      <td>8</td>\n",
       "      <td>1</td>\n",
       "    </tr>\n",
       "    <tr>\n",
       "      <th>1</th>\n",
       "      <td>2020-11-16 01:06:38</td>\n",
       "      <td>2020-11-16 01:08:43</td>\n",
       "      <td>1.0</td>\n",
       "      <td>0.18</td>\n",
       "      <td>1.0</td>\n",
       "      <td>1.0</td>\n",
       "      <td>1.0</td>\n",
       "      <td>1.46</td>\n",
       "      <td>8.76</td>\n",
       "      <td>125</td>\n",
       "      <td>5.184000</td>\n",
       "      <td>1</td>\n",
       "      <td>4</td>\n",
       "    </tr>\n",
       "    <tr>\n",
       "      <th>2</th>\n",
       "      <td>2021-04-20 13:53:49</td>\n",
       "      <td>2021-04-20 14:16:05</td>\n",
       "      <td>1.0</td>\n",
       "      <td>7.53</td>\n",
       "      <td>1.0</td>\n",
       "      <td>1.0</td>\n",
       "      <td>2.0</td>\n",
       "      <td>0.00</td>\n",
       "      <td>28.30</td>\n",
       "      <td>1336</td>\n",
       "      <td>20.290419</td>\n",
       "      <td>13</td>\n",
       "      <td>2</td>\n",
       "    </tr>\n",
       "    <tr>\n",
       "      <th>3</th>\n",
       "      <td>2020-10-13 16:08:16</td>\n",
       "      <td>2020-10-13 16:13:58</td>\n",
       "      <td>1.0</td>\n",
       "      <td>0.86</td>\n",
       "      <td>1.0</td>\n",
       "      <td>1.0</td>\n",
       "      <td>1.0</td>\n",
       "      <td>2.06</td>\n",
       "      <td>12.36</td>\n",
       "      <td>342</td>\n",
       "      <td>9.052632</td>\n",
       "      <td>16</td>\n",
       "      <td>2</td>\n",
       "    </tr>\n",
       "    <tr>\n",
       "      <th>4</th>\n",
       "      <td>2020-01-30 21:02:50</td>\n",
       "      <td>2020-01-30 21:33:09</td>\n",
       "      <td>1.0</td>\n",
       "      <td>6.04</td>\n",
       "      <td>1.0</td>\n",
       "      <td>0.0</td>\n",
       "      <td>2.0</td>\n",
       "      <td>0.00</td>\n",
       "      <td>27.80</td>\n",
       "      <td>1819</td>\n",
       "      <td>11.953821</td>\n",
       "      <td>21</td>\n",
       "      <td>3</td>\n",
       "    </tr>\n",
       "  </tbody>\n",
       "</table>\n",
       "</div>"
      ],
      "text/plain": [
       "  tpep_pickup_datetime tpep_dropoff_datetime  passenger_count  trip_distance  \\\n",
       "0  2021-07-25 08:29:28   2021-07-25 08:43:16              2.0           2.45   \n",
       "1  2020-11-16 01:06:38   2020-11-16 01:08:43              1.0           0.18   \n",
       "2  2021-04-20 13:53:49   2021-04-20 14:16:05              1.0           7.53   \n",
       "3  2020-10-13 16:08:16   2020-10-13 16:13:58              1.0           0.86   \n",
       "4  2020-01-30 21:02:50   2020-01-30 21:33:09              1.0           6.04   \n",
       "\n",
       "   PULocationID  DOLocationID  payment_type  tip_amount  total_amount  \\\n",
       "0           1.0           1.0           1.0        3.06         18.36   \n",
       "1           1.0           1.0           1.0        1.46          8.76   \n",
       "2           1.0           1.0           2.0        0.00         28.30   \n",
       "3           1.0           1.0           1.0        2.06         12.36   \n",
       "4           1.0           0.0           2.0        0.00         27.80   \n",
       "\n",
       "   time_distance      speed  pickup_hour  time_slot  \n",
       "0            828  10.652174            8          1  \n",
       "1            125   5.184000            1          4  \n",
       "2           1336  20.290419           13          2  \n",
       "3            342   9.052632           16          2  \n",
       "4           1819  11.953821           21          3  "
      ]
     },
     "execution_count": 50,
     "metadata": {},
     "output_type": "execute_result"
    }
   ],
   "source": [
    "df.head()"
   ]
  },
  {
   "cell_type": "code",
   "execution_count": 51,
   "id": "e15ac88c",
   "metadata": {},
   "outputs": [
    {
     "data": {
      "text/plain": [
       "<AxesSubplot:xlabel='payment_type'>"
      ]
     },
     "execution_count": 51,
     "metadata": {},
     "output_type": "execute_result"
    },
    {
     "data": {
      "image/png": "[encoded data removed]",
      "text/plain": [
       "<Figure size 432x288 with 1 Axes>"
      ]
     },
     "metadata": {
      "needs_background": "light"
     },
     "output_type": "display_data"
    }
   ],
   "source": [
    "pd.crosstab(df.payment_type,df.PULocationID).plot(kind='bar')"
   ]
  },
  {
   "cell_type": "code",
   "execution_count": 52,
   "id": "e86af5bf",
   "metadata": {},
   "outputs": [
    {
     "name": "stdout",
     "output_type": "stream",
     "text": [
      "percentage of payment_type 1, on brooklyn runs is 68.07866868381241\n",
      "percentage of payment_type 2, on brooklyn runs is 31.921331316187597\n"
     ]
    }
   ],
   "source": [
    "br = df[df.PULocationID == 0]\n",
    "mnh = df[df.PULocationID == 1]\n",
    "\n",
    "l1_br = len(br[br.payment_type == 1])\n",
    "l2_br= len(br[br.payment_type == 2])\n",
    "\n",
    "pct_of_l1_b = l1_br/(l1_br+l2_br)\n",
    "pct_of_l2_b = l2_br/(l1_br+l2_br)\n",
    "\n",
    "print(\"percentage of payment_type 1, on brooklyn runs is\", pct_of_l1_b*100)\n",
    "print(\"percentage of payment_type 2, on brooklyn runs is\", pct_of_l2_b*100)"
   ]
  },
  {
   "cell_type": "code",
   "execution_count": 53,
   "id": "a7642535",
   "metadata": {},
   "outputs": [
    {
     "name": "stdout",
     "output_type": "stream",
     "text": [
      "percentage of payment_type 1, on manhattan runs is 72.76853252647504\n",
      "percentage of payment_type 2, on manhattan runs is 27.23146747352496\n"
     ]
    }
   ],
   "source": [
    "br = df[df.PULocationID == 0]\n",
    "mnh = df[df.PULocationID == 1]\n",
    "\n",
    "l1_mnh = len(mnh[mnh.payment_type == 1])\n",
    "l2_mnh= len(mnh[mnh.payment_type == 2])\n",
    "\n",
    "pct_of_l1_m = l1_mnh/(l1_mnh+l2_mnh)\n",
    "pct_of_l2_m = l2_mnh/(l1_mnh+l2_mnh)\n",
    "\n",
    "print(\"percentage of payment_type 1, on manhattan runs is\", pct_of_l1_m*100)\n",
    "print(\"percentage of payment_type 2, on manhattan runs is\", pct_of_l2_m*100)"
   ]
  },
  {
   "cell_type": "markdown",
   "id": "3e3af177",
   "metadata": {},
   "source": [
    "As we can see, the percentage of type payment 1 is higher in the Brooklyn runs, this let us think that when the payment is done by type '1', the probability that the departure borough is \"Brooklyn\" is higher\n",
    "\n",
    "We now compare the tip_amount, total_amount and trip_distance with the PULocationID in order to find out which of this features is usefull for the logistic regression. For this purpose we look at the mean of these features related to Manhattan (1) and Brooklyn (0)"
   ]
  },
  {
   "cell_type": "code",
   "execution_count": null,
   "id": "8291f0d9",
   "metadata": {},
   "outputs": [],
   "source": []
  },
  {
   "cell_type": "markdown",
   "id": "7404564e",
   "metadata": {},
   "source": [
    "### tip_amount vs PULocationID"
   ]
  },
  {
   "cell_type": "code",
   "execution_count": 54,
   "id": "04f4e5b9",
   "metadata": {},
   "outputs": [
    {
     "data": {
      "text/plain": [
       "PULocationID\n",
       "0.0    1.698306\n",
       "1.0    1.959440\n",
       "Name: tip_amount, dtype: float64"
      ]
     },
     "execution_count": 54,
     "metadata": {},
     "output_type": "execute_result"
    }
   ],
   "source": [
    "df.groupby(df.PULocationID).tip_amount.mean()"
   ]
  },
  {
   "cell_type": "markdown",
   "id": "7f054003",
   "metadata": {},
   "source": [
    "The difference between the two values is not significant, in fact the ratio of the two is equal to"
   ]
  },
  {
   "cell_type": "code",
   "execution_count": 55,
   "id": "0a8549ee",
   "metadata": {},
   "outputs": [
    {
     "data": {
      "text/plain": [
       "1.1537618699780863"
      ]
     },
     "execution_count": 55,
     "metadata": {},
     "output_type": "execute_result"
    }
   ],
   "source": [
    "df.groupby(df.PULocationID).tip_amount.mean()[1]/df.groupby(df.PULocationID).tip_amount.mean()[0]"
   ]
  },
  {
   "cell_type": "markdown",
   "id": "bee0e5dc",
   "metadata": {},
   "source": [
    "which is not enough high. Instead we are looking for ratio values greater or equal 1.5"
   ]
  },
  {
   "cell_type": "code",
   "execution_count": null,
   "id": "1203d139",
   "metadata": {},
   "outputs": [],
   "source": []
  },
  {
   "cell_type": "markdown",
   "id": "6f864217",
   "metadata": {},
   "source": [
    "### total_amount vs PULocationID"
   ]
  },
  {
   "cell_type": "code",
   "execution_count": 56,
   "id": "1f601698",
   "metadata": {},
   "outputs": [
    {
     "data": {
      "text/plain": [
       "PULocationID\n",
       "0.0    24.200303\n",
       "1.0    15.712239\n",
       "Name: total_amount, dtype: float64"
      ]
     },
     "execution_count": 56,
     "metadata": {},
     "output_type": "execute_result"
    }
   ],
   "source": [
    "df.groupby(df.PULocationID).total_amount.mean()"
   ]
  },
  {
   "cell_type": "code",
   "execution_count": 57,
   "id": "e2182886",
   "metadata": {},
   "outputs": [
    {
     "data": {
      "text/plain": [
       "1.5402198580945694"
      ]
     },
     "execution_count": 57,
     "metadata": {},
     "output_type": "execute_result"
    }
   ],
   "source": [
    "df.groupby(df.PULocationID).total_amount.mean()[0]/df.groupby(df.PULocationID).total_amount.mean()[1]"
   ]
  },
  {
   "cell_type": "code",
   "execution_count": null,
   "id": "9d9a6a53",
   "metadata": {},
   "outputs": [],
   "source": []
  },
  {
   "cell_type": "markdown",
   "id": "58bd729a",
   "metadata": {},
   "source": [
    "### trip_distance vs PULocationID"
   ]
  },
  {
   "cell_type": "code",
   "execution_count": 58,
   "id": "70ba8e03",
   "metadata": {},
   "outputs": [
    {
     "data": {
      "text/plain": [
       "PULocationID\n",
       "0.0    3.701543\n",
       "1.0    2.248064\n",
       "Name: trip_distance, dtype: float64"
      ]
     },
     "execution_count": 58,
     "metadata": {},
     "output_type": "execute_result"
    }
   ],
   "source": [
    "df.groupby(df.PULocationID).trip_distance.mean()"
   ]
  },
  {
   "cell_type": "markdown",
   "id": "ff4c49e3",
   "metadata": {},
   "source": [
    "Ratio:"
   ]
  },
  {
   "cell_type": "code",
   "execution_count": 59,
   "id": "cde6693e",
   "metadata": {},
   "outputs": [
    {
     "data": {
      "text/plain": [
       "1.646547373096361"
      ]
     },
     "execution_count": 59,
     "metadata": {},
     "output_type": "execute_result"
    }
   ],
   "source": [
    "df.groupby(df.PULocationID).trip_distance.mean()[0]/df.groupby(df.PULocationID).trip_distance.mean()[1]"
   ]
  },
  {
   "cell_type": "markdown",
   "id": "15e99c21",
   "metadata": {},
   "source": [
    "So in the end the two features which is meaningful to take are total_amount and trip_distance\n",
    "\n",
    "From this analysis we conclude that the useful feature we could use in order to predict the departure borough of a taxi ride in NYC are:\n",
    "\n",
    "time_distance\n",
    "\n",
    "payment_type\n",
    "\n",
    "total_amount\n",
    "\n",
    "trip_tristance"
   ]
  },
  {
   "cell_type": "code",
   "execution_count": null,
   "id": "2cf2ad8c",
   "metadata": {},
   "outputs": [],
   "source": []
  },
  {
   "cell_type": "code",
   "execution_count": null,
   "id": "4e87e937",
   "metadata": {},
   "outputs": [],
   "source": []
  },
  {
   "cell_type": "markdown",
   "id": "4e21e744",
   "metadata": {},
   "source": [
    "## Linear Regression Model"
   ]
  },
  {
   "cell_type": "markdown",
   "id": "73dea266",
   "metadata": {},
   "source": [
    "To create our Linear Regression Model we use passenger_count, trip_distance, PULocationID, payment_type, total_amount, time_slot features."
   ]
  },
  {
   "cell_type": "markdown",
   "id": "2fce9da6",
   "metadata": {},
   "source": [
    "#### Let's adapt the dataset to our purpose!"
   ]
  },
  {
   "cell_type": "code",
   "execution_count": 60,
   "id": "038a80c0",
   "metadata": {},
   "outputs": [],
   "source": [
    "df1 = pd.read_csv('final2_df.csv')"
   ]
  },
  {
   "cell_type": "code",
   "execution_count": 61,
   "id": "f5440794",
   "metadata": {},
   "outputs": [
    {
     "name": "stdout",
     "output_type": "stream",
     "text": [
      "16184\n"
     ]
    }
   ],
   "source": [
    "print(len(df1))"
   ]
  },
  {
   "cell_type": "code",
   "execution_count": 62,
   "id": "8d1f450d",
   "metadata": {},
   "outputs": [],
   "source": [
    "columns = ['passenger_count', 'trip_distance', 'PULocationID', 'DOLocationID', 'payment_type', 'total_amount', 'time_slot', 'tip_amount']\n",
    "df = df1[columns]"
   ]
  },
  {
   "cell_type": "code",
   "execution_count": 63,
   "id": "cf483307",
   "metadata": {},
   "outputs": [
    {
     "data": {
      "text/html": [
       "<div>\n",
       "<style scoped>\n",
       "    .dataframe tbody tr th:only-of-type {\n",
       "        vertical-align: middle;\n",
       "    }\n",
       "\n",
       "    .dataframe tbody tr th {\n",
       "        vertical-align: top;\n",
       "    }\n",
       "\n",
       "    .dataframe thead th {\n",
       "        text-align: right;\n",
       "    }\n",
       "</style>\n",
       "<table border=\"1\" class=\"dataframe\">\n",
       "  <thead>\n",
       "    <tr style=\"text-align: right;\">\n",
       "      <th></th>\n",
       "      <th>passenger_count</th>\n",
       "      <th>trip_distance</th>\n",
       "      <th>PULocationID</th>\n",
       "      <th>DOLocationID</th>\n",
       "      <th>payment_type</th>\n",
       "      <th>total_amount</th>\n",
       "      <th>time_slot</th>\n",
       "      <th>tip_amount</th>\n",
       "    </tr>\n",
       "  </thead>\n",
       "  <tbody>\n",
       "    <tr>\n",
       "      <th>0</th>\n",
       "      <td>2.0</td>\n",
       "      <td>1.10</td>\n",
       "      <td>1.0</td>\n",
       "      <td>1.0</td>\n",
       "      <td>2.0</td>\n",
       "      <td>10.30</td>\n",
       "      <td>3</td>\n",
       "      <td>0.00</td>\n",
       "    </tr>\n",
       "    <tr>\n",
       "      <th>1</th>\n",
       "      <td>1.0</td>\n",
       "      <td>3.90</td>\n",
       "      <td>1.0</td>\n",
       "      <td>1.0</td>\n",
       "      <td>1.0</td>\n",
       "      <td>23.15</td>\n",
       "      <td>2</td>\n",
       "      <td>3.85</td>\n",
       "    </tr>\n",
       "    <tr>\n",
       "      <th>2</th>\n",
       "      <td>2.0</td>\n",
       "      <td>1.10</td>\n",
       "      <td>1.0</td>\n",
       "      <td>1.0</td>\n",
       "      <td>2.0</td>\n",
       "      <td>9.30</td>\n",
       "      <td>2</td>\n",
       "      <td>0.00</td>\n",
       "    </tr>\n",
       "    <tr>\n",
       "      <th>3</th>\n",
       "      <td>1.0</td>\n",
       "      <td>0.70</td>\n",
       "      <td>1.0</td>\n",
       "      <td>1.0</td>\n",
       "      <td>2.0</td>\n",
       "      <td>4.80</td>\n",
       "      <td>1</td>\n",
       "      <td>0.00</td>\n",
       "    </tr>\n",
       "    <tr>\n",
       "      <th>4</th>\n",
       "      <td>1.0</td>\n",
       "      <td>2.01</td>\n",
       "      <td>1.0</td>\n",
       "      <td>1.0</td>\n",
       "      <td>2.0</td>\n",
       "      <td>16.80</td>\n",
       "      <td>2</td>\n",
       "      <td>0.00</td>\n",
       "    </tr>\n",
       "  </tbody>\n",
       "</table>\n",
       "</div>"
      ],
      "text/plain": [
       "   passenger_count  trip_distance  PULocationID  DOLocationID  payment_type  \\\n",
       "0              2.0           1.10           1.0           1.0           2.0   \n",
       "1              1.0           3.90           1.0           1.0           1.0   \n",
       "2              2.0           1.10           1.0           1.0           2.0   \n",
       "3              1.0           0.70           1.0           1.0           2.0   \n",
       "4              1.0           2.01           1.0           1.0           2.0   \n",
       "\n",
       "   total_amount  time_slot  tip_amount  \n",
       "0         10.30          3        0.00  \n",
       "1         23.15          2        3.85  \n",
       "2          9.30          2        0.00  \n",
       "3          4.80          1        0.00  \n",
       "4         16.80          2        0.00  "
      ]
     },
     "execution_count": 63,
     "metadata": {},
     "output_type": "execute_result"
    }
   ],
   "source": [
    "df.head()"
   ]
  },
  {
   "cell_type": "code",
   "execution_count": 65,
   "id": "2fd749bf",
   "metadata": {},
   "outputs": [
    {
     "data": {
      "text/html": [
       "<div>\n",
       "<style scoped>\n",
       "    .dataframe tbody tr th:only-of-type {\n",
       "        vertical-align: middle;\n",
       "    }\n",
       "\n",
       "    .dataframe tbody tr th {\n",
       "        vertical-align: top;\n",
       "    }\n",
       "\n",
       "    .dataframe thead th {\n",
       "        text-align: right;\n",
       "    }\n",
       "</style>\n",
       "<table border=\"1\" class=\"dataframe\">\n",
       "  <thead>\n",
       "    <tr style=\"text-align: right;\">\n",
       "      <th></th>\n",
       "      <th>tpep_pickup_datetime</th>\n",
       "      <th>tpep_dropoff_datetime</th>\n",
       "      <th>passenger_count</th>\n",
       "      <th>trip_distance</th>\n",
       "      <th>PULocationID</th>\n",
       "      <th>DOLocationID</th>\n",
       "      <th>payment_type</th>\n",
       "      <th>tip_amount</th>\n",
       "      <th>total_amount</th>\n",
       "      <th>time_distance</th>\n",
       "      <th>speed</th>\n",
       "      <th>pickup_hour</th>\n",
       "      <th>time_slot</th>\n",
       "    </tr>\n",
       "  </thead>\n",
       "  <tbody>\n",
       "    <tr>\n",
       "      <th>0</th>\n",
       "      <td>2021-03-27 20:46:22</td>\n",
       "      <td>2021-03-27 20:53:27</td>\n",
       "      <td>2.0</td>\n",
       "      <td>1.10</td>\n",
       "      <td>1.0</td>\n",
       "      <td>1.0</td>\n",
       "      <td>2.0</td>\n",
       "      <td>0.00</td>\n",
       "      <td>10.30</td>\n",
       "      <td>425</td>\n",
       "      <td>9.317647</td>\n",
       "      <td>20</td>\n",
       "      <td>3</td>\n",
       "    </tr>\n",
       "    <tr>\n",
       "      <th>1</th>\n",
       "      <td>2021-01-12 12:43:02</td>\n",
       "      <td>2021-01-12 13:01:34</td>\n",
       "      <td>1.0</td>\n",
       "      <td>3.90</td>\n",
       "      <td>1.0</td>\n",
       "      <td>1.0</td>\n",
       "      <td>1.0</td>\n",
       "      <td>3.85</td>\n",
       "      <td>23.15</td>\n",
       "      <td>1112</td>\n",
       "      <td>12.625899</td>\n",
       "      <td>12</td>\n",
       "      <td>2</td>\n",
       "    </tr>\n",
       "    <tr>\n",
       "      <th>2</th>\n",
       "      <td>2021-04-20 10:21:39</td>\n",
       "      <td>2021-04-20 10:27:47</td>\n",
       "      <td>2.0</td>\n",
       "      <td>1.10</td>\n",
       "      <td>1.0</td>\n",
       "      <td>1.0</td>\n",
       "      <td>2.0</td>\n",
       "      <td>0.00</td>\n",
       "      <td>9.30</td>\n",
       "      <td>368</td>\n",
       "      <td>10.760870</td>\n",
       "      <td>10</td>\n",
       "      <td>2</td>\n",
       "    </tr>\n",
       "    <tr>\n",
       "      <th>3</th>\n",
       "      <td>2020-05-06 07:07:20</td>\n",
       "      <td>2020-05-06 07:09:25</td>\n",
       "      <td>1.0</td>\n",
       "      <td>0.70</td>\n",
       "      <td>1.0</td>\n",
       "      <td>1.0</td>\n",
       "      <td>2.0</td>\n",
       "      <td>0.00</td>\n",
       "      <td>4.80</td>\n",
       "      <td>125</td>\n",
       "      <td>20.160000</td>\n",
       "      <td>7</td>\n",
       "      <td>1</td>\n",
       "    </tr>\n",
       "    <tr>\n",
       "      <th>4</th>\n",
       "      <td>2020-11-03 10:55:31</td>\n",
       "      <td>2020-11-03 11:16:12</td>\n",
       "      <td>1.0</td>\n",
       "      <td>2.01</td>\n",
       "      <td>1.0</td>\n",
       "      <td>1.0</td>\n",
       "      <td>2.0</td>\n",
       "      <td>0.00</td>\n",
       "      <td>16.80</td>\n",
       "      <td>1241</td>\n",
       "      <td>5.830782</td>\n",
       "      <td>10</td>\n",
       "      <td>2</td>\n",
       "    </tr>\n",
       "  </tbody>\n",
       "</table>\n",
       "</div>"
      ],
      "text/plain": [
       "  tpep_pickup_datetime tpep_dropoff_datetime  passenger_count  trip_distance  \\\n",
       "0  2021-03-27 20:46:22   2021-03-27 20:53:27              2.0           1.10   \n",
       "1  2021-01-12 12:43:02   2021-01-12 13:01:34              1.0           3.90   \n",
       "2  2021-04-20 10:21:39   2021-04-20 10:27:47              2.0           1.10   \n",
       "3  2020-05-06 07:07:20   2020-05-06 07:09:25              1.0           0.70   \n",
       "4  2020-11-03 10:55:31   2020-11-03 11:16:12              1.0           2.01   \n",
       "\n",
       "   PULocationID  DOLocationID  payment_type  tip_amount  total_amount  \\\n",
       "0           1.0           1.0           2.0        0.00         10.30   \n",
       "1           1.0           1.0           1.0        3.85         23.15   \n",
       "2           1.0           1.0           2.0        0.00          9.30   \n",
       "3           1.0           1.0           2.0        0.00          4.80   \n",
       "4           1.0           1.0           2.0        0.00         16.80   \n",
       "\n",
       "   time_distance      speed  pickup_hour  time_slot  \n",
       "0            425   9.317647           20          3  \n",
       "1           1112  12.625899           12          2  \n",
       "2            368  10.760870           10          2  \n",
       "3            125  20.160000            7          1  \n",
       "4           1241   5.830782           10          2  "
      ]
     },
     "execution_count": 65,
     "metadata": {},
     "output_type": "execute_result"
    }
   ],
   "source": [
    "df1.drop('Unnamed: 0', axis = 1, inplace = True)\n",
    "df1.head()"
   ]
  },
  {
   "cell_type": "code",
   "execution_count": 66,
   "id": "fbc6026d",
   "metadata": {},
   "outputs": [
    {
     "data": {
      "text/plain": [
       "tpep_pickup_datetime     0\n",
       "tpep_dropoff_datetime    0\n",
       "passenger_count          0\n",
       "trip_distance            0\n",
       "PULocationID             0\n",
       "DOLocationID             0\n",
       "payment_type             0\n",
       "tip_amount               0\n",
       "total_amount             0\n",
       "time_distance            0\n",
       "speed                    0\n",
       "pickup_hour              0\n",
       "time_slot                0\n",
       "dtype: int64"
      ]
     },
     "execution_count": 66,
     "metadata": {},
     "output_type": "execute_result"
    }
   ],
   "source": [
    "df1.isnull().sum()"
   ]
  },
  {
   "cell_type": "code",
   "execution_count": 67,
   "id": "2dc6036c",
   "metadata": {},
   "outputs": [],
   "source": [
    "df1['speed'].fillna(0, inplace = True)"
   ]
  },
  {
   "cell_type": "code",
   "execution_count": 68,
   "id": "917011cc",
   "metadata": {},
   "outputs": [],
   "source": [
    "scaler = StandardScaler()"
   ]
  },
  {
   "cell_type": "code",
   "execution_count": 69,
   "id": "e5f46216",
   "metadata": {},
   "outputs": [],
   "source": [
    "df_sc = scaler.fit_transform(df.iloc[:, :7])"
   ]
  },
  {
   "cell_type": "code",
   "execution_count": 70,
   "id": "84e5b87b",
   "metadata": {},
   "outputs": [
    {
     "data": {
      "text/html": [
       "<div>\n",
       "<style scoped>\n",
       "    .dataframe tbody tr th:only-of-type {\n",
       "        vertical-align: middle;\n",
       "    }\n",
       "\n",
       "    .dataframe tbody tr th {\n",
       "        vertical-align: top;\n",
       "    }\n",
       "\n",
       "    .dataframe thead th {\n",
       "        text-align: right;\n",
       "    }\n",
       "</style>\n",
       "<table border=\"1\" class=\"dataframe\">\n",
       "  <thead>\n",
       "    <tr style=\"text-align: right;\">\n",
       "      <th></th>\n",
       "      <th>passenger_count</th>\n",
       "      <th>trip_distance</th>\n",
       "      <th>PULocationID</th>\n",
       "      <th>DOLocationID</th>\n",
       "      <th>payment_type</th>\n",
       "      <th>total_amount</th>\n",
       "      <th>time_slot</th>\n",
       "      <th>tip_amount</th>\n",
       "    </tr>\n",
       "  </thead>\n",
       "  <tbody>\n",
       "    <tr>\n",
       "      <th>0</th>\n",
       "      <td>2.0</td>\n",
       "      <td>1.10</td>\n",
       "      <td>1.0</td>\n",
       "      <td>1.0</td>\n",
       "      <td>2.0</td>\n",
       "      <td>10.30</td>\n",
       "      <td>3</td>\n",
       "      <td>0.00</td>\n",
       "    </tr>\n",
       "    <tr>\n",
       "      <th>1</th>\n",
       "      <td>1.0</td>\n",
       "      <td>3.90</td>\n",
       "      <td>1.0</td>\n",
       "      <td>1.0</td>\n",
       "      <td>1.0</td>\n",
       "      <td>23.15</td>\n",
       "      <td>2</td>\n",
       "      <td>3.85</td>\n",
       "    </tr>\n",
       "    <tr>\n",
       "      <th>2</th>\n",
       "      <td>2.0</td>\n",
       "      <td>1.10</td>\n",
       "      <td>1.0</td>\n",
       "      <td>1.0</td>\n",
       "      <td>2.0</td>\n",
       "      <td>9.30</td>\n",
       "      <td>2</td>\n",
       "      <td>0.00</td>\n",
       "    </tr>\n",
       "    <tr>\n",
       "      <th>3</th>\n",
       "      <td>1.0</td>\n",
       "      <td>0.70</td>\n",
       "      <td>1.0</td>\n",
       "      <td>1.0</td>\n",
       "      <td>2.0</td>\n",
       "      <td>4.80</td>\n",
       "      <td>1</td>\n",
       "      <td>0.00</td>\n",
       "    </tr>\n",
       "    <tr>\n",
       "      <th>4</th>\n",
       "      <td>1.0</td>\n",
       "      <td>2.01</td>\n",
       "      <td>1.0</td>\n",
       "      <td>1.0</td>\n",
       "      <td>2.0</td>\n",
       "      <td>16.80</td>\n",
       "      <td>2</td>\n",
       "      <td>0.00</td>\n",
       "    </tr>\n",
       "  </tbody>\n",
       "</table>\n",
       "</div>"
      ],
      "text/plain": [
       "   passenger_count  trip_distance  PULocationID  DOLocationID  payment_type  \\\n",
       "0              2.0           1.10           1.0           1.0           2.0   \n",
       "1              1.0           3.90           1.0           1.0           1.0   \n",
       "2              2.0           1.10           1.0           1.0           2.0   \n",
       "3              1.0           0.70           1.0           1.0           2.0   \n",
       "4              1.0           2.01           1.0           1.0           2.0   \n",
       "\n",
       "   total_amount  time_slot  tip_amount  \n",
       "0         10.30          3        0.00  \n",
       "1         23.15          2        3.85  \n",
       "2          9.30          2        0.00  \n",
       "3          4.80          1        0.00  \n",
       "4         16.80          2        0.00  "
      ]
     },
     "execution_count": 70,
     "metadata": {},
     "output_type": "execute_result"
    }
   ],
   "source": [
    "df.head()"
   ]
  },
  {
   "cell_type": "code",
   "execution_count": 71,
   "id": "8c0214f5",
   "metadata": {},
   "outputs": [],
   "source": [
    "lr = LinearRegression()"
   ]
  },
  {
   "cell_type": "code",
   "execution_count": null,
   "id": "fc61d76d",
   "metadata": {},
   "outputs": [],
   "source": []
  },
  {
   "cell_type": "markdown",
   "id": "9580132b",
   "metadata": {},
   "source": [
    "### Normalization of the features in order to have an homogeneous range."
   ]
  },
  {
   "cell_type": "code",
   "execution_count": 72,
   "id": "b5b586d1",
   "metadata": {},
   "outputs": [],
   "source": [
    "passenger_sc = (df['passenger_count'] -np.mean(df['passenger_count'])) / np.std(df['passenger_count'])\n",
    "df['passenger_count'] = passenger_sc"
   ]
  },
  {
   "cell_type": "code",
   "execution_count": 73,
   "id": "07d0403d",
   "metadata": {},
   "outputs": [],
   "source": [
    "distance_sc = (df['trip_distance'] -np.mean(df['trip_distance'])) / np.std(df['trip_distance'])\n",
    "df['trip_distance'] = distance_sc"
   ]
  },
  {
   "cell_type": "code",
   "execution_count": 74,
   "id": "8aeb0f0c",
   "metadata": {},
   "outputs": [],
   "source": [
    "total_sc = (df['total_amount'] -np.mean(df['total_amount'])) / np.std(df['total_amount'])\n",
    "df['total_amount'] = total_sc"
   ]
  },
  {
   "cell_type": "code",
   "execution_count": 75,
   "id": "bcdf9b77",
   "metadata": {},
   "outputs": [],
   "source": [
    "tip_sc = (df['tip_amount'] -np.mean(df['tip_amount'])) / np.std(df['tip_amount'])\n",
    "df['tip_amount'] = tip_sc"
   ]
  },
  {
   "cell_type": "code",
   "execution_count": 76,
   "id": "64809d0b",
   "metadata": {},
   "outputs": [
    {
     "data": {
      "text/html": [
       "<div>\n",
       "<style scoped>\n",
       "    .dataframe tbody tr th:only-of-type {\n",
       "        vertical-align: middle;\n",
       "    }\n",
       "\n",
       "    .dataframe tbody tr th {\n",
       "        vertical-align: top;\n",
       "    }\n",
       "\n",
       "    .dataframe thead th {\n",
       "        text-align: right;\n",
       "    }\n",
       "</style>\n",
       "<table border=\"1\" class=\"dataframe\">\n",
       "  <thead>\n",
       "    <tr style=\"text-align: right;\">\n",
       "      <th></th>\n",
       "      <th>passenger_count</th>\n",
       "      <th>trip_distance</th>\n",
       "      <th>PULocationID</th>\n",
       "      <th>DOLocationID</th>\n",
       "      <th>payment_type</th>\n",
       "      <th>total_amount</th>\n",
       "      <th>time_slot</th>\n",
       "      <th>tip_amount</th>\n",
       "    </tr>\n",
       "  </thead>\n",
       "  <tbody>\n",
       "    <tr>\n",
       "      <th>0</th>\n",
       "      <td>0.513064</td>\n",
       "      <td>-0.481538</td>\n",
       "      <td>1.0</td>\n",
       "      <td>1.0</td>\n",
       "      <td>2.0</td>\n",
       "      <td>-0.600357</td>\n",
       "      <td>3</td>\n",
       "      <td>-0.685562</td>\n",
       "    </tr>\n",
       "    <tr>\n",
       "      <th>1</th>\n",
       "      <td>-0.431796</td>\n",
       "      <td>0.670075</td>\n",
       "      <td>1.0</td>\n",
       "      <td>1.0</td>\n",
       "      <td>1.0</td>\n",
       "      <td>0.774339</td>\n",
       "      <td>2</td>\n",
       "      <td>0.700900</td>\n",
       "    </tr>\n",
       "    <tr>\n",
       "      <th>2</th>\n",
       "      <td>0.513064</td>\n",
       "      <td>-0.481538</td>\n",
       "      <td>1.0</td>\n",
       "      <td>1.0</td>\n",
       "      <td>2.0</td>\n",
       "      <td>-0.707337</td>\n",
       "      <td>2</td>\n",
       "      <td>-0.685562</td>\n",
       "    </tr>\n",
       "    <tr>\n",
       "      <th>3</th>\n",
       "      <td>-0.431796</td>\n",
       "      <td>-0.646054</td>\n",
       "      <td>1.0</td>\n",
       "      <td>1.0</td>\n",
       "      <td>2.0</td>\n",
       "      <td>-1.188748</td>\n",
       "      <td>1</td>\n",
       "      <td>-0.685562</td>\n",
       "    </tr>\n",
       "    <tr>\n",
       "      <th>4</th>\n",
       "      <td>-0.431796</td>\n",
       "      <td>-0.107264</td>\n",
       "      <td>1.0</td>\n",
       "      <td>1.0</td>\n",
       "      <td>2.0</td>\n",
       "      <td>0.095015</td>\n",
       "      <td>2</td>\n",
       "      <td>-0.685562</td>\n",
       "    </tr>\n",
       "  </tbody>\n",
       "</table>\n",
       "</div>"
      ],
      "text/plain": [
       "   passenger_count  trip_distance  PULocationID  DOLocationID  payment_type  \\\n",
       "0         0.513064      -0.481538           1.0           1.0           2.0   \n",
       "1        -0.431796       0.670075           1.0           1.0           1.0   \n",
       "2         0.513064      -0.481538           1.0           1.0           2.0   \n",
       "3        -0.431796      -0.646054           1.0           1.0           2.0   \n",
       "4        -0.431796      -0.107264           1.0           1.0           2.0   \n",
       "\n",
       "   total_amount  time_slot  tip_amount  \n",
       "0     -0.600357          3   -0.685562  \n",
       "1      0.774339          2    0.700900  \n",
       "2     -0.707337          2   -0.685562  \n",
       "3     -1.188748          1   -0.685562  \n",
       "4      0.095015          2   -0.685562  "
      ]
     },
     "execution_count": 76,
     "metadata": {},
     "output_type": "execute_result"
    }
   ],
   "source": [
    "df.head()"
   ]
  },
  {
   "cell_type": "markdown",
   "id": "39e3a426",
   "metadata": {},
   "source": [
    "### Split dataset in training and test sets."
   ]
  },
  {
   "cell_type": "code",
   "execution_count": 77,
   "id": "2df96df9",
   "metadata": {},
   "outputs": [],
   "source": [
    "x_train, x_test, y_train, y_test = train_test_split(df.iloc[:, 0:7], df['tip_amount'], test_size = 0.3, random_state = 12345)"
   ]
  },
  {
   "cell_type": "code",
   "execution_count": 78,
   "id": "ca2272ce",
   "metadata": {},
   "outputs": [
    {
     "data": {
      "text/plain": [
       "11328"
      ]
     },
     "execution_count": 78,
     "metadata": {},
     "output_type": "execute_result"
    }
   ],
   "source": [
    "len(x_train)"
   ]
  },
  {
   "cell_type": "code",
   "execution_count": 79,
   "id": "5f0ca55e",
   "metadata": {},
   "outputs": [
    {
     "data": {
      "text/plain": [
       "4856"
      ]
     },
     "execution_count": 79,
     "metadata": {},
     "output_type": "execute_result"
    }
   ],
   "source": [
    "len(x_test)"
   ]
  },
  {
   "cell_type": "code",
   "execution_count": 80,
   "id": "249a69e5",
   "metadata": {},
   "outputs": [
    {
     "data": {
      "text/plain": [
       "11328"
      ]
     },
     "execution_count": 80,
     "metadata": {},
     "output_type": "execute_result"
    }
   ],
   "source": [
    "len(y_train)"
   ]
  },
  {
   "cell_type": "code",
   "execution_count": 81,
   "id": "122eb3a2",
   "metadata": {},
   "outputs": [
    {
     "data": {
      "text/plain": [
       "4856"
      ]
     },
     "execution_count": 81,
     "metadata": {},
     "output_type": "execute_result"
    }
   ],
   "source": [
    "len(y_test)"
   ]
  },
  {
   "cell_type": "code",
   "execution_count": 82,
   "id": "4b3ef006",
   "metadata": {},
   "outputs": [
    {
     "data": {
      "text/plain": [
       "LinearRegression()"
      ]
     },
     "execution_count": 82,
     "metadata": {},
     "output_type": "execute_result"
    }
   ],
   "source": [
    "lr.fit(x_train, y_train)"
   ]
  },
  {
   "cell_type": "code",
   "execution_count": 83,
   "id": "52d2bec8",
   "metadata": {},
   "outputs": [
    {
     "data": {
      "text/plain": [
       "array([ 0.07444125, -0.07301855, -0.87650496, ..., -0.10888802,\n",
       "        1.13886084, -0.57334507])"
      ]
     },
     "execution_count": 83,
     "metadata": {},
     "output_type": "execute_result"
    }
   ],
   "source": [
    "pred = lr.predict(x_test)\n",
    "pred"
   ]
  },
  {
   "cell_type": "code",
   "execution_count": 84,
   "id": "9ceea5a9",
   "metadata": {},
   "outputs": [
    {
     "data": {
      "image/png": "[encoded data removed]",
      "text/plain": [
       "<Figure size 432x288 with 1 Axes>"
      ]
     },
     "metadata": {
      "needs_background": "light"
     },
     "output_type": "display_data"
    }
   ],
   "source": [
    "#plot relationship between true and predicted tips\n",
    "plt.scatter(y_test, pred)\n",
    "plt.xlabel('True tips')\n",
    "plt.ylabel('Predicted tips')\n",
    "plt.xlim((0, 1))\n",
    "plt.ylim((0, 1))\n",
    "plt.show()"
   ]
  },
  {
   "cell_type": "code",
   "execution_count": 85,
   "id": "7c8fd32d",
   "metadata": {},
   "outputs": [
    {
     "data": {
      "image/png": "[encoded data removed]",
      "text/plain": [
       "<Figure size 432x288 with 1 Axes>"
      ]
     },
     "metadata": {
      "needs_background": "light"
     },
     "output_type": "display_data"
    }
   ],
   "source": [
    "plt.plot(y_test, 'ro')\n",
    "plt.plot(pred, 'ro', color = 'blue')\n",
    "plt.show()"
   ]
  },
  {
   "cell_type": "code",
   "execution_count": 86,
   "id": "a34368b8",
   "metadata": {},
   "outputs": [
    {
     "data": {
      "text/html": [
       "<div>\n",
       "<style scoped>\n",
       "    .dataframe tbody tr th:only-of-type {\n",
       "        vertical-align: middle;\n",
       "    }\n",
       "\n",
       "    .dataframe tbody tr th {\n",
       "        vertical-align: top;\n",
       "    }\n",
       "\n",
       "    .dataframe thead th {\n",
       "        text-align: right;\n",
       "    }\n",
       "</style>\n",
       "<table border=\"1\" class=\"dataframe\">\n",
       "  <thead>\n",
       "    <tr style=\"text-align: right;\">\n",
       "      <th></th>\n",
       "      <th>coeff</th>\n",
       "    </tr>\n",
       "  </thead>\n",
       "  <tbody>\n",
       "    <tr>\n",
       "      <th>passenger_count</th>\n",
       "      <td>0.004751</td>\n",
       "    </tr>\n",
       "    <tr>\n",
       "      <th>trip_distance</th>\n",
       "      <td>-0.451180</td>\n",
       "    </tr>\n",
       "    <tr>\n",
       "      <th>PULocationID</th>\n",
       "      <td>0.865711</td>\n",
       "    </tr>\n",
       "    <tr>\n",
       "      <th>DOLocationID</th>\n",
       "      <td>-0.006400</td>\n",
       "    </tr>\n",
       "    <tr>\n",
       "      <th>payment_type</th>\n",
       "      <td>-0.642949</td>\n",
       "    </tr>\n",
       "    <tr>\n",
       "      <th>total_amount</th>\n",
       "      <td>0.880996</td>\n",
       "    </tr>\n",
       "    <tr>\n",
       "      <th>time_slot</th>\n",
       "      <td>-0.003667</td>\n",
       "    </tr>\n",
       "  </tbody>\n",
       "</table>\n",
       "</div>"
      ],
      "text/plain": [
       "                    coeff\n",
       "passenger_count  0.004751\n",
       "trip_distance   -0.451180\n",
       "PULocationID     0.865711\n",
       "DOLocationID    -0.006400\n",
       "payment_type    -0.642949\n",
       "total_amount     0.880996\n",
       "time_slot       -0.003667"
      ]
     },
     "execution_count": 86,
     "metadata": {},
     "output_type": "execute_result"
    }
   ],
   "source": [
    "coeff = pd.DataFrame(lr.coef_, df.columns[0:7], columns=['coeff'])\n",
    "coeff"
   ]
  },
  {
   "cell_type": "code",
   "execution_count": 87,
   "id": "172f312e",
   "metadata": {},
   "outputs": [
    {
     "name": "stdout",
     "output_type": "stream",
     "text": [
      "MAE: 0.24825021795490676\n",
      "MSE: 0.3939135536286556\n",
      "RMSE: 0.6276253290209499\n"
     ]
    }
   ],
   "source": [
    "print('MAE:', metrics.mean_absolute_error(y_test, pred))\n",
    "print('MSE:', metrics.mean_squared_error(y_test, pred))\n",
    "print('RMSE:', np.sqrt(metrics.mean_squared_error(y_test, pred)))"
   ]
  },
  {
   "cell_type": "code",
   "execution_count": 88,
   "id": "dd911610",
   "metadata": {},
   "outputs": [
    {
     "data": {
      "text/plain": [
       "0.38760502800535046"
      ]
     },
     "execution_count": 88,
     "metadata": {},
     "output_type": "execute_result"
    }
   ],
   "source": [
    "r2 = r2_score(y_test, pred)\n",
    "r2"
   ]
  },
  {
   "cell_type": "code",
   "execution_count": null,
   "id": "87bf27a0",
   "metadata": {},
   "outputs": [],
   "source": []
  },
  {
   "cell_type": "markdown",
   "id": "90907896",
   "metadata": {},
   "source": [
    "## Logistic Regression Analysis"
   ]
  },
  {
   "cell_type": "markdown",
   "id": "1fa2a1f3",
   "metadata": {},
   "source": [
    "The feautures used to apply Logistic Regression Model are time_distance, payment_type, total_amount and trip_distance.\n",
    "\n",
    "Adapting dataset."
   ]
  },
  {
   "cell_type": "code",
   "execution_count": 89,
   "id": "9945bed0",
   "metadata": {},
   "outputs": [],
   "source": [
    "lr = LogisticRegression()\n",
    "\n",
    "cl = df['PULocationID'].values"
   ]
  },
  {
   "cell_type": "code",
   "execution_count": 90,
   "id": "93e28285",
   "metadata": {},
   "outputs": [
    {
     "data": {
      "text/html": [
       "<div>\n",
       "<style scoped>\n",
       "    .dataframe tbody tr th:only-of-type {\n",
       "        vertical-align: middle;\n",
       "    }\n",
       "\n",
       "    .dataframe tbody tr th {\n",
       "        vertical-align: top;\n",
       "    }\n",
       "\n",
       "    .dataframe thead th {\n",
       "        text-align: right;\n",
       "    }\n",
       "</style>\n",
       "<table border=\"1\" class=\"dataframe\">\n",
       "  <thead>\n",
       "    <tr style=\"text-align: right;\">\n",
       "      <th></th>\n",
       "      <th>tpep_pickup_datetime</th>\n",
       "      <th>tpep_dropoff_datetime</th>\n",
       "      <th>passenger_count</th>\n",
       "      <th>trip_distance</th>\n",
       "      <th>PULocationID</th>\n",
       "      <th>DOLocationID</th>\n",
       "      <th>payment_type</th>\n",
       "      <th>tip_amount</th>\n",
       "      <th>total_amount</th>\n",
       "      <th>time_distance</th>\n",
       "      <th>speed</th>\n",
       "      <th>pickup_hour</th>\n",
       "      <th>time_slot</th>\n",
       "    </tr>\n",
       "  </thead>\n",
       "  <tbody>\n",
       "    <tr>\n",
       "      <th>0</th>\n",
       "      <td>2021-03-27 20:46:22</td>\n",
       "      <td>2021-03-27 20:53:27</td>\n",
       "      <td>2.0</td>\n",
       "      <td>1.10</td>\n",
       "      <td>1.0</td>\n",
       "      <td>1.0</td>\n",
       "      <td>2.0</td>\n",
       "      <td>0.00</td>\n",
       "      <td>10.30</td>\n",
       "      <td>425</td>\n",
       "      <td>9.317647</td>\n",
       "      <td>20</td>\n",
       "      <td>3</td>\n",
       "    </tr>\n",
       "    <tr>\n",
       "      <th>1</th>\n",
       "      <td>2021-01-12 12:43:02</td>\n",
       "      <td>2021-01-12 13:01:34</td>\n",
       "      <td>1.0</td>\n",
       "      <td>3.90</td>\n",
       "      <td>1.0</td>\n",
       "      <td>1.0</td>\n",
       "      <td>1.0</td>\n",
       "      <td>3.85</td>\n",
       "      <td>23.15</td>\n",
       "      <td>1112</td>\n",
       "      <td>12.625899</td>\n",
       "      <td>12</td>\n",
       "      <td>2</td>\n",
       "    </tr>\n",
       "    <tr>\n",
       "      <th>2</th>\n",
       "      <td>2021-04-20 10:21:39</td>\n",
       "      <td>2021-04-20 10:27:47</td>\n",
       "      <td>2.0</td>\n",
       "      <td>1.10</td>\n",
       "      <td>1.0</td>\n",
       "      <td>1.0</td>\n",
       "      <td>2.0</td>\n",
       "      <td>0.00</td>\n",
       "      <td>9.30</td>\n",
       "      <td>368</td>\n",
       "      <td>10.760870</td>\n",
       "      <td>10</td>\n",
       "      <td>2</td>\n",
       "    </tr>\n",
       "    <tr>\n",
       "      <th>3</th>\n",
       "      <td>2020-05-06 07:07:20</td>\n",
       "      <td>2020-05-06 07:09:25</td>\n",
       "      <td>1.0</td>\n",
       "      <td>0.70</td>\n",
       "      <td>1.0</td>\n",
       "      <td>1.0</td>\n",
       "      <td>2.0</td>\n",
       "      <td>0.00</td>\n",
       "      <td>4.80</td>\n",
       "      <td>125</td>\n",
       "      <td>20.160000</td>\n",
       "      <td>7</td>\n",
       "      <td>1</td>\n",
       "    </tr>\n",
       "    <tr>\n",
       "      <th>4</th>\n",
       "      <td>2020-11-03 10:55:31</td>\n",
       "      <td>2020-11-03 11:16:12</td>\n",
       "      <td>1.0</td>\n",
       "      <td>2.01</td>\n",
       "      <td>1.0</td>\n",
       "      <td>1.0</td>\n",
       "      <td>2.0</td>\n",
       "      <td>0.00</td>\n",
       "      <td>16.80</td>\n",
       "      <td>1241</td>\n",
       "      <td>5.830782</td>\n",
       "      <td>10</td>\n",
       "      <td>2</td>\n",
       "    </tr>\n",
       "  </tbody>\n",
       "</table>\n",
       "</div>"
      ],
      "text/plain": [
       "  tpep_pickup_datetime tpep_dropoff_datetime  passenger_count  trip_distance  \\\n",
       "0  2021-03-27 20:46:22   2021-03-27 20:53:27              2.0           1.10   \n",
       "1  2021-01-12 12:43:02   2021-01-12 13:01:34              1.0           3.90   \n",
       "2  2021-04-20 10:21:39   2021-04-20 10:27:47              2.0           1.10   \n",
       "3  2020-05-06 07:07:20   2020-05-06 07:09:25              1.0           0.70   \n",
       "4  2020-11-03 10:55:31   2020-11-03 11:16:12              1.0           2.01   \n",
       "\n",
       "   PULocationID  DOLocationID  payment_type  tip_amount  total_amount  \\\n",
       "0           1.0           1.0           2.0        0.00         10.30   \n",
       "1           1.0           1.0           1.0        3.85         23.15   \n",
       "2           1.0           1.0           2.0        0.00          9.30   \n",
       "3           1.0           1.0           2.0        0.00          4.80   \n",
       "4           1.0           1.0           2.0        0.00         16.80   \n",
       "\n",
       "   time_distance      speed  pickup_hour  time_slot  \n",
       "0            425   9.317647           20          3  \n",
       "1           1112  12.625899           12          2  \n",
       "2            368  10.760870           10          2  \n",
       "3            125  20.160000            7          1  \n",
       "4           1241   5.830782           10          2  "
      ]
     },
     "execution_count": 90,
     "metadata": {},
     "output_type": "execute_result"
    }
   ],
   "source": [
    "df1.head()"
   ]
  },
  {
   "cell_type": "code",
   "execution_count": 91,
   "id": "05f6ad65",
   "metadata": {},
   "outputs": [],
   "source": [
    "columns = ['time_distance', 'payment_type', 'total_amount', 'trip_distance']\n",
    "df2 = df1[columns]\n",
    "time_distance_sc = (df1['time_distance'] -np.mean(df1['time_distance'])) / np.std(df1['time_distance'])\n",
    "df2['trip_distance'] = distance_sc\n",
    "df2['total_amount'] = total_sc\n",
    "df2['time_distance'] = time_distance_sc"
   ]
  },
  {
   "cell_type": "code",
   "execution_count": 92,
   "id": "e08ac7f0",
   "metadata": {},
   "outputs": [
    {
     "data": {
      "text/html": [
       "<div>\n",
       "<style scoped>\n",
       "    .dataframe tbody tr th:only-of-type {\n",
       "        vertical-align: middle;\n",
       "    }\n",
       "\n",
       "    .dataframe tbody tr th {\n",
       "        vertical-align: top;\n",
       "    }\n",
       "\n",
       "    .dataframe thead th {\n",
       "        text-align: right;\n",
       "    }\n",
       "</style>\n",
       "<table border=\"1\" class=\"dataframe\">\n",
       "  <thead>\n",
       "    <tr style=\"text-align: right;\">\n",
       "      <th></th>\n",
       "      <th>time_distance</th>\n",
       "      <th>payment_type</th>\n",
       "      <th>total_amount</th>\n",
       "      <th>trip_distance</th>\n",
       "    </tr>\n",
       "  </thead>\n",
       "  <tbody>\n",
       "    <tr>\n",
       "      <th>0</th>\n",
       "      <td>425</td>\n",
       "      <td>2.0</td>\n",
       "      <td>10.30</td>\n",
       "      <td>1.10</td>\n",
       "    </tr>\n",
       "    <tr>\n",
       "      <th>1</th>\n",
       "      <td>1112</td>\n",
       "      <td>1.0</td>\n",
       "      <td>23.15</td>\n",
       "      <td>3.90</td>\n",
       "    </tr>\n",
       "    <tr>\n",
       "      <th>2</th>\n",
       "      <td>368</td>\n",
       "      <td>2.0</td>\n",
       "      <td>9.30</td>\n",
       "      <td>1.10</td>\n",
       "    </tr>\n",
       "    <tr>\n",
       "      <th>3</th>\n",
       "      <td>125</td>\n",
       "      <td>2.0</td>\n",
       "      <td>4.80</td>\n",
       "      <td>0.70</td>\n",
       "    </tr>\n",
       "    <tr>\n",
       "      <th>4</th>\n",
       "      <td>1241</td>\n",
       "      <td>2.0</td>\n",
       "      <td>16.80</td>\n",
       "      <td>2.01</td>\n",
       "    </tr>\n",
       "  </tbody>\n",
       "</table>\n",
       "</div>"
      ],
      "text/plain": [
       "   time_distance  payment_type  total_amount  trip_distance\n",
       "0            425           2.0         10.30           1.10\n",
       "1           1112           1.0         23.15           3.90\n",
       "2            368           2.0          9.30           1.10\n",
       "3            125           2.0          4.80           0.70\n",
       "4           1241           2.0         16.80           2.01"
      ]
     },
     "execution_count": 92,
     "metadata": {},
     "output_type": "execute_result"
    }
   ],
   "source": [
    "df3= df1[columns]\n",
    "df3.head()"
   ]
  },
  {
   "cell_type": "code",
   "execution_count": 93,
   "id": "e83284dc",
   "metadata": {},
   "outputs": [
    {
     "data": {
      "text/html": [
       "<div>\n",
       "<style scoped>\n",
       "    .dataframe tbody tr th:only-of-type {\n",
       "        vertical-align: middle;\n",
       "    }\n",
       "\n",
       "    .dataframe tbody tr th {\n",
       "        vertical-align: top;\n",
       "    }\n",
       "\n",
       "    .dataframe thead th {\n",
       "        text-align: right;\n",
       "    }\n",
       "</style>\n",
       "<table border=\"1\" class=\"dataframe\">\n",
       "  <thead>\n",
       "    <tr style=\"text-align: right;\">\n",
       "      <th></th>\n",
       "      <th>time_distance</th>\n",
       "      <th>payment_type</th>\n",
       "      <th>total_amount</th>\n",
       "      <th>trip_distance</th>\n",
       "    </tr>\n",
       "  </thead>\n",
       "  <tbody>\n",
       "    <tr>\n",
       "      <th>0</th>\n",
       "      <td>-0.109960</td>\n",
       "      <td>2.0</td>\n",
       "      <td>-0.600357</td>\n",
       "      <td>-0.481538</td>\n",
       "    </tr>\n",
       "    <tr>\n",
       "      <th>1</th>\n",
       "      <td>0.069618</td>\n",
       "      <td>1.0</td>\n",
       "      <td>0.774339</td>\n",
       "      <td>0.670075</td>\n",
       "    </tr>\n",
       "    <tr>\n",
       "      <th>2</th>\n",
       "      <td>-0.124860</td>\n",
       "      <td>2.0</td>\n",
       "      <td>-0.707337</td>\n",
       "      <td>-0.481538</td>\n",
       "    </tr>\n",
       "    <tr>\n",
       "      <th>3</th>\n",
       "      <td>-0.188379</td>\n",
       "      <td>2.0</td>\n",
       "      <td>-1.188748</td>\n",
       "      <td>-0.646054</td>\n",
       "    </tr>\n",
       "    <tr>\n",
       "      <th>4</th>\n",
       "      <td>0.103337</td>\n",
       "      <td>2.0</td>\n",
       "      <td>0.095015</td>\n",
       "      <td>-0.107264</td>\n",
       "    </tr>\n",
       "  </tbody>\n",
       "</table>\n",
       "</div>"
      ],
      "text/plain": [
       "   time_distance  payment_type  total_amount  trip_distance\n",
       "0      -0.109960           2.0     -0.600357      -0.481538\n",
       "1       0.069618           1.0      0.774339       0.670075\n",
       "2      -0.124860           2.0     -0.707337      -0.481538\n",
       "3      -0.188379           2.0     -1.188748      -0.646054\n",
       "4       0.103337           2.0      0.095015      -0.107264"
      ]
     },
     "execution_count": 93,
     "metadata": {},
     "output_type": "execute_result"
    }
   ],
   "source": [
    "df2.head()"
   ]
  },
  {
   "cell_type": "code",
   "execution_count": null,
   "id": "d685f77c",
   "metadata": {},
   "outputs": [],
   "source": []
  },
  {
   "cell_type": "markdown",
   "id": "2db13c08",
   "metadata": {},
   "source": [
    "### split features in train and test sets"
   ]
  },
  {
   "cell_type": "code",
   "execution_count": 94,
   "id": "890b3f68",
   "metadata": {},
   "outputs": [],
   "source": [
    "x_train, x_test, y_train, y_test = train_test_split(df2, cl, test_size = 0.3, random_state = 12345)"
   ]
  },
  {
   "cell_type": "code",
   "execution_count": 95,
   "id": "36d98c03",
   "metadata": {},
   "outputs": [],
   "source": [
    "#We use the LogisticRegression () code to create the logistic regression model.\n",
    "#we fit the model to the training set using fit (X_train, y_train) and predict on the test set using predict (X_test).\n",
    "\n",
    "lr.fit(x_train,y_train)\n",
    "y_pred=lr.predict(x_test)"
   ]
  },
  {
   "cell_type": "code",
   "execution_count": 96,
   "id": "f8c19f70",
   "metadata": {},
   "outputs": [
    {
     "name": "stdout",
     "output_type": "stream",
     "text": [
      "[[   0   37]\n",
      " [   0 4819]]\n",
      "              precision    recall  f1-score   support\n",
      "\n",
      "         0.0       0.00      0.00      0.00        37\n",
      "         1.0       0.99      1.00      1.00      4819\n",
      "\n",
      "    accuracy                           0.99      4856\n",
      "   macro avg       0.50      0.50      0.50      4856\n",
      "weighted avg       0.98      0.99      0.99      4856\n",
      "\n"
     ]
    }
   ],
   "source": [
    "#To evaluate performance we use the Confusion Matrix.\n",
    "#The foundation of this matrix is the number of correct (true positive) and incorrect (false positive) predictions \n",
    "#summarized in terms of class.\n",
    "from sklearn.metrics import confusion_matrix, classification_report\n",
    "print(confusion_matrix(y_test, y_pred))\n",
    "print(classification_report(y_test, y_pred))"
   ]
  },
  {
   "cell_type": "code",
   "execution_count": null,
   "id": "1fcdfcc3",
   "metadata": {},
   "outputs": [],
   "source": []
  },
  {
   "cell_type": "code",
   "execution_count": null,
   "id": "6cb2e073",
   "metadata": {},
   "outputs": [],
   "source": []
  }
 ],
 "metadata": {
  "kernelspec": {
   "display_name": "Python 3 (ipykernel)",
   "language": "python",
   "name": "python3"
  },
  "language_info": {
   "codemirror_mode": {
    "name": "ipython",
    "version": 3
   },
   "file_extension": ".py",
   "mimetype": "text/x-python",
   "name": "python",
   "nbconvert_exporter": "python",
   "pygments_lexer": "ipython3",
   "version": "3.9.7"
  }
 },
 "nbformat": 4,
 "nbformat_minor": 5
}
